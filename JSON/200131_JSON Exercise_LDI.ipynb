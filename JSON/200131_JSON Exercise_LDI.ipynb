{
 "cells": [
  {
   "cell_type": "markdown",
   "metadata": {},
   "source": [
    "# JSON Exercises\n",
    "****"
   ]
  },
  {
   "cell_type": "markdown",
   "metadata": {},
   "source": [
    "### Import Packages Needed"
   ]
  },
  {
   "cell_type": "code",
   "execution_count": 1,
   "metadata": {},
   "outputs": [],
   "source": [
    "import pandas as pd\n",
    "import numpy as np\n",
    "import json\n",
    "from pandas.io.json import json_normalize"
   ]
  },
  {
   "cell_type": "markdown",
   "metadata": {},
   "source": [
    "### Import the Data"
   ]
  },
  {
   "cell_type": "code",
   "execution_count": 2,
   "metadata": {},
   "outputs": [],
   "source": [
    "data = pd.read_json('data/world_bank_projects.json')"
   ]
  },
  {
   "cell_type": "markdown",
   "metadata": {},
   "source": [
    "## Countries with most Projects\n",
    "Find the 10 countries with most projects"
   ]
  },
  {
   "cell_type": "code",
   "execution_count": 3,
   "metadata": {},
   "outputs": [
    {
     "data": {
      "text/plain": [
       "Republic of Indonesia            19\n",
       "People's Republic of China       19\n",
       "Socialist Republic of Vietnam    17\n",
       "Republic of India                16\n",
       "Republic of Yemen                13\n",
       "                                 ..\n",
       "Bosnia and Herzegovina            1\n",
       "Central African Republic          1\n",
       "Republic of Panama                1\n",
       "Kingdom of Thailand               1\n",
       "Republic of Zimbabwe              1\n",
       "Name: countryname, Length: 118, dtype: int64"
      ]
     },
     "execution_count": 3,
     "metadata": {},
     "output_type": "execute_result"
    }
   ],
   "source": [
    "# load as Pandas dataframe\n",
    "countries = data['countryname'].value_counts()\n",
    "countries"
   ]
  },
  {
   "cell_type": "markdown",
   "metadata": {},
   "source": [
    "## Top 10 Project Themes\n",
    "Find the top 10 major project themes (using column 'mjtheme_namecode')"
   ]
  },
  {
   "cell_type": "code",
   "execution_count": 4,
   "metadata": {},
   "outputs": [],
   "source": [
    "#import data from the json files on the computer\n",
    "data = json.load((open('data/world_bank_projects.json')))"
   ]
  },
  {
   "cell_type": "code",
   "execution_count": 5,
   "metadata": {},
   "outputs": [
    {
     "data": {
      "text/html": [
       "<div>\n",
       "<style scoped>\n",
       "    .dataframe tbody tr th:only-of-type {\n",
       "        vertical-align: middle;\n",
       "    }\n",
       "\n",
       "    .dataframe tbody tr th {\n",
       "        vertical-align: top;\n",
       "    }\n",
       "\n",
       "    .dataframe thead th {\n",
       "        text-align: right;\n",
       "    }\n",
       "</style>\n",
       "<table border=\"1\" class=\"dataframe\">\n",
       "  <thead>\n",
       "    <tr style=\"text-align: right;\">\n",
       "      <th></th>\n",
       "      <th>index</th>\n",
       "      <th>code</th>\n",
       "    </tr>\n",
       "  </thead>\n",
       "  <tbody>\n",
       "    <tr>\n",
       "      <td>0</td>\n",
       "      <td>11</td>\n",
       "      <td>250</td>\n",
       "    </tr>\n",
       "    <tr>\n",
       "      <td>1</td>\n",
       "      <td>10</td>\n",
       "      <td>216</td>\n",
       "    </tr>\n",
       "    <tr>\n",
       "      <td>2</td>\n",
       "      <td>8</td>\n",
       "      <td>210</td>\n",
       "    </tr>\n",
       "    <tr>\n",
       "      <td>3</td>\n",
       "      <td>2</td>\n",
       "      <td>199</td>\n",
       "    </tr>\n",
       "    <tr>\n",
       "      <td>4</td>\n",
       "      <td>6</td>\n",
       "      <td>168</td>\n",
       "    </tr>\n",
       "    <tr>\n",
       "      <td>5</td>\n",
       "      <td>4</td>\n",
       "      <td>146</td>\n",
       "    </tr>\n",
       "    <tr>\n",
       "      <td>6</td>\n",
       "      <td>7</td>\n",
       "      <td>130</td>\n",
       "    </tr>\n",
       "    <tr>\n",
       "      <td>7</td>\n",
       "      <td>5</td>\n",
       "      <td>77</td>\n",
       "    </tr>\n",
       "    <tr>\n",
       "      <td>8</td>\n",
       "      <td>9</td>\n",
       "      <td>50</td>\n",
       "    </tr>\n",
       "    <tr>\n",
       "      <td>9</td>\n",
       "      <td>1</td>\n",
       "      <td>38</td>\n",
       "    </tr>\n",
       "  </tbody>\n",
       "</table>\n",
       "</div>"
      ],
      "text/plain": [
       "  index  code\n",
       "0    11   250\n",
       "1    10   216\n",
       "2     8   210\n",
       "3     2   199\n",
       "4     6   168\n",
       "5     4   146\n",
       "6     7   130\n",
       "7     5    77\n",
       "8     9    50\n",
       "9     1    38"
      ]
     },
     "execution_count": 5,
     "metadata": {},
     "output_type": "execute_result"
    }
   ],
   "source": [
    "#count the number of occurances of each code, we use the code, because some names are missing\n",
    "project_themes = json_normalize(data, 'mjtheme_namecode')\n",
    "project_themes = project_themes['code'].value_counts().reset_index()\n",
    "project_themes.head(10)"
   ]
  },
  {
   "cell_type": "markdown",
   "metadata": {},
   "source": [
    "## Top 10 Project Themes\n",
    "Some entries have only the code and the name is missing. Create a dataframe with the missing names filled in"
   ]
  },
  {
   "cell_type": "code",
   "execution_count": 6,
   "metadata": {},
   "outputs": [
    {
     "name": "stdout",
     "output_type": "stream",
     "text": [
      "                                           name  count\n",
      "0  Environment and natural resources management    250\n",
      "1                             Rural development    216\n",
      "2                             Human development    210\n",
      "3                      Public sector governance    199\n",
      "4         Social protection and risk management    168\n",
      "5      Financial and private sector development    146\n",
      "6                   Social dev/gender/inclusion    130\n",
      "7                         Trade and integration     77\n",
      "8                             Urban development     50\n",
      "9                           Economic management     38\n"
     ]
    }
   ],
   "source": [
    "#create a dataframe with the project themes, group them by codes and count the number of occurances\n",
    "project_themes_filled = json_normalize(data, 'mjtheme_namecode')\n",
    "\n",
    "#replace the empty cells with NaN\n",
    "project_themes_filled.replace('', np.nan , inplace=True)\n",
    "\n",
    "#create a dictionary with the keys as the code and the values as the name\n",
    "project_themes_non_nan = project_themes_filled.dropna()\n",
    "lookup_dict = pd.Series(project_themes_non_nan.name.values,index=project_themes_non_nan.code).to_dict()\n",
    "\n",
    "#fill the NaN values based on the dictionary created\n",
    "project_themes_filled['name'] = project_themes_filled['name'].fillna(project_themes_filled.code.map(lookup_dict))\n",
    "\n",
    "#create a dataframe with the project themes, group them by codes and count the number of occurances\n",
    "project_themes_filled = project_themes_filled.groupby(['name']).count()\n",
    "\n",
    "#sort the dataframe and print out the first 10\n",
    "project_themes_filled = project_themes_filled.sort_values(['code'], ascending = False).reset_index()\n",
    "\n",
    "#rename the column names\n",
    "project_themes_filled.columns = ['name', 'count']\n",
    "\n",
    "#drop the empty row \n",
    "print(project_themes_filled.head(10))"
   ]
  }
 ],
 "metadata": {
  "kernelspec": {
   "display_name": "Python 3",
   "language": "python",
   "name": "python3"
  },
  "language_info": {
   "codemirror_mode": {
    "name": "ipython",
    "version": 3
   },
   "file_extension": ".py",
   "mimetype": "text/x-python",
   "name": "python",
   "nbconvert_exporter": "python",
   "pygments_lexer": "ipython3",
   "version": "3.7.4"
  }
 },
 "nbformat": 4,
 "nbformat_minor": 1
}
