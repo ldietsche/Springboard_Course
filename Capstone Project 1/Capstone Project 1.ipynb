{
 "cells": [
  {
   "cell_type": "markdown",
   "metadata": {},
   "source": [
    "## Import Packages"
   ]
  },
  {
   "cell_type": "code",
   "execution_count": 1,
   "metadata": {},
   "outputs": [],
   "source": [
    "import numpy as np\n",
    "import pandas as pd\n",
    "import seaborn as sns\n",
    "import matplotlib.pyplot as plt\n",
    "from datetime import datetime\n",
    "from scipy.stats import pearsonr"
   ]
  },
  {
   "cell_type": "markdown",
   "metadata": {},
   "source": [
    "## Import Datasets"
   ]
  },
  {
   "cell_type": "code",
   "execution_count": 2,
   "metadata": {},
   "outputs": [],
   "source": [
    "#read in all csv files that are needed\n",
    "customer = pd.read_csv('olist_customers_dataset.csv')\n",
    "geo_location = pd.read_csv('olist_geolocation_dataset.csv')\n",
    "order_items = pd.read_csv('olist_order_items_dataset.csv')\n",
    "payments = pd.read_csv('olist_order_payments_dataset.csv')\n",
    "reviews = pd.read_csv('olist_order_reviews_dataset.csv')\n",
    "products = pd.read_csv('olist_products_dataset.csv')\n",
    "sellers = pd.read_csv('olist_sellers_dataset.csv')\n",
    "\n",
    "\n",
    "#read in orders dataframe using parse dates to create a datetime column\n",
    "orders=pd.read_csv('olist_orders_dataset.csv', parse_dates = ['order_purchase_timestamp', \n",
    "                                                              'order_approved_at',\n",
    "                                                              'order_delivered_carrier_date',\n",
    "                                                              'order_delivered_customer_date',\n",
    "                                                              'order_estimated_delivery_date'])"
   ]
  },
  {
   "cell_type": "markdown",
   "metadata": {},
   "source": [
    "## Merge the Data into one Dataframe"
   ]
  },
  {
   "cell_type": "code",
   "execution_count": 3,
   "metadata": {},
   "outputs": [],
   "source": [
    "#main dataframe according to the graph is order_items, first step to add seller information using the seller_id\n",
    "master_df = pd.merge(order_items, sellers, on=['seller_id'])\n",
    "\n",
    "#add information about the deliver of the orders using order_id\n",
    "master_df = pd.merge(master_df, orders, on=['order_id'] )\n",
    "\n",
    "#add payment information using order_id\n",
    "master_df = pd.merge(master_df, payments, on=['order_id'] )\n",
    "\n",
    "#add review information using order_id\n",
    "master_df = pd.merge(master_df, reviews, on=['order_id'] )\n",
    "\n",
    "#add information about customer using customer_id\n",
    "master_df = pd.merge(master_df, customer, on=['customer_id'] )\n",
    "\n",
    "#add information about products using product_id\n",
    "master_df = pd.merge(master_df, products, on=['product_id'] )"
   ]
  },
  {
   "cell_type": "code",
   "execution_count": 4,
   "metadata": {},
   "outputs": [
    {
     "data": {
      "text/plain": [
       "(118315, 39)"
      ]
     },
     "execution_count": 4,
     "metadata": {},
     "output_type": "execute_result"
    }
   ],
   "source": [
    "master_df.shape"
   ]
  },
  {
   "cell_type": "code",
   "execution_count": 5,
   "metadata": {},
   "outputs": [
    {
     "data": {
      "text/plain": [
       "['order_id',\n",
       " 'order_item_id',\n",
       " 'product_id',\n",
       " 'seller_id',\n",
       " 'shipping_limit_date',\n",
       " 'price',\n",
       " 'freight_value',\n",
       " 'seller_zip_code_prefix',\n",
       " 'seller_city',\n",
       " 'seller_state',\n",
       " 'customer_id',\n",
       " 'order_status',\n",
       " 'order_purchase_timestamp',\n",
       " 'order_approved_at',\n",
       " 'order_delivered_carrier_date',\n",
       " 'order_delivered_customer_date',\n",
       " 'order_estimated_delivery_date',\n",
       " 'payment_sequential',\n",
       " 'payment_type',\n",
       " 'payment_installments',\n",
       " 'payment_value',\n",
       " 'review_id',\n",
       " 'review_score',\n",
       " 'review_comment_title',\n",
       " 'review_comment_message',\n",
       " 'review_creation_date',\n",
       " 'review_answer_timestamp',\n",
       " 'customer_unique_id',\n",
       " 'customer_zip_code_prefix',\n",
       " 'customer_city',\n",
       " 'customer_state',\n",
       " 'product_category_name',\n",
       " 'product_name_lenght',\n",
       " 'product_description_lenght',\n",
       " 'product_photos_qty',\n",
       " 'product_weight_g',\n",
       " 'product_length_cm',\n",
       " 'product_height_cm',\n",
       " 'product_width_cm']"
      ]
     },
     "execution_count": 5,
     "metadata": {},
     "output_type": "execute_result"
    }
   ],
   "source": [
    "#list the names of the headers\n",
    "master_df.columns.tolist()"
   ]
  },
  {
   "cell_type": "markdown",
   "metadata": {},
   "source": [
    "### Drop Duplicates\n",
    "Duplicates arrise, because of the column payment sequential - which shows if someone has split payment between different methods"
   ]
  },
  {
   "cell_type": "code",
   "execution_count": 6,
   "metadata": {},
   "outputs": [],
   "source": [
    "#the definition of a duplicate is: same order_id, same product_id\n",
    "master_df.drop_duplicates(subset=['order_id', 'product_id', 'order_item_id'], keep = 'last', inplace = True)"
   ]
  },
  {
   "cell_type": "code",
   "execution_count": 7,
   "metadata": {},
   "outputs": [],
   "source": [
    "time_series = ['order_purchase_timestamp',\n",
    "               'order_approved_at',\n",
    "               'order_delivered_carrier_date',\n",
    "               'order_delivered_customer_date',\n",
    "               'order_estimated_delivery_date']"
   ]
  },
  {
   "cell_type": "code",
   "execution_count": 8,
   "metadata": {},
   "outputs": [
    {
     "data": {
      "text/plain": [
       "pandas._libs.tslibs.timestamps.Timestamp"
      ]
     },
     "execution_count": 8,
     "metadata": {},
     "output_type": "execute_result"
    }
   ],
   "source": [
    "type(master_df['order_delivered_carrier_date'][100000])"
   ]
  },
  {
   "cell_type": "code",
   "execution_count": 9,
   "metadata": {},
   "outputs": [
    {
     "data": {
      "text/html": [
       "<div>\n",
       "<style scoped>\n",
       "    .dataframe tbody tr th:only-of-type {\n",
       "        vertical-align: middle;\n",
       "    }\n",
       "\n",
       "    .dataframe tbody tr th {\n",
       "        vertical-align: top;\n",
       "    }\n",
       "\n",
       "    .dataframe thead th {\n",
       "        text-align: right;\n",
       "    }\n",
       "</style>\n",
       "<table border=\"1\" class=\"dataframe\">\n",
       "  <thead>\n",
       "    <tr style=\"text-align: right;\">\n",
       "      <th></th>\n",
       "      <th>order_id</th>\n",
       "      <th>customer_id</th>\n",
       "      <th>order_status</th>\n",
       "      <th>order_purchase_timestamp</th>\n",
       "      <th>order_approved_at</th>\n",
       "      <th>order_delivered_carrier_date</th>\n",
       "      <th>order_delivered_customer_date</th>\n",
       "      <th>order_estimated_delivery_date</th>\n",
       "    </tr>\n",
       "  </thead>\n",
       "  <tbody>\n",
       "    <tr>\n",
       "      <td>99436</td>\n",
       "      <td>9c5dedf39a927c1b2549525ed64a053c</td>\n",
       "      <td>39bd1228ee8140590ac3aca26f2dfe00</td>\n",
       "      <td>delivered</td>\n",
       "      <td>2017-03-09 09:54:05</td>\n",
       "      <td>2017-03-09 09:54:05</td>\n",
       "      <td>2017-03-10 11:18:03</td>\n",
       "      <td>2017-03-17 15:08:01</td>\n",
       "      <td>2017-03-28</td>\n",
       "    </tr>\n",
       "    <tr>\n",
       "      <td>99437</td>\n",
       "      <td>63943bddc261676b46f01ca7ac2f7bd8</td>\n",
       "      <td>1fca14ff2861355f6e5f14306ff977a7</td>\n",
       "      <td>delivered</td>\n",
       "      <td>2018-02-06 12:58:58</td>\n",
       "      <td>2018-02-06 13:10:37</td>\n",
       "      <td>2018-02-07 23:22:42</td>\n",
       "      <td>2018-02-28 17:37:56</td>\n",
       "      <td>2018-03-02</td>\n",
       "    </tr>\n",
       "    <tr>\n",
       "      <td>99438</td>\n",
       "      <td>83c1379a015df1e13d02aae0204711ab</td>\n",
       "      <td>1aa71eb042121263aafbe80c1b562c9c</td>\n",
       "      <td>delivered</td>\n",
       "      <td>2017-08-27 14:46:43</td>\n",
       "      <td>2017-08-27 15:04:16</td>\n",
       "      <td>2017-08-28 20:52:26</td>\n",
       "      <td>2017-09-21 11:24:17</td>\n",
       "      <td>2017-09-27</td>\n",
       "    </tr>\n",
       "    <tr>\n",
       "      <td>99439</td>\n",
       "      <td>11c177c8e97725db2631073c19f07b62</td>\n",
       "      <td>b331b74b18dc79bcdf6532d51e1637c1</td>\n",
       "      <td>delivered</td>\n",
       "      <td>2018-01-08 21:28:27</td>\n",
       "      <td>2018-01-08 21:36:21</td>\n",
       "      <td>2018-01-12 15:35:03</td>\n",
       "      <td>2018-01-25 23:32:54</td>\n",
       "      <td>2018-02-15</td>\n",
       "    </tr>\n",
       "    <tr>\n",
       "      <td>99440</td>\n",
       "      <td>66dea50a8b16d9b4dee7af250b4be1a5</td>\n",
       "      <td>edb027a75a1449115f6b43211ae02a24</td>\n",
       "      <td>delivered</td>\n",
       "      <td>2018-03-08 20:57:30</td>\n",
       "      <td>2018-03-09 11:20:28</td>\n",
       "      <td>2018-03-09 22:11:59</td>\n",
       "      <td>2018-03-16 13:08:30</td>\n",
       "      <td>2018-04-03</td>\n",
       "    </tr>\n",
       "  </tbody>\n",
       "</table>\n",
       "</div>"
      ],
      "text/plain": [
       "                               order_id                       customer_id  \\\n",
       "99436  9c5dedf39a927c1b2549525ed64a053c  39bd1228ee8140590ac3aca26f2dfe00   \n",
       "99437  63943bddc261676b46f01ca7ac2f7bd8  1fca14ff2861355f6e5f14306ff977a7   \n",
       "99438  83c1379a015df1e13d02aae0204711ab  1aa71eb042121263aafbe80c1b562c9c   \n",
       "99439  11c177c8e97725db2631073c19f07b62  b331b74b18dc79bcdf6532d51e1637c1   \n",
       "99440  66dea50a8b16d9b4dee7af250b4be1a5  edb027a75a1449115f6b43211ae02a24   \n",
       "\n",
       "      order_status order_purchase_timestamp   order_approved_at  \\\n",
       "99436    delivered      2017-03-09 09:54:05 2017-03-09 09:54:05   \n",
       "99437    delivered      2018-02-06 12:58:58 2018-02-06 13:10:37   \n",
       "99438    delivered      2017-08-27 14:46:43 2017-08-27 15:04:16   \n",
       "99439    delivered      2018-01-08 21:28:27 2018-01-08 21:36:21   \n",
       "99440    delivered      2018-03-08 20:57:30 2018-03-09 11:20:28   \n",
       "\n",
       "      order_delivered_carrier_date order_delivered_customer_date  \\\n",
       "99436          2017-03-10 11:18:03           2017-03-17 15:08:01   \n",
       "99437          2018-02-07 23:22:42           2018-02-28 17:37:56   \n",
       "99438          2017-08-28 20:52:26           2017-09-21 11:24:17   \n",
       "99439          2018-01-12 15:35:03           2018-01-25 23:32:54   \n",
       "99440          2018-03-09 22:11:59           2018-03-16 13:08:30   \n",
       "\n",
       "      order_estimated_delivery_date  \n",
       "99436                    2017-03-28  \n",
       "99437                    2018-03-02  \n",
       "99438                    2017-09-27  \n",
       "99439                    2018-02-15  \n",
       "99440                    2018-04-03  "
      ]
     },
     "execution_count": 9,
     "metadata": {},
     "output_type": "execute_result"
    }
   ],
   "source": [
    "orders.tail()"
   ]
  },
  {
   "cell_type": "code",
   "execution_count": 10,
   "metadata": {},
   "outputs": [],
   "source": [
    "revenue_product_category = master_df.groupby(['order_purchase_timestamp']).price.sum()"
   ]
  },
  {
   "cell_type": "code",
   "execution_count": 11,
   "metadata": {},
   "outputs": [],
   "source": [
    "revenue_month = master_df.set_index('order_purchase_timestamp').groupby(pd.Grouper(freq='M')).sum()"
   ]
  },
  {
   "cell_type": "code",
   "execution_count": 12,
   "metadata": {},
   "outputs": [
    {
     "data": {
      "text/plain": [
       "DatetimeIndex(['2016-09-30', '2016-10-31', '2016-11-30', '2016-12-31',\n",
       "               '2017-01-31', '2017-02-28', '2017-03-31', '2017-04-30',\n",
       "               '2017-05-31', '2017-06-30', '2017-07-31', '2017-08-31',\n",
       "               '2017-09-30', '2017-10-31', '2017-11-30', '2017-12-31',\n",
       "               '2018-01-31', '2018-02-28', '2018-03-31', '2018-04-30',\n",
       "               '2018-05-31', '2018-06-30', '2018-07-31', '2018-08-31',\n",
       "               '2018-09-30'],\n",
       "              dtype='datetime64[ns]', name='order_purchase_timestamp', freq='M')"
      ]
     },
     "execution_count": 12,
     "metadata": {},
     "output_type": "execute_result"
    }
   ],
   "source": [
    "revenue_month.index"
   ]
  },
  {
   "cell_type": "code",
   "execution_count": 13,
   "metadata": {},
   "outputs": [
    {
     "name": "stderr",
     "output_type": "stream",
     "text": [
      "/opt/anaconda3/lib/python3.7/site-packages/pandas/plotting/_matplotlib/converter.py:103: FutureWarning: Using an implicitly registered datetime converter for a matplotlib plotting method. The converter was registered by pandas on import. Future versions of pandas will require you to explicitly register matplotlib converters.\n",
      "\n",
      "To register the converters:\n",
      "\t>>> from pandas.plotting import register_matplotlib_converters\n",
      "\t>>> register_matplotlib_converters()\n",
      "  warnings.warn(msg, FutureWarning)\n"
     ]
    },
    {
     "data": {
      "text/plain": [
       "[]"
      ]
     },
     "execution_count": 13,
     "metadata": {},
     "output_type": "execute_result"
    },
    {
     "data": {
      "image/png": "[encoded data removed]",
      "text/plain": [
       "<Figure size 432x288 with 1 Axes>"
      ]
     },
     "metadata": {
      "needs_background": "light"
     },
     "output_type": "display_data"
    }
   ],
   "source": [
    "plt.bar(revenue_month.index, revenue_month['price'])\n",
    "plt.plot()"
   ]
  },
  {
   "cell_type": "markdown",
   "metadata": {},
   "source": [
    "## Heatmap\n",
    "Covariance Matrix between price, installments, reviews, freight value"
   ]
  },
  {
   "cell_type": "code",
   "execution_count": 14,
   "metadata": {},
   "outputs": [],
   "source": [
    "#define the columns that should be considered\n",
    "columns_considered=['price', 'payment_value', 'freight_value',\n",
    "                    'product_photos_qty', 'review_score', 'payment_installments']\n",
    "#normalize the data, because the data ranges are very different\n",
    "df_norm=(master_df[columns_considered]-master_df[columns_considered].mean())/master_df[columns_considered].std()"
   ]
  },
  {
   "cell_type": "code",
   "execution_count": 15,
   "metadata": {},
   "outputs": [
    {
     "data": {
      "text/plain": [
       "<matplotlib.axes._subplots.AxesSubplot at 0x12045ce90>"
      ]
     },
     "execution_count": 15,
     "metadata": {},
     "output_type": "execute_result"
    },
    {
     "data": {
      "image/png": "[encoded data removed]",
      "text/plain": [
       "<Figure size 432x288 with 2 Axes>"
      ]
     },
     "metadata": {
      "needs_background": "light"
     },
     "output_type": "display_data"
    }
   ],
   "source": [
    "#plot the heatmap\n",
    "sns.heatmap(df_norm.cov(), cmap='Greys')"
   ]
  },
  {
   "cell_type": "markdown",
   "metadata": {},
   "source": [
    "## Products\n",
    "this section will answer questions about the products"
   ]
  },
  {
   "cell_type": "code",
   "execution_count": 16,
   "metadata": {},
   "outputs": [],
   "source": [
    "revenue_product_category = master_df.groupby(['product_category_name']).price.sum()"
   ]
  },
  {
   "cell_type": "markdown",
   "metadata": {},
   "source": [
    "### Top 10 Product Categories by Revenue"
   ]
  },
  {
   "cell_type": "code",
   "execution_count": 17,
   "metadata": {},
   "outputs": [
    {
     "data": {
      "text/plain": [
       "pandas.core.series.Series"
      ]
     },
     "execution_count": 17,
     "metadata": {},
     "output_type": "execute_result"
    }
   ],
   "source": [
    "revenue_sorted=revenue_product_category.sort_values(ascending=False)\n",
    "type(revenue_sorted)"
   ]
  },
  {
   "cell_type": "code",
   "execution_count": 18,
   "metadata": {},
   "outputs": [
    {
     "data": {
      "text/plain": [
       "[]"
      ]
     },
     "execution_count": 18,
     "metadata": {},
     "output_type": "execute_result"
    },
    {
     "data": {
      "image/png": "[encoded data removed]",
      "text/plain": [
       "<Figure size 432x288 with 1 Axes>"
      ]
     },
     "metadata": {
      "needs_background": "light"
     },
     "output_type": "display_data"
    }
   ],
   "source": [
    "category_names=revenue_sorted.index[:10]\n",
    "plt.title('Top 10 Categories by Revenue')\n",
    "plt.xlabel('Product Category')\n",
    "plt.yticks()\n",
    "plt.xticks(rotation=90)\n",
    "plt.ylabel('Revenue in R$')\n",
    "plt.bar(category_names, revenue_sorted[:10])\n",
    "plt.plot()"
   ]
  },
  {
   "cell_type": "markdown",
   "metadata": {},
   "source": [
    "### Top 10 Sold Products by Revenue"
   ]
  },
  {
   "cell_type": "code",
   "execution_count": 19,
   "metadata": {},
   "outputs": [],
   "source": [
    "#calculate the revenue for each product\n",
    "revenue_per_product = master_df.groupby(['product_id']).price.sum()"
   ]
  },
  {
   "cell_type": "code",
   "execution_count": 20,
   "metadata": {},
   "outputs": [
    {
     "data": {
      "text/plain": [
       "32951"
      ]
     },
     "execution_count": 20,
     "metadata": {},
     "output_type": "execute_result"
    }
   ],
   "source": [
    "#number of unique product ids\n",
    "master_df['product_id'].nunique()"
   ]
  },
  {
   "cell_type": "code",
   "execution_count": 21,
   "metadata": {},
   "outputs": [],
   "source": [
    "revenue_per_product = revenue_per_product.sort_values(ascending=False)"
   ]
  },
  {
   "cell_type": "code",
   "execution_count": 22,
   "metadata": {},
   "outputs": [
    {
     "data": {
      "text/plain": [
       "[]"
      ]
     },
     "execution_count": 22,
     "metadata": {},
     "output_type": "execute_result"
    },
    {
     "data": {
      "image/png": "[encoded data removed]",
      "text/plain": [
       "<Figure size 432x288 with 1 Axes>"
      ]
     },
     "metadata": {
      "needs_background": "light"
     },
     "output_type": "display_data"
    }
   ],
   "source": [
    "products=revenue_per_product.index[:10]\n",
    "plt.title('Top 10 Products by Revenue')\n",
    "plt.xlabel('Product ID')\n",
    "plt.yticks()\n",
    "plt.xticks(rotation=90)\n",
    "plt.ylabel('Revenue in R$')\n",
    "plt.bar(products, revenue_per_product[:10])\n",
    "plt.plot()"
   ]
  },
  {
   "cell_type": "code",
   "execution_count": 23,
   "metadata": {},
   "outputs": [],
   "source": [
    "#calculate the mean and median revenue for each product\n",
    "product_revenue = master_df.groupby(['product_id']).price.sum()"
   ]
  },
  {
   "cell_type": "code",
   "execution_count": 24,
   "metadata": {},
   "outputs": [
    {
     "name": "stdout",
     "output_type": "stream",
     "text": [
      "The mean of seller's revenue is: 412.476365815993 the median is: 136.68\n"
     ]
    }
   ],
   "source": [
    "product_revenue_mean = product_revenue.mean()\n",
    "product_revenue_median = product_revenue.median()\n",
    "\n",
    "#generate printout\n",
    "print(\"The mean of seller's revenue is: \" \n",
    "      + str(product_revenue_mean)\n",
    "      + \" the median is: \"\n",
    "      + str(product_revenue_median))"
   ]
  },
  {
   "cell_type": "markdown",
   "metadata": {},
   "source": [
    "### Correlation Between Sales and Rating"
   ]
  },
  {
   "cell_type": "code",
   "execution_count": 25,
   "metadata": {},
   "outputs": [],
   "source": [
    "#calculate the revenue and the average review for the products\n",
    "rating_product = master_df.groupby(['product_id']).review_score.mean()\n",
    "product_revenue = master_df.groupby(['product_id']).price.sum()\n",
    "average_price = master_df.groupby(['product_id']).price.mean()\n",
    "units_sold = master_df.groupby(['product_id']).price.count()"
   ]
  },
  {
   "cell_type": "code",
   "execution_count": 26,
   "metadata": {},
   "outputs": [],
   "source": [
    "#merge the two pandas series into a dataframes\n",
    "column_headers = ['review_score', 'product_revenue', 'average_price', 'units_sold']\n",
    "review_vs_price = pd.merge(rating_product, product_revenue, left_index = True, right_index = True)\n",
    "review_vs_price = pd.merge(review_vs_price, average_price, left_index = True, right_index = True)\n",
    "review_vs_price = pd.merge(review_vs_price, units_sold, left_index = True, right_index = True)\n",
    "review_vs_price.columns = column_headers"
   ]
  },
  {
   "cell_type": "code",
   "execution_count": 27,
   "metadata": {},
   "outputs": [
    {
     "data": {
      "text/html": [
       "<div>\n",
       "<style scoped>\n",
       "    .dataframe tbody tr th:only-of-type {\n",
       "        vertical-align: middle;\n",
       "    }\n",
       "\n",
       "    .dataframe tbody tr th {\n",
       "        vertical-align: top;\n",
       "    }\n",
       "\n",
       "    .dataframe thead th {\n",
       "        text-align: right;\n",
       "    }\n",
       "</style>\n",
       "<table border=\"1\" class=\"dataframe\">\n",
       "  <thead>\n",
       "    <tr style=\"text-align: right;\">\n",
       "      <th></th>\n",
       "      <th>review_score</th>\n",
       "      <th>product_revenue</th>\n",
       "      <th>average_price</th>\n",
       "      <th>units_sold</th>\n",
       "    </tr>\n",
       "  </thead>\n",
       "  <tbody>\n",
       "    <tr>\n",
       "      <td>count</td>\n",
       "      <td>32951.000000</td>\n",
       "      <td>32951.000000</td>\n",
       "      <td>32951.000000</td>\n",
       "      <td>32951.000000</td>\n",
       "    </tr>\n",
       "    <tr>\n",
       "      <td>mean</td>\n",
       "      <td>4.031617</td>\n",
       "      <td>412.476366</td>\n",
       "      <td>145.302692</td>\n",
       "      <td>3.418622</td>\n",
       "    </tr>\n",
       "    <tr>\n",
       "      <td>std</td>\n",
       "      <td>1.225592</td>\n",
       "      <td>1371.946464</td>\n",
       "      <td>246.895669</td>\n",
       "      <td>10.619716</td>\n",
       "    </tr>\n",
       "    <tr>\n",
       "      <td>min</td>\n",
       "      <td>1.000000</td>\n",
       "      <td>2.200000</td>\n",
       "      <td>0.850000</td>\n",
       "      <td>1.000000</td>\n",
       "    </tr>\n",
       "    <tr>\n",
       "      <td>25%</td>\n",
       "      <td>3.500000</td>\n",
       "      <td>59.900000</td>\n",
       "      <td>39.900000</td>\n",
       "      <td>1.000000</td>\n",
       "    </tr>\n",
       "    <tr>\n",
       "      <td>50%</td>\n",
       "      <td>4.500000</td>\n",
       "      <td>136.680000</td>\n",
       "      <td>79.000000</td>\n",
       "      <td>1.000000</td>\n",
       "    </tr>\n",
       "    <tr>\n",
       "      <td>75%</td>\n",
       "      <td>5.000000</td>\n",
       "      <td>329.000000</td>\n",
       "      <td>154.900000</td>\n",
       "      <td>3.000000</td>\n",
       "    </tr>\n",
       "    <tr>\n",
       "      <td>max</td>\n",
       "      <td>5.000000</td>\n",
       "      <td>63885.000000</td>\n",
       "      <td>6735.000000</td>\n",
       "      <td>527.000000</td>\n",
       "    </tr>\n",
       "  </tbody>\n",
       "</table>\n",
       "</div>"
      ],
      "text/plain": [
       "       review_score  product_revenue  average_price    units_sold\n",
       "count  32951.000000     32951.000000   32951.000000  32951.000000\n",
       "mean       4.031617       412.476366     145.302692      3.418622\n",
       "std        1.225592      1371.946464     246.895669     10.619716\n",
       "min        1.000000         2.200000       0.850000      1.000000\n",
       "25%        3.500000        59.900000      39.900000      1.000000\n",
       "50%        4.500000       136.680000      79.000000      1.000000\n",
       "75%        5.000000       329.000000     154.900000      3.000000\n",
       "max        5.000000     63885.000000    6735.000000    527.000000"
      ]
     },
     "execution_count": 27,
     "metadata": {},
     "output_type": "execute_result"
    }
   ],
   "source": [
    "review_vs_price.describe()"
   ]
  },
  {
   "cell_type": "code",
   "execution_count": 28,
   "metadata": {},
   "outputs": [
    {
     "data": {
      "text/plain": [
       "4.0316169629074325"
      ]
     },
     "execution_count": 28,
     "metadata": {},
     "output_type": "execute_result"
    }
   ],
   "source": [
    "review_vs_price['review_score'].mean()"
   ]
  },
  {
   "cell_type": "code",
   "execution_count": 29,
   "metadata": {},
   "outputs": [
    {
     "data": {
      "text/plain": [
       "<function matplotlib.pyplot.plot(*args, scalex=True, scaley=True, data=None, **kwargs)>"
      ]
     },
     "execution_count": 29,
     "metadata": {},
     "output_type": "execute_result"
    },
    {
     "data": {
      "image/png": "[encoded data removed]",
      "text/plain": [
       "<Figure size 432x288 with 1 Axes>"
      ]
     },
     "metadata": {
      "needs_background": "light"
     },
     "output_type": "display_data"
    }
   ],
   "source": [
    "plt.hist(review_vs_price['review_score'], bins=50)\n",
    "plt.plot"
   ]
  },
  {
   "cell_type": "code",
   "execution_count": 30,
   "metadata": {},
   "outputs": [
    {
     "data": {
      "image/png": "[encoded data removed]",
      "text/plain": [
       "<Figure size 432x288 with 1 Axes>"
      ]
     },
     "metadata": {
      "needs_background": "light"
     },
     "output_type": "display_data"
    }
   ],
   "source": [
    "plt.boxplot(review_vs_price['review_score'])\n",
    "plt.title('Distribution of Review Scores')\n",
    "plt.xlabel('Review Score')\n",
    "plt.show()"
   ]
  },
  {
   "cell_type": "code",
   "execution_count": 31,
   "metadata": {},
   "outputs": [
    {
     "data": {
      "image/png": "[encoded data removed]",
      "text/plain": [
       "<Figure size 432x288 with 1 Axes>"
      ]
     },
     "metadata": {
      "needs_background": "light"
     },
     "output_type": "display_data"
    }
   ],
   "source": [
    "plt.boxplot(review_vs_price['units_sold'])\n",
    "plt.title('Distribution of Review Scores')\n",
    "plt.xlabel('Review Score')\n",
    "plt.show()"
   ]
  },
  {
   "cell_type": "code",
   "execution_count": 32,
   "metadata": {},
   "outputs": [
    {
     "name": "stdout",
     "output_type": "stream",
     "text": [
      "the correlation coefficient between the review score and average price is: -0.0082778506162774 with a p-value of: 0.1329427017064835\n"
     ]
    },
    {
     "data": {
      "image/png": "[encoded data removed]",
      "text/plain": [
       "<Figure size 432x288 with 1 Axes>"
      ]
     },
     "metadata": {
      "needs_background": "light"
     },
     "output_type": "display_data"
    }
   ],
   "source": [
    "from scipy.stats import pearsonr\n",
    "corr, p_value = pearsonr(review_vs_price['review_score'], review_vs_price['average_price'])\n",
    "print('the correlation coefficient between the review score and average price is: '\n",
    "      + str(corr)\n",
    "      + ' with a p-value of: '\n",
    "      + str(p_value))\n",
    "plt.scatter(review_vs_price['review_score'],review_vs_price['average_price'])\n",
    "plt.xlabel('Review Score')\n",
    "plt.ylabel('Average Price')\n",
    "plt.title('Overview Review Score vs. Product Revenue')\n",
    "plt.show()"
   ]
  },
  {
   "cell_type": "code",
   "execution_count": 33,
   "metadata": {},
   "outputs": [
    {
     "name": "stdout",
     "output_type": "stream",
     "text": [
      "the correlation coefficient between the review score and product revenue is: -0.006400416071093434 with a p-value of: 0.24531768500613657\n"
     ]
    },
    {
     "data": {
      "image/png": "[encoded data removed]",
      "text/plain": [
       "<Figure size 432x288 with 1 Axes>"
      ]
     },
     "metadata": {
      "needs_background": "light"
     },
     "output_type": "display_data"
    }
   ],
   "source": [
    "corr, p_value = pearsonr(review_vs_price['review_score'], review_vs_price['product_revenue'])\n",
    "print('the correlation coefficient between the review score and product revenue is: '\n",
    "      + str(corr)\n",
    "      + ' with a p-value of: '\n",
    "      + str(p_value))\n",
    "\n",
    "plt.scatter(review_vs_price['review_score'],review_vs_price['product_revenue'])\n",
    "plt.xlabel('Review Score')\n",
    "plt.ylabel('Product Revenue')\n",
    "plt.title('Overview Review Score vs. Product Revenue')\n",
    "plt.show()"
   ]
  },
  {
   "cell_type": "code",
   "execution_count": 34,
   "metadata": {},
   "outputs": [
    {
     "name": "stdout",
     "output_type": "stream",
     "text": [
      "the correlation coefficient between the review score and units_sold is: -0.004163506968284898 with a p-value of: 0.44979821693836697\n"
     ]
    },
    {
     "data": {
      "image/png": "[encoded data removed]",
      "text/plain": [
       "<Figure size 432x288 with 1 Axes>"
      ]
     },
     "metadata": {
      "needs_background": "light"
     },
     "output_type": "display_data"
    }
   ],
   "source": [
    "corr, p_value = pearsonr(review_vs_price['units_sold'], review_vs_price['review_score'])\n",
    "print('the correlation coefficient between the review score and units_sold is: '\n",
    "      + str(corr)\n",
    "      + ' with a p-value of: '\n",
    "      + str(p_value))\n",
    "plt.scatter(review_vs_price['review_score'],review_vs_price['units_sold'])\n",
    "plt.xlabel('Review Score')\n",
    "plt.ylabel('Units Sold')\n",
    "plt.title('Overview Review Score vs. Units Sold')\n",
    "plt.show()"
   ]
  },
  {
   "cell_type": "code",
   "execution_count": 35,
   "metadata": {},
   "outputs": [
    {
     "name": "stdout",
     "output_type": "stream",
     "text": [
      "the correlation coefficient between the average_price and units_sold is: -0.032136663582430426 with a p-value of: 5.383423340623596e-09\n"
     ]
    },
    {
     "data": {
      "image/png": "[encoded data removed]",
      "text/plain": [
       "<Figure size 432x288 with 1 Axes>"
      ]
     },
     "metadata": {
      "needs_background": "light"
     },
     "output_type": "display_data"
    }
   ],
   "source": [
    "corr, p_value = pearsonr(review_vs_price['average_price'], review_vs_price['units_sold'])\n",
    "print('the correlation coefficient between the average_price and units_sold is: '\n",
    "      + str(corr)\n",
    "      + ' with a p-value of: '\n",
    "      + str(p_value))\n",
    "plt.scatter(review_vs_price['average_price'],review_vs_price['units_sold'])\n",
    "plt.xlabel('Average Price')\n",
    "plt.ylabel('Units Sold')\n",
    "plt.title('Overview Average Price vs. Units Sold')\n",
    "plt.show()"
   ]
  },
  {
   "cell_type": "markdown",
   "metadata": {},
   "source": [
    "### Number of Units Bought by Single Customer"
   ]
  },
  {
   "cell_type": "code",
   "execution_count": 36,
   "metadata": {},
   "outputs": [
    {
     "data": {
      "text/plain": [
       "(array([8.8863e+04, 0.0000e+00, 7.5160e+03, 0.0000e+00, 0.0000e+00,\n",
       "        1.3210e+03, 0.0000e+00, 5.0500e+02, 0.0000e+00, 0.0000e+00,\n",
       "        2.0400e+02, 0.0000e+00, 1.9800e+02, 0.0000e+00, 0.0000e+00,\n",
       "        2.2000e+01, 0.0000e+00, 8.0000e+00, 0.0000e+00, 0.0000e+00,\n",
       "        3.0000e+00, 0.0000e+00, 8.0000e+00, 0.0000e+00, 0.0000e+00,\n",
       "        4.0000e+00, 0.0000e+00, 5.0000e+00, 0.0000e+00, 0.0000e+00,\n",
       "        1.0000e+00, 0.0000e+00, 2.0000e+00, 0.0000e+00, 0.0000e+00,\n",
       "        2.0000e+00, 0.0000e+00, 0.0000e+00, 0.0000e+00, 0.0000e+00,\n",
       "        0.0000e+00, 0.0000e+00, 0.0000e+00, 0.0000e+00, 0.0000e+00,\n",
       "        0.0000e+00, 0.0000e+00, 2.0000e+00, 0.0000e+00, 1.0000e+00]),\n",
       " array([ 1. ,  1.4,  1.8,  2.2,  2.6,  3. ,  3.4,  3.8,  4.2,  4.6,  5. ,\n",
       "         5.4,  5.8,  6.2,  6.6,  7. ,  7.4,  7.8,  8.2,  8.6,  9. ,  9.4,\n",
       "         9.8, 10.2, 10.6, 11. , 11.4, 11.8, 12.2, 12.6, 13. , 13.4, 13.8,\n",
       "        14.2, 14.6, 15. , 15.4, 15.8, 16.2, 16.6, 17. , 17.4, 17.8, 18.2,\n",
       "        18.6, 19. , 19.4, 19.8, 20.2, 20.6, 21. ]),\n",
       " <a list of 50 Patch objects>)"
      ]
     },
     "execution_count": 36,
     "metadata": {},
     "output_type": "execute_result"
    },
    {
     "data": {
      "image/png": "[encoded data removed]",
      "text/plain": [
       "<Figure size 432x288 with 1 Axes>"
      ]
     },
     "metadata": {
      "needs_background": "light"
     },
     "output_type": "display_data"
    }
   ],
   "source": [
    "#count the number of units bought by a single customer\n",
    "units_bought = master_df.groupby(['customer_id']).product_id.count()\n",
    "units_bought.describe()\n",
    "plt.yscale('log')\n",
    "plt.title('Number of Units Bought by Single Customer')\n",
    "plt.xlabel('Number of Units')\n",
    "plt.ylabel('Frequency')\n",
    "plt.hist(units_bought, bins = 50)"
   ]
  },
  {
   "cell_type": "markdown",
   "metadata": {},
   "source": [
    "### Higher Ratings with Multiple Purchases"
   ]
  },
  {
   "cell_type": "code",
   "execution_count": 37,
   "metadata": {},
   "outputs": [
    {
     "data": {
      "text/plain": [
       "<matplotlib.axes._subplots.AxesSubplot at 0x129a16910>"
      ]
     },
     "execution_count": 37,
     "metadata": {},
     "output_type": "execute_result"
    },
    {
     "data": {
      "image/png": "[encoded data removed]",
      "text/plain": [
       "<Figure size 432x288 with 1 Axes>"
      ]
     },
     "metadata": {
      "needs_background": "light"
     },
     "output_type": "display_data"
    }
   ],
   "source": [
    "sns.stripplot(x='payment_installments', y='payment_value', data=master_df, jitter=0.2, hue='payment_type')"
   ]
  },
  {
   "cell_type": "code",
   "execution_count": 38,
   "metadata": {},
   "outputs": [
    {
     "name": "stdout",
     "output_type": "stream",
     "text": [
      "the correlation coefficient between the units_bought and average_review is: -0.0802191377798648 with a p-value of: 8.095917830915884e-146\n"
     ]
    },
    {
     "data": {
      "image/png": "[encoded data removed]",
      "text/plain": [
       "<Figure size 432x288 with 1 Axes>"
      ]
     },
     "metadata": {
      "needs_background": "light"
     },
     "output_type": "display_data"
    }
   ],
   "source": [
    "#calculate how many times a user bought a product\n",
    "units_bought = master_df.groupby(['customer_id','product_id'])['product_id'].count()\n",
    "#calculate how the average review a user gave to a product\n",
    "average_review = master_df.groupby(['customer_id', 'product_id'])['review_score'].mean()\n",
    "\n",
    "\n",
    "corr, p_value = pearsonr(units_bought, average_review)\n",
    "print('the correlation coefficient between the units_bought and average_review is: '\n",
    "      + str(corr)\n",
    "      + ' with a p-value of: '\n",
    "      + str(p_value))\n",
    "\n",
    "plt.scatter(average_review, units_bought)\n",
    "plt.xlabel('Review Given by Customer')\n",
    "plt.ylabel('Units Bought by Customer')\n",
    "plt.title('Review vs. Repeated Purchases')\n",
    "plt.show()"
   ]
  },
  {
   "cell_type": "markdown",
   "metadata": {},
   "source": [
    "### Monthly Sales Overviews "
   ]
  },
  {
   "cell_type": "code",
   "execution_count": 39,
   "metadata": {},
   "outputs": [
    {
     "name": "stdout",
     "output_type": "stream",
     "text": [
      "<class 'pandas.core.frame.DataFrame'>\n",
      "Int64Index: 112647 entries, 0 to 118314\n",
      "Data columns (total 39 columns):\n",
      "order_id                         112647 non-null object\n",
      "order_item_id                    112647 non-null int64\n",
      "product_id                       112647 non-null object\n",
      "seller_id                        112647 non-null object\n",
      "shipping_limit_date              112647 non-null object\n",
      "price                            112647 non-null float64\n",
      "freight_value                    112647 non-null float64\n",
      "seller_zip_code_prefix           112647 non-null int64\n",
      "seller_city                      112647 non-null object\n",
      "seller_state                     112647 non-null object\n",
      "customer_id                      112647 non-null object\n",
      "order_status                     112647 non-null object\n",
      "order_purchase_timestamp         112647 non-null datetime64[ns]\n",
      "order_approved_at                112632 non-null datetime64[ns]\n",
      "order_delivered_carrier_date     111453 non-null datetime64[ns]\n",
      "order_delivered_customer_date    110193 non-null datetime64[ns]\n",
      "order_estimated_delivery_date    112647 non-null datetime64[ns]\n",
      "payment_sequential               112647 non-null int64\n",
      "payment_type                     112647 non-null object\n",
      "payment_installments             112647 non-null int64\n",
      "payment_value                    112647 non-null float64\n",
      "review_id                        112647 non-null object\n",
      "review_score                     112647 non-null int64\n",
      "review_comment_title             13603 non-null object\n",
      "review_comment_message           48349 non-null object\n",
      "review_creation_date             112647 non-null object\n",
      "review_answer_timestamp          112647 non-null object\n",
      "customer_unique_id               112647 non-null object\n",
      "customer_zip_code_prefix         112647 non-null int64\n",
      "customer_city                    112647 non-null object\n",
      "customer_state                   112647 non-null object\n",
      "product_category_name            111044 non-null object\n",
      "product_name_lenght              111044 non-null float64\n",
      "product_description_lenght       111044 non-null float64\n",
      "product_photos_qty               111044 non-null float64\n",
      "product_weight_g                 112629 non-null float64\n",
      "product_length_cm                112629 non-null float64\n",
      "product_height_cm                112629 non-null float64\n",
      "product_width_cm                 112629 non-null float64\n",
      "dtypes: datetime64[ns](5), float64(10), int64(6), object(18)\n",
      "memory usage: 39.4+ MB\n"
     ]
    }
   ],
   "source": [
    "master_df.info()"
   ]
  },
  {
   "cell_type": "markdown",
   "metadata": {},
   "source": [
    "## Payments"
   ]
  },
  {
   "cell_type": "code",
   "execution_count": 40,
   "metadata": {},
   "outputs": [
    {
     "data": {
      "text/plain": [
       "(112647, 39)"
      ]
     },
     "execution_count": 40,
     "metadata": {},
     "output_type": "execute_result"
    }
   ],
   "source": [
    "master_df.shape"
   ]
  },
  {
   "cell_type": "code",
   "execution_count": 41,
   "metadata": {},
   "outputs": [
    {
     "data": {
      "text/plain": [
       "[]"
      ]
     },
     "execution_count": 41,
     "metadata": {},
     "output_type": "execute_result"
    },
    {
     "data": {
      "image/png": "[encoded data removed]",
      "text/plain": [
       "<Figure size 432x288 with 1 Axes>"
      ]
     },
     "metadata": {
      "needs_background": "light"
     },
     "output_type": "display_data"
    }
   ],
   "source": [
    "plt.title('Order Value vs. Installments')\n",
    "plt.xlabel('# of Installments')\n",
    "plt.ylabel('Order Value')\n",
    "plt.scatter(master_df['payment_installments'], master_df['payment_value'])\n",
    "plt.plot()"
   ]
  },
  {
   "cell_type": "code",
   "execution_count": 42,
   "metadata": {},
   "outputs": [
    {
     "data": {
      "text/plain": [
       "<matplotlib.axes._subplots.AxesSubplot at 0x129ba6d10>"
      ]
     },
     "execution_count": 42,
     "metadata": {},
     "output_type": "execute_result"
    },
    {
     "data": {
      "image/png": "[encoded data removed]",
      "text/plain": [
       "<Figure size 432x288 with 1 Axes>"
      ]
     },
     "metadata": {
      "needs_background": "light"
     },
     "output_type": "display_data"
    }
   ],
   "source": [
    "sns.stripplot(x='payment_installments', y='payment_value', data=master_df, jitter=0.2, hue='payment_type')"
   ]
  },
  {
   "cell_type": "code",
   "execution_count": 43,
   "metadata": {},
   "outputs": [
    {
     "data": {
      "text/plain": [
       "<matplotlib.axes._subplots.AxesSubplot at 0x128e62550>"
      ]
     },
     "execution_count": 43,
     "metadata": {},
     "output_type": "execute_result"
    },
    {
     "data": {
      "image/png": "[encoded data removed]",
      "text/plain": [
       "<Figure size 432x288 with 1 Axes>"
      ]
     },
     "metadata": {
      "needs_background": "light"
     },
     "output_type": "display_data"
    }
   ],
   "source": [
    "sns.violinplot(x='payment_installments', y='payment_value', data=master_df)"
   ]
  },
  {
   "cell_type": "code",
   "execution_count": 44,
   "metadata": {},
   "outputs": [
    {
     "data": {
      "text/plain": [
       "[]"
      ]
     },
     "execution_count": 44,
     "metadata": {},
     "output_type": "execute_result"
    },
    {
     "data": {
      "image/png": "[encoded data removed]",
      "text/plain": [
       "<Figure size 432x288 with 1 Axes>"
      ]
     },
     "metadata": {
      "needs_background": "light"
     },
     "output_type": "display_data"
    }
   ],
   "source": [
    "plt.hist(master_df['payment_installments'], bins=50)\n",
    "plt.title('Distribution of Installments')\n",
    "plt.xlabel('# of Installments')\n",
    "plt.ylabel('Frequency')\n",
    "plt.plot()"
   ]
  },
  {
   "cell_type": "markdown",
   "metadata": {},
   "source": [
    "## Delivery"
   ]
  },
  {
   "cell_type": "code",
   "execution_count": 45,
   "metadata": {},
   "outputs": [
    {
     "data": {
      "text/plain": [
       "count    98665.000000\n",
       "mean        22.823707\n",
       "std         21.650971\n",
       "min          0.000000\n",
       "25%         13.850000\n",
       "50%         17.170000\n",
       "75%         24.040000\n",
       "max       1794.960000\n",
       "Name: freight_value, dtype: float64"
      ]
     },
     "execution_count": 45,
     "metadata": {},
     "output_type": "execute_result"
    }
   ],
   "source": [
    "#calculation of average freight value and freight value as % of price\n",
    "#calculate the order value and the total freight costs, because the costs were split between products of bigger orders\n",
    "order_value = master_df.groupby('order_id').price.sum()\n",
    "order_freight_value = master_df.groupby('order_id').freight_value.sum()\n",
    "\n",
    "order_freight_value.describe()"
   ]
  },
  {
   "cell_type": "code",
   "execution_count": 46,
   "metadata": {},
   "outputs": [],
   "source": [
    "#merge the pandas series into a pandas dataframe\n",
    "order_information = pd.merge(order_value, order_freight_value, left_index = True, right_index = True)"
   ]
  },
  {
   "cell_type": "code",
   "execution_count": 47,
   "metadata": {},
   "outputs": [],
   "source": [
    "#calculate the freight value as % of the price\n",
    "order_information['pct_FV_to_price'] = order_information['freight_value']/order_information['price']"
   ]
  },
  {
   "cell_type": "code",
   "execution_count": 48,
   "metadata": {},
   "outputs": [
    {
     "data": {
      "text/html": [
       "<div>\n",
       "<style scoped>\n",
       "    .dataframe tbody tr th:only-of-type {\n",
       "        vertical-align: middle;\n",
       "    }\n",
       "\n",
       "    .dataframe tbody tr th {\n",
       "        vertical-align: top;\n",
       "    }\n",
       "\n",
       "    .dataframe thead th {\n",
       "        text-align: right;\n",
       "    }\n",
       "</style>\n",
       "<table border=\"1\" class=\"dataframe\">\n",
       "  <thead>\n",
       "    <tr style=\"text-align: right;\">\n",
       "      <th></th>\n",
       "      <th>price</th>\n",
       "      <th>freight_value</th>\n",
       "      <th>pct_FV_to_price</th>\n",
       "    </tr>\n",
       "  </thead>\n",
       "  <tbody>\n",
       "    <tr>\n",
       "      <td>count</td>\n",
       "      <td>98665.000000</td>\n",
       "      <td>98665.000000</td>\n",
       "      <td>98665.000000</td>\n",
       "    </tr>\n",
       "    <tr>\n",
       "      <td>mean</td>\n",
       "      <td>137.754105</td>\n",
       "      <td>22.823707</td>\n",
       "      <td>0.308391</td>\n",
       "    </tr>\n",
       "    <tr>\n",
       "      <td>std</td>\n",
       "      <td>210.646213</td>\n",
       "      <td>21.650971</td>\n",
       "      <td>0.314763</td>\n",
       "    </tr>\n",
       "    <tr>\n",
       "      <td>min</td>\n",
       "      <td>0.850000</td>\n",
       "      <td>0.000000</td>\n",
       "      <td>0.000000</td>\n",
       "    </tr>\n",
       "    <tr>\n",
       "      <td>25%</td>\n",
       "      <td>45.900000</td>\n",
       "      <td>13.850000</td>\n",
       "      <td>0.131864</td>\n",
       "    </tr>\n",
       "    <tr>\n",
       "      <td>50%</td>\n",
       "      <td>86.900000</td>\n",
       "      <td>17.170000</td>\n",
       "      <td>0.224374</td>\n",
       "    </tr>\n",
       "    <tr>\n",
       "      <td>75%</td>\n",
       "      <td>149.900000</td>\n",
       "      <td>24.040000</td>\n",
       "      <td>0.380196</td>\n",
       "    </tr>\n",
       "    <tr>\n",
       "      <td>max</td>\n",
       "      <td>13440.000000</td>\n",
       "      <td>1794.960000</td>\n",
       "      <td>21.447059</td>\n",
       "    </tr>\n",
       "  </tbody>\n",
       "</table>\n",
       "</div>"
      ],
      "text/plain": [
       "              price  freight_value  pct_FV_to_price\n",
       "count  98665.000000   98665.000000     98665.000000\n",
       "mean     137.754105      22.823707         0.308391\n",
       "std      210.646213      21.650971         0.314763\n",
       "min        0.850000       0.000000         0.000000\n",
       "25%       45.900000      13.850000         0.131864\n",
       "50%       86.900000      17.170000         0.224374\n",
       "75%      149.900000      24.040000         0.380196\n",
       "max    13440.000000    1794.960000        21.447059"
      ]
     },
     "execution_count": 48,
     "metadata": {},
     "output_type": "execute_result"
    }
   ],
   "source": [
    "order_information.describe()"
   ]
  },
  {
   "cell_type": "code",
   "execution_count": 49,
   "metadata": {},
   "outputs": [
    {
     "data": {
      "image/png": "[encoded data removed]",
      "text/plain": [
       "<Figure size 432x288 with 1 Axes>"
      ]
     },
     "metadata": {
      "needs_background": "light"
     },
     "output_type": "display_data"
    }
   ],
   "source": [
    "#the pct_FV_to_price needs to be multiplied by 100 to get %\n",
    "plt.hist(order_information['pct_FV_to_price']*100, bins = 30)\n",
    "plt.yscale('log')\n",
    "plt.title('Distribution of Freight Value as % of Price')\n",
    "plt.xlabel('% of Freight value')\n",
    "plt.show()"
   ]
  },
  {
   "cell_type": "code",
   "execution_count": 50,
   "metadata": {},
   "outputs": [
    {
     "ename": "KeyError",
     "evalue": "'delivery_time'",
     "output_type": "error",
     "traceback": [
      "\u001b[0;31m---------------------------------------------------------------------------\u001b[0m",
      "\u001b[0;31mKeyError\u001b[0m                                  Traceback (most recent call last)",
      "\u001b[0;32m/opt/anaconda3/lib/python3.7/site-packages/pandas/core/indexes/base.py\u001b[0m in \u001b[0;36mget_loc\u001b[0;34m(self, key, method, tolerance)\u001b[0m\n\u001b[1;32m   2896\u001b[0m             \u001b[0;32mtry\u001b[0m\u001b[0;34m:\u001b[0m\u001b[0;34m\u001b[0m\u001b[0;34m\u001b[0m\u001b[0m\n\u001b[0;32m-> 2897\u001b[0;31m                 \u001b[0;32mreturn\u001b[0m \u001b[0mself\u001b[0m\u001b[0;34m.\u001b[0m\u001b[0m_engine\u001b[0m\u001b[0;34m.\u001b[0m\u001b[0mget_loc\u001b[0m\u001b[0;34m(\u001b[0m\u001b[0mkey\u001b[0m\u001b[0;34m)\u001b[0m\u001b[0;34m\u001b[0m\u001b[0;34m\u001b[0m\u001b[0m\n\u001b[0m\u001b[1;32m   2898\u001b[0m             \u001b[0;32mexcept\u001b[0m \u001b[0mKeyError\u001b[0m\u001b[0;34m:\u001b[0m\u001b[0;34m\u001b[0m\u001b[0;34m\u001b[0m\u001b[0m\n",
      "\u001b[0;32mpandas/_libs/index.pyx\u001b[0m in \u001b[0;36mpandas._libs.index.IndexEngine.get_loc\u001b[0;34m()\u001b[0m\n",
      "\u001b[0;32mpandas/_libs/index.pyx\u001b[0m in \u001b[0;36mpandas._libs.index.IndexEngine.get_loc\u001b[0;34m()\u001b[0m\n",
      "\u001b[0;32mpandas/_libs/hashtable_class_helper.pxi\u001b[0m in \u001b[0;36mpandas._libs.hashtable.PyObjectHashTable.get_item\u001b[0;34m()\u001b[0m\n",
      "\u001b[0;32mpandas/_libs/hashtable_class_helper.pxi\u001b[0m in \u001b[0;36mpandas._libs.hashtable.PyObjectHashTable.get_item\u001b[0;34m()\u001b[0m\n",
      "\u001b[0;31mKeyError\u001b[0m: 'delivery_time'",
      "\nDuring handling of the above exception, another exception occurred:\n",
      "\u001b[0;31mKeyError\u001b[0m                                  Traceback (most recent call last)",
      "\u001b[0;32m<ipython-input-50-5e098e6fbdee>\u001b[0m in \u001b[0;36m<module>\u001b[0;34m\u001b[0m\n\u001b[0;32m----> 1\u001b[0;31m \u001b[0mmaster_df\u001b[0m\u001b[0;34m[\u001b[0m\u001b[0;34m'delivery_time'\u001b[0m\u001b[0;34m]\u001b[0m\u001b[0;34m.\u001b[0m\u001b[0mdescribe\u001b[0m\u001b[0;34m(\u001b[0m\u001b[0;34m)\u001b[0m\u001b[0;34m\u001b[0m\u001b[0;34m\u001b[0m\u001b[0m\n\u001b[0m",
      "\u001b[0;32m/opt/anaconda3/lib/python3.7/site-packages/pandas/core/frame.py\u001b[0m in \u001b[0;36m__getitem__\u001b[0;34m(self, key)\u001b[0m\n\u001b[1;32m   2978\u001b[0m             \u001b[0;32mif\u001b[0m \u001b[0mself\u001b[0m\u001b[0;34m.\u001b[0m\u001b[0mcolumns\u001b[0m\u001b[0;34m.\u001b[0m\u001b[0mnlevels\u001b[0m \u001b[0;34m>\u001b[0m \u001b[0;36m1\u001b[0m\u001b[0;34m:\u001b[0m\u001b[0;34m\u001b[0m\u001b[0;34m\u001b[0m\u001b[0m\n\u001b[1;32m   2979\u001b[0m                 \u001b[0;32mreturn\u001b[0m \u001b[0mself\u001b[0m\u001b[0;34m.\u001b[0m\u001b[0m_getitem_multilevel\u001b[0m\u001b[0;34m(\u001b[0m\u001b[0mkey\u001b[0m\u001b[0;34m)\u001b[0m\u001b[0;34m\u001b[0m\u001b[0;34m\u001b[0m\u001b[0m\n\u001b[0;32m-> 2980\u001b[0;31m             \u001b[0mindexer\u001b[0m \u001b[0;34m=\u001b[0m \u001b[0mself\u001b[0m\u001b[0;34m.\u001b[0m\u001b[0mcolumns\u001b[0m\u001b[0;34m.\u001b[0m\u001b[0mget_loc\u001b[0m\u001b[0;34m(\u001b[0m\u001b[0mkey\u001b[0m\u001b[0;34m)\u001b[0m\u001b[0;34m\u001b[0m\u001b[0;34m\u001b[0m\u001b[0m\n\u001b[0m\u001b[1;32m   2981\u001b[0m             \u001b[0;32mif\u001b[0m \u001b[0mis_integer\u001b[0m\u001b[0;34m(\u001b[0m\u001b[0mindexer\u001b[0m\u001b[0;34m)\u001b[0m\u001b[0;34m:\u001b[0m\u001b[0;34m\u001b[0m\u001b[0;34m\u001b[0m\u001b[0m\n\u001b[1;32m   2982\u001b[0m                 \u001b[0mindexer\u001b[0m \u001b[0;34m=\u001b[0m \u001b[0;34m[\u001b[0m\u001b[0mindexer\u001b[0m\u001b[0;34m]\u001b[0m\u001b[0;34m\u001b[0m\u001b[0;34m\u001b[0m\u001b[0m\n",
      "\u001b[0;32m/opt/anaconda3/lib/python3.7/site-packages/pandas/core/indexes/base.py\u001b[0m in \u001b[0;36mget_loc\u001b[0;34m(self, key, method, tolerance)\u001b[0m\n\u001b[1;32m   2897\u001b[0m                 \u001b[0;32mreturn\u001b[0m \u001b[0mself\u001b[0m\u001b[0;34m.\u001b[0m\u001b[0m_engine\u001b[0m\u001b[0;34m.\u001b[0m\u001b[0mget_loc\u001b[0m\u001b[0;34m(\u001b[0m\u001b[0mkey\u001b[0m\u001b[0;34m)\u001b[0m\u001b[0;34m\u001b[0m\u001b[0;34m\u001b[0m\u001b[0m\n\u001b[1;32m   2898\u001b[0m             \u001b[0;32mexcept\u001b[0m \u001b[0mKeyError\u001b[0m\u001b[0;34m:\u001b[0m\u001b[0;34m\u001b[0m\u001b[0;34m\u001b[0m\u001b[0m\n\u001b[0;32m-> 2899\u001b[0;31m                 \u001b[0;32mreturn\u001b[0m \u001b[0mself\u001b[0m\u001b[0;34m.\u001b[0m\u001b[0m_engine\u001b[0m\u001b[0;34m.\u001b[0m\u001b[0mget_loc\u001b[0m\u001b[0;34m(\u001b[0m\u001b[0mself\u001b[0m\u001b[0;34m.\u001b[0m\u001b[0m_maybe_cast_indexer\u001b[0m\u001b[0;34m(\u001b[0m\u001b[0mkey\u001b[0m\u001b[0;34m)\u001b[0m\u001b[0;34m)\u001b[0m\u001b[0;34m\u001b[0m\u001b[0;34m\u001b[0m\u001b[0m\n\u001b[0m\u001b[1;32m   2900\u001b[0m         \u001b[0mindexer\u001b[0m \u001b[0;34m=\u001b[0m \u001b[0mself\u001b[0m\u001b[0;34m.\u001b[0m\u001b[0mget_indexer\u001b[0m\u001b[0;34m(\u001b[0m\u001b[0;34m[\u001b[0m\u001b[0mkey\u001b[0m\u001b[0;34m]\u001b[0m\u001b[0;34m,\u001b[0m \u001b[0mmethod\u001b[0m\u001b[0;34m=\u001b[0m\u001b[0mmethod\u001b[0m\u001b[0;34m,\u001b[0m \u001b[0mtolerance\u001b[0m\u001b[0;34m=\u001b[0m\u001b[0mtolerance\u001b[0m\u001b[0;34m)\u001b[0m\u001b[0;34m\u001b[0m\u001b[0;34m\u001b[0m\u001b[0m\n\u001b[1;32m   2901\u001b[0m         \u001b[0;32mif\u001b[0m \u001b[0mindexer\u001b[0m\u001b[0;34m.\u001b[0m\u001b[0mndim\u001b[0m \u001b[0;34m>\u001b[0m \u001b[0;36m1\u001b[0m \u001b[0;32mor\u001b[0m \u001b[0mindexer\u001b[0m\u001b[0;34m.\u001b[0m\u001b[0msize\u001b[0m \u001b[0;34m>\u001b[0m \u001b[0;36m1\u001b[0m\u001b[0;34m:\u001b[0m\u001b[0;34m\u001b[0m\u001b[0;34m\u001b[0m\u001b[0m\n",
      "\u001b[0;32mpandas/_libs/index.pyx\u001b[0m in \u001b[0;36mpandas._libs.index.IndexEngine.get_loc\u001b[0;34m()\u001b[0m\n",
      "\u001b[0;32mpandas/_libs/index.pyx\u001b[0m in \u001b[0;36mpandas._libs.index.IndexEngine.get_loc\u001b[0;34m()\u001b[0m\n",
      "\u001b[0;32mpandas/_libs/hashtable_class_helper.pxi\u001b[0m in \u001b[0;36mpandas._libs.hashtable.PyObjectHashTable.get_item\u001b[0;34m()\u001b[0m\n",
      "\u001b[0;32mpandas/_libs/hashtable_class_helper.pxi\u001b[0m in \u001b[0;36mpandas._libs.hashtable.PyObjectHashTable.get_item\u001b[0;34m()\u001b[0m\n",
      "\u001b[0;31mKeyError\u001b[0m: 'delivery_time'"
     ]
    }
   ],
   "source": [
    "master_df['delivery_time'].describe()"
   ]
  },
  {
   "cell_type": "markdown",
   "metadata": {},
   "source": [
    "## Seller"
   ]
  },
  {
   "cell_type": "markdown",
   "metadata": {},
   "source": [
    "This section will answer questions about the seller of the marketplace"
   ]
  },
  {
   "cell_type": "code",
   "execution_count": 51,
   "metadata": {},
   "outputs": [],
   "source": [
    "#calculate the revenue of the different sellers in the dataset\n",
    "seller_revenue = order_items.groupby(['seller_id']).price.sum()\n",
    "mean_purchase_seller = order_items.groupby(['seller_id']).price.mean()"
   ]
  },
  {
   "cell_type": "code",
   "execution_count": 52,
   "metadata": {},
   "outputs": [
    {
     "data": {
      "text/plain": [
       "3095"
      ]
     },
     "execution_count": 52,
     "metadata": {},
     "output_type": "execute_result"
    }
   ],
   "source": [
    "#number of sellers on the marketplace\n",
    "seller_revenue.count()"
   ]
  },
  {
   "cell_type": "code",
   "execution_count": 53,
   "metadata": {},
   "outputs": [
    {
     "data": {
      "text/plain": [
       "229472.6299999981"
      ]
     },
     "execution_count": 53,
     "metadata": {},
     "output_type": "execute_result"
    }
   ],
   "source": [
    "#the seller with the largest revenue\n",
    "seller_revenue.max()"
   ]
  },
  {
   "cell_type": "code",
   "execution_count": 54,
   "metadata": {},
   "outputs": [
    {
     "data": {
      "text/plain": [
       "[]"
      ]
     },
     "execution_count": 54,
     "metadata": {},
     "output_type": "execute_result"
    },
    {
     "data": {
      "image/png": "[encoded data removed]",
      "text/plain": [
       "<Figure size 432x288 with 1 Axes>"
      ]
     },
     "metadata": {
      "needs_background": "light"
     },
     "output_type": "display_data"
    }
   ],
   "source": [
    "plt.hist(seller_revenue, bins=50)\n",
    "plt.yscale('log') \n",
    "plt.title('Distribution - Sellers Revenue')\n",
    "plt.plot()"
   ]
  },
  {
   "cell_type": "code",
   "execution_count": 55,
   "metadata": {},
   "outputs": [
    {
     "data": {
      "text/plain": [
       "[]"
      ]
     },
     "execution_count": 55,
     "metadata": {},
     "output_type": "execute_result"
    },
    {
     "data": {
      "image/png": "[encoded data removed]",
      "text/plain": [
       "<Figure size 432x288 with 1 Axes>"
      ]
     },
     "metadata": {
      "needs_background": "light"
     },
     "output_type": "display_data"
    }
   ],
   "source": [
    "plt.hist(mean_purchase_seller, bins=50)\n",
    "plt.yscale('log') \n",
    "plt.title('Distribution - Mean Purchase Value')\n",
    "plt.plot()"
   ]
  },
  {
   "cell_type": "code",
   "execution_count": 56,
   "metadata": {},
   "outputs": [
    {
     "name": "stdout",
     "output_type": "stream",
     "text": [
      "The mean of seller's revenue is: 4391.484232633301 the median is: 821.48\n"
     ]
    }
   ],
   "source": [
    "seller_revenue_mean = seller_revenue.mean()\n",
    "seller_revenue_median = seller_revenue.median()\n",
    "\n",
    "#generate printout\n",
    "print(\"The mean of seller's revenue is: \" \n",
    "      + str(seller_revenue_mean)\n",
    "      + \" the median is: \"\n",
    "      + str(seller_revenue_median))"
   ]
  },
  {
   "cell_type": "code",
   "execution_count": 57,
   "metadata": {},
   "outputs": [
    {
     "data": {
      "image/png": "[encoded data removed]",
      "text/plain": [
       "<Figure size 432x288 with 1 Axes>"
      ]
     },
     "metadata": {
      "needs_background": "light"
     },
     "output_type": "display_data"
    }
   ],
   "source": [
    "plt.scatter(mean_purchase_seller, seller_revenue)\n",
    "plt.title('Order Size vs. Seller Revenue')\n",
    "plt.ylabel('Seller Revenue')\n",
    "plt.xlabel('Mean Purchase')\n",
    "plt.show()"
   ]
  },
  {
   "cell_type": "markdown",
   "metadata": {},
   "source": [
    "### Seller City and State"
   ]
  },
  {
   "cell_type": "code",
   "execution_count": 58,
   "metadata": {},
   "outputs": [
    {
     "data": {
      "text/plain": [
       "seller_id\n",
       "0015a82c2db000af6aaaf3ae2ecb0532     2685.00\n",
       "001cca7ae9ae17fb1caed9dfb1094831    25080.03\n",
       "001e6ad469a905060d959994f1b41e4f      250.00\n",
       "002100f778ceb8431b7a1020ff7ab48f     1234.50\n",
       "003554e2dce176b5555353e4f3555ac8      120.00\n",
       "Name: price, dtype: float64"
      ]
     },
     "execution_count": 58,
     "metadata": {},
     "output_type": "execute_result"
    }
   ],
   "source": [
    "seller_revenue.head()"
   ]
  },
  {
   "cell_type": "code",
   "execution_count": 59,
   "metadata": {},
   "outputs": [],
   "source": [
    "from collections import defaultdict\n",
    "#get only one entry per seller\n",
    "# sorting seller ID first\n",
    "master_df.sort_values('seller_state', inplace = True) \n",
    "  \n",
    "# dropping ALL duplicte values \n",
    "sellers = master_df.drop_duplicates(subset ='seller_id') \n",
    "\n",
    "#count the states with a dictionary\n",
    "states = defaultdict(int)\n",
    "\n",
    "#loop over the sellers and store the different states\n",
    "for state in sellers['seller_state']:\n",
    "    states[state]+=1\n",
    "\n",
    "#count the different cities with a dictionary\n",
    "cities = defaultdict(int)\n",
    "#loop over the sellers and store the different cities\n",
    "for city in sellers['seller_city']:\n",
    "    cities[city]+=1"
   ]
  },
  {
   "cell_type": "code",
   "execution_count": 60,
   "metadata": {},
   "outputs": [
    {
     "data": {
      "text/plain": [
       "[]"
      ]
     },
     "execution_count": 60,
     "metadata": {},
     "output_type": "execute_result"
    },
    {
     "data": {
      "image/png": "[encoded data removed]",
      "text/plain": [
       "<Figure size 432x288 with 1 Axes>"
      ]
     },
     "metadata": {
      "needs_background": "light"
     },
     "output_type": "display_data"
    }
   ],
   "source": [
    "plt.title('Seller Origin State')\n",
    "plt.xlabel('State')\n",
    "plt.ylabel('Number of Sellers')\n",
    "plt.yticks()\n",
    "plt.xticks(rotation=90)\n",
    "plt.bar(states.keys(), states.values())\n",
    "plt.plot()"
   ]
  },
  {
   "cell_type": "markdown",
   "metadata": {},
   "source": [
    "## Do Sellers Sell Locally?"
   ]
  },
  {
   "cell_type": "code",
   "execution_count": 61,
   "metadata": {},
   "outputs": [
    {
     "data": {
      "text/html": [
       "<div>\n",
       "<style scoped>\n",
       "    .dataframe tbody tr th:only-of-type {\n",
       "        vertical-align: middle;\n",
       "    }\n",
       "\n",
       "    .dataframe tbody tr th {\n",
       "        vertical-align: top;\n",
       "    }\n",
       "\n",
       "    .dataframe thead th {\n",
       "        text-align: right;\n",
       "    }\n",
       "</style>\n",
       "<table border=\"1\" class=\"dataframe\">\n",
       "  <thead>\n",
       "    <tr style=\"text-align: right;\">\n",
       "      <th></th>\n",
       "      <th>seller_state</th>\n",
       "      <th>customer_state</th>\n",
       "    </tr>\n",
       "  </thead>\n",
       "  <tbody>\n",
       "    <tr>\n",
       "      <td>118190</td>\n",
       "      <td>AC</td>\n",
       "      <td>SP</td>\n",
       "    </tr>\n",
       "    <tr>\n",
       "      <td>117202</td>\n",
       "      <td>AM</td>\n",
       "      <td>MA</td>\n",
       "    </tr>\n",
       "    <tr>\n",
       "      <td>117203</td>\n",
       "      <td>AM</td>\n",
       "      <td>MG</td>\n",
       "    </tr>\n",
       "    <tr>\n",
       "      <td>117204</td>\n",
       "      <td>AM</td>\n",
       "      <td>AL</td>\n",
       "    </tr>\n",
       "    <tr>\n",
       "      <td>59611</td>\n",
       "      <td>BA</td>\n",
       "      <td>RJ</td>\n",
       "    </tr>\n",
       "  </tbody>\n",
       "</table>\n",
       "</div>"
      ],
      "text/plain": [
       "       seller_state customer_state\n",
       "118190           AC             SP\n",
       "117202           AM             MA\n",
       "117203           AM             MG\n",
       "117204           AM             AL\n",
       "59611            BA             RJ"
      ]
     },
     "execution_count": 61,
     "metadata": {},
     "output_type": "execute_result"
    }
   ],
   "source": [
    "states = master_df[['seller_state','customer_state']]\n",
    "states.head()"
   ]
  },
  {
   "cell_type": "code",
   "execution_count": 62,
   "metadata": {},
   "outputs": [
    {
     "data": {
      "text/plain": [
       "(417, 3)"
      ]
     },
     "execution_count": 62,
     "metadata": {},
     "output_type": "execute_result"
    }
   ],
   "source": [
    "states = master_df[['seller_state','customer_state']]\n",
    "states_new = states.groupby(['seller_state', 'customer_state']).size().reset_index()\n",
    "states_new.columns = ['seller_state','customer_state', 'number_of_sales']\n",
    "states_new.shape"
   ]
  },
  {
   "cell_type": "code",
   "execution_count": 89,
   "metadata": {},
   "outputs": [
    {
     "data": {
      "text/plain": [
       "(25, 3)"
      ]
     },
     "execution_count": 89,
     "metadata": {},
     "output_type": "execute_result"
    }
   ],
   "source": [
    "#sort the values in descending order to get the states with the biggest sales\n",
    "states_new = states_new.sort_values(by=['number_of_sales'], ascending = False)\n",
    "#cut off the top 25 combination of states to display in the Sankey Diagram\n",
    "states_new = states_new.iloc[:25,:]\n",
    "states_new.shape"
   ]
  },
  {
   "cell_type": "code",
   "execution_count": 90,
   "metadata": {},
   "outputs": [],
   "source": [
    "#create a list with unique values for each state to use it as index labels\n",
    "customer_states = states_new['customer_state'].unique()\n",
    "seller_states = states_new['seller_state'].unique()\n",
    "states = np.unique(np.concatenate((customer_states, seller_states),0))\n",
    "states_list = states.tolist()"
   ]
  },
  {
   "cell_type": "code",
   "execution_count": 91,
   "metadata": {},
   "outputs": [],
   "source": [
    "#create a list from each dataframe column\n",
    "seller_states = states_new['seller_state'].to_list()\n",
    "customer_states = states_new['customer_state'].to_list()\n",
    "number_of_sales = states_new['number_of_sales'].to_list()"
   ]
  },
  {
   "cell_type": "code",
   "execution_count": 92,
   "metadata": {},
   "outputs": [],
   "source": [
    "#replace the state with the respective number of the index of the list states_list\n",
    "for num, states in enumerate(customer_states):\n",
    "    customer_states[num] = states_list.index(states)\n",
    "\n",
    "for num, states in enumerate(seller_states):\n",
    "    seller_states[num] = states_list.index(states)"
   ]
  },
  {
   "cell_type": "code",
   "execution_count": 93,
   "metadata": {},
   "outputs": [
    {
     "data": {
      "application/vnd.plotly.v1+json": {
       "config": {
        "plotlyServerURL": "https://plot.ly"
       },
       "data": [
        {
         "link": {
          "source": [
           13,
           13,
           13,
           13,
           13,
           9,
           5,
           13,
           13,
           5,
           13,
           13,
           13,
           10,
           12,
           5,
           13,
           9,
           13,
           10,
           9,
           9,
           13,
           13,
           11
          ],
          "target": [
           13,
           10,
           5,
           11,
           9,
           13,
           13,
           12,
           0,
           5,
           4,
           3,
           2,
           13,
           13,
           10,
           8,
           10,
           1,
           10,
           5,
           9,
           7,
           6,
           13
          ],
          "value": [
           36192,
           9688,
           8703,
           4194,
           3667,
           3407,
           2964,
           2749,
           2708,
           1709,
           1701,
           1647,
           1599,
           1518,
           1506,
           1329,
           1289,
           1147,
           1134,
           1122,
           938,
           827,
           785,
           772,
           762
          ]
         },
         "node": {
          "color": "blue",
          "label": [
           "BA",
           "CE",
           "DF",
           "ES",
           "GO",
           "MG",
           "MT",
           "PA",
           "PE",
           "PR",
           "RJ",
           "RS",
           "SC",
           "SP"
          ],
          "line": {
           "color": "black",
           "width": 0.5
          },
          "pad": 15,
          "thickness": 20
         },
         "type": "sankey"
        }
       ],
       "layout": {
        "font": {
         "size": 10
        },
        "template": {
         "data": {
          "bar": [
           {
            "error_x": {
             "color": "#2a3f5f"
            },
            "error_y": {
             "color": "#2a3f5f"
            },
            "marker": {
             "line": {
              "color": "#E5ECF6",
              "width": 0.5
             }
            },
            "type": "bar"
           }
          ],
          "barpolar": [
           {
            "marker": {
             "line": {
              "color": "#E5ECF6",
              "width": 0.5
             }
            },
            "type": "barpolar"
           }
          ],
          "carpet": [
           {
            "aaxis": {
             "endlinecolor": "#2a3f5f",
             "gridcolor": "white",
             "linecolor": "white",
             "minorgridcolor": "white",
             "startlinecolor": "#2a3f5f"
            },
            "baxis": {
             "endlinecolor": "#2a3f5f",
             "gridcolor": "white",
             "linecolor": "white",
             "minorgridcolor": "white",
             "startlinecolor": "#2a3f5f"
            },
            "type": "carpet"
           }
          ],
          "choropleth": [
           {
            "colorbar": {
             "outlinewidth": 0,
             "ticks": ""
            },
            "type": "choropleth"
           }
          ],
          "contour": [
           {
            "colorbar": {
             "outlinewidth": 0,
             "ticks": ""
            },
            "colorscale": [
             [
              0,
              "#0d0887"
             ],
             [
              0.1111111111111111,
              "#46039f"
             ],
             [
              0.2222222222222222,
              "#7201a8"
             ],
             [
              0.3333333333333333,
              "#9c179e"
             ],
             [
              0.4444444444444444,
              "#bd3786"
             ],
             [
              0.5555555555555556,
              "#d8576b"
             ],
             [
              0.6666666666666666,
              "#ed7953"
             ],
             [
              0.7777777777777778,
              "#fb9f3a"
             ],
             [
              0.8888888888888888,
              "#fdca26"
             ],
             [
              1,
              "#f0f921"
             ]
            ],
            "type": "contour"
           }
          ],
          "contourcarpet": [
           {
            "colorbar": {
             "outlinewidth": 0,
             "ticks": ""
            },
            "type": "contourcarpet"
           }
          ],
          "heatmap": [
           {
            "colorbar": {
             "outlinewidth": 0,
             "ticks": ""
            },
            "colorscale": [
             [
              0,
              "#0d0887"
             ],
             [
              0.1111111111111111,
              "#46039f"
             ],
             [
              0.2222222222222222,
              "#7201a8"
             ],
             [
              0.3333333333333333,
              "#9c179e"
             ],
             [
              0.4444444444444444,
              "#bd3786"
             ],
             [
              0.5555555555555556,
              "#d8576b"
             ],
             [
              0.6666666666666666,
              "#ed7953"
             ],
             [
              0.7777777777777778,
              "#fb9f3a"
             ],
             [
              0.8888888888888888,
              "#fdca26"
             ],
             [
              1,
              "#f0f921"
             ]
            ],
            "type": "heatmap"
           }
          ],
          "heatmapgl": [
           {
            "colorbar": {
             "outlinewidth": 0,
             "ticks": ""
            },
            "colorscale": [
             [
              0,
              "#0d0887"
             ],
             [
              0.1111111111111111,
              "#46039f"
             ],
             [
              0.2222222222222222,
              "#7201a8"
             ],
             [
              0.3333333333333333,
              "#9c179e"
             ],
             [
              0.4444444444444444,
              "#bd3786"
             ],
             [
              0.5555555555555556,
              "#d8576b"
             ],
             [
              0.6666666666666666,
              "#ed7953"
             ],
             [
              0.7777777777777778,
              "#fb9f3a"
             ],
             [
              0.8888888888888888,
              "#fdca26"
             ],
             [
              1,
              "#f0f921"
             ]
            ],
            "type": "heatmapgl"
           }
          ],
          "histogram": [
           {
            "marker": {
             "colorbar": {
              "outlinewidth": 0,
              "ticks": ""
             }
            },
            "type": "histogram"
           }
          ],
          "histogram2d": [
           {
            "colorbar": {
             "outlinewidth": 0,
             "ticks": ""
            },
            "colorscale": [
             [
              0,
              "#0d0887"
             ],
             [
              0.1111111111111111,
              "#46039f"
             ],
             [
              0.2222222222222222,
              "#7201a8"
             ],
             [
              0.3333333333333333,
              "#9c179e"
             ],
             [
              0.4444444444444444,
              "#bd3786"
             ],
             [
              0.5555555555555556,
              "#d8576b"
             ],
             [
              0.6666666666666666,
              "#ed7953"
             ],
             [
              0.7777777777777778,
              "#fb9f3a"
             ],
             [
              0.8888888888888888,
              "#fdca26"
             ],
             [
              1,
              "#f0f921"
             ]
            ],
            "type": "histogram2d"
           }
          ],
          "histogram2dcontour": [
           {
            "colorbar": {
             "outlinewidth": 0,
             "ticks": ""
            },
            "colorscale": [
             [
              0,
              "#0d0887"
             ],
             [
              0.1111111111111111,
              "#46039f"
             ],
             [
              0.2222222222222222,
              "#7201a8"
             ],
             [
              0.3333333333333333,
              "#9c179e"
             ],
             [
              0.4444444444444444,
              "#bd3786"
             ],
             [
              0.5555555555555556,
              "#d8576b"
             ],
             [
              0.6666666666666666,
              "#ed7953"
             ],
             [
              0.7777777777777778,
              "#fb9f3a"
             ],
             [
              0.8888888888888888,
              "#fdca26"
             ],
             [
              1,
              "#f0f921"
             ]
            ],
            "type": "histogram2dcontour"
           }
          ],
          "mesh3d": [
           {
            "colorbar": {
             "outlinewidth": 0,
             "ticks": ""
            },
            "type": "mesh3d"
           }
          ],
          "parcoords": [
           {
            "line": {
             "colorbar": {
              "outlinewidth": 0,
              "ticks": ""
             }
            },
            "type": "parcoords"
           }
          ],
          "pie": [
           {
            "automargin": true,
            "type": "pie"
           }
          ],
          "scatter": [
           {
            "marker": {
             "colorbar": {
              "outlinewidth": 0,
              "ticks": ""
             }
            },
            "type": "scatter"
           }
          ],
          "scatter3d": [
           {
            "line": {
             "colorbar": {
              "outlinewidth": 0,
              "ticks": ""
             }
            },
            "marker": {
             "colorbar": {
              "outlinewidth": 0,
              "ticks": ""
             }
            },
            "type": "scatter3d"
           }
          ],
          "scattercarpet": [
           {
            "marker": {
             "colorbar": {
              "outlinewidth": 0,
              "ticks": ""
             }
            },
            "type": "scattercarpet"
           }
          ],
          "scattergeo": [
           {
            "marker": {
             "colorbar": {
              "outlinewidth": 0,
              "ticks": ""
             }
            },
            "type": "scattergeo"
           }
          ],
          "scattergl": [
           {
            "marker": {
             "colorbar": {
              "outlinewidth": 0,
              "ticks": ""
             }
            },
            "type": "scattergl"
           }
          ],
          "scattermapbox": [
           {
            "marker": {
             "colorbar": {
              "outlinewidth": 0,
              "ticks": ""
             }
            },
            "type": "scattermapbox"
           }
          ],
          "scatterpolar": [
           {
            "marker": {
             "colorbar": {
              "outlinewidth": 0,
              "ticks": ""
             }
            },
            "type": "scatterpolar"
           }
          ],
          "scatterpolargl": [
           {
            "marker": {
             "colorbar": {
              "outlinewidth": 0,
              "ticks": ""
             }
            },
            "type": "scatterpolargl"
           }
          ],
          "scatterternary": [
           {
            "marker": {
             "colorbar": {
              "outlinewidth": 0,
              "ticks": ""
             }
            },
            "type": "scatterternary"
           }
          ],
          "surface": [
           {
            "colorbar": {
             "outlinewidth": 0,
             "ticks": ""
            },
            "colorscale": [
             [
              0,
              "#0d0887"
             ],
             [
              0.1111111111111111,
              "#46039f"
             ],
             [
              0.2222222222222222,
              "#7201a8"
             ],
             [
              0.3333333333333333,
              "#9c179e"
             ],
             [
              0.4444444444444444,
              "#bd3786"
             ],
             [
              0.5555555555555556,
              "#d8576b"
             ],
             [
              0.6666666666666666,
              "#ed7953"
             ],
             [
              0.7777777777777778,
              "#fb9f3a"
             ],
             [
              0.8888888888888888,
              "#fdca26"
             ],
             [
              1,
              "#f0f921"
             ]
            ],
            "type": "surface"
           }
          ],
          "table": [
           {
            "cells": {
             "fill": {
              "color": "#EBF0F8"
             },
             "line": {
              "color": "white"
             }
            },
            "header": {
             "fill": {
              "color": "#C8D4E3"
             },
             "line": {
              "color": "white"
             }
            },
            "type": "table"
           }
          ]
         },
         "layout": {
          "annotationdefaults": {
           "arrowcolor": "#2a3f5f",
           "arrowhead": 0,
           "arrowwidth": 1
          },
          "coloraxis": {
           "colorbar": {
            "outlinewidth": 0,
            "ticks": ""
           }
          },
          "colorscale": {
           "diverging": [
            [
             0,
             "#8e0152"
            ],
            [
             0.1,
             "#c51b7d"
            ],
            [
             0.2,
             "#de77ae"
            ],
            [
             0.3,
             "#f1b6da"
            ],
            [
             0.4,
             "#fde0ef"
            ],
            [
             0.5,
             "#f7f7f7"
            ],
            [
             0.6,
             "#e6f5d0"
            ],
            [
             0.7,
             "#b8e186"
            ],
            [
             0.8,
             "#7fbc41"
            ],
            [
             0.9,
             "#4d9221"
            ],
            [
             1,
             "#276419"
            ]
           ],
           "sequential": [
            [
             0,
             "#0d0887"
            ],
            [
             0.1111111111111111,
             "#46039f"
            ],
            [
             0.2222222222222222,
             "#7201a8"
            ],
            [
             0.3333333333333333,
             "#9c179e"
            ],
            [
             0.4444444444444444,
             "#bd3786"
            ],
            [
             0.5555555555555556,
             "#d8576b"
            ],
            [
             0.6666666666666666,
             "#ed7953"
            ],
            [
             0.7777777777777778,
             "#fb9f3a"
            ],
            [
             0.8888888888888888,
             "#fdca26"
            ],
            [
             1,
             "#f0f921"
            ]
           ],
           "sequentialminus": [
            [
             0,
             "#0d0887"
            ],
            [
             0.1111111111111111,
             "#46039f"
            ],
            [
             0.2222222222222222,
             "#7201a8"
            ],
            [
             0.3333333333333333,
             "#9c179e"
            ],
            [
             0.4444444444444444,
             "#bd3786"
            ],
            [
             0.5555555555555556,
             "#d8576b"
            ],
            [
             0.6666666666666666,
             "#ed7953"
            ],
            [
             0.7777777777777778,
             "#fb9f3a"
            ],
            [
             0.8888888888888888,
             "#fdca26"
            ],
            [
             1,
             "#f0f921"
            ]
           ]
          },
          "colorway": [
           "#636efa",
           "#EF553B",
           "#00cc96",
           "#ab63fa",
           "#FFA15A",
           "#19d3f3",
           "#FF6692",
           "#B6E880",
           "#FF97FF",
           "#FECB52"
          ],
          "font": {
           "color": "#2a3f5f"
          },
          "geo": {
           "bgcolor": "white",
           "lakecolor": "white",
           "landcolor": "#E5ECF6",
           "showlakes": true,
           "showland": true,
           "subunitcolor": "white"
          },
          "hoverlabel": {
           "align": "left"
          },
          "hovermode": "closest",
          "mapbox": {
           "style": "light"
          },
          "paper_bgcolor": "white",
          "plot_bgcolor": "#E5ECF6",
          "polar": {
           "angularaxis": {
            "gridcolor": "white",
            "linecolor": "white",
            "ticks": ""
           },
           "bgcolor": "#E5ECF6",
           "radialaxis": {
            "gridcolor": "white",
            "linecolor": "white",
            "ticks": ""
           }
          },
          "scene": {
           "xaxis": {
            "backgroundcolor": "#E5ECF6",
            "gridcolor": "white",
            "gridwidth": 2,
            "linecolor": "white",
            "showbackground": true,
            "ticks": "",
            "zerolinecolor": "white"
           },
           "yaxis": {
            "backgroundcolor": "#E5ECF6",
            "gridcolor": "white",
            "gridwidth": 2,
            "linecolor": "white",
            "showbackground": true,
            "ticks": "",
            "zerolinecolor": "white"
           },
           "zaxis": {
            "backgroundcolor": "#E5ECF6",
            "gridcolor": "white",
            "gridwidth": 2,
            "linecolor": "white",
            "showbackground": true,
            "ticks": "",
            "zerolinecolor": "white"
           }
          },
          "shapedefaults": {
           "line": {
            "color": "#2a3f5f"
           }
          },
          "ternary": {
           "aaxis": {
            "gridcolor": "white",
            "linecolor": "white",
            "ticks": ""
           },
           "baxis": {
            "gridcolor": "white",
            "linecolor": "white",
            "ticks": ""
           },
           "bgcolor": "#E5ECF6",
           "caxis": {
            "gridcolor": "white",
            "linecolor": "white",
            "ticks": ""
           }
          },
          "title": {
           "x": 0.05
          },
          "xaxis": {
           "automargin": true,
           "gridcolor": "white",
           "linecolor": "white",
           "ticks": "",
           "title": {
            "standoff": 15
           },
           "zerolinecolor": "white",
           "zerolinewidth": 2
          },
          "yaxis": {
           "automargin": true,
           "gridcolor": "white",
           "linecolor": "white",
           "ticks": "",
           "title": {
            "standoff": 15
           },
           "zerolinecolor": "white",
           "zerolinewidth": 2
          }
         }
        },
        "title": {
         "text": "Sankey Diagram Sales Flow"
        }
       }
      },
      "text/html": [
       "<div>\n",
       "        \n",
       "        \n",
       "            <div id=\"b5524a7d-be49-4b03-9654-f0d731a31979\" class=\"plotly-graph-div\" style=\"height:525px; width:100%;\"></div>\n",
       "            <script type=\"text/javascript\">\n",
       "                require([\"plotly\"], function(Plotly) {\n",
       "                    window.PLOTLYENV=window.PLOTLYENV || {};\n",
       "                    \n",
       "                if (document.getElementById(\"b5524a7d-be49-4b03-9654-f0d731a31979\")) {\n",
       "                    Plotly.newPlot(\n",
       "                        'b5524a7d-be49-4b03-9654-f0d731a31979',\n",
       "                        [{\"link\": {\"source\": [13, 13, 13, 13, 13, 9, 5, 13, 13, 5, 13, 13, 13, 10, 12, 5, 13, 9, 13, 10, 9, 9, 13, 13, 11], \"target\": [13, 10, 5, 11, 9, 13, 13, 12, 0, 5, 4, 3, 2, 13, 13, 10, 8, 10, 1, 10, 5, 9, 7, 6, 13], \"value\": [36192, 9688, 8703, 4194, 3667, 3407, 2964, 2749, 2708, 1709, 1701, 1647, 1599, 1518, 1506, 1329, 1289, 1147, 1134, 1122, 938, 827, 785, 772, 762]}, \"node\": {\"color\": \"blue\", \"label\": [\"BA\", \"CE\", \"DF\", \"ES\", \"GO\", \"MG\", \"MT\", \"PA\", \"PE\", \"PR\", \"RJ\", \"RS\", \"SC\", \"SP\"], \"line\": {\"color\": \"black\", \"width\": 0.5}, \"pad\": 15, \"thickness\": 20}, \"type\": \"sankey\"}],\n",
       "                        {\"font\": {\"size\": 10}, \"template\": {\"data\": {\"bar\": [{\"error_x\": {\"color\": \"#2a3f5f\"}, \"error_y\": {\"color\": \"#2a3f5f\"}, \"marker\": {\"line\": {\"color\": \"#E5ECF6\", \"width\": 0.5}}, \"type\": \"bar\"}], \"barpolar\": [{\"marker\": {\"line\": {\"color\": \"#E5ECF6\", \"width\": 0.5}}, \"type\": \"barpolar\"}], \"carpet\": [{\"aaxis\": {\"endlinecolor\": \"#2a3f5f\", \"gridcolor\": \"white\", \"linecolor\": \"white\", \"minorgridcolor\": \"white\", \"startlinecolor\": \"#2a3f5f\"}, \"baxis\": {\"endlinecolor\": \"#2a3f5f\", \"gridcolor\": \"white\", \"linecolor\": \"white\", \"minorgridcolor\": \"white\", \"startlinecolor\": \"#2a3f5f\"}, \"type\": \"carpet\"}], \"choropleth\": [{\"colorbar\": {\"outlinewidth\": 0, \"ticks\": \"\"}, \"type\": \"choropleth\"}], \"contour\": [{\"colorbar\": {\"outlinewidth\": 0, \"ticks\": \"\"}, \"colorscale\": [[0.0, \"#0d0887\"], [0.1111111111111111, \"#46039f\"], [0.2222222222222222, \"#7201a8\"], [0.3333333333333333, \"#9c179e\"], [0.4444444444444444, \"#bd3786\"], [0.5555555555555556, \"#d8576b\"], [0.6666666666666666, \"#ed7953\"], [0.7777777777777778, \"#fb9f3a\"], [0.8888888888888888, \"#fdca26\"], [1.0, \"#f0f921\"]], \"type\": \"contour\"}], \"contourcarpet\": [{\"colorbar\": {\"outlinewidth\": 0, \"ticks\": \"\"}, \"type\": \"contourcarpet\"}], \"heatmap\": [{\"colorbar\": {\"outlinewidth\": 0, \"ticks\": \"\"}, \"colorscale\": [[0.0, \"#0d0887\"], [0.1111111111111111, \"#46039f\"], [0.2222222222222222, \"#7201a8\"], [0.3333333333333333, \"#9c179e\"], [0.4444444444444444, \"#bd3786\"], [0.5555555555555556, \"#d8576b\"], [0.6666666666666666, \"#ed7953\"], [0.7777777777777778, \"#fb9f3a\"], [0.8888888888888888, \"#fdca26\"], [1.0, \"#f0f921\"]], \"type\": \"heatmap\"}], \"heatmapgl\": [{\"colorbar\": {\"outlinewidth\": 0, \"ticks\": \"\"}, \"colorscale\": [[0.0, \"#0d0887\"], [0.1111111111111111, \"#46039f\"], [0.2222222222222222, \"#7201a8\"], [0.3333333333333333, \"#9c179e\"], [0.4444444444444444, \"#bd3786\"], [0.5555555555555556, \"#d8576b\"], [0.6666666666666666, \"#ed7953\"], [0.7777777777777778, \"#fb9f3a\"], [0.8888888888888888, \"#fdca26\"], [1.0, \"#f0f921\"]], \"type\": \"heatmapgl\"}], \"histogram\": [{\"marker\": {\"colorbar\": {\"outlinewidth\": 0, \"ticks\": \"\"}}, \"type\": \"histogram\"}], \"histogram2d\": [{\"colorbar\": {\"outlinewidth\": 0, \"ticks\": \"\"}, \"colorscale\": [[0.0, \"#0d0887\"], [0.1111111111111111, \"#46039f\"], [0.2222222222222222, \"#7201a8\"], [0.3333333333333333, \"#9c179e\"], [0.4444444444444444, \"#bd3786\"], [0.5555555555555556, \"#d8576b\"], [0.6666666666666666, \"#ed7953\"], [0.7777777777777778, \"#fb9f3a\"], [0.8888888888888888, \"#fdca26\"], [1.0, \"#f0f921\"]], \"type\": \"histogram2d\"}], \"histogram2dcontour\": [{\"colorbar\": {\"outlinewidth\": 0, \"ticks\": \"\"}, \"colorscale\": [[0.0, \"#0d0887\"], [0.1111111111111111, \"#46039f\"], [0.2222222222222222, \"#7201a8\"], [0.3333333333333333, \"#9c179e\"], [0.4444444444444444, \"#bd3786\"], [0.5555555555555556, \"#d8576b\"], [0.6666666666666666, \"#ed7953\"], [0.7777777777777778, \"#fb9f3a\"], [0.8888888888888888, \"#fdca26\"], [1.0, \"#f0f921\"]], \"type\": \"histogram2dcontour\"}], \"mesh3d\": [{\"colorbar\": {\"outlinewidth\": 0, \"ticks\": \"\"}, \"type\": \"mesh3d\"}], \"parcoords\": [{\"line\": {\"colorbar\": {\"outlinewidth\": 0, \"ticks\": \"\"}}, \"type\": \"parcoords\"}], \"pie\": [{\"automargin\": true, \"type\": \"pie\"}], \"scatter\": [{\"marker\": {\"colorbar\": {\"outlinewidth\": 0, \"ticks\": \"\"}}, \"type\": \"scatter\"}], \"scatter3d\": [{\"line\": {\"colorbar\": {\"outlinewidth\": 0, \"ticks\": \"\"}}, \"marker\": {\"colorbar\": {\"outlinewidth\": 0, \"ticks\": \"\"}}, \"type\": \"scatter3d\"}], \"scattercarpet\": [{\"marker\": {\"colorbar\": {\"outlinewidth\": 0, \"ticks\": \"\"}}, \"type\": \"scattercarpet\"}], \"scattergeo\": [{\"marker\": {\"colorbar\": {\"outlinewidth\": 0, \"ticks\": \"\"}}, \"type\": \"scattergeo\"}], \"scattergl\": [{\"marker\": {\"colorbar\": {\"outlinewidth\": 0, \"ticks\": \"\"}}, \"type\": \"scattergl\"}], \"scattermapbox\": [{\"marker\": {\"colorbar\": {\"outlinewidth\": 0, \"ticks\": \"\"}}, \"type\": \"scattermapbox\"}], \"scatterpolar\": [{\"marker\": {\"colorbar\": {\"outlinewidth\": 0, \"ticks\": \"\"}}, \"type\": \"scatterpolar\"}], \"scatterpolargl\": [{\"marker\": {\"colorbar\": {\"outlinewidth\": 0, \"ticks\": \"\"}}, \"type\": \"scatterpolargl\"}], \"scatterternary\": [{\"marker\": {\"colorbar\": {\"outlinewidth\": 0, \"ticks\": \"\"}}, \"type\": \"scatterternary\"}], \"surface\": [{\"colorbar\": {\"outlinewidth\": 0, \"ticks\": \"\"}, \"colorscale\": [[0.0, \"#0d0887\"], [0.1111111111111111, \"#46039f\"], [0.2222222222222222, \"#7201a8\"], [0.3333333333333333, \"#9c179e\"], [0.4444444444444444, \"#bd3786\"], [0.5555555555555556, \"#d8576b\"], [0.6666666666666666, \"#ed7953\"], [0.7777777777777778, \"#fb9f3a\"], [0.8888888888888888, \"#fdca26\"], [1.0, \"#f0f921\"]], \"type\": \"surface\"}], \"table\": [{\"cells\": {\"fill\": {\"color\": \"#EBF0F8\"}, \"line\": {\"color\": \"white\"}}, \"header\": {\"fill\": {\"color\": \"#C8D4E3\"}, \"line\": {\"color\": \"white\"}}, \"type\": \"table\"}]}, \"layout\": {\"annotationdefaults\": {\"arrowcolor\": \"#2a3f5f\", \"arrowhead\": 0, \"arrowwidth\": 1}, \"coloraxis\": {\"colorbar\": {\"outlinewidth\": 0, \"ticks\": \"\"}}, \"colorscale\": {\"diverging\": [[0, \"#8e0152\"], [0.1, \"#c51b7d\"], [0.2, \"#de77ae\"], [0.3, \"#f1b6da\"], [0.4, \"#fde0ef\"], [0.5, \"#f7f7f7\"], [0.6, \"#e6f5d0\"], [0.7, \"#b8e186\"], [0.8, \"#7fbc41\"], [0.9, \"#4d9221\"], [1, \"#276419\"]], \"sequential\": [[0.0, \"#0d0887\"], [0.1111111111111111, \"#46039f\"], [0.2222222222222222, \"#7201a8\"], [0.3333333333333333, \"#9c179e\"], [0.4444444444444444, \"#bd3786\"], [0.5555555555555556, \"#d8576b\"], [0.6666666666666666, \"#ed7953\"], [0.7777777777777778, \"#fb9f3a\"], [0.8888888888888888, \"#fdca26\"], [1.0, \"#f0f921\"]], \"sequentialminus\": [[0.0, \"#0d0887\"], [0.1111111111111111, \"#46039f\"], [0.2222222222222222, \"#7201a8\"], [0.3333333333333333, \"#9c179e\"], [0.4444444444444444, \"#bd3786\"], [0.5555555555555556, \"#d8576b\"], [0.6666666666666666, \"#ed7953\"], [0.7777777777777778, \"#fb9f3a\"], [0.8888888888888888, \"#fdca26\"], [1.0, \"#f0f921\"]]}, \"colorway\": [\"#636efa\", \"#EF553B\", \"#00cc96\", \"#ab63fa\", \"#FFA15A\", \"#19d3f3\", \"#FF6692\", \"#B6E880\", \"#FF97FF\", \"#FECB52\"], \"font\": {\"color\": \"#2a3f5f\"}, \"geo\": {\"bgcolor\": \"white\", \"lakecolor\": \"white\", \"landcolor\": \"#E5ECF6\", \"showlakes\": true, \"showland\": true, \"subunitcolor\": \"white\"}, \"hoverlabel\": {\"align\": \"left\"}, \"hovermode\": \"closest\", \"mapbox\": {\"style\": \"light\"}, \"paper_bgcolor\": \"white\", \"plot_bgcolor\": \"#E5ECF6\", \"polar\": {\"angularaxis\": {\"gridcolor\": \"white\", \"linecolor\": \"white\", \"ticks\": \"\"}, \"bgcolor\": \"#E5ECF6\", \"radialaxis\": {\"gridcolor\": \"white\", \"linecolor\": \"white\", \"ticks\": \"\"}}, \"scene\": {\"xaxis\": {\"backgroundcolor\": \"#E5ECF6\", \"gridcolor\": \"white\", \"gridwidth\": 2, \"linecolor\": \"white\", \"showbackground\": true, \"ticks\": \"\", \"zerolinecolor\": \"white\"}, \"yaxis\": {\"backgroundcolor\": \"#E5ECF6\", \"gridcolor\": \"white\", \"gridwidth\": 2, \"linecolor\": \"white\", \"showbackground\": true, \"ticks\": \"\", \"zerolinecolor\": \"white\"}, \"zaxis\": {\"backgroundcolor\": \"#E5ECF6\", \"gridcolor\": \"white\", \"gridwidth\": 2, \"linecolor\": \"white\", \"showbackground\": true, \"ticks\": \"\", \"zerolinecolor\": \"white\"}}, \"shapedefaults\": {\"line\": {\"color\": \"#2a3f5f\"}}, \"ternary\": {\"aaxis\": {\"gridcolor\": \"white\", \"linecolor\": \"white\", \"ticks\": \"\"}, \"baxis\": {\"gridcolor\": \"white\", \"linecolor\": \"white\", \"ticks\": \"\"}, \"bgcolor\": \"#E5ECF6\", \"caxis\": {\"gridcolor\": \"white\", \"linecolor\": \"white\", \"ticks\": \"\"}}, \"title\": {\"x\": 0.05}, \"xaxis\": {\"automargin\": true, \"gridcolor\": \"white\", \"linecolor\": \"white\", \"ticks\": \"\", \"title\": {\"standoff\": 15}, \"zerolinecolor\": \"white\", \"zerolinewidth\": 2}, \"yaxis\": {\"automargin\": true, \"gridcolor\": \"white\", \"linecolor\": \"white\", \"ticks\": \"\", \"title\": {\"standoff\": 15}, \"zerolinecolor\": \"white\", \"zerolinewidth\": 2}}}, \"title\": {\"text\": \"Sankey Diagram Sales Flow\"}},\n",
       "                        {\"responsive\": true}\n",
       "                    ).then(function(){\n",
       "                            \n",
       "var gd = document.getElementById('b5524a7d-be49-4b03-9654-f0d731a31979');\n",
       "var x = new MutationObserver(function (mutations, observer) {{\n",
       "        var display = window.getComputedStyle(gd).display;\n",
       "        if (!display || display === 'none') {{\n",
       "            console.log([gd, 'removed!']);\n",
       "            Plotly.purge(gd);\n",
       "            observer.disconnect();\n",
       "        }}\n",
       "}});\n",
       "\n",
       "// Listen for the removal of the full notebook cells\n",
       "var notebookContainer = gd.closest('#notebook-container');\n",
       "if (notebookContainer) {{\n",
       "    x.observe(notebookContainer, {childList: true});\n",
       "}}\n",
       "\n",
       "// Listen for the clearing of the current output cell\n",
       "var outputEl = gd.closest('.output');\n",
       "if (outputEl) {{\n",
       "    x.observe(outputEl, {childList: true});\n",
       "}}\n",
       "\n",
       "                        })\n",
       "                };\n",
       "                });\n",
       "            </script>\n",
       "        </div>"
      ]
     },
     "metadata": {},
     "output_type": "display_data"
    }
   ],
   "source": [
    "import plotly.graph_objects as go\n",
    "\n",
    "fig = go.Figure(data=[go.Sankey(\n",
    "    node = dict(\n",
    "      pad = 15,\n",
    "      thickness = 20,\n",
    "      line = dict(color = \"black\", width = 0.5),\n",
    "      label = states_list,\n",
    "      color = \"blue\"\n",
    "    ),\n",
    "    link = dict(\n",
    "      source = seller_states, # indices correspond to labels, eg A1, A2, A2, B1, ...\n",
    "      target = customer_states,\n",
    "      value = number_of_sales\n",
    "  ))])\n",
    "\n",
    "fig.update_layout(title_text=\"Sankey Diagram Sales Flow\", font_size=10)\n",
    "fig.show()"
   ]
  },
  {
   "cell_type": "markdown",
   "metadata": {},
   "source": [
    "## Clients"
   ]
  },
  {
   "cell_type": "code",
   "execution_count": 94,
   "metadata": {},
   "outputs": [
    {
     "data": {
      "text/plain": [
       "customer_id\n",
       "1617b1357756262bfa56ab541c47bc16    13440.00\n",
       "ec5b2ba62e574342386871631fafd3fc     7160.00\n",
       "c6e2731c5b391845f6800c97401a43a9     6735.00\n",
       "f48d464a0baaea338cb25f816991ab1f     6729.00\n",
       "3fd6777bbce08a352fddd04e4a7cc8f6     6499.00\n",
       "05455dfa7cd02f13d132aa7a6a9729c6     5934.60\n",
       "df55c14d1476a9a3467f131269c2477f     4799.00\n",
       "24bbf5fd2f2e1b359ee7de94defc4a15     4690.00\n",
       "e0a2412720e9ea4f26c1ac985f6a7358     4599.90\n",
       "3d979689f636322c62418b6346b1c6d2     4590.00\n",
       "cc803a2c412833101651d3f90ca7de24     4400.00\n",
       "1afc82cd60e303ef09b4ef9837c9505c     4399.87\n",
       "35a413c7ca3c69756cb75867d6311c0d     4099.99\n",
       "e9b0d0eb3015ef1c9ce6cf5b9dcbee9f     4059.00\n",
       "c6695e3b1e48680db36b487419fb0398     3999.90\n",
       "926b6a6fb8b6081e00b335edaf578d35     3999.00\n",
       "3be2c536886b2ea4668eced3a80dd0bb     3980.00\n",
       "31e83c01fce824d0ff786fcd48dad009     3930.00\n",
       "eb7a157e8da9c488cd4ddc48711f1097     3899.00\n",
       "19b32919fa1198aefc0773ee2e46e693     3700.00\n",
       "Name: price, dtype: float64"
      ]
     },
     "execution_count": 94,
     "metadata": {},
     "output_type": "execute_result"
    }
   ],
   "source": [
    "client_spending = master_df.groupby(['customer_id']).price.sum()\n",
    "clients=client_spending.sort_values(ascending=False)\n",
    "\n",
    "#print revenue of top 20 clients\n",
    "clients[:20]"
   ]
  },
  {
   "cell_type": "code",
   "execution_count": 95,
   "metadata": {},
   "outputs": [
    {
     "data": {
      "text/plain": [
       "[]"
      ]
     },
     "execution_count": 95,
     "metadata": {},
     "output_type": "execute_result"
    },
    {
     "data": {
      "image/png": "[encoded data removed]",
      "text/plain": [
       "<Figure size 432x288 with 1 Axes>"
      ]
     },
     "metadata": {
      "needs_background": "light"
     },
     "output_type": "display_data"
    }
   ],
   "source": [
    "plt.hist(client_spending, bins=50)\n",
    "plt.yscale('log') \n",
    "plt.title('Distribution - Client Spending')\n",
    "plt.plot()"
   ]
  },
  {
   "cell_type": "markdown",
   "metadata": {},
   "source": [
    "# Recomendation System "
   ]
  },
  {
   "cell_type": "code",
   "execution_count": 69,
   "metadata": {},
   "outputs": [],
   "source": [
    "import pandas as pd\n",
    "import numpy as np\n",
    "import time"
   ]
  },
  {
   "cell_type": "code",
   "execution_count": 70,
   "metadata": {},
   "outputs": [
    {
     "data": {
      "text/html": [
       "<div>\n",
       "<style scoped>\n",
       "    .dataframe tbody tr th:only-of-type {\n",
       "        vertical-align: middle;\n",
       "    }\n",
       "\n",
       "    .dataframe tbody tr th {\n",
       "        vertical-align: top;\n",
       "    }\n",
       "\n",
       "    .dataframe thead th {\n",
       "        text-align: right;\n",
       "    }\n",
       "</style>\n",
       "<table border=\"1\" class=\"dataframe\">\n",
       "  <thead>\n",
       "    <tr style=\"text-align: right;\">\n",
       "      <th></th>\n",
       "      <th>customer_id</th>\n",
       "      <th>product_id</th>\n",
       "    </tr>\n",
       "  </thead>\n",
       "  <tbody>\n",
       "    <tr>\n",
       "      <td>0</td>\n",
       "      <td>9ef432eb6251297304e76186b10a928d</td>\n",
       "      <td>87285b34884572647811a353c7ac498a</td>\n",
       "    </tr>\n",
       "    <tr>\n",
       "      <td>1</td>\n",
       "      <td>b0830fb4747a6c6d20dea0b8c802d7ef</td>\n",
       "      <td>595fac2a385ac33a80bd5114aec74eb8</td>\n",
       "    </tr>\n",
       "    <tr>\n",
       "      <td>2</td>\n",
       "      <td>41ce2a54c0b03bf3443c3d931a367089</td>\n",
       "      <td>aa4383b373c6aca5d8797843e5594415</td>\n",
       "    </tr>\n",
       "    <tr>\n",
       "      <td>3</td>\n",
       "      <td>f88197465ea7920adcdbec7375364d82</td>\n",
       "      <td>d0b61bfb1de832b15ba9d266ca96e5b0</td>\n",
       "    </tr>\n",
       "    <tr>\n",
       "      <td>4</td>\n",
       "      <td>8ab97904e6daea8866dbdbc4fb7aad2c</td>\n",
       "      <td>65266b2da20d04dbe00c5c2d3bb7859e</td>\n",
       "    </tr>\n",
       "  </tbody>\n",
       "</table>\n",
       "</div>"
      ],
      "text/plain": [
       "                        customer_id                        product_id\n",
       "0  9ef432eb6251297304e76186b10a928d  87285b34884572647811a353c7ac498a\n",
       "1  b0830fb4747a6c6d20dea0b8c802d7ef  595fac2a385ac33a80bd5114aec74eb8\n",
       "2  41ce2a54c0b03bf3443c3d931a367089  aa4383b373c6aca5d8797843e5594415\n",
       "3  f88197465ea7920adcdbec7375364d82  d0b61bfb1de832b15ba9d266ca96e5b0\n",
       "4  8ab97904e6daea8866dbdbc4fb7aad2c  65266b2da20d04dbe00c5c2d3bb7859e"
      ]
     },
     "execution_count": 70,
     "metadata": {},
     "output_type": "execute_result"
    }
   ],
   "source": [
    "#create a dataframe with the customer IDs, the order IDs, and the product IDs\n",
    "df_recommender = pd.merge(orders, customer, on=['customer_id'])\n",
    "df_recommender = pd.merge(df_recommender, order_items, on=['order_id'])\n",
    "\n",
    "#define the variables needed: - leave order_id out for now\n",
    "variables = ['customer_id', 'product_id']\n",
    "df_recommender = df_recommender[variables]\n",
    "df_recommender.head()"
   ]
  },
  {
   "cell_type": "code",
   "execution_count": 71,
   "metadata": {},
   "outputs": [
    {
     "data": {
      "text/html": [
       "<div>\n",
       "<style scoped>\n",
       "    .dataframe tbody tr th:only-of-type {\n",
       "        vertical-align: middle;\n",
       "    }\n",
       "\n",
       "    .dataframe tbody tr th {\n",
       "        vertical-align: top;\n",
       "    }\n",
       "\n",
       "    .dataframe thead th {\n",
       "        text-align: right;\n",
       "    }\n",
       "</style>\n",
       "<table border=\"1\" class=\"dataframe\">\n",
       "  <thead>\n",
       "    <tr style=\"text-align: right;\">\n",
       "      <th></th>\n",
       "      <th></th>\n",
       "      <th>product_id</th>\n",
       "    </tr>\n",
       "    <tr>\n",
       "      <th>customer_id</th>\n",
       "      <th>product_id</th>\n",
       "      <th></th>\n",
       "    </tr>\n",
       "  </thead>\n",
       "  <tbody>\n",
       "    <tr>\n",
       "      <td>00012a2ce6f8dcda20d059ce98491703</td>\n",
       "      <td>64315bd8c0c47303179dd2e25b579d00</td>\n",
       "      <td>1</td>\n",
       "    </tr>\n",
       "    <tr>\n",
       "      <td>000161a058600d5901f007fab4c27140</td>\n",
       "      <td>84183944dc7cddca87a5d384452c1d3c</td>\n",
       "      <td>1</td>\n",
       "    </tr>\n",
       "    <tr>\n",
       "      <td>0001fd6190edaaf884bcaf3d49edf079</td>\n",
       "      <td>9df2b21ec85378d71df4404712e17478</td>\n",
       "      <td>1</td>\n",
       "    </tr>\n",
       "    <tr>\n",
       "      <td>0002414f95344307404f0ace7a26f1d5</td>\n",
       "      <td>af3ec22cce878225aae6d9eb6c7a78eb</td>\n",
       "      <td>1</td>\n",
       "    </tr>\n",
       "    <tr>\n",
       "      <td>000379cdec625522490c315e70c7a9fb</td>\n",
       "      <td>868b3136c5b206f91b8208fbfdf2cb7c</td>\n",
       "      <td>1</td>\n",
       "    </tr>\n",
       "  </tbody>\n",
       "</table>\n",
       "</div>"
      ],
      "text/plain": [
       "                                                                   product_id\n",
       "customer_id                      product_id                                  \n",
       "00012a2ce6f8dcda20d059ce98491703 64315bd8c0c47303179dd2e25b579d00           1\n",
       "000161a058600d5901f007fab4c27140 84183944dc7cddca87a5d384452c1d3c           1\n",
       "0001fd6190edaaf884bcaf3d49edf079 9df2b21ec85378d71df4404712e17478           1\n",
       "0002414f95344307404f0ace7a26f1d5 af3ec22cce878225aae6d9eb6c7a78eb           1\n",
       "000379cdec625522490c315e70c7a9fb 868b3136c5b206f91b8208fbfdf2cb7c           1"
      ]
     },
     "execution_count": 71,
     "metadata": {},
     "output_type": "execute_result"
    }
   ],
   "source": [
    "#calculate the number of products bought by a customer\n",
    "df_recommender_sorted = pd.DataFrame(df_recommender.groupby(['customer_id'])['product_id'].value_counts())\n",
    "df_recommender_sorted.head(5)"
   ]
  },
  {
   "cell_type": "code",
   "execution_count": 72,
   "metadata": {},
   "outputs": [
    {
     "data": {
      "text/html": [
       "<div>\n",
       "<style scoped>\n",
       "    .dataframe tbody tr th:only-of-type {\n",
       "        vertical-align: middle;\n",
       "    }\n",
       "\n",
       "    .dataframe tbody tr th {\n",
       "        vertical-align: top;\n",
       "    }\n",
       "\n",
       "    .dataframe thead th {\n",
       "        text-align: right;\n",
       "    }\n",
       "</style>\n",
       "<table border=\"1\" class=\"dataframe\">\n",
       "  <thead>\n",
       "    <tr style=\"text-align: right;\">\n",
       "      <th></th>\n",
       "      <th>customer_id</th>\n",
       "      <th>count</th>\n",
       "    </tr>\n",
       "  </thead>\n",
       "  <tbody>\n",
       "    <tr>\n",
       "      <td>0</td>\n",
       "      <td>fc3d1daec319d62d49bfb5e1f83123e9</td>\n",
       "      <td>21</td>\n",
       "    </tr>\n",
       "    <tr>\n",
       "      <td>1</td>\n",
       "      <td>be1b70680b9f9694d8c70f41fa3dc92b</td>\n",
       "      <td>20</td>\n",
       "    </tr>\n",
       "    <tr>\n",
       "      <td>2</td>\n",
       "      <td>bd5d39761aa56689a265d95d8d32b8be</td>\n",
       "      <td>20</td>\n",
       "    </tr>\n",
       "    <tr>\n",
       "      <td>3</td>\n",
       "      <td>10de381f8a8d23fff822753305f71cae</td>\n",
       "      <td>15</td>\n",
       "    </tr>\n",
       "    <tr>\n",
       "      <td>4</td>\n",
       "      <td>adb32467ecc74b53576d9d13a5a55891</td>\n",
       "      <td>15</td>\n",
       "    </tr>\n",
       "    <tr>\n",
       "      <td>...</td>\n",
       "      <td>...</td>\n",
       "      <td>...</td>\n",
       "    </tr>\n",
       "    <tr>\n",
       "      <td>9797</td>\n",
       "      <td>b1f6aad7ea584473474457e280189ce4</td>\n",
       "      <td>2</td>\n",
       "    </tr>\n",
       "    <tr>\n",
       "      <td>9798</td>\n",
       "      <td>749d30cbf1b9bd281f3a8be978f6b8a8</td>\n",
       "      <td>2</td>\n",
       "    </tr>\n",
       "    <tr>\n",
       "      <td>9799</td>\n",
       "      <td>be82df97dfd71eba6ea5ffd99caed7ea</td>\n",
       "      <td>2</td>\n",
       "    </tr>\n",
       "    <tr>\n",
       "      <td>9800</td>\n",
       "      <td>477ba7008fa296dafcedb37b8bd9b702</td>\n",
       "      <td>2</td>\n",
       "    </tr>\n",
       "    <tr>\n",
       "      <td>9801</td>\n",
       "      <td>61e042bb7233b5c61b4b1fbfe824774d</td>\n",
       "      <td>2</td>\n",
       "    </tr>\n",
       "  </tbody>\n",
       "</table>\n",
       "<p>9802 rows × 2 columns</p>\n",
       "</div>"
      ],
      "text/plain": [
       "                           customer_id  count\n",
       "0     fc3d1daec319d62d49bfb5e1f83123e9     21\n",
       "1     be1b70680b9f9694d8c70f41fa3dc92b     20\n",
       "2     bd5d39761aa56689a265d95d8d32b8be     20\n",
       "3     10de381f8a8d23fff822753305f71cae     15\n",
       "4     adb32467ecc74b53576d9d13a5a55891     15\n",
       "...                                ...    ...\n",
       "9797  b1f6aad7ea584473474457e280189ce4      2\n",
       "9798  749d30cbf1b9bd281f3a8be978f6b8a8      2\n",
       "9799  be82df97dfd71eba6ea5ffd99caed7ea      2\n",
       "9800  477ba7008fa296dafcedb37b8bd9b702      2\n",
       "9801  61e042bb7233b5c61b4b1fbfe824774d      2\n",
       "\n",
       "[9802 rows x 2 columns]"
      ]
     },
     "execution_count": 72,
     "metadata": {},
     "output_type": "execute_result"
    }
   ],
   "source": [
    "#count the number of products bought by a customer\n",
    "number_purchases = pd.DataFrame(master_df['customer_id'].value_counts())\n",
    "\n",
    "#filter the customer that bough more than once, a recommender only works if a customer has bought several times\n",
    "customers_several_purchases = number_purchases[number_purchases['customer_id'] > 1].reset_index()\n",
    "\n",
    "#reassign the value of the columns\n",
    "customers_several_purchases.columns = ['customer_id', 'count']\n",
    "customers_several_purchases"
   ]
  },
  {
   "cell_type": "markdown",
   "metadata": {},
   "source": [
    "## Matrix\n",
    "Create a patrix customer_id as a row and product_id as a column "
   ]
  },
  {
   "cell_type": "code",
   "execution_count": 176,
   "metadata": {},
   "outputs": [
    {
     "ename": "ModuleNotFoundError",
     "evalue": "No module named 'sklearn.cross_validation'",
     "output_type": "error",
     "traceback": [
      "\u001b[0;31m---------------------------------------------------------------------------\u001b[0m",
      "\u001b[0;31mModuleNotFoundError\u001b[0m                       Traceback (most recent call last)",
      "\u001b[0;32m<ipython-input-176-880d877391f4>\u001b[0m in \u001b[0;36m<module>\u001b[0;34m\u001b[0m\n\u001b[1;32m      1\u001b[0m \u001b[0;32mimport\u001b[0m \u001b[0mturicreate\u001b[0m \u001b[0;32mas\u001b[0m \u001b[0mtc\u001b[0m\u001b[0;34m\u001b[0m\u001b[0;34m\u001b[0m\u001b[0m\n\u001b[0;32m----> 2\u001b[0;31m \u001b[0;32mfrom\u001b[0m \u001b[0msklearn\u001b[0m\u001b[0;34m.\u001b[0m\u001b[0mcross_validation\u001b[0m \u001b[0;32mimport\u001b[0m \u001b[0mtrain_test_split\u001b[0m\u001b[0;34m\u001b[0m\u001b[0;34m\u001b[0m\u001b[0m\n\u001b[0m",
      "\u001b[0;31mModuleNotFoundError\u001b[0m: No module named 'sklearn.cross_validation'"
     ]
    }
   ],
   "source": [
    "import turicreate as tc\n",
    "from sklearn.cross_validation import train_test_split"
   ]
  },
  {
   "cell_type": "code",
   "execution_count": 73,
   "metadata": {},
   "outputs": [
    {
     "data": {
      "text/html": [
       "<div>\n",
       "<style scoped>\n",
       "    .dataframe tbody tr th:only-of-type {\n",
       "        vertical-align: middle;\n",
       "    }\n",
       "\n",
       "    .dataframe tbody tr th {\n",
       "        vertical-align: top;\n",
       "    }\n",
       "\n",
       "    .dataframe thead th {\n",
       "        text-align: right;\n",
       "    }\n",
       "</style>\n",
       "<table border=\"1\" class=\"dataframe\">\n",
       "  <thead>\n",
       "    <tr style=\"text-align: right;\">\n",
       "      <th>product_id</th>\n",
       "      <th>0011c512eb256aa0dbbb544d8dffcf6e</th>\n",
       "      <th>001795ec6f1b187d37335e1c4704762e</th>\n",
       "      <th>001b72dfd63e9833e8c02742adf472e3</th>\n",
       "      <th>00210e41887c2a8ef9f791ebc780cc36</th>\n",
       "      <th>00250175f79f584c14ab5cecd80553cd</th>\n",
       "      <th>002af88741ba70c7b5cf4e4a0ad7ef85</th>\n",
       "      <th>003a31970fea14fffe92ac856b8a9b97</th>\n",
       "      <th>003c0b8f6580c850bd2e32044d2ac307</th>\n",
       "      <th>0042f1a9a7e0edd1400c6cd0fda065f8</th>\n",
       "      <th>004636c889c7c3dad6631f136b7fa082</th>\n",
       "      <th>...</th>\n",
       "      <th>ffbc83054b3741a8d67fc59d9cf9d42d</th>\n",
       "      <th>ffbe169d395060d7fb975c990581a329</th>\n",
       "      <th>ffc9caf33e2d1e9f44e3e06da19085f7</th>\n",
       "      <th>ffcfaba393e8ef71937c6e8421bc2868</th>\n",
       "      <th>ffd4bf4306745865e5692f69bd237893</th>\n",
       "      <th>ffe8083298f95571b4a66bfbc1c05524</th>\n",
       "      <th>ffef256879dbadcab7e77950f4f4a195</th>\n",
       "      <th>fff0a542c3c62682f23305214eaeaa24</th>\n",
       "      <th>fff1059cd247279f3726b7696c66e44e</th>\n",
       "      <th>fff28f91211774864a1000f918ed00cc</th>\n",
       "    </tr>\n",
       "    <tr>\n",
       "      <th>customer_id</th>\n",
       "      <th></th>\n",
       "      <th></th>\n",
       "      <th></th>\n",
       "      <th></th>\n",
       "      <th></th>\n",
       "      <th></th>\n",
       "      <th></th>\n",
       "      <th></th>\n",
       "      <th></th>\n",
       "      <th></th>\n",
       "      <th></th>\n",
       "      <th></th>\n",
       "      <th></th>\n",
       "      <th></th>\n",
       "      <th></th>\n",
       "      <th></th>\n",
       "      <th></th>\n",
       "      <th></th>\n",
       "      <th></th>\n",
       "      <th></th>\n",
       "      <th></th>\n",
       "    </tr>\n",
       "  </thead>\n",
       "  <tbody>\n",
       "    <tr>\n",
       "      <td>00066ccbe787a588c52bd5ff404590e3</td>\n",
       "      <td>NaN</td>\n",
       "      <td>NaN</td>\n",
       "      <td>NaN</td>\n",
       "      <td>NaN</td>\n",
       "      <td>NaN</td>\n",
       "      <td>NaN</td>\n",
       "      <td>NaN</td>\n",
       "      <td>NaN</td>\n",
       "      <td>NaN</td>\n",
       "      <td>NaN</td>\n",
       "      <td>...</td>\n",
       "      <td>NaN</td>\n",
       "      <td>NaN</td>\n",
       "      <td>NaN</td>\n",
       "      <td>NaN</td>\n",
       "      <td>NaN</td>\n",
       "      <td>NaN</td>\n",
       "      <td>NaN</td>\n",
       "      <td>NaN</td>\n",
       "      <td>NaN</td>\n",
       "      <td>NaN</td>\n",
       "    </tr>\n",
       "    <tr>\n",
       "      <td>000bf8121c3412d3057d32371c5d3395</td>\n",
       "      <td>NaN</td>\n",
       "      <td>NaN</td>\n",
       "      <td>NaN</td>\n",
       "      <td>NaN</td>\n",
       "      <td>NaN</td>\n",
       "      <td>NaN</td>\n",
       "      <td>NaN</td>\n",
       "      <td>NaN</td>\n",
       "      <td>NaN</td>\n",
       "      <td>NaN</td>\n",
       "      <td>...</td>\n",
       "      <td>NaN</td>\n",
       "      <td>NaN</td>\n",
       "      <td>NaN</td>\n",
       "      <td>NaN</td>\n",
       "      <td>NaN</td>\n",
       "      <td>NaN</td>\n",
       "      <td>NaN</td>\n",
       "      <td>NaN</td>\n",
       "      <td>NaN</td>\n",
       "      <td>NaN</td>\n",
       "    </tr>\n",
       "    <tr>\n",
       "      <td>001450ebb4a77efb3d68be5f7887cb1e</td>\n",
       "      <td>NaN</td>\n",
       "      <td>NaN</td>\n",
       "      <td>NaN</td>\n",
       "      <td>NaN</td>\n",
       "      <td>NaN</td>\n",
       "      <td>NaN</td>\n",
       "      <td>NaN</td>\n",
       "      <td>NaN</td>\n",
       "      <td>NaN</td>\n",
       "      <td>NaN</td>\n",
       "      <td>...</td>\n",
       "      <td>NaN</td>\n",
       "      <td>NaN</td>\n",
       "      <td>NaN</td>\n",
       "      <td>NaN</td>\n",
       "      <td>NaN</td>\n",
       "      <td>NaN</td>\n",
       "      <td>NaN</td>\n",
       "      <td>NaN</td>\n",
       "      <td>NaN</td>\n",
       "      <td>NaN</td>\n",
       "    </tr>\n",
       "    <tr>\n",
       "      <td>002f90a6eb386bc43bc9ba200db31a89</td>\n",
       "      <td>NaN</td>\n",
       "      <td>NaN</td>\n",
       "      <td>NaN</td>\n",
       "      <td>NaN</td>\n",
       "      <td>NaN</td>\n",
       "      <td>NaN</td>\n",
       "      <td>NaN</td>\n",
       "      <td>NaN</td>\n",
       "      <td>NaN</td>\n",
       "      <td>NaN</td>\n",
       "      <td>...</td>\n",
       "      <td>NaN</td>\n",
       "      <td>NaN</td>\n",
       "      <td>NaN</td>\n",
       "      <td>NaN</td>\n",
       "      <td>NaN</td>\n",
       "      <td>NaN</td>\n",
       "      <td>NaN</td>\n",
       "      <td>NaN</td>\n",
       "      <td>NaN</td>\n",
       "      <td>NaN</td>\n",
       "    </tr>\n",
       "    <tr>\n",
       "      <td>0031abfb953b66e998f67b09e7b11375</td>\n",
       "      <td>NaN</td>\n",
       "      <td>NaN</td>\n",
       "      <td>NaN</td>\n",
       "      <td>NaN</td>\n",
       "      <td>NaN</td>\n",
       "      <td>NaN</td>\n",
       "      <td>NaN</td>\n",
       "      <td>NaN</td>\n",
       "      <td>NaN</td>\n",
       "      <td>NaN</td>\n",
       "      <td>...</td>\n",
       "      <td>NaN</td>\n",
       "      <td>NaN</td>\n",
       "      <td>NaN</td>\n",
       "      <td>NaN</td>\n",
       "      <td>NaN</td>\n",
       "      <td>NaN</td>\n",
       "      <td>NaN</td>\n",
       "      <td>NaN</td>\n",
       "      <td>NaN</td>\n",
       "      <td>NaN</td>\n",
       "    </tr>\n",
       "  </tbody>\n",
       "</table>\n",
       "<p>5 rows × 8156 columns</p>\n",
       "</div>"
      ],
      "text/plain": [
       "product_id                        0011c512eb256aa0dbbb544d8dffcf6e  \\\n",
       "customer_id                                                          \n",
       "00066ccbe787a588c52bd5ff404590e3                               NaN   \n",
       "000bf8121c3412d3057d32371c5d3395                               NaN   \n",
       "001450ebb4a77efb3d68be5f7887cb1e                               NaN   \n",
       "002f90a6eb386bc43bc9ba200db31a89                               NaN   \n",
       "0031abfb953b66e998f67b09e7b11375                               NaN   \n",
       "\n",
       "product_id                        001795ec6f1b187d37335e1c4704762e  \\\n",
       "customer_id                                                          \n",
       "00066ccbe787a588c52bd5ff404590e3                               NaN   \n",
       "000bf8121c3412d3057d32371c5d3395                               NaN   \n",
       "001450ebb4a77efb3d68be5f7887cb1e                               NaN   \n",
       "002f90a6eb386bc43bc9ba200db31a89                               NaN   \n",
       "0031abfb953b66e998f67b09e7b11375                               NaN   \n",
       "\n",
       "product_id                        001b72dfd63e9833e8c02742adf472e3  \\\n",
       "customer_id                                                          \n",
       "00066ccbe787a588c52bd5ff404590e3                               NaN   \n",
       "000bf8121c3412d3057d32371c5d3395                               NaN   \n",
       "001450ebb4a77efb3d68be5f7887cb1e                               NaN   \n",
       "002f90a6eb386bc43bc9ba200db31a89                               NaN   \n",
       "0031abfb953b66e998f67b09e7b11375                               NaN   \n",
       "\n",
       "product_id                        00210e41887c2a8ef9f791ebc780cc36  \\\n",
       "customer_id                                                          \n",
       "00066ccbe787a588c52bd5ff404590e3                               NaN   \n",
       "000bf8121c3412d3057d32371c5d3395                               NaN   \n",
       "001450ebb4a77efb3d68be5f7887cb1e                               NaN   \n",
       "002f90a6eb386bc43bc9ba200db31a89                               NaN   \n",
       "0031abfb953b66e998f67b09e7b11375                               NaN   \n",
       "\n",
       "product_id                        00250175f79f584c14ab5cecd80553cd  \\\n",
       "customer_id                                                          \n",
       "00066ccbe787a588c52bd5ff404590e3                               NaN   \n",
       "000bf8121c3412d3057d32371c5d3395                               NaN   \n",
       "001450ebb4a77efb3d68be5f7887cb1e                               NaN   \n",
       "002f90a6eb386bc43bc9ba200db31a89                               NaN   \n",
       "0031abfb953b66e998f67b09e7b11375                               NaN   \n",
       "\n",
       "product_id                        002af88741ba70c7b5cf4e4a0ad7ef85  \\\n",
       "customer_id                                                          \n",
       "00066ccbe787a588c52bd5ff404590e3                               NaN   \n",
       "000bf8121c3412d3057d32371c5d3395                               NaN   \n",
       "001450ebb4a77efb3d68be5f7887cb1e                               NaN   \n",
       "002f90a6eb386bc43bc9ba200db31a89                               NaN   \n",
       "0031abfb953b66e998f67b09e7b11375                               NaN   \n",
       "\n",
       "product_id                        003a31970fea14fffe92ac856b8a9b97  \\\n",
       "customer_id                                                          \n",
       "00066ccbe787a588c52bd5ff404590e3                               NaN   \n",
       "000bf8121c3412d3057d32371c5d3395                               NaN   \n",
       "001450ebb4a77efb3d68be5f7887cb1e                               NaN   \n",
       "002f90a6eb386bc43bc9ba200db31a89                               NaN   \n",
       "0031abfb953b66e998f67b09e7b11375                               NaN   \n",
       "\n",
       "product_id                        003c0b8f6580c850bd2e32044d2ac307  \\\n",
       "customer_id                                                          \n",
       "00066ccbe787a588c52bd5ff404590e3                               NaN   \n",
       "000bf8121c3412d3057d32371c5d3395                               NaN   \n",
       "001450ebb4a77efb3d68be5f7887cb1e                               NaN   \n",
       "002f90a6eb386bc43bc9ba200db31a89                               NaN   \n",
       "0031abfb953b66e998f67b09e7b11375                               NaN   \n",
       "\n",
       "product_id                        0042f1a9a7e0edd1400c6cd0fda065f8  \\\n",
       "customer_id                                                          \n",
       "00066ccbe787a588c52bd5ff404590e3                               NaN   \n",
       "000bf8121c3412d3057d32371c5d3395                               NaN   \n",
       "001450ebb4a77efb3d68be5f7887cb1e                               NaN   \n",
       "002f90a6eb386bc43bc9ba200db31a89                               NaN   \n",
       "0031abfb953b66e998f67b09e7b11375                               NaN   \n",
       "\n",
       "product_id                        004636c889c7c3dad6631f136b7fa082  ...  \\\n",
       "customer_id                                                         ...   \n",
       "00066ccbe787a588c52bd5ff404590e3                               NaN  ...   \n",
       "000bf8121c3412d3057d32371c5d3395                               NaN  ...   \n",
       "001450ebb4a77efb3d68be5f7887cb1e                               NaN  ...   \n",
       "002f90a6eb386bc43bc9ba200db31a89                               NaN  ...   \n",
       "0031abfb953b66e998f67b09e7b11375                               NaN  ...   \n",
       "\n",
       "product_id                        ffbc83054b3741a8d67fc59d9cf9d42d  \\\n",
       "customer_id                                                          \n",
       "00066ccbe787a588c52bd5ff404590e3                               NaN   \n",
       "000bf8121c3412d3057d32371c5d3395                               NaN   \n",
       "001450ebb4a77efb3d68be5f7887cb1e                               NaN   \n",
       "002f90a6eb386bc43bc9ba200db31a89                               NaN   \n",
       "0031abfb953b66e998f67b09e7b11375                               NaN   \n",
       "\n",
       "product_id                        ffbe169d395060d7fb975c990581a329  \\\n",
       "customer_id                                                          \n",
       "00066ccbe787a588c52bd5ff404590e3                               NaN   \n",
       "000bf8121c3412d3057d32371c5d3395                               NaN   \n",
       "001450ebb4a77efb3d68be5f7887cb1e                               NaN   \n",
       "002f90a6eb386bc43bc9ba200db31a89                               NaN   \n",
       "0031abfb953b66e998f67b09e7b11375                               NaN   \n",
       "\n",
       "product_id                        ffc9caf33e2d1e9f44e3e06da19085f7  \\\n",
       "customer_id                                                          \n",
       "00066ccbe787a588c52bd5ff404590e3                               NaN   \n",
       "000bf8121c3412d3057d32371c5d3395                               NaN   \n",
       "001450ebb4a77efb3d68be5f7887cb1e                               NaN   \n",
       "002f90a6eb386bc43bc9ba200db31a89                               NaN   \n",
       "0031abfb953b66e998f67b09e7b11375                               NaN   \n",
       "\n",
       "product_id                        ffcfaba393e8ef71937c6e8421bc2868  \\\n",
       "customer_id                                                          \n",
       "00066ccbe787a588c52bd5ff404590e3                               NaN   \n",
       "000bf8121c3412d3057d32371c5d3395                               NaN   \n",
       "001450ebb4a77efb3d68be5f7887cb1e                               NaN   \n",
       "002f90a6eb386bc43bc9ba200db31a89                               NaN   \n",
       "0031abfb953b66e998f67b09e7b11375                               NaN   \n",
       "\n",
       "product_id                        ffd4bf4306745865e5692f69bd237893  \\\n",
       "customer_id                                                          \n",
       "00066ccbe787a588c52bd5ff404590e3                               NaN   \n",
       "000bf8121c3412d3057d32371c5d3395                               NaN   \n",
       "001450ebb4a77efb3d68be5f7887cb1e                               NaN   \n",
       "002f90a6eb386bc43bc9ba200db31a89                               NaN   \n",
       "0031abfb953b66e998f67b09e7b11375                               NaN   \n",
       "\n",
       "product_id                        ffe8083298f95571b4a66bfbc1c05524  \\\n",
       "customer_id                                                          \n",
       "00066ccbe787a588c52bd5ff404590e3                               NaN   \n",
       "000bf8121c3412d3057d32371c5d3395                               NaN   \n",
       "001450ebb4a77efb3d68be5f7887cb1e                               NaN   \n",
       "002f90a6eb386bc43bc9ba200db31a89                               NaN   \n",
       "0031abfb953b66e998f67b09e7b11375                               NaN   \n",
       "\n",
       "product_id                        ffef256879dbadcab7e77950f4f4a195  \\\n",
       "customer_id                                                          \n",
       "00066ccbe787a588c52bd5ff404590e3                               NaN   \n",
       "000bf8121c3412d3057d32371c5d3395                               NaN   \n",
       "001450ebb4a77efb3d68be5f7887cb1e                               NaN   \n",
       "002f90a6eb386bc43bc9ba200db31a89                               NaN   \n",
       "0031abfb953b66e998f67b09e7b11375                               NaN   \n",
       "\n",
       "product_id                        fff0a542c3c62682f23305214eaeaa24  \\\n",
       "customer_id                                                          \n",
       "00066ccbe787a588c52bd5ff404590e3                               NaN   \n",
       "000bf8121c3412d3057d32371c5d3395                               NaN   \n",
       "001450ebb4a77efb3d68be5f7887cb1e                               NaN   \n",
       "002f90a6eb386bc43bc9ba200db31a89                               NaN   \n",
       "0031abfb953b66e998f67b09e7b11375                               NaN   \n",
       "\n",
       "product_id                        fff1059cd247279f3726b7696c66e44e  \\\n",
       "customer_id                                                          \n",
       "00066ccbe787a588c52bd5ff404590e3                               NaN   \n",
       "000bf8121c3412d3057d32371c5d3395                               NaN   \n",
       "001450ebb4a77efb3d68be5f7887cb1e                               NaN   \n",
       "002f90a6eb386bc43bc9ba200db31a89                               NaN   \n",
       "0031abfb953b66e998f67b09e7b11375                               NaN   \n",
       "\n",
       "product_id                        fff28f91211774864a1000f918ed00cc  \n",
       "customer_id                                                         \n",
       "00066ccbe787a588c52bd5ff404590e3                               NaN  \n",
       "000bf8121c3412d3057d32371c5d3395                               NaN  \n",
       "001450ebb4a77efb3d68be5f7887cb1e                               NaN  \n",
       "002f90a6eb386bc43bc9ba200db31a89                               NaN  \n",
       "0031abfb953b66e998f67b09e7b11375                               NaN  \n",
       "\n",
       "[5 rows x 8156 columns]"
      ]
     },
     "execution_count": 73,
     "metadata": {},
     "output_type": "execute_result"
    }
   ],
   "source": [
    "#merge the customers and the products they bought\n",
    "recommender = pd.merge(customers_several_purchases, df_recommender, on=['customer_id'])\n",
    "recommender = recommender.groupby(['customer_id'])['product_id'].value_counts()\n",
    "recommender = recommender.unstack()\n",
    "recommender.head()"
   ]
  },
  {
   "cell_type": "markdown",
   "metadata": {},
   "source": [
    "### Normalize Values in the Data Frame for the recommender"
   ]
  },
  {
   "cell_type": "code",
   "execution_count": 74,
   "metadata": {},
   "outputs": [
    {
     "data": {
      "text/html": [
       "<div>\n",
       "<style scoped>\n",
       "    .dataframe tbody tr th:only-of-type {\n",
       "        vertical-align: middle;\n",
       "    }\n",
       "\n",
       "    .dataframe tbody tr th {\n",
       "        vertical-align: top;\n",
       "    }\n",
       "\n",
       "    .dataframe thead th {\n",
       "        text-align: right;\n",
       "    }\n",
       "</style>\n",
       "<table border=\"1\" class=\"dataframe\">\n",
       "  <thead>\n",
       "    <tr style=\"text-align: right;\">\n",
       "      <th>product_id</th>\n",
       "      <th>0011c512eb256aa0dbbb544d8dffcf6e</th>\n",
       "      <th>001795ec6f1b187d37335e1c4704762e</th>\n",
       "      <th>001b72dfd63e9833e8c02742adf472e3</th>\n",
       "      <th>00210e41887c2a8ef9f791ebc780cc36</th>\n",
       "      <th>00250175f79f584c14ab5cecd80553cd</th>\n",
       "      <th>002af88741ba70c7b5cf4e4a0ad7ef85</th>\n",
       "      <th>003a31970fea14fffe92ac856b8a9b97</th>\n",
       "      <th>003c0b8f6580c850bd2e32044d2ac307</th>\n",
       "      <th>0042f1a9a7e0edd1400c6cd0fda065f8</th>\n",
       "      <th>004636c889c7c3dad6631f136b7fa082</th>\n",
       "      <th>...</th>\n",
       "      <th>ffbc83054b3741a8d67fc59d9cf9d42d</th>\n",
       "      <th>ffbe169d395060d7fb975c990581a329</th>\n",
       "      <th>ffc9caf33e2d1e9f44e3e06da19085f7</th>\n",
       "      <th>ffcfaba393e8ef71937c6e8421bc2868</th>\n",
       "      <th>ffd4bf4306745865e5692f69bd237893</th>\n",
       "      <th>ffe8083298f95571b4a66bfbc1c05524</th>\n",
       "      <th>ffef256879dbadcab7e77950f4f4a195</th>\n",
       "      <th>fff0a542c3c62682f23305214eaeaa24</th>\n",
       "      <th>fff1059cd247279f3726b7696c66e44e</th>\n",
       "      <th>fff28f91211774864a1000f918ed00cc</th>\n",
       "    </tr>\n",
       "    <tr>\n",
       "      <th>customer_id</th>\n",
       "      <th></th>\n",
       "      <th></th>\n",
       "      <th></th>\n",
       "      <th></th>\n",
       "      <th></th>\n",
       "      <th></th>\n",
       "      <th></th>\n",
       "      <th></th>\n",
       "      <th></th>\n",
       "      <th></th>\n",
       "      <th></th>\n",
       "      <th></th>\n",
       "      <th></th>\n",
       "      <th></th>\n",
       "      <th></th>\n",
       "      <th></th>\n",
       "      <th></th>\n",
       "      <th></th>\n",
       "      <th></th>\n",
       "      <th></th>\n",
       "      <th></th>\n",
       "    </tr>\n",
       "  </thead>\n",
       "  <tbody>\n",
       "    <tr>\n",
       "      <td>00066ccbe787a588c52bd5ff404590e3</td>\n",
       "      <td>NaN</td>\n",
       "      <td>NaN</td>\n",
       "      <td>NaN</td>\n",
       "      <td>NaN</td>\n",
       "      <td>NaN</td>\n",
       "      <td>NaN</td>\n",
       "      <td>NaN</td>\n",
       "      <td>NaN</td>\n",
       "      <td>NaN</td>\n",
       "      <td>NaN</td>\n",
       "      <td>...</td>\n",
       "      <td>NaN</td>\n",
       "      <td>NaN</td>\n",
       "      <td>NaN</td>\n",
       "      <td>NaN</td>\n",
       "      <td>NaN</td>\n",
       "      <td>NaN</td>\n",
       "      <td>NaN</td>\n",
       "      <td>NaN</td>\n",
       "      <td>NaN</td>\n",
       "      <td>NaN</td>\n",
       "    </tr>\n",
       "    <tr>\n",
       "      <td>000bf8121c3412d3057d32371c5d3395</td>\n",
       "      <td>NaN</td>\n",
       "      <td>NaN</td>\n",
       "      <td>NaN</td>\n",
       "      <td>NaN</td>\n",
       "      <td>NaN</td>\n",
       "      <td>NaN</td>\n",
       "      <td>NaN</td>\n",
       "      <td>NaN</td>\n",
       "      <td>NaN</td>\n",
       "      <td>NaN</td>\n",
       "      <td>...</td>\n",
       "      <td>NaN</td>\n",
       "      <td>NaN</td>\n",
       "      <td>NaN</td>\n",
       "      <td>NaN</td>\n",
       "      <td>NaN</td>\n",
       "      <td>NaN</td>\n",
       "      <td>NaN</td>\n",
       "      <td>NaN</td>\n",
       "      <td>NaN</td>\n",
       "      <td>NaN</td>\n",
       "    </tr>\n",
       "    <tr>\n",
       "      <td>001450ebb4a77efb3d68be5f7887cb1e</td>\n",
       "      <td>NaN</td>\n",
       "      <td>NaN</td>\n",
       "      <td>NaN</td>\n",
       "      <td>NaN</td>\n",
       "      <td>NaN</td>\n",
       "      <td>NaN</td>\n",
       "      <td>NaN</td>\n",
       "      <td>NaN</td>\n",
       "      <td>NaN</td>\n",
       "      <td>NaN</td>\n",
       "      <td>...</td>\n",
       "      <td>NaN</td>\n",
       "      <td>NaN</td>\n",
       "      <td>NaN</td>\n",
       "      <td>NaN</td>\n",
       "      <td>NaN</td>\n",
       "      <td>NaN</td>\n",
       "      <td>NaN</td>\n",
       "      <td>NaN</td>\n",
       "      <td>NaN</td>\n",
       "      <td>NaN</td>\n",
       "    </tr>\n",
       "    <tr>\n",
       "      <td>002f90a6eb386bc43bc9ba200db31a89</td>\n",
       "      <td>NaN</td>\n",
       "      <td>NaN</td>\n",
       "      <td>NaN</td>\n",
       "      <td>NaN</td>\n",
       "      <td>NaN</td>\n",
       "      <td>NaN</td>\n",
       "      <td>NaN</td>\n",
       "      <td>NaN</td>\n",
       "      <td>NaN</td>\n",
       "      <td>NaN</td>\n",
       "      <td>...</td>\n",
       "      <td>NaN</td>\n",
       "      <td>NaN</td>\n",
       "      <td>NaN</td>\n",
       "      <td>NaN</td>\n",
       "      <td>NaN</td>\n",
       "      <td>NaN</td>\n",
       "      <td>NaN</td>\n",
       "      <td>NaN</td>\n",
       "      <td>NaN</td>\n",
       "      <td>NaN</td>\n",
       "    </tr>\n",
       "    <tr>\n",
       "      <td>0031abfb953b66e998f67b09e7b11375</td>\n",
       "      <td>NaN</td>\n",
       "      <td>NaN</td>\n",
       "      <td>NaN</td>\n",
       "      <td>NaN</td>\n",
       "      <td>NaN</td>\n",
       "      <td>NaN</td>\n",
       "      <td>NaN</td>\n",
       "      <td>NaN</td>\n",
       "      <td>NaN</td>\n",
       "      <td>NaN</td>\n",
       "      <td>...</td>\n",
       "      <td>NaN</td>\n",
       "      <td>NaN</td>\n",
       "      <td>NaN</td>\n",
       "      <td>NaN</td>\n",
       "      <td>NaN</td>\n",
       "      <td>NaN</td>\n",
       "      <td>NaN</td>\n",
       "      <td>NaN</td>\n",
       "      <td>NaN</td>\n",
       "      <td>NaN</td>\n",
       "    </tr>\n",
       "    <tr>\n",
       "      <td>...</td>\n",
       "      <td>...</td>\n",
       "      <td>...</td>\n",
       "      <td>...</td>\n",
       "      <td>...</td>\n",
       "      <td>...</td>\n",
       "      <td>...</td>\n",
       "      <td>...</td>\n",
       "      <td>...</td>\n",
       "      <td>...</td>\n",
       "      <td>...</td>\n",
       "      <td>...</td>\n",
       "      <td>...</td>\n",
       "      <td>...</td>\n",
       "      <td>...</td>\n",
       "      <td>...</td>\n",
       "      <td>...</td>\n",
       "      <td>...</td>\n",
       "      <td>...</td>\n",
       "      <td>...</td>\n",
       "      <td>...</td>\n",
       "      <td>...</td>\n",
       "    </tr>\n",
       "    <tr>\n",
       "      <td>ffe7ffb7c7ae0d42808f387578426b3b</td>\n",
       "      <td>NaN</td>\n",
       "      <td>NaN</td>\n",
       "      <td>NaN</td>\n",
       "      <td>NaN</td>\n",
       "      <td>NaN</td>\n",
       "      <td>NaN</td>\n",
       "      <td>NaN</td>\n",
       "      <td>NaN</td>\n",
       "      <td>NaN</td>\n",
       "      <td>NaN</td>\n",
       "      <td>...</td>\n",
       "      <td>NaN</td>\n",
       "      <td>NaN</td>\n",
       "      <td>NaN</td>\n",
       "      <td>NaN</td>\n",
       "      <td>NaN</td>\n",
       "      <td>NaN</td>\n",
       "      <td>NaN</td>\n",
       "      <td>NaN</td>\n",
       "      <td>NaN</td>\n",
       "      <td>NaN</td>\n",
       "    </tr>\n",
       "    <tr>\n",
       "      <td>ffed5d4f6245fe13cd57054621eec36a</td>\n",
       "      <td>NaN</td>\n",
       "      <td>NaN</td>\n",
       "      <td>NaN</td>\n",
       "      <td>NaN</td>\n",
       "      <td>NaN</td>\n",
       "      <td>NaN</td>\n",
       "      <td>NaN</td>\n",
       "      <td>NaN</td>\n",
       "      <td>NaN</td>\n",
       "      <td>NaN</td>\n",
       "      <td>...</td>\n",
       "      <td>NaN</td>\n",
       "      <td>NaN</td>\n",
       "      <td>NaN</td>\n",
       "      <td>NaN</td>\n",
       "      <td>NaN</td>\n",
       "      <td>NaN</td>\n",
       "      <td>NaN</td>\n",
       "      <td>NaN</td>\n",
       "      <td>NaN</td>\n",
       "      <td>NaN</td>\n",
       "    </tr>\n",
       "    <tr>\n",
       "      <td>fff168ca1f8a1d2e8e2108b231a68a8c</td>\n",
       "      <td>NaN</td>\n",
       "      <td>NaN</td>\n",
       "      <td>NaN</td>\n",
       "      <td>NaN</td>\n",
       "      <td>NaN</td>\n",
       "      <td>NaN</td>\n",
       "      <td>NaN</td>\n",
       "      <td>NaN</td>\n",
       "      <td>NaN</td>\n",
       "      <td>NaN</td>\n",
       "      <td>...</td>\n",
       "      <td>NaN</td>\n",
       "      <td>NaN</td>\n",
       "      <td>NaN</td>\n",
       "      <td>NaN</td>\n",
       "      <td>NaN</td>\n",
       "      <td>NaN</td>\n",
       "      <td>NaN</td>\n",
       "      <td>NaN</td>\n",
       "      <td>NaN</td>\n",
       "      <td>NaN</td>\n",
       "    </tr>\n",
       "    <tr>\n",
       "      <td>fff93c1da78dafaaa304ff032abc6205</td>\n",
       "      <td>NaN</td>\n",
       "      <td>NaN</td>\n",
       "      <td>NaN</td>\n",
       "      <td>NaN</td>\n",
       "      <td>NaN</td>\n",
       "      <td>NaN</td>\n",
       "      <td>NaN</td>\n",
       "      <td>NaN</td>\n",
       "      <td>NaN</td>\n",
       "      <td>NaN</td>\n",
       "      <td>...</td>\n",
       "      <td>NaN</td>\n",
       "      <td>NaN</td>\n",
       "      <td>NaN</td>\n",
       "      <td>NaN</td>\n",
       "      <td>NaN</td>\n",
       "      <td>NaN</td>\n",
       "      <td>NaN</td>\n",
       "      <td>NaN</td>\n",
       "      <td>NaN</td>\n",
       "      <td>NaN</td>\n",
       "    </tr>\n",
       "    <tr>\n",
       "      <td>ffffa3172527f765de70084a7e53aae8</td>\n",
       "      <td>NaN</td>\n",
       "      <td>NaN</td>\n",
       "      <td>NaN</td>\n",
       "      <td>NaN</td>\n",
       "      <td>NaN</td>\n",
       "      <td>NaN</td>\n",
       "      <td>NaN</td>\n",
       "      <td>NaN</td>\n",
       "      <td>NaN</td>\n",
       "      <td>NaN</td>\n",
       "      <td>...</td>\n",
       "      <td>NaN</td>\n",
       "      <td>NaN</td>\n",
       "      <td>NaN</td>\n",
       "      <td>NaN</td>\n",
       "      <td>NaN</td>\n",
       "      <td>NaN</td>\n",
       "      <td>NaN</td>\n",
       "      <td>NaN</td>\n",
       "      <td>NaN</td>\n",
       "      <td>NaN</td>\n",
       "    </tr>\n",
       "  </tbody>\n",
       "</table>\n",
       "<p>9802 rows × 8156 columns</p>\n",
       "</div>"
      ],
      "text/plain": [
       "product_id                        0011c512eb256aa0dbbb544d8dffcf6e  \\\n",
       "customer_id                                                          \n",
       "00066ccbe787a588c52bd5ff404590e3                               NaN   \n",
       "000bf8121c3412d3057d32371c5d3395                               NaN   \n",
       "001450ebb4a77efb3d68be5f7887cb1e                               NaN   \n",
       "002f90a6eb386bc43bc9ba200db31a89                               NaN   \n",
       "0031abfb953b66e998f67b09e7b11375                               NaN   \n",
       "...                                                            ...   \n",
       "ffe7ffb7c7ae0d42808f387578426b3b                               NaN   \n",
       "ffed5d4f6245fe13cd57054621eec36a                               NaN   \n",
       "fff168ca1f8a1d2e8e2108b231a68a8c                               NaN   \n",
       "fff93c1da78dafaaa304ff032abc6205                               NaN   \n",
       "ffffa3172527f765de70084a7e53aae8                               NaN   \n",
       "\n",
       "product_id                        001795ec6f1b187d37335e1c4704762e  \\\n",
       "customer_id                                                          \n",
       "00066ccbe787a588c52bd5ff404590e3                               NaN   \n",
       "000bf8121c3412d3057d32371c5d3395                               NaN   \n",
       "001450ebb4a77efb3d68be5f7887cb1e                               NaN   \n",
       "002f90a6eb386bc43bc9ba200db31a89                               NaN   \n",
       "0031abfb953b66e998f67b09e7b11375                               NaN   \n",
       "...                                                            ...   \n",
       "ffe7ffb7c7ae0d42808f387578426b3b                               NaN   \n",
       "ffed5d4f6245fe13cd57054621eec36a                               NaN   \n",
       "fff168ca1f8a1d2e8e2108b231a68a8c                               NaN   \n",
       "fff93c1da78dafaaa304ff032abc6205                               NaN   \n",
       "ffffa3172527f765de70084a7e53aae8                               NaN   \n",
       "\n",
       "product_id                        001b72dfd63e9833e8c02742adf472e3  \\\n",
       "customer_id                                                          \n",
       "00066ccbe787a588c52bd5ff404590e3                               NaN   \n",
       "000bf8121c3412d3057d32371c5d3395                               NaN   \n",
       "001450ebb4a77efb3d68be5f7887cb1e                               NaN   \n",
       "002f90a6eb386bc43bc9ba200db31a89                               NaN   \n",
       "0031abfb953b66e998f67b09e7b11375                               NaN   \n",
       "...                                                            ...   \n",
       "ffe7ffb7c7ae0d42808f387578426b3b                               NaN   \n",
       "ffed5d4f6245fe13cd57054621eec36a                               NaN   \n",
       "fff168ca1f8a1d2e8e2108b231a68a8c                               NaN   \n",
       "fff93c1da78dafaaa304ff032abc6205                               NaN   \n",
       "ffffa3172527f765de70084a7e53aae8                               NaN   \n",
       "\n",
       "product_id                        00210e41887c2a8ef9f791ebc780cc36  \\\n",
       "customer_id                                                          \n",
       "00066ccbe787a588c52bd5ff404590e3                               NaN   \n",
       "000bf8121c3412d3057d32371c5d3395                               NaN   \n",
       "001450ebb4a77efb3d68be5f7887cb1e                               NaN   \n",
       "002f90a6eb386bc43bc9ba200db31a89                               NaN   \n",
       "0031abfb953b66e998f67b09e7b11375                               NaN   \n",
       "...                                                            ...   \n",
       "ffe7ffb7c7ae0d42808f387578426b3b                               NaN   \n",
       "ffed5d4f6245fe13cd57054621eec36a                               NaN   \n",
       "fff168ca1f8a1d2e8e2108b231a68a8c                               NaN   \n",
       "fff93c1da78dafaaa304ff032abc6205                               NaN   \n",
       "ffffa3172527f765de70084a7e53aae8                               NaN   \n",
       "\n",
       "product_id                        00250175f79f584c14ab5cecd80553cd  \\\n",
       "customer_id                                                          \n",
       "00066ccbe787a588c52bd5ff404590e3                               NaN   \n",
       "000bf8121c3412d3057d32371c5d3395                               NaN   \n",
       "001450ebb4a77efb3d68be5f7887cb1e                               NaN   \n",
       "002f90a6eb386bc43bc9ba200db31a89                               NaN   \n",
       "0031abfb953b66e998f67b09e7b11375                               NaN   \n",
       "...                                                            ...   \n",
       "ffe7ffb7c7ae0d42808f387578426b3b                               NaN   \n",
       "ffed5d4f6245fe13cd57054621eec36a                               NaN   \n",
       "fff168ca1f8a1d2e8e2108b231a68a8c                               NaN   \n",
       "fff93c1da78dafaaa304ff032abc6205                               NaN   \n",
       "ffffa3172527f765de70084a7e53aae8                               NaN   \n",
       "\n",
       "product_id                        002af88741ba70c7b5cf4e4a0ad7ef85  \\\n",
       "customer_id                                                          \n",
       "00066ccbe787a588c52bd5ff404590e3                               NaN   \n",
       "000bf8121c3412d3057d32371c5d3395                               NaN   \n",
       "001450ebb4a77efb3d68be5f7887cb1e                               NaN   \n",
       "002f90a6eb386bc43bc9ba200db31a89                               NaN   \n",
       "0031abfb953b66e998f67b09e7b11375                               NaN   \n",
       "...                                                            ...   \n",
       "ffe7ffb7c7ae0d42808f387578426b3b                               NaN   \n",
       "ffed5d4f6245fe13cd57054621eec36a                               NaN   \n",
       "fff168ca1f8a1d2e8e2108b231a68a8c                               NaN   \n",
       "fff93c1da78dafaaa304ff032abc6205                               NaN   \n",
       "ffffa3172527f765de70084a7e53aae8                               NaN   \n",
       "\n",
       "product_id                        003a31970fea14fffe92ac856b8a9b97  \\\n",
       "customer_id                                                          \n",
       "00066ccbe787a588c52bd5ff404590e3                               NaN   \n",
       "000bf8121c3412d3057d32371c5d3395                               NaN   \n",
       "001450ebb4a77efb3d68be5f7887cb1e                               NaN   \n",
       "002f90a6eb386bc43bc9ba200db31a89                               NaN   \n",
       "0031abfb953b66e998f67b09e7b11375                               NaN   \n",
       "...                                                            ...   \n",
       "ffe7ffb7c7ae0d42808f387578426b3b                               NaN   \n",
       "ffed5d4f6245fe13cd57054621eec36a                               NaN   \n",
       "fff168ca1f8a1d2e8e2108b231a68a8c                               NaN   \n",
       "fff93c1da78dafaaa304ff032abc6205                               NaN   \n",
       "ffffa3172527f765de70084a7e53aae8                               NaN   \n",
       "\n",
       "product_id                        003c0b8f6580c850bd2e32044d2ac307  \\\n",
       "customer_id                                                          \n",
       "00066ccbe787a588c52bd5ff404590e3                               NaN   \n",
       "000bf8121c3412d3057d32371c5d3395                               NaN   \n",
       "001450ebb4a77efb3d68be5f7887cb1e                               NaN   \n",
       "002f90a6eb386bc43bc9ba200db31a89                               NaN   \n",
       "0031abfb953b66e998f67b09e7b11375                               NaN   \n",
       "...                                                            ...   \n",
       "ffe7ffb7c7ae0d42808f387578426b3b                               NaN   \n",
       "ffed5d4f6245fe13cd57054621eec36a                               NaN   \n",
       "fff168ca1f8a1d2e8e2108b231a68a8c                               NaN   \n",
       "fff93c1da78dafaaa304ff032abc6205                               NaN   \n",
       "ffffa3172527f765de70084a7e53aae8                               NaN   \n",
       "\n",
       "product_id                        0042f1a9a7e0edd1400c6cd0fda065f8  \\\n",
       "customer_id                                                          \n",
       "00066ccbe787a588c52bd5ff404590e3                               NaN   \n",
       "000bf8121c3412d3057d32371c5d3395                               NaN   \n",
       "001450ebb4a77efb3d68be5f7887cb1e                               NaN   \n",
       "002f90a6eb386bc43bc9ba200db31a89                               NaN   \n",
       "0031abfb953b66e998f67b09e7b11375                               NaN   \n",
       "...                                                            ...   \n",
       "ffe7ffb7c7ae0d42808f387578426b3b                               NaN   \n",
       "ffed5d4f6245fe13cd57054621eec36a                               NaN   \n",
       "fff168ca1f8a1d2e8e2108b231a68a8c                               NaN   \n",
       "fff93c1da78dafaaa304ff032abc6205                               NaN   \n",
       "ffffa3172527f765de70084a7e53aae8                               NaN   \n",
       "\n",
       "product_id                        004636c889c7c3dad6631f136b7fa082  ...  \\\n",
       "customer_id                                                         ...   \n",
       "00066ccbe787a588c52bd5ff404590e3                               NaN  ...   \n",
       "000bf8121c3412d3057d32371c5d3395                               NaN  ...   \n",
       "001450ebb4a77efb3d68be5f7887cb1e                               NaN  ...   \n",
       "002f90a6eb386bc43bc9ba200db31a89                               NaN  ...   \n",
       "0031abfb953b66e998f67b09e7b11375                               NaN  ...   \n",
       "...                                                            ...  ...   \n",
       "ffe7ffb7c7ae0d42808f387578426b3b                               NaN  ...   \n",
       "ffed5d4f6245fe13cd57054621eec36a                               NaN  ...   \n",
       "fff168ca1f8a1d2e8e2108b231a68a8c                               NaN  ...   \n",
       "fff93c1da78dafaaa304ff032abc6205                               NaN  ...   \n",
       "ffffa3172527f765de70084a7e53aae8                               NaN  ...   \n",
       "\n",
       "product_id                        ffbc83054b3741a8d67fc59d9cf9d42d  \\\n",
       "customer_id                                                          \n",
       "00066ccbe787a588c52bd5ff404590e3                               NaN   \n",
       "000bf8121c3412d3057d32371c5d3395                               NaN   \n",
       "001450ebb4a77efb3d68be5f7887cb1e                               NaN   \n",
       "002f90a6eb386bc43bc9ba200db31a89                               NaN   \n",
       "0031abfb953b66e998f67b09e7b11375                               NaN   \n",
       "...                                                            ...   \n",
       "ffe7ffb7c7ae0d42808f387578426b3b                               NaN   \n",
       "ffed5d4f6245fe13cd57054621eec36a                               NaN   \n",
       "fff168ca1f8a1d2e8e2108b231a68a8c                               NaN   \n",
       "fff93c1da78dafaaa304ff032abc6205                               NaN   \n",
       "ffffa3172527f765de70084a7e53aae8                               NaN   \n",
       "\n",
       "product_id                        ffbe169d395060d7fb975c990581a329  \\\n",
       "customer_id                                                          \n",
       "00066ccbe787a588c52bd5ff404590e3                               NaN   \n",
       "000bf8121c3412d3057d32371c5d3395                               NaN   \n",
       "001450ebb4a77efb3d68be5f7887cb1e                               NaN   \n",
       "002f90a6eb386bc43bc9ba200db31a89                               NaN   \n",
       "0031abfb953b66e998f67b09e7b11375                               NaN   \n",
       "...                                                            ...   \n",
       "ffe7ffb7c7ae0d42808f387578426b3b                               NaN   \n",
       "ffed5d4f6245fe13cd57054621eec36a                               NaN   \n",
       "fff168ca1f8a1d2e8e2108b231a68a8c                               NaN   \n",
       "fff93c1da78dafaaa304ff032abc6205                               NaN   \n",
       "ffffa3172527f765de70084a7e53aae8                               NaN   \n",
       "\n",
       "product_id                        ffc9caf33e2d1e9f44e3e06da19085f7  \\\n",
       "customer_id                                                          \n",
       "00066ccbe787a588c52bd5ff404590e3                               NaN   \n",
       "000bf8121c3412d3057d32371c5d3395                               NaN   \n",
       "001450ebb4a77efb3d68be5f7887cb1e                               NaN   \n",
       "002f90a6eb386bc43bc9ba200db31a89                               NaN   \n",
       "0031abfb953b66e998f67b09e7b11375                               NaN   \n",
       "...                                                            ...   \n",
       "ffe7ffb7c7ae0d42808f387578426b3b                               NaN   \n",
       "ffed5d4f6245fe13cd57054621eec36a                               NaN   \n",
       "fff168ca1f8a1d2e8e2108b231a68a8c                               NaN   \n",
       "fff93c1da78dafaaa304ff032abc6205                               NaN   \n",
       "ffffa3172527f765de70084a7e53aae8                               NaN   \n",
       "\n",
       "product_id                        ffcfaba393e8ef71937c6e8421bc2868  \\\n",
       "customer_id                                                          \n",
       "00066ccbe787a588c52bd5ff404590e3                               NaN   \n",
       "000bf8121c3412d3057d32371c5d3395                               NaN   \n",
       "001450ebb4a77efb3d68be5f7887cb1e                               NaN   \n",
       "002f90a6eb386bc43bc9ba200db31a89                               NaN   \n",
       "0031abfb953b66e998f67b09e7b11375                               NaN   \n",
       "...                                                            ...   \n",
       "ffe7ffb7c7ae0d42808f387578426b3b                               NaN   \n",
       "ffed5d4f6245fe13cd57054621eec36a                               NaN   \n",
       "fff168ca1f8a1d2e8e2108b231a68a8c                               NaN   \n",
       "fff93c1da78dafaaa304ff032abc6205                               NaN   \n",
       "ffffa3172527f765de70084a7e53aae8                               NaN   \n",
       "\n",
       "product_id                        ffd4bf4306745865e5692f69bd237893  \\\n",
       "customer_id                                                          \n",
       "00066ccbe787a588c52bd5ff404590e3                               NaN   \n",
       "000bf8121c3412d3057d32371c5d3395                               NaN   \n",
       "001450ebb4a77efb3d68be5f7887cb1e                               NaN   \n",
       "002f90a6eb386bc43bc9ba200db31a89                               NaN   \n",
       "0031abfb953b66e998f67b09e7b11375                               NaN   \n",
       "...                                                            ...   \n",
       "ffe7ffb7c7ae0d42808f387578426b3b                               NaN   \n",
       "ffed5d4f6245fe13cd57054621eec36a                               NaN   \n",
       "fff168ca1f8a1d2e8e2108b231a68a8c                               NaN   \n",
       "fff93c1da78dafaaa304ff032abc6205                               NaN   \n",
       "ffffa3172527f765de70084a7e53aae8                               NaN   \n",
       "\n",
       "product_id                        ffe8083298f95571b4a66bfbc1c05524  \\\n",
       "customer_id                                                          \n",
       "00066ccbe787a588c52bd5ff404590e3                               NaN   \n",
       "000bf8121c3412d3057d32371c5d3395                               NaN   \n",
       "001450ebb4a77efb3d68be5f7887cb1e                               NaN   \n",
       "002f90a6eb386bc43bc9ba200db31a89                               NaN   \n",
       "0031abfb953b66e998f67b09e7b11375                               NaN   \n",
       "...                                                            ...   \n",
       "ffe7ffb7c7ae0d42808f387578426b3b                               NaN   \n",
       "ffed5d4f6245fe13cd57054621eec36a                               NaN   \n",
       "fff168ca1f8a1d2e8e2108b231a68a8c                               NaN   \n",
       "fff93c1da78dafaaa304ff032abc6205                               NaN   \n",
       "ffffa3172527f765de70084a7e53aae8                               NaN   \n",
       "\n",
       "product_id                        ffef256879dbadcab7e77950f4f4a195  \\\n",
       "customer_id                                                          \n",
       "00066ccbe787a588c52bd5ff404590e3                               NaN   \n",
       "000bf8121c3412d3057d32371c5d3395                               NaN   \n",
       "001450ebb4a77efb3d68be5f7887cb1e                               NaN   \n",
       "002f90a6eb386bc43bc9ba200db31a89                               NaN   \n",
       "0031abfb953b66e998f67b09e7b11375                               NaN   \n",
       "...                                                            ...   \n",
       "ffe7ffb7c7ae0d42808f387578426b3b                               NaN   \n",
       "ffed5d4f6245fe13cd57054621eec36a                               NaN   \n",
       "fff168ca1f8a1d2e8e2108b231a68a8c                               NaN   \n",
       "fff93c1da78dafaaa304ff032abc6205                               NaN   \n",
       "ffffa3172527f765de70084a7e53aae8                               NaN   \n",
       "\n",
       "product_id                        fff0a542c3c62682f23305214eaeaa24  \\\n",
       "customer_id                                                          \n",
       "00066ccbe787a588c52bd5ff404590e3                               NaN   \n",
       "000bf8121c3412d3057d32371c5d3395                               NaN   \n",
       "001450ebb4a77efb3d68be5f7887cb1e                               NaN   \n",
       "002f90a6eb386bc43bc9ba200db31a89                               NaN   \n",
       "0031abfb953b66e998f67b09e7b11375                               NaN   \n",
       "...                                                            ...   \n",
       "ffe7ffb7c7ae0d42808f387578426b3b                               NaN   \n",
       "ffed5d4f6245fe13cd57054621eec36a                               NaN   \n",
       "fff168ca1f8a1d2e8e2108b231a68a8c                               NaN   \n",
       "fff93c1da78dafaaa304ff032abc6205                               NaN   \n",
       "ffffa3172527f765de70084a7e53aae8                               NaN   \n",
       "\n",
       "product_id                        fff1059cd247279f3726b7696c66e44e  \\\n",
       "customer_id                                                          \n",
       "00066ccbe787a588c52bd5ff404590e3                               NaN   \n",
       "000bf8121c3412d3057d32371c5d3395                               NaN   \n",
       "001450ebb4a77efb3d68be5f7887cb1e                               NaN   \n",
       "002f90a6eb386bc43bc9ba200db31a89                               NaN   \n",
       "0031abfb953b66e998f67b09e7b11375                               NaN   \n",
       "...                                                            ...   \n",
       "ffe7ffb7c7ae0d42808f387578426b3b                               NaN   \n",
       "ffed5d4f6245fe13cd57054621eec36a                               NaN   \n",
       "fff168ca1f8a1d2e8e2108b231a68a8c                               NaN   \n",
       "fff93c1da78dafaaa304ff032abc6205                               NaN   \n",
       "ffffa3172527f765de70084a7e53aae8                               NaN   \n",
       "\n",
       "product_id                        fff28f91211774864a1000f918ed00cc  \n",
       "customer_id                                                         \n",
       "00066ccbe787a588c52bd5ff404590e3                               NaN  \n",
       "000bf8121c3412d3057d32371c5d3395                               NaN  \n",
       "001450ebb4a77efb3d68be5f7887cb1e                               NaN  \n",
       "002f90a6eb386bc43bc9ba200db31a89                               NaN  \n",
       "0031abfb953b66e998f67b09e7b11375                               NaN  \n",
       "...                                                            ...  \n",
       "ffe7ffb7c7ae0d42808f387578426b3b                               NaN  \n",
       "ffed5d4f6245fe13cd57054621eec36a                               NaN  \n",
       "fff168ca1f8a1d2e8e2108b231a68a8c                               NaN  \n",
       "fff93c1da78dafaaa304ff032abc6205                               NaN  \n",
       "ffffa3172527f765de70084a7e53aae8                               NaN  \n",
       "\n",
       "[9802 rows x 8156 columns]"
      ]
     },
     "execution_count": 74,
     "metadata": {},
     "output_type": "execute_result"
    }
   ],
   "source": [
    "recommender_norm = (recommender-recommender.min())/(recommender.max()-recommender.min())\n",
    "recommender_norm"
   ]
  },
  {
   "cell_type": "code",
   "execution_count": 75,
   "metadata": {},
   "outputs": [
    {
     "name": "stdout",
     "output_type": "stream",
     "text": [
      "(5140, 3)\n"
     ]
    },
    {
     "data": {
      "text/html": [
       "<div>\n",
       "<style scoped>\n",
       "    .dataframe tbody tr th:only-of-type {\n",
       "        vertical-align: middle;\n",
       "    }\n",
       "\n",
       "    .dataframe tbody tr th {\n",
       "        vertical-align: top;\n",
       "    }\n",
       "\n",
       "    .dataframe thead th {\n",
       "        text-align: right;\n",
       "    }\n",
       "</style>\n",
       "<table border=\"1\" class=\"dataframe\">\n",
       "  <thead>\n",
       "    <tr style=\"text-align: right;\">\n",
       "      <th></th>\n",
       "      <th>customer_id</th>\n",
       "      <th>product_id</th>\n",
       "      <th>scaled_purchase_freq</th>\n",
       "    </tr>\n",
       "  </thead>\n",
       "  <tbody>\n",
       "    <tr>\n",
       "      <td>24298</td>\n",
       "      <td>7a3a3328b35a65930d54ebbb1b491501</td>\n",
       "      <td>001b72dfd63e9833e8c02742adf472e3</td>\n",
       "      <td>1.0</td>\n",
       "    </tr>\n",
       "    <tr>\n",
       "      <td>24475</td>\n",
       "      <td>7eab641be5b633438b8082aad878cb4a</td>\n",
       "      <td>001b72dfd63e9833e8c02742adf472e3</td>\n",
       "      <td>0.0</td>\n",
       "    </tr>\n",
       "    <tr>\n",
       "      <td>29057</td>\n",
       "      <td>f6cc73c737c6c32ef0aba0d6d7aa84a4</td>\n",
       "      <td>001b72dfd63e9833e8c02742adf472e3</td>\n",
       "      <td>1.0</td>\n",
       "    </tr>\n",
       "    <tr>\n",
       "      <td>128077</td>\n",
       "      <td>115b6f4638633b24cc0224855cac1198</td>\n",
       "      <td>008cff0e5792219fae03e570f980b330</td>\n",
       "      <td>1.0</td>\n",
       "    </tr>\n",
       "    <tr>\n",
       "      <td>133908</td>\n",
       "      <td>a8e96c63b740c4669200ca0aa38d2180</td>\n",
       "      <td>008cff0e5792219fae03e570f980b330</td>\n",
       "      <td>0.0</td>\n",
       "    </tr>\n",
       "  </tbody>\n",
       "</table>\n",
       "</div>"
      ],
      "text/plain": [
       "                             customer_id                        product_id  \\\n",
       "24298   7a3a3328b35a65930d54ebbb1b491501  001b72dfd63e9833e8c02742adf472e3   \n",
       "24475   7eab641be5b633438b8082aad878cb4a  001b72dfd63e9833e8c02742adf472e3   \n",
       "29057   f6cc73c737c6c32ef0aba0d6d7aa84a4  001b72dfd63e9833e8c02742adf472e3   \n",
       "128077  115b6f4638633b24cc0224855cac1198  008cff0e5792219fae03e570f980b330   \n",
       "133908  a8e96c63b740c4669200ca0aa38d2180  008cff0e5792219fae03e570f980b330   \n",
       "\n",
       "        scaled_purchase_freq  \n",
       "24298                    1.0  \n",
       "24475                    0.0  \n",
       "29057                    1.0  \n",
       "128077                   1.0  \n",
       "133908                   0.0  "
      ]
     },
     "execution_count": 75,
     "metadata": {},
     "output_type": "execute_result"
    }
   ],
   "source": [
    "# create a table for input to the modeling  \n",
    "d = recommender_norm.reset_index() \n",
    "d.index.names = ['scaled_purchase_freq'] \n",
    "data_norm = pd.melt(d, id_vars=['customer_id'], value_name='scaled_purchase_freq').dropna()\n",
    "print(data_norm.shape)\n",
    "data_norm.head()"
   ]
  },
  {
   "cell_type": "code",
   "execution_count": 76,
   "metadata": {},
   "outputs": [],
   "source": [
    "def split_data(data):\n",
    "    '''\n",
    "    Splits dataset into training and test set.\n",
    "    \n",
    "    Args:\n",
    "        data (pandas.DataFrame)\n",
    "        \n",
    "    Returns\n",
    "        train_data (tc.SFrame)\n",
    "        test_data (tc.SFrame)\n",
    "    '''\n",
    "    train, test = train_test_split(data, test_size = .2)\n",
    "    train_data = tc.SFrame(train)\n",
    "    test_data = tc.SFrame(test)\n",
    "    return train_data, test_data"
   ]
  },
  {
   "cell_type": "code",
   "execution_count": 173,
   "metadata": {},
   "outputs": [
    {
     "ename": "NameError",
     "evalue": "name 'train_test_split' is not defined",
     "output_type": "error",
     "traceback": [
      "\u001b[0;31m---------------------------------------------------------------------------\u001b[0m",
      "\u001b[0;31mNameError\u001b[0m                                 Traceback (most recent call last)",
      "\u001b[0;32m<ipython-input-173-4e2c564d89e0>\u001b[0m in \u001b[0;36m<module>\u001b[0;34m\u001b[0m\n\u001b[0;32m----> 1\u001b[0;31m \u001b[0mtrain_data\u001b[0m\u001b[0;34m,\u001b[0m \u001b[0mtest_data\u001b[0m \u001b[0;34m=\u001b[0m \u001b[0msplit_data\u001b[0m\u001b[0;34m(\u001b[0m\u001b[0mdata_norm\u001b[0m\u001b[0;34m)\u001b[0m\u001b[0;34m\u001b[0m\u001b[0;34m\u001b[0m\u001b[0m\n\u001b[0m",
      "\u001b[0;32m<ipython-input-172-1cdb6b1d5325>\u001b[0m in \u001b[0;36msplit_data\u001b[0;34m(data)\u001b[0m\n\u001b[1;32m     10\u001b[0m         \u001b[0mtest_data\u001b[0m \u001b[0;34m(\u001b[0m\u001b[0mtc\u001b[0m\u001b[0;34m.\u001b[0m\u001b[0mSFrame\u001b[0m\u001b[0;34m)\u001b[0m\u001b[0;34m\u001b[0m\u001b[0;34m\u001b[0m\u001b[0m\n\u001b[1;32m     11\u001b[0m     '''\n\u001b[0;32m---> 12\u001b[0;31m     \u001b[0mtrain\u001b[0m\u001b[0;34m,\u001b[0m \u001b[0mtest\u001b[0m \u001b[0;34m=\u001b[0m \u001b[0mtrain_test_split\u001b[0m\u001b[0;34m(\u001b[0m\u001b[0mdata\u001b[0m\u001b[0;34m,\u001b[0m \u001b[0mtest_size\u001b[0m \u001b[0;34m=\u001b[0m \u001b[0;36m.2\u001b[0m\u001b[0;34m)\u001b[0m\u001b[0;34m\u001b[0m\u001b[0;34m\u001b[0m\u001b[0m\n\u001b[0m\u001b[1;32m     13\u001b[0m     \u001b[0mtrain_data\u001b[0m \u001b[0;34m=\u001b[0m \u001b[0mtc\u001b[0m\u001b[0;34m.\u001b[0m\u001b[0mSFrame\u001b[0m\u001b[0;34m(\u001b[0m\u001b[0mtrain\u001b[0m\u001b[0;34m)\u001b[0m\u001b[0;34m\u001b[0m\u001b[0;34m\u001b[0m\u001b[0m\n\u001b[1;32m     14\u001b[0m     \u001b[0mtest_data\u001b[0m \u001b[0;34m=\u001b[0m \u001b[0mtc\u001b[0m\u001b[0;34m.\u001b[0m\u001b[0mSFrame\u001b[0m\u001b[0;34m(\u001b[0m\u001b[0mtest\u001b[0m\u001b[0;34m)\u001b[0m\u001b[0;34m\u001b[0m\u001b[0;34m\u001b[0m\u001b[0m\n",
      "\u001b[0;31mNameError\u001b[0m: name 'train_test_split' is not defined"
     ]
    }
   ],
   "source": [
    "train_data, test_data = split_data(data_norm)"
   ]
  },
  {
   "cell_type": "code",
   "execution_count": 179,
   "metadata": {},
   "outputs": [],
   "source": [
    "def model(train_data, name, user_id, item_id, target, users_to_recommend, n_rec, n_display):\n",
    "    if name == 'popularity':\n",
    "        model = tc.popularity_recommender.create(train_data, \n",
    "                                                    user_id=user_id, \n",
    "                                                    item_id=item_id, \n",
    "                                                    target=target)\n",
    "    elif name == 'cosine':\n",
    "        model = tc.item_similarity_recommender.create(train_data, \n",
    "                                                    user_id=user_id, \n",
    "                                                    item_id=item_id, \n",
    "                                                    target=target, \n",
    "                                                    similarity_type='cosine')\n",
    "    elif name == 'pearson':\n",
    "        model = tc.item_similarity_recommender.create(train_data, \n",
    "                                                    user_id=user_id, \n",
    "                                                    item_id=item_id, \n",
    "                                                    target=target, \n",
    "                                                    similarity_type='pearson')\n",
    "        \n",
    "    recom = model.recommend(users=users_to_recommend, k=n_rec)\n",
    "    recom.print_rows(n_display)\n",
    "    return model"
   ]
  },
  {
   "cell_type": "code",
   "execution_count": 180,
   "metadata": {},
   "outputs": [
    {
     "ename": "TypeError",
     "evalue": "observation_data input must be a SFrame",
     "output_type": "error",
     "traceback": [
      "\u001b[0;31m---------------------------------------------------------------------------\u001b[0m",
      "\u001b[0;31mTypeError\u001b[0m                                 Traceback (most recent call last)",
      "\u001b[0;32m<ipython-input-180-4770d00f0b46>\u001b[0m in \u001b[0;36m<module>\u001b[0;34m\u001b[0m\n\u001b[1;32m      8\u001b[0m \u001b[0mn_display\u001b[0m \u001b[0;34m=\u001b[0m \u001b[0;36m30\u001b[0m \u001b[0;31m# to display the first few rows in an output dataset\u001b[0m\u001b[0;34m\u001b[0m\u001b[0;34m\u001b[0m\u001b[0m\n\u001b[1;32m      9\u001b[0m \u001b[0;34m\u001b[0m\u001b[0m\n\u001b[0;32m---> 10\u001b[0;31m \u001b[0mcos\u001b[0m \u001b[0;34m=\u001b[0m \u001b[0mmodel\u001b[0m\u001b[0;34m(\u001b[0m\u001b[0mtrain_data\u001b[0m\u001b[0;34m,\u001b[0m \u001b[0mname\u001b[0m\u001b[0;34m,\u001b[0m \u001b[0muser_id\u001b[0m\u001b[0;34m,\u001b[0m \u001b[0mitem_id\u001b[0m\u001b[0;34m,\u001b[0m \u001b[0mtarget\u001b[0m\u001b[0;34m,\u001b[0m \u001b[0musers_to_recommend\u001b[0m\u001b[0;34m,\u001b[0m \u001b[0mn_rec\u001b[0m\u001b[0;34m,\u001b[0m \u001b[0mn_display\u001b[0m\u001b[0;34m)\u001b[0m\u001b[0;34m\u001b[0m\u001b[0;34m\u001b[0m\u001b[0m\n\u001b[0m",
      "\u001b[0;32m<ipython-input-179-d92f029659e2>\u001b[0m in \u001b[0;36mmodel\u001b[0;34m(train_data, name, user_id, item_id, target, users_to_recommend, n_rec, n_display)\u001b[0m\n\u001b[1;32m     10\u001b[0m                                                     \u001b[0mitem_id\u001b[0m\u001b[0;34m=\u001b[0m\u001b[0mitem_id\u001b[0m\u001b[0;34m,\u001b[0m\u001b[0;34m\u001b[0m\u001b[0;34m\u001b[0m\u001b[0m\n\u001b[1;32m     11\u001b[0m                                                     \u001b[0mtarget\u001b[0m\u001b[0;34m=\u001b[0m\u001b[0mtarget\u001b[0m\u001b[0;34m,\u001b[0m\u001b[0;34m\u001b[0m\u001b[0;34m\u001b[0m\u001b[0m\n\u001b[0;32m---> 12\u001b[0;31m                                                     similarity_type='cosine')\n\u001b[0m\u001b[1;32m     13\u001b[0m     \u001b[0;32melif\u001b[0m \u001b[0mname\u001b[0m \u001b[0;34m==\u001b[0m \u001b[0;34m'pearson'\u001b[0m\u001b[0;34m:\u001b[0m\u001b[0;34m\u001b[0m\u001b[0;34m\u001b[0m\u001b[0m\n\u001b[1;32m     14\u001b[0m         model = tc.item_similarity_recommender.create(train_data, \n",
      "\u001b[0;32m/opt/anaconda3/lib/python3.7/site-packages/turicreate/toolkits/recommender/item_similarity_recommender.py\u001b[0m in \u001b[0;36mcreate\u001b[0;34m(observation_data, user_id, item_id, target, user_data, item_data, nearest_items, similarity_type, threshold, only_top_k, verbose, target_memory_usage, **kwargs)\u001b[0m\n\u001b[1;32m    193\u001b[0m     \u001b[0;32mfrom\u001b[0m \u001b[0mturicreate\u001b[0m\u001b[0;34m.\u001b[0m\u001b[0m_cython\u001b[0m\u001b[0;34m.\u001b[0m\u001b[0mcy_server\u001b[0m \u001b[0;32mimport\u001b[0m \u001b[0mQuietProgress\u001b[0m\u001b[0;34m\u001b[0m\u001b[0;34m\u001b[0m\u001b[0m\n\u001b[1;32m    194\u001b[0m     \u001b[0;32mif\u001b[0m \u001b[0;32mnot\u001b[0m \u001b[0;34m(\u001b[0m\u001b[0misinstance\u001b[0m\u001b[0;34m(\u001b[0m\u001b[0mobservation_data\u001b[0m\u001b[0;34m,\u001b[0m \u001b[0m_SFrame\u001b[0m\u001b[0;34m)\u001b[0m\u001b[0;34m)\u001b[0m\u001b[0;34m:\u001b[0m\u001b[0;34m\u001b[0m\u001b[0;34m\u001b[0m\u001b[0m\n\u001b[0;32m--> 195\u001b[0;31m         \u001b[0;32mraise\u001b[0m \u001b[0mTypeError\u001b[0m\u001b[0;34m(\u001b[0m\u001b[0;34m'observation_data input must be a SFrame'\u001b[0m\u001b[0;34m)\u001b[0m\u001b[0;34m\u001b[0m\u001b[0;34m\u001b[0m\u001b[0m\n\u001b[0m\u001b[1;32m    196\u001b[0m     \u001b[0mopts\u001b[0m \u001b[0;34m=\u001b[0m \u001b[0;34m{\u001b[0m\u001b[0;34m}\u001b[0m\u001b[0;34m\u001b[0m\u001b[0;34m\u001b[0m\u001b[0m\n\u001b[1;32m    197\u001b[0m     \u001b[0mmodel_proxy\u001b[0m \u001b[0;34m=\u001b[0m \u001b[0m_turicreate\u001b[0m\u001b[0;34m.\u001b[0m\u001b[0mextensions\u001b[0m\u001b[0;34m.\u001b[0m\u001b[0mitem_similarity\u001b[0m\u001b[0;34m(\u001b[0m\u001b[0;34m)\u001b[0m\u001b[0;34m\u001b[0m\u001b[0;34m\u001b[0m\u001b[0m\n",
      "\u001b[0;31mTypeError\u001b[0m: observation_data input must be a SFrame"
     ]
    }
   ],
   "source": [
    "name = 'cosine'\n",
    "target = 'scaled_purchase_freq'\n",
    "user_id = 'customer_id'\n",
    "item_id = 'product_id'\n",
    "train_data = data_norm\n",
    "users_to_recommend = list(data_norm[user_id])\n",
    "n_rec = 10 # number of items to recommend\n",
    "n_display = 30 # to display the first few rows in an output dataset\n",
    "\n",
    "cos = model(train_data, name, user_id, item_id, target, users_to_recommend, n_rec, n_display)"
   ]
  },
  {
   "cell_type": "code",
   "execution_count": null,
   "metadata": {},
   "outputs": [],
   "source": []
  },
  {
   "cell_type": "code",
   "execution_count": 163,
   "metadata": {},
   "outputs": [],
   "source": [
    "recommender_matrix = recommender.values"
   ]
  },
  {
   "cell_type": "code",
   "execution_count": 164,
   "metadata": {},
   "outputs": [
    {
     "data": {
      "text/plain": [
       "array([[nan, nan, nan, ..., nan, nan, nan],\n",
       "       [nan, nan, nan, ..., nan, nan, nan],\n",
       "       [nan, nan, nan, ..., nan, nan, nan],\n",
       "       ...,\n",
       "       [nan, nan, nan, ..., nan, nan, nan],\n",
       "       [nan, nan, nan, ..., nan, nan, nan],\n",
       "       [nan, nan, nan, ..., nan, nan, nan]])"
      ]
     },
     "execution_count": 164,
     "metadata": {},
     "output_type": "execute_result"
    }
   ],
   "source": [
    "recommender_matrix[:10]"
   ]
  },
  {
   "cell_type": "code",
   "execution_count": 165,
   "metadata": {},
   "outputs": [
    {
     "data": {
      "text/plain": [
       "<9802x8156 sparse matrix of type '<class 'numpy.float64'>'\n",
       "\twith 79945112 stored elements in Compressed Sparse Row format>"
      ]
     },
     "execution_count": 165,
     "metadata": {},
     "output_type": "execute_result"
    }
   ],
   "source": [
    "from scipy.sparse import csr_matrix\n",
    "#create sparse matrix\n",
    "sparse_recommender_matrix = csr_matrix(recommender_matrix)\n",
    "sparse_recommender_matrix"
   ]
  }
 ],
 "metadata": {
  "kernelspec": {
   "display_name": "Python 3",
   "language": "python",
   "name": "python3"
  },
  "language_info": {
   "codemirror_mode": {
    "name": "ipython",
    "version": 3
   },
   "file_extension": ".py",
   "mimetype": "text/x-python",
   "name": "python",
   "nbconvert_exporter": "python",
   "pygments_lexer": "ipython3",
   "version": "3.7.4"
  }
 },
 "nbformat": 4,
 "nbformat_minor": 2
}
