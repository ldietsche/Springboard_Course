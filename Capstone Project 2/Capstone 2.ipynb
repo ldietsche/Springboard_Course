{
 "cells": [
  {
   "cell_type": "code",
   "execution_count": 214,
   "metadata": {},
   "outputs": [],
   "source": [
    "#import packages needed\n",
    "import pandas as pd\n",
    "import numpy as np\n",
    "import matplotlib.pyplot as plt\n",
    "import plotly.express as px\n",
    "import plotly.graph_objects as go\n",
    "import quandl\n",
    "import requests\n",
    "from pandas.plotting import register_matplotlib_converters\n",
    "\n",
    "from collections import defaultdict\n",
    "\n",
    "import time"
   ]
  },
  {
   "cell_type": "code",
   "execution_count": 13,
   "metadata": {},
   "outputs": [],
   "source": [
    "#store the API_KEY\n",
    "quandl.ApiConfig.api_key = \"tCBP9Fynn_czk4wgKip9\""
   ]
  },
  {
   "cell_type": "code",
   "execution_count": 14,
   "metadata": {},
   "outputs": [],
   "source": [
    "API_KEY = \"tCBP9Fynn_czk4wgKip9\""
   ]
  },
  {
   "cell_type": "code",
   "execution_count": 4,
   "metadata": {},
   "outputs": [
    {
     "ename": "NameError",
     "evalue": "name 'start_date' is not defined",
     "output_type": "error",
     "traceback": [
      "\u001b[0;31m---------------------------------------------------------------------------\u001b[0m",
      "\u001b[0;31mNameError\u001b[0m                                 Traceback (most recent call last)",
      "\u001b[0;32m<ipython-input-4-0ed4a1eac36c>\u001b[0m in \u001b[0;36m<module>\u001b[0;34m\u001b[0m\n\u001b[1;32m      1\u001b[0m \u001b[0;31m#definte the parameters in order to import the data correclty\u001b[0m\u001b[0;34m\u001b[0m\u001b[0;34m\u001b[0m\u001b[0;34m\u001b[0m\u001b[0m\n\u001b[0;32m----> 2\u001b[0;31m parameters = {start_date : '2000-01-01',\n\u001b[0m\u001b[1;32m      3\u001b[0m              \u001b[0mend_date\u001b[0m\u001b[0;34m:\u001b[0m \u001b[0;34m'2019-12-31'\u001b[0m\u001b[0;34m,\u001b[0m\u001b[0;34m\u001b[0m\u001b[0;34m\u001b[0m\u001b[0m\n\u001b[1;32m      4\u001b[0m              series_id: '6200'}\n\u001b[1;32m      5\u001b[0m \u001b[0;34m\u001b[0m\u001b[0m\n",
      "\u001b[0;31mNameError\u001b[0m: name 'start_date' is not defined"
     ]
    }
   ],
   "source": [
    "#definte the parameters in order to import the data correclty\n",
    "parameters = {start_date : '2000-01-01',\n",
    "             end_date: '2019-12-31',\n",
    "             series_id: '6200'}\n",
    "\n",
    "#import the data\n",
    "SG = quandl.get_table('EDIA/ECD',\n",
    "                        date = { 'gte': parameters[start_date], 'lte': parameters[end_date]},\n",
    "                        series_id = parameters[series_id])"
   ]
  },
  {
   "cell_type": "code",
   "execution_count": 132,
   "metadata": {},
   "outputs": [],
   "source": [
    "#reshape the table to get the date, and the corresponding values\n",
    "table = pd.pivot_table(SG, index = 'date', values = 'value', columns = ['description'])"
   ]
  },
  {
   "cell_type": "markdown",
   "metadata": {},
   "source": [
    "### Import the Data available for each country"
   ]
  },
  {
   "cell_type": "code",
   "execution_count": 108,
   "metadata": {},
   "outputs": [
    {
     "data": {
      "text/html": [
       "<div>\n",
       "<style scoped>\n",
       "    .dataframe tbody tr th:only-of-type {\n",
       "        vertical-align: middle;\n",
       "    }\n",
       "\n",
       "    .dataframe tbody tr th {\n",
       "        vertical-align: top;\n",
       "    }\n",
       "\n",
       "    .dataframe thead th {\n",
       "        text-align: right;\n",
       "    }\n",
       "</style>\n",
       "<table border=\"1\" class=\"dataframe\">\n",
       "  <thead>\n",
       "    <tr style=\"text-align: right;\">\n",
       "      <th></th>\n",
       "      <th>country_code</th>\n",
       "      <th>indicator_code</th>\n",
       "      <th>identifier</th>\n",
       "      <th>series_id</th>\n",
       "      <th>description</th>\n",
       "      <th>from_date</th>\n",
       "      <th>to_date</th>\n",
       "      <th>timespan</th>\n",
       "    </tr>\n",
       "  </thead>\n",
       "  <tbody>\n",
       "    <tr>\n",
       "      <td>0</td>\n",
       "      <td>AD</td>\n",
       "      <td>43</td>\n",
       "      <td>AD.043.A.01</td>\n",
       "      <td>718</td>\n",
       "      <td>Andorra: Corporate Tax Rate [AD: Corporate Tax...</td>\n",
       "      <td>2017-01-01</td>\n",
       "      <td>2020-01-01</td>\n",
       "      <td>1095 days</td>\n",
       "    </tr>\n",
       "    <tr>\n",
       "      <td>1</td>\n",
       "      <td>AD</td>\n",
       "      <td>66</td>\n",
       "      <td>AD.066.A.01</td>\n",
       "      <td>719</td>\n",
       "      <td>Andorra: Export Prices [Andorra: Export unit v...</td>\n",
       "      <td>2000-01-01</td>\n",
       "      <td>2018-01-01</td>\n",
       "      <td>6575 days</td>\n",
       "    </tr>\n",
       "    <tr>\n",
       "      <td>2</td>\n",
       "      <td>AD</td>\n",
       "      <td>67</td>\n",
       "      <td>AD.067.A.01</td>\n",
       "      <td>720</td>\n",
       "      <td>Andorra: Exports [Andorra: Merchandise exports]</td>\n",
       "      <td>2014-01-01</td>\n",
       "      <td>2014-01-01</td>\n",
       "      <td>0 days</td>\n",
       "    </tr>\n",
       "    <tr>\n",
       "      <td>3</td>\n",
       "      <td>AD</td>\n",
       "      <td>81</td>\n",
       "      <td>AD.081.1.A.01</td>\n",
       "      <td>721</td>\n",
       "      <td>Andorra: GDP (USD) [Andorra: National accounts...</td>\n",
       "      <td>1970-01-01</td>\n",
       "      <td>2018-01-01</td>\n",
       "      <td>17532 days</td>\n",
       "    </tr>\n",
       "    <tr>\n",
       "      <td>4</td>\n",
       "      <td>AD</td>\n",
       "      <td>81</td>\n",
       "      <td>AD.081.A.01</td>\n",
       "      <td>722</td>\n",
       "      <td>Andorra: GDP [Andorra: National accounts: Loca...</td>\n",
       "      <td>1970-01-01</td>\n",
       "      <td>2018-01-01</td>\n",
       "      <td>17532 days</td>\n",
       "    </tr>\n",
       "    <tr>\n",
       "      <td>...</td>\n",
       "      <td>...</td>\n",
       "      <td>...</td>\n",
       "      <td>...</td>\n",
       "      <td>...</td>\n",
       "      <td>...</td>\n",
       "      <td>...</td>\n",
       "      <td>...</td>\n",
       "      <td>...</td>\n",
       "    </tr>\n",
       "    <tr>\n",
       "      <td>43788</td>\n",
       "      <td>ZW</td>\n",
       "      <td>199</td>\n",
       "      <td>ZW.199.M.01</td>\n",
       "      <td>45838</td>\n",
       "      <td>Zimbabwe: Unemployment Change [Zimbabwe: Unemp...</td>\n",
       "      <td>1999-02-01</td>\n",
       "      <td>1999-12-01</td>\n",
       "      <td>303 days</td>\n",
       "    </tr>\n",
       "    <tr>\n",
       "      <td>43789</td>\n",
       "      <td>ZW</td>\n",
       "      <td>200</td>\n",
       "      <td>ZW.200.A.01</td>\n",
       "      <td>45839</td>\n",
       "      <td>Zimbabwe: Unemployment Rate [ZW: Unemployment:...</td>\n",
       "      <td>1991-01-01</td>\n",
       "      <td>2024-01-01</td>\n",
       "      <td>12053 days</td>\n",
       "    </tr>\n",
       "    <tr>\n",
       "      <td>43790</td>\n",
       "      <td>ZW</td>\n",
       "      <td>200</td>\n",
       "      <td>ZW.200.A.02</td>\n",
       "      <td>45840</td>\n",
       "      <td>Zimbabwe: Unemployment Rate [Zimbabwe: Nationa...</td>\n",
       "      <td>1982-01-01</td>\n",
       "      <td>2014-01-01</td>\n",
       "      <td>11688 days</td>\n",
       "    </tr>\n",
       "    <tr>\n",
       "      <td>43791</td>\n",
       "      <td>ZW</td>\n",
       "      <td>205</td>\n",
       "      <td>ZW.205.A.01</td>\n",
       "      <td>45841</td>\n",
       "      <td>Zimbabwe: Youth Unemployment Rate [ZW: Unemplo...</td>\n",
       "      <td>1991-01-01</td>\n",
       "      <td>2024-01-01</td>\n",
       "      <td>12053 days</td>\n",
       "    </tr>\n",
       "    <tr>\n",
       "      <td>43792</td>\n",
       "      <td>ZW</td>\n",
       "      <td>205</td>\n",
       "      <td>ZW.205.A.02</td>\n",
       "      <td>45842</td>\n",
       "      <td>Zimbabwe: Youth Unemployment Rate [Zimbabwe: N...</td>\n",
       "      <td>1997-01-01</td>\n",
       "      <td>2014-01-01</td>\n",
       "      <td>6209 days</td>\n",
       "    </tr>\n",
       "  </tbody>\n",
       "</table>\n",
       "<p>43532 rows × 8 columns</p>\n",
       "</div>"
      ],
      "text/plain": [
       "      country_code  indicator_code     identifier  series_id  \\\n",
       "0               AD              43    AD.043.A.01        718   \n",
       "1               AD              66    AD.066.A.01        719   \n",
       "2               AD              67    AD.067.A.01        720   \n",
       "3               AD              81  AD.081.1.A.01        721   \n",
       "4               AD              81    AD.081.A.01        722   \n",
       "...            ...             ...            ...        ...   \n",
       "43788           ZW             199    ZW.199.M.01      45838   \n",
       "43789           ZW             200    ZW.200.A.01      45839   \n",
       "43790           ZW             200    ZW.200.A.02      45840   \n",
       "43791           ZW             205    ZW.205.A.01      45841   \n",
       "43792           ZW             205    ZW.205.A.02      45842   \n",
       "\n",
       "                                             description  from_date  \\\n",
       "0      Andorra: Corporate Tax Rate [AD: Corporate Tax... 2017-01-01   \n",
       "1      Andorra: Export Prices [Andorra: Export unit v... 2000-01-01   \n",
       "2        Andorra: Exports [Andorra: Merchandise exports] 2014-01-01   \n",
       "3      Andorra: GDP (USD) [Andorra: National accounts... 1970-01-01   \n",
       "4      Andorra: GDP [Andorra: National accounts: Loca... 1970-01-01   \n",
       "...                                                  ...        ...   \n",
       "43788  Zimbabwe: Unemployment Change [Zimbabwe: Unemp... 1999-02-01   \n",
       "43789  Zimbabwe: Unemployment Rate [ZW: Unemployment:... 1991-01-01   \n",
       "43790  Zimbabwe: Unemployment Rate [Zimbabwe: Nationa... 1982-01-01   \n",
       "43791  Zimbabwe: Youth Unemployment Rate [ZW: Unemplo... 1991-01-01   \n",
       "43792  Zimbabwe: Youth Unemployment Rate [Zimbabwe: N... 1997-01-01   \n",
       "\n",
       "         to_date   timespan  \n",
       "0     2020-01-01  1095 days  \n",
       "1     2018-01-01  6575 days  \n",
       "2     2014-01-01     0 days  \n",
       "3     2018-01-01 17532 days  \n",
       "4     2018-01-01 17532 days  \n",
       "...          ...        ...  \n",
       "43788 1999-12-01   303 days  \n",
       "43789 2024-01-01 12053 days  \n",
       "43790 2014-01-01 11688 days  \n",
       "43791 2024-01-01 12053 days  \n",
       "43792 2014-01-01  6209 days  \n",
       "\n",
       "[43532 rows x 8 columns]"
      ]
     },
     "execution_count": 108,
     "metadata": {},
     "output_type": "execute_result"
    }
   ],
   "source": [
    "overview = pd.read_csv('Data/Documentation/EDIA_ECD.csv', parse_dates = ['from_date', 'to_date'])\n",
    "#calculate the timespan of the dataset\n",
    "overview['timespan'] = overview['to_date'] - overview['from_date']\n",
    "\n",
    "#group the dataframe according to country_code and indicator_code and then select the one with the largest timespan\n",
    "overview = overview.groupby(['country_code', 'indicator_code'])\n",
    "overview.tail()"
   ]
  },
  {
   "cell_type": "code",
   "execution_count": 229,
   "metadata": {},
   "outputs": [
    {
     "data": {
      "text/html": [
       "<div>\n",
       "<style scoped>\n",
       "    .dataframe tbody tr th:only-of-type {\n",
       "        vertical-align: middle;\n",
       "    }\n",
       "\n",
       "    .dataframe tbody tr th {\n",
       "        vertical-align: top;\n",
       "    }\n",
       "\n",
       "    .dataframe thead th {\n",
       "        text-align: right;\n",
       "    }\n",
       "</style>\n",
       "<table border=\"1\" class=\"dataframe\">\n",
       "  <thead>\n",
       "    <tr style=\"text-align: right;\">\n",
       "      <th></th>\n",
       "      <th>country_code</th>\n",
       "      <th>indicator_code</th>\n",
       "      <th>identifier</th>\n",
       "      <th>series_id</th>\n",
       "      <th>description</th>\n",
       "      <th>from_date</th>\n",
       "      <th>to_date</th>\n",
       "      <th>timespan</th>\n",
       "    </tr>\n",
       "  </thead>\n",
       "  <tbody>\n",
       "    <tr>\n",
       "      <td>43782</td>\n",
       "      <td>ZW</td>\n",
       "      <td>197</td>\n",
       "      <td>ZW.197.A.01</td>\n",
       "      <td>45832</td>\n",
       "      <td>Zimbabwe: Tourist Arrivals [Zimbabwe: Internat...</td>\n",
       "      <td>1995-01-01</td>\n",
       "      <td>2018-01-01</td>\n",
       "      <td>8401 days</td>\n",
       "    </tr>\n",
       "    <tr>\n",
       "      <td>43784</td>\n",
       "      <td>ZW</td>\n",
       "      <td>198</td>\n",
       "      <td>ZW.198.A.01</td>\n",
       "      <td>45834</td>\n",
       "      <td>Zimbabwe: Unemployed Persons [ZW: Unemployment...</td>\n",
       "      <td>1991-01-01</td>\n",
       "      <td>2024-01-01</td>\n",
       "      <td>12053 days</td>\n",
       "    </tr>\n",
       "    <tr>\n",
       "      <td>43787</td>\n",
       "      <td>ZW</td>\n",
       "      <td>199</td>\n",
       "      <td>ZW.199.A.01</td>\n",
       "      <td>45837</td>\n",
       "      <td>Zimbabwe: Unemployment Change [ZW: Unemploymen...</td>\n",
       "      <td>1992-01-01</td>\n",
       "      <td>2024-01-01</td>\n",
       "      <td>11688 days</td>\n",
       "    </tr>\n",
       "    <tr>\n",
       "      <td>43789</td>\n",
       "      <td>ZW</td>\n",
       "      <td>200</td>\n",
       "      <td>ZW.200.A.01</td>\n",
       "      <td>45839</td>\n",
       "      <td>Zimbabwe: Unemployment Rate [ZW: Unemployment:...</td>\n",
       "      <td>1991-01-01</td>\n",
       "      <td>2024-01-01</td>\n",
       "      <td>12053 days</td>\n",
       "    </tr>\n",
       "    <tr>\n",
       "      <td>43791</td>\n",
       "      <td>ZW</td>\n",
       "      <td>205</td>\n",
       "      <td>ZW.205.A.01</td>\n",
       "      <td>45841</td>\n",
       "      <td>Zimbabwe: Youth Unemployment Rate [ZW: Unemplo...</td>\n",
       "      <td>1991-01-01</td>\n",
       "      <td>2024-01-01</td>\n",
       "      <td>12053 days</td>\n",
       "    </tr>\n",
       "  </tbody>\n",
       "</table>\n",
       "</div>"
      ],
      "text/plain": [
       "      country_code  indicator_code   identifier  series_id  \\\n",
       "43782           ZW             197  ZW.197.A.01      45832   \n",
       "43784           ZW             198  ZW.198.A.01      45834   \n",
       "43787           ZW             199  ZW.199.A.01      45837   \n",
       "43789           ZW             200  ZW.200.A.01      45839   \n",
       "43791           ZW             205  ZW.205.A.01      45841   \n",
       "\n",
       "                                             description  from_date  \\\n",
       "43782  Zimbabwe: Tourist Arrivals [Zimbabwe: Internat... 1995-01-01   \n",
       "43784  Zimbabwe: Unemployed Persons [ZW: Unemployment... 1991-01-01   \n",
       "43787  Zimbabwe: Unemployment Change [ZW: Unemploymen... 1992-01-01   \n",
       "43789  Zimbabwe: Unemployment Rate [ZW: Unemployment:... 1991-01-01   \n",
       "43791  Zimbabwe: Youth Unemployment Rate [ZW: Unemplo... 1991-01-01   \n",
       "\n",
       "         to_date   timespan  \n",
       "43782 2018-01-01  8401 days  \n",
       "43784 2024-01-01 12053 days  \n",
       "43787 2024-01-01 11688 days  \n",
       "43789 2024-01-01 12053 days  \n",
       "43791 2024-01-01 12053 days  "
      ]
     },
     "execution_count": 229,
     "metadata": {},
     "output_type": "execute_result"
    }
   ],
   "source": [
    "#read in the dataframe with all the different indicators\n",
    "overview = pd.read_csv('Data/Documentation/EDIA_ECD.csv', parse_dates = ['from_date', 'to_date'])\n",
    "\n",
    "#calculate the timespan of the dataset\n",
    "overview['timespan'] = overview['to_date'] - overview['from_date']\n",
    "\n",
    "#get the index of the row with the biggest timespan\n",
    "idx = overview.groupby(['country_code', 'indicator_code'])['timespan'].transform(max) == overview['timespan']\n",
    "\n",
    "#filter the dataframe to only show the data series with the biggest timespan per indicator\n",
    "overview = overview[idx]\n",
    "#test it the filter was executed correctly\n",
    "overview.tail()"
   ]
  },
  {
   "cell_type": "code",
   "execution_count": 220,
   "metadata": {},
   "outputs": [
    {
     "data": {
      "text/html": [
       "<div>\n",
       "<style scoped>\n",
       "    .dataframe tbody tr th:only-of-type {\n",
       "        vertical-align: middle;\n",
       "    }\n",
       "\n",
       "    .dataframe tbody tr th {\n",
       "        vertical-align: top;\n",
       "    }\n",
       "\n",
       "    .dataframe thead th {\n",
       "        text-align: right;\n",
       "    }\n",
       "</style>\n",
       "<table border=\"1\" class=\"dataframe\">\n",
       "  <thead>\n",
       "    <tr style=\"text-align: right;\">\n",
       "      <th></th>\n",
       "      <th>country_code</th>\n",
       "      <th>indicator_code</th>\n",
       "      <th>identifier</th>\n",
       "      <th>series_id</th>\n",
       "      <th>description</th>\n",
       "      <th>from_date</th>\n",
       "      <th>to_date</th>\n",
       "      <th>timespan</th>\n",
       "    </tr>\n",
       "  </thead>\n",
       "  <tbody>\n",
       "    <tr>\n",
       "      <td>0</td>\n",
       "      <td>AD</td>\n",
       "      <td>43</td>\n",
       "      <td>AD.043.A.01</td>\n",
       "      <td>718</td>\n",
       "      <td>Andorra: Corporate Tax Rate [AD: Corporate Tax...</td>\n",
       "      <td>2017-01-01</td>\n",
       "      <td>2020-01-01</td>\n",
       "      <td>1095 days</td>\n",
       "    </tr>\n",
       "    <tr>\n",
       "      <td>1</td>\n",
       "      <td>AD</td>\n",
       "      <td>66</td>\n",
       "      <td>AD.066.A.01</td>\n",
       "      <td>719</td>\n",
       "      <td>Andorra: Export Prices [Andorra: Export unit v...</td>\n",
       "      <td>2000-01-01</td>\n",
       "      <td>2018-01-01</td>\n",
       "      <td>6575 days</td>\n",
       "    </tr>\n",
       "    <tr>\n",
       "      <td>2</td>\n",
       "      <td>AD</td>\n",
       "      <td>67</td>\n",
       "      <td>AD.067.A.01</td>\n",
       "      <td>720</td>\n",
       "      <td>Andorra: Exports [Andorra: Merchandise exports]</td>\n",
       "      <td>2014-01-01</td>\n",
       "      <td>2014-01-01</td>\n",
       "      <td>0 days</td>\n",
       "    </tr>\n",
       "    <tr>\n",
       "      <td>3</td>\n",
       "      <td>AD</td>\n",
       "      <td>81</td>\n",
       "      <td>AD.081.1.A.01</td>\n",
       "      <td>721</td>\n",
       "      <td>Andorra: GDP (USD) [Andorra: National accounts...</td>\n",
       "      <td>1970-01-01</td>\n",
       "      <td>2018-01-01</td>\n",
       "      <td>17532 days</td>\n",
       "    </tr>\n",
       "    <tr>\n",
       "      <td>4</td>\n",
       "      <td>AD</td>\n",
       "      <td>81</td>\n",
       "      <td>AD.081.A.01</td>\n",
       "      <td>722</td>\n",
       "      <td>Andorra: GDP [Andorra: National accounts: Loca...</td>\n",
       "      <td>1970-01-01</td>\n",
       "      <td>2018-01-01</td>\n",
       "      <td>17532 days</td>\n",
       "    </tr>\n",
       "  </tbody>\n",
       "</table>\n",
       "</div>"
      ],
      "text/plain": [
       "  country_code  indicator_code     identifier  series_id  \\\n",
       "0           AD              43    AD.043.A.01        718   \n",
       "1           AD              66    AD.066.A.01        719   \n",
       "2           AD              67    AD.067.A.01        720   \n",
       "3           AD              81  AD.081.1.A.01        721   \n",
       "4           AD              81    AD.081.A.01        722   \n",
       "\n",
       "                                         description  from_date    to_date  \\\n",
       "0  Andorra: Corporate Tax Rate [AD: Corporate Tax... 2017-01-01 2020-01-01   \n",
       "1  Andorra: Export Prices [Andorra: Export unit v... 2000-01-01 2018-01-01   \n",
       "2    Andorra: Exports [Andorra: Merchandise exports] 2014-01-01 2014-01-01   \n",
       "3  Andorra: GDP (USD) [Andorra: National accounts... 1970-01-01 2018-01-01   \n",
       "4  Andorra: GDP [Andorra: National accounts: Loca... 1970-01-01 2018-01-01   \n",
       "\n",
       "    timespan  \n",
       "0  1095 days  \n",
       "1  6575 days  \n",
       "2     0 days  \n",
       "3 17532 days  \n",
       "4 17532 days  "
      ]
     },
     "execution_count": 220,
     "metadata": {},
     "output_type": "execute_result"
    }
   ],
   "source": [
    "overview.head()"
   ]
  },
  {
   "cell_type": "code",
   "execution_count": 297,
   "metadata": {},
   "outputs": [],
   "source": [
    "#create a dictionary from with the key country_code and the series_id as values\n",
    "countries_indicator = overview[['country_code', 'indicator_code']]\n",
    "\n",
    "#store the unique countries\n",
    "countries = countries_indicator['country_code'].unique()\n",
    "\n",
    "#create a defaultdict to store the series_id under the\n",
    "countries_data = defaultdict()\n",
    "\n",
    "#store the series_ids under every country\n",
    "for i in countries:\n",
    "    countries_data[i] = countries_indicator[countries_indicator['country_code'] == i]['indicator_code'].tolist()"
   ]
  },
  {
   "cell_type": "code",
   "execution_count": 221,
   "metadata": {},
   "outputs": [
    {
     "name": "stdout",
     "output_type": "stream",
     "text": [
      "CPU times: user 341 ms, sys: 16.7 ms, total: 357 ms\n",
      "Wall time: 56.8 s\n"
     ]
    }
   ],
   "source": [
    "%%time\n",
    "series = {'ZW': ['45832','45834','45837','45839','45841'],\n",
    "          'AD': ['718', '719', '720', '721', '722']\n",
    "         }\n",
    "\n",
    "#initiate a defaultdict to store the dataframes in a dictionary to be accessible by the key(series_id)\n",
    "dataframes = defaultdict()\n",
    "\n",
    "#create a dictionary with the series name and the respective data\n",
    "for  key, value in series.items():\n",
    "    test = pd.DataFrame()\n",
    "    for i in range(len(value)):\n",
    "        data = get_econ_data('1950-01-01', '2020-04-29', value[i])\n",
    "        test = test.append(data)\n",
    "        time.sleep(np.random.randint(10, size=1))\n",
    "    dataframes[key] = test\n",
    "    #time.sleep(10)"
   ]
  },
  {
   "cell_type": "code",
   "execution_count": 216,
   "metadata": {},
   "outputs": [
    {
     "name": "stdout",
     "output_type": "stream",
     "text": [
      "CPU times: user 3 µs, sys: 1e+03 ns, total: 4 µs\n",
      "Wall time: 7.15 µs\n"
     ]
    },
    {
     "data": {
      "text/html": [
       "<div>\n",
       "<style scoped>\n",
       "    .dataframe tbody tr th:only-of-type {\n",
       "        vertical-align: middle;\n",
       "    }\n",
       "\n",
       "    .dataframe tbody tr th {\n",
       "        vertical-align: top;\n",
       "    }\n",
       "\n",
       "    .dataframe thead th {\n",
       "        text-align: right;\n",
       "    }\n",
       "</style>\n",
       "<table border=\"1\" class=\"dataframe\">\n",
       "  <thead>\n",
       "    <tr style=\"text-align: right;\">\n",
       "      <th></th>\n",
       "      <th>country_code</th>\n",
       "      <th>indicator_code</th>\n",
       "      <th>value</th>\n",
       "    </tr>\n",
       "    <tr>\n",
       "      <th>date</th>\n",
       "      <th></th>\n",
       "      <th></th>\n",
       "      <th></th>\n",
       "    </tr>\n",
       "  </thead>\n",
       "  <tbody>\n",
       "    <tr>\n",
       "      <td>2018-01-01</td>\n",
       "      <td>ZW</td>\n",
       "      <td>197</td>\n",
       "      <td>2580.00</td>\n",
       "    </tr>\n",
       "    <tr>\n",
       "      <td>2017-01-01</td>\n",
       "      <td>ZW</td>\n",
       "      <td>197</td>\n",
       "      <td>2423.00</td>\n",
       "    </tr>\n",
       "    <tr>\n",
       "      <td>2016-01-01</td>\n",
       "      <td>ZW</td>\n",
       "      <td>197</td>\n",
       "      <td>2168.00</td>\n",
       "    </tr>\n",
       "    <tr>\n",
       "      <td>2015-01-01</td>\n",
       "      <td>ZW</td>\n",
       "      <td>197</td>\n",
       "      <td>2057.00</td>\n",
       "    </tr>\n",
       "    <tr>\n",
       "      <td>2014-01-01</td>\n",
       "      <td>ZW</td>\n",
       "      <td>197</td>\n",
       "      <td>1880.00</td>\n",
       "    </tr>\n",
       "    <tr>\n",
       "      <td>...</td>\n",
       "      <td>...</td>\n",
       "      <td>...</td>\n",
       "      <td>...</td>\n",
       "    </tr>\n",
       "    <tr>\n",
       "      <td>1995-01-01</td>\n",
       "      <td>ZW</td>\n",
       "      <td>205</td>\n",
       "      <td>11.87</td>\n",
       "    </tr>\n",
       "    <tr>\n",
       "      <td>1994-01-01</td>\n",
       "      <td>ZW</td>\n",
       "      <td>205</td>\n",
       "      <td>10.61</td>\n",
       "    </tr>\n",
       "    <tr>\n",
       "      <td>1993-01-01</td>\n",
       "      <td>ZW</td>\n",
       "      <td>205</td>\n",
       "      <td>10.59</td>\n",
       "    </tr>\n",
       "    <tr>\n",
       "      <td>1992-01-01</td>\n",
       "      <td>ZW</td>\n",
       "      <td>205</td>\n",
       "      <td>10.43</td>\n",
       "    </tr>\n",
       "    <tr>\n",
       "      <td>1991-01-01</td>\n",
       "      <td>ZW</td>\n",
       "      <td>205</td>\n",
       "      <td>10.30</td>\n",
       "    </tr>\n",
       "  </tbody>\n",
       "</table>\n",
       "<p>143 rows × 3 columns</p>\n",
       "</div>"
      ],
      "text/plain": [
       "           country_code indicator_code    value\n",
       "date                                           \n",
       "2018-01-01           ZW            197  2580.00\n",
       "2017-01-01           ZW            197  2423.00\n",
       "2016-01-01           ZW            197  2168.00\n",
       "2015-01-01           ZW            197  2057.00\n",
       "2014-01-01           ZW            197  1880.00\n",
       "...                 ...            ...      ...\n",
       "1995-01-01           ZW            205    11.87\n",
       "1994-01-01           ZW            205    10.61\n",
       "1993-01-01           ZW            205    10.59\n",
       "1992-01-01           ZW            205    10.43\n",
       "1991-01-01           ZW            205    10.30\n",
       "\n",
       "[143 rows x 3 columns]"
      ]
     },
     "execution_count": 216,
     "metadata": {},
     "output_type": "execute_result"
    }
   ],
   "source": [
    "CPU times: user 172 ms, sys: 8.85 ms, total: 181 ms\n",
    "Wall time: 38.5 s\n"
   ]
  },
  {
   "cell_type": "code",
   "execution_count": 187,
   "metadata": {},
   "outputs": [
    {
     "data": {
      "text/html": [
       "<div>\n",
       "<style scoped>\n",
       "    .dataframe tbody tr th:only-of-type {\n",
       "        vertical-align: middle;\n",
       "    }\n",
       "\n",
       "    .dataframe tbody tr th {\n",
       "        vertical-align: top;\n",
       "    }\n",
       "\n",
       "    .dataframe thead th {\n",
       "        text-align: right;\n",
       "    }\n",
       "</style>\n",
       "<table border=\"1\" class=\"dataframe\">\n",
       "  <thead>\n",
       "    <tr style=\"text-align: right;\">\n",
       "      <th></th>\n",
       "    </tr>\n",
       "  </thead>\n",
       "  <tbody>\n",
       "  </tbody>\n",
       "</table>\n",
       "</div>"
      ],
      "text/plain": [
       "Empty DataFrame\n",
       "Columns: []\n",
       "Index: []"
      ]
     },
     "execution_count": 187,
     "metadata": {},
     "output_type": "execute_result"
    }
   ],
   "source": [
    "test = ['45839','45841']\n",
    "df = pd.DataFrame()\n",
    "for i in test:\n",
    "    data = get_econ_data('2000-01-01', '2020-04-29', i)\n",
    "    data.append(df)\n"
   ]
  },
  {
   "cell_type": "code",
   "execution_count": 199,
   "metadata": {},
   "outputs": [
    {
     "data": {
      "text/html": [
       "<div>\n",
       "<style scoped>\n",
       "    .dataframe tbody tr th:only-of-type {\n",
       "        vertical-align: middle;\n",
       "    }\n",
       "\n",
       "    .dataframe tbody tr th {\n",
       "        vertical-align: top;\n",
       "    }\n",
       "\n",
       "    .dataframe thead th {\n",
       "        text-align: right;\n",
       "    }\n",
       "</style>\n",
       "<table border=\"1\" class=\"dataframe\">\n",
       "  <thead>\n",
       "    <tr style=\"text-align: right;\">\n",
       "      <th></th>\n",
       "      <th>date</th>\n",
       "      <th>country_code</th>\n",
       "      <th>indicator_code</th>\n",
       "      <th>value</th>\n",
       "    </tr>\n",
       "  </thead>\n",
       "  <tbody>\n",
       "    <tr>\n",
       "      <td>0</td>\n",
       "      <td>2020-01-01</td>\n",
       "      <td>ZW</td>\n",
       "      <td>200</td>\n",
       "      <td>4.99</td>\n",
       "    </tr>\n",
       "    <tr>\n",
       "      <td>1</td>\n",
       "      <td>2019-01-01</td>\n",
       "      <td>ZW</td>\n",
       "      <td>200</td>\n",
       "      <td>4.95</td>\n",
       "    </tr>\n",
       "    <tr>\n",
       "      <td>2</td>\n",
       "      <td>2018-01-01</td>\n",
       "      <td>ZW</td>\n",
       "      <td>200</td>\n",
       "      <td>5.09</td>\n",
       "    </tr>\n",
       "    <tr>\n",
       "      <td>3</td>\n",
       "      <td>2017-01-01</td>\n",
       "      <td>ZW</td>\n",
       "      <td>200</td>\n",
       "      <td>5.17</td>\n",
       "    </tr>\n",
       "    <tr>\n",
       "      <td>4</td>\n",
       "      <td>2016-01-01</td>\n",
       "      <td>ZW</td>\n",
       "      <td>200</td>\n",
       "      <td>5.25</td>\n",
       "    </tr>\n",
       "  </tbody>\n",
       "</table>\n",
       "</div>"
      ],
      "text/plain": [
       "        date country_code indicator_code  value\n",
       "0 2020-01-01           ZW            200   4.99\n",
       "1 2019-01-01           ZW            200   4.95\n",
       "2 2018-01-01           ZW            200   5.09\n",
       "3 2017-01-01           ZW            200   5.17\n",
       "4 2016-01-01           ZW            200   5.25"
      ]
     },
     "execution_count": 199,
     "metadata": {},
     "output_type": "execute_result"
    }
   ],
   "source": [
    "test = pd.DataFrame()\n",
    "data = get_econ_data('2000-01-01', '2020-04-29', '45839').reset_index()\n",
    "data.head()"
   ]
  },
  {
   "cell_type": "code",
   "execution_count": 202,
   "metadata": {},
   "outputs": [
    {
     "data": {
      "text/html": [
       "<div>\n",
       "<style scoped>\n",
       "    .dataframe tbody tr th:only-of-type {\n",
       "        vertical-align: middle;\n",
       "    }\n",
       "\n",
       "    .dataframe tbody tr th {\n",
       "        vertical-align: top;\n",
       "    }\n",
       "\n",
       "    .dataframe thead th {\n",
       "        text-align: right;\n",
       "    }\n",
       "</style>\n",
       "<table border=\"1\" class=\"dataframe\">\n",
       "  <thead>\n",
       "    <tr style=\"text-align: right;\">\n",
       "      <th></th>\n",
       "      <th>date</th>\n",
       "      <th>country_code</th>\n",
       "      <th>indicator_code</th>\n",
       "      <th>value</th>\n",
       "    </tr>\n",
       "  </thead>\n",
       "  <tbody>\n",
       "    <tr>\n",
       "      <td>0</td>\n",
       "      <td>2020-01-01</td>\n",
       "      <td>ZW</td>\n",
       "      <td>200</td>\n",
       "      <td>4.99</td>\n",
       "    </tr>\n",
       "    <tr>\n",
       "      <td>1</td>\n",
       "      <td>2019-01-01</td>\n",
       "      <td>ZW</td>\n",
       "      <td>200</td>\n",
       "      <td>4.95</td>\n",
       "    </tr>\n",
       "    <tr>\n",
       "      <td>2</td>\n",
       "      <td>2018-01-01</td>\n",
       "      <td>ZW</td>\n",
       "      <td>200</td>\n",
       "      <td>5.09</td>\n",
       "    </tr>\n",
       "    <tr>\n",
       "      <td>3</td>\n",
       "      <td>2017-01-01</td>\n",
       "      <td>ZW</td>\n",
       "      <td>200</td>\n",
       "      <td>5.17</td>\n",
       "    </tr>\n",
       "    <tr>\n",
       "      <td>4</td>\n",
       "      <td>2016-01-01</td>\n",
       "      <td>ZW</td>\n",
       "      <td>200</td>\n",
       "      <td>5.25</td>\n",
       "    </tr>\n",
       "  </tbody>\n",
       "</table>\n",
       "</div>"
      ],
      "text/plain": [
       "        date country_code indicator_code  value\n",
       "0 2020-01-01           ZW            200   4.99\n",
       "1 2019-01-01           ZW            200   4.95\n",
       "2 2018-01-01           ZW            200   5.09\n",
       "3 2017-01-01           ZW            200   5.17\n",
       "4 2016-01-01           ZW            200   5.25"
      ]
     },
     "execution_count": 202,
     "metadata": {},
     "output_type": "execute_result"
    }
   ],
   "source": [
    "test = test.append(data)\n",
    "test.head()"
   ]
  },
  {
   "cell_type": "code",
   "execution_count": 203,
   "metadata": {},
   "outputs": [
    {
     "data": {
      "text/html": [
       "<div>\n",
       "<style scoped>\n",
       "    .dataframe tbody tr th:only-of-type {\n",
       "        vertical-align: middle;\n",
       "    }\n",
       "\n",
       "    .dataframe tbody tr th {\n",
       "        vertical-align: top;\n",
       "    }\n",
       "\n",
       "    .dataframe thead th {\n",
       "        text-align: right;\n",
       "    }\n",
       "</style>\n",
       "<table border=\"1\" class=\"dataframe\">\n",
       "  <thead>\n",
       "    <tr style=\"text-align: right;\">\n",
       "      <th></th>\n",
       "      <th>date</th>\n",
       "      <th>country_code</th>\n",
       "      <th>indicator_code</th>\n",
       "      <th>value</th>\n",
       "    </tr>\n",
       "  </thead>\n",
       "  <tbody>\n",
       "    <tr>\n",
       "      <td>0</td>\n",
       "      <td>2020-01-01</td>\n",
       "      <td>ZW</td>\n",
       "      <td>200</td>\n",
       "      <td>4.99</td>\n",
       "    </tr>\n",
       "    <tr>\n",
       "      <td>1</td>\n",
       "      <td>2019-01-01</td>\n",
       "      <td>ZW</td>\n",
       "      <td>200</td>\n",
       "      <td>4.95</td>\n",
       "    </tr>\n",
       "    <tr>\n",
       "      <td>2</td>\n",
       "      <td>2018-01-01</td>\n",
       "      <td>ZW</td>\n",
       "      <td>200</td>\n",
       "      <td>5.09</td>\n",
       "    </tr>\n",
       "    <tr>\n",
       "      <td>3</td>\n",
       "      <td>2017-01-01</td>\n",
       "      <td>ZW</td>\n",
       "      <td>200</td>\n",
       "      <td>5.17</td>\n",
       "    </tr>\n",
       "    <tr>\n",
       "      <td>4</td>\n",
       "      <td>2016-01-01</td>\n",
       "      <td>ZW</td>\n",
       "      <td>200</td>\n",
       "      <td>5.25</td>\n",
       "    </tr>\n",
       "    <tr>\n",
       "      <td>5</td>\n",
       "      <td>2015-01-01</td>\n",
       "      <td>ZW</td>\n",
       "      <td>200</td>\n",
       "      <td>5.30</td>\n",
       "    </tr>\n",
       "    <tr>\n",
       "      <td>6</td>\n",
       "      <td>2014-01-01</td>\n",
       "      <td>ZW</td>\n",
       "      <td>200</td>\n",
       "      <td>5.34</td>\n",
       "    </tr>\n",
       "    <tr>\n",
       "      <td>7</td>\n",
       "      <td>2013-01-01</td>\n",
       "      <td>ZW</td>\n",
       "      <td>200</td>\n",
       "      <td>5.40</td>\n",
       "    </tr>\n",
       "    <tr>\n",
       "      <td>8</td>\n",
       "      <td>2012-01-01</td>\n",
       "      <td>ZW</td>\n",
       "      <td>200</td>\n",
       "      <td>5.38</td>\n",
       "    </tr>\n",
       "    <tr>\n",
       "      <td>9</td>\n",
       "      <td>2011-01-01</td>\n",
       "      <td>ZW</td>\n",
       "      <td>200</td>\n",
       "      <td>5.37</td>\n",
       "    </tr>\n",
       "    <tr>\n",
       "      <td>10</td>\n",
       "      <td>2010-01-01</td>\n",
       "      <td>ZW</td>\n",
       "      <td>200</td>\n",
       "      <td>5.22</td>\n",
       "    </tr>\n",
       "    <tr>\n",
       "      <td>11</td>\n",
       "      <td>2009-01-01</td>\n",
       "      <td>ZW</td>\n",
       "      <td>200</td>\n",
       "      <td>5.01</td>\n",
       "    </tr>\n",
       "    <tr>\n",
       "      <td>12</td>\n",
       "      <td>2008-01-01</td>\n",
       "      <td>ZW</td>\n",
       "      <td>200</td>\n",
       "      <td>4.63</td>\n",
       "    </tr>\n",
       "    <tr>\n",
       "      <td>13</td>\n",
       "      <td>2007-01-01</td>\n",
       "      <td>ZW</td>\n",
       "      <td>200</td>\n",
       "      <td>4.53</td>\n",
       "    </tr>\n",
       "    <tr>\n",
       "      <td>14</td>\n",
       "      <td>2006-01-01</td>\n",
       "      <td>ZW</td>\n",
       "      <td>200</td>\n",
       "      <td>4.50</td>\n",
       "    </tr>\n",
       "    <tr>\n",
       "      <td>15</td>\n",
       "      <td>2005-01-01</td>\n",
       "      <td>ZW</td>\n",
       "      <td>200</td>\n",
       "      <td>4.47</td>\n",
       "    </tr>\n",
       "    <tr>\n",
       "      <td>16</td>\n",
       "      <td>2004-01-01</td>\n",
       "      <td>ZW</td>\n",
       "      <td>200</td>\n",
       "      <td>4.39</td>\n",
       "    </tr>\n",
       "    <tr>\n",
       "      <td>17</td>\n",
       "      <td>2003-01-01</td>\n",
       "      <td>ZW</td>\n",
       "      <td>200</td>\n",
       "      <td>4.73</td>\n",
       "    </tr>\n",
       "    <tr>\n",
       "      <td>18</td>\n",
       "      <td>2002-01-01</td>\n",
       "      <td>ZW</td>\n",
       "      <td>200</td>\n",
       "      <td>5.04</td>\n",
       "    </tr>\n",
       "    <tr>\n",
       "      <td>19</td>\n",
       "      <td>2001-01-01</td>\n",
       "      <td>ZW</td>\n",
       "      <td>200</td>\n",
       "      <td>5.31</td>\n",
       "    </tr>\n",
       "    <tr>\n",
       "      <td>20</td>\n",
       "      <td>2000-01-01</td>\n",
       "      <td>ZW</td>\n",
       "      <td>200</td>\n",
       "      <td>5.64</td>\n",
       "    </tr>\n",
       "    <tr>\n",
       "      <td>0</td>\n",
       "      <td>2020-01-01</td>\n",
       "      <td>ZW</td>\n",
       "      <td>205</td>\n",
       "      <td>8.07</td>\n",
       "    </tr>\n",
       "    <tr>\n",
       "      <td>1</td>\n",
       "      <td>2019-01-01</td>\n",
       "      <td>ZW</td>\n",
       "      <td>205</td>\n",
       "      <td>8.09</td>\n",
       "    </tr>\n",
       "    <tr>\n",
       "      <td>2</td>\n",
       "      <td>2018-01-01</td>\n",
       "      <td>ZW</td>\n",
       "      <td>205</td>\n",
       "      <td>8.35</td>\n",
       "    </tr>\n",
       "    <tr>\n",
       "      <td>3</td>\n",
       "      <td>2017-01-01</td>\n",
       "      <td>ZW</td>\n",
       "      <td>205</td>\n",
       "      <td>8.44</td>\n",
       "    </tr>\n",
       "    <tr>\n",
       "      <td>4</td>\n",
       "      <td>2016-01-01</td>\n",
       "      <td>ZW</td>\n",
       "      <td>205</td>\n",
       "      <td>8.55</td>\n",
       "    </tr>\n",
       "    <tr>\n",
       "      <td>5</td>\n",
       "      <td>2015-01-01</td>\n",
       "      <td>ZW</td>\n",
       "      <td>205</td>\n",
       "      <td>8.58</td>\n",
       "    </tr>\n",
       "    <tr>\n",
       "      <td>6</td>\n",
       "      <td>2014-01-01</td>\n",
       "      <td>ZW</td>\n",
       "      <td>205</td>\n",
       "      <td>8.61</td>\n",
       "    </tr>\n",
       "    <tr>\n",
       "      <td>7</td>\n",
       "      <td>2013-01-01</td>\n",
       "      <td>ZW</td>\n",
       "      <td>205</td>\n",
       "      <td>8.66</td>\n",
       "    </tr>\n",
       "    <tr>\n",
       "      <td>8</td>\n",
       "      <td>2012-01-01</td>\n",
       "      <td>ZW</td>\n",
       "      <td>205</td>\n",
       "      <td>8.53</td>\n",
       "    </tr>\n",
       "    <tr>\n",
       "      <td>9</td>\n",
       "      <td>2011-01-01</td>\n",
       "      <td>ZW</td>\n",
       "      <td>205</td>\n",
       "      <td>8.47</td>\n",
       "    </tr>\n",
       "    <tr>\n",
       "      <td>10</td>\n",
       "      <td>2010-01-01</td>\n",
       "      <td>ZW</td>\n",
       "      <td>205</td>\n",
       "      <td>8.26</td>\n",
       "    </tr>\n",
       "    <tr>\n",
       "      <td>11</td>\n",
       "      <td>2009-01-01</td>\n",
       "      <td>ZW</td>\n",
       "      <td>205</td>\n",
       "      <td>8.07</td>\n",
       "    </tr>\n",
       "    <tr>\n",
       "      <td>12</td>\n",
       "      <td>2008-01-01</td>\n",
       "      <td>ZW</td>\n",
       "      <td>205</td>\n",
       "      <td>7.66</td>\n",
       "    </tr>\n",
       "    <tr>\n",
       "      <td>13</td>\n",
       "      <td>2007-01-01</td>\n",
       "      <td>ZW</td>\n",
       "      <td>205</td>\n",
       "      <td>7.52</td>\n",
       "    </tr>\n",
       "    <tr>\n",
       "      <td>14</td>\n",
       "      <td>2006-01-01</td>\n",
       "      <td>ZW</td>\n",
       "      <td>205</td>\n",
       "      <td>7.51</td>\n",
       "    </tr>\n",
       "    <tr>\n",
       "      <td>15</td>\n",
       "      <td>2005-01-01</td>\n",
       "      <td>ZW</td>\n",
       "      <td>205</td>\n",
       "      <td>7.52</td>\n",
       "    </tr>\n",
       "    <tr>\n",
       "      <td>16</td>\n",
       "      <td>2004-01-01</td>\n",
       "      <td>ZW</td>\n",
       "      <td>205</td>\n",
       "      <td>7.47</td>\n",
       "    </tr>\n",
       "    <tr>\n",
       "      <td>17</td>\n",
       "      <td>2003-01-01</td>\n",
       "      <td>ZW</td>\n",
       "      <td>205</td>\n",
       "      <td>8.39</td>\n",
       "    </tr>\n",
       "    <tr>\n",
       "      <td>18</td>\n",
       "      <td>2002-01-01</td>\n",
       "      <td>ZW</td>\n",
       "      <td>205</td>\n",
       "      <td>9.23</td>\n",
       "    </tr>\n",
       "    <tr>\n",
       "      <td>19</td>\n",
       "      <td>2001-01-01</td>\n",
       "      <td>ZW</td>\n",
       "      <td>205</td>\n",
       "      <td>10.02</td>\n",
       "    </tr>\n",
       "    <tr>\n",
       "      <td>20</td>\n",
       "      <td>2000-01-01</td>\n",
       "      <td>ZW</td>\n",
       "      <td>205</td>\n",
       "      <td>10.95</td>\n",
       "    </tr>\n",
       "  </tbody>\n",
       "</table>\n",
       "</div>"
      ],
      "text/plain": [
       "         date country_code indicator_code  value\n",
       "0  2020-01-01           ZW            200   4.99\n",
       "1  2019-01-01           ZW            200   4.95\n",
       "2  2018-01-01           ZW            200   5.09\n",
       "3  2017-01-01           ZW            200   5.17\n",
       "4  2016-01-01           ZW            200   5.25\n",
       "5  2015-01-01           ZW            200   5.30\n",
       "6  2014-01-01           ZW            200   5.34\n",
       "7  2013-01-01           ZW            200   5.40\n",
       "8  2012-01-01           ZW            200   5.38\n",
       "9  2011-01-01           ZW            200   5.37\n",
       "10 2010-01-01           ZW            200   5.22\n",
       "11 2009-01-01           ZW            200   5.01\n",
       "12 2008-01-01           ZW            200   4.63\n",
       "13 2007-01-01           ZW            200   4.53\n",
       "14 2006-01-01           ZW            200   4.50\n",
       "15 2005-01-01           ZW            200   4.47\n",
       "16 2004-01-01           ZW            200   4.39\n",
       "17 2003-01-01           ZW            200   4.73\n",
       "18 2002-01-01           ZW            200   5.04\n",
       "19 2001-01-01           ZW            200   5.31\n",
       "20 2000-01-01           ZW            200   5.64\n",
       "0  2020-01-01           ZW            205   8.07\n",
       "1  2019-01-01           ZW            205   8.09\n",
       "2  2018-01-01           ZW            205   8.35\n",
       "3  2017-01-01           ZW            205   8.44\n",
       "4  2016-01-01           ZW            205   8.55\n",
       "5  2015-01-01           ZW            205   8.58\n",
       "6  2014-01-01           ZW            205   8.61\n",
       "7  2013-01-01           ZW            205   8.66\n",
       "8  2012-01-01           ZW            205   8.53\n",
       "9  2011-01-01           ZW            205   8.47\n",
       "10 2010-01-01           ZW            205   8.26\n",
       "11 2009-01-01           ZW            205   8.07\n",
       "12 2008-01-01           ZW            205   7.66\n",
       "13 2007-01-01           ZW            205   7.52\n",
       "14 2006-01-01           ZW            205   7.51\n",
       "15 2005-01-01           ZW            205   7.52\n",
       "16 2004-01-01           ZW            205   7.47\n",
       "17 2003-01-01           ZW            205   8.39\n",
       "18 2002-01-01           ZW            205   9.23\n",
       "19 2001-01-01           ZW            205  10.02\n",
       "20 2000-01-01           ZW            205  10.95"
      ]
     },
     "execution_count": 203,
     "metadata": {},
     "output_type": "execute_result"
    }
   ],
   "source": [
    "test.head()\n",
    "data = get_econ_data('2000-01-01', '2020-04-29', '45841').reset_index()\n",
    "test.append(data)"
   ]
  },
  {
   "cell_type": "code",
   "execution_count": 172,
   "metadata": {},
   "outputs": [
    {
     "data": {
      "text/html": [
       "<div>\n",
       "<style scoped>\n",
       "    .dataframe tbody tr th:only-of-type {\n",
       "        vertical-align: middle;\n",
       "    }\n",
       "\n",
       "    .dataframe tbody tr th {\n",
       "        vertical-align: top;\n",
       "    }\n",
       "\n",
       "    .dataframe thead th {\n",
       "        text-align: right;\n",
       "    }\n",
       "</style>\n",
       "<table border=\"1\" class=\"dataframe\">\n",
       "  <thead>\n",
       "    <tr style=\"text-align: right;\">\n",
       "      <th></th>\n",
       "      <th>country_code</th>\n",
       "      <th>indicator_code</th>\n",
       "      <th>value</th>\n",
       "    </tr>\n",
       "  </thead>\n",
       "  <tbody>\n",
       "  </tbody>\n",
       "</table>\n",
       "</div>"
      ],
      "text/plain": [
       "Empty DataFrame\n",
       "Columns: [country_code, indicator_code, value]\n",
       "Index: []"
      ]
     },
     "execution_count": 172,
     "metadata": {},
     "output_type": "execute_result"
    }
   ],
   "source": [
    "dataframes['ZW']"
   ]
  },
  {
   "cell_type": "markdown",
   "metadata": {},
   "source": [
    "### Import Economic Data"
   ]
  },
  {
   "cell_type": "code",
   "execution_count": 15,
   "metadata": {},
   "outputs": [],
   "source": [
    "#define the function to get the data series we want\n",
    "def get_econ_data(start_date, end_date, series_id):\n",
    "    \"\"\"Download the economic data from the quandl database and reshape it for further use with datetime index\"\"\"\n",
    "    data = quandl.get_table('EDIA/ECD', date = { 'gte': start_date, 'lte': end_date}, series_id = series_id)\n",
    "    #data_reshaped = pd.pivot_table(data, index = 'date', values = ['value'], columns = ['country_code', 'indicator_code', 'description'])\n",
    "    \n",
    "    #drop the column not needed and set the date as column\n",
    "    data_reshaped = data[['date', 'country_code', 'indicator_code', 'value']].set_index(['date'])\n",
    "    return data_reshaped"
   ]
  },
  {
   "attachments": {},
   "cell_type": "markdown",
   "metadata": {},
   "source": [
    "###  indicators\n",
    "- inflation rate\n",
    "- balance of trade, 004\n",
    "- government debt to gdp\n",
    "- business confidence\n",
    "- manufacturing PMI\n",
    "- servies PMI\n",
    "- consumer confidence, 031\n",
    "- retail sales MoM, 181\n",
    "- government debt, 102\n",
    "- Government Debt To GDP, 103\n",
    "- Money Supply M0, 146\n",
    "- Money Supply M1, 147\n",
    "- Money Supply M2, 148\n",
    "- Money Supply M3, 149\n",
    "- unemployment change, 198\n",
    "- unemployment rate, 200\n",
    "- Government Revenues, 105\n",
    "- Government Spending, 106\n",
    "- Corporate Tax Rate, 043\n",
    "- Personal Income Tax Rate, 167\n",
    "- Deposit Interest Rate, 55\n",
    "- Central Bank Interest Rate, 124"
   ]
  },
  {
   "cell_type": "markdown",
   "metadata": {},
   "source": [
    "#### Import Data for Brazil"
   ]
  },
  {
   "cell_type": "code",
   "execution_count": 54,
   "metadata": {},
   "outputs": [
    {
     "name": "stdout",
     "output_type": "stream",
     "text": [
      "(243, 3)\n",
      "(243, 3)\n",
      "(11, 3)\n",
      "(243, 3)\n",
      "(218, 3)\n",
      "(243, 3)\n",
      "(242, 3)\n",
      "(243, 3)\n",
      "(96, 3)\n",
      "(18, 3)\n",
      "(18, 3)\n",
      "(18, 3)\n",
      "(243, 3)\n",
      "(243, 3)\n"
     ]
    }
   ],
   "source": [
    "#import several dataframes\n",
    "#create a dictionary for the DF for Brazil:\n",
    "df_brazil = {'CPI': '5218',\n",
    "             'Trade_Balance': '5185',\n",
    "             'Government_Debt_to_GDP': '5347',\n",
    "             'Business_Confidence_Manufacturing': '5193',\n",
    "             'Manufacturing_Production': '5414',\n",
    "             'Consumer_Confidence': '5213',\n",
    "             'Retail_Sales': '5449',\n",
    "             'Money_Supply_M1': '5419',\n",
    "             'Unemployment_rate': '5478',\n",
    "             'Youth_Unemployment_rate': '5485',\n",
    "             'Personal_Income_Tax': '5429',\n",
    "             'Corporate_Tax_Rate': '5221',\n",
    "             'Deposit_Interest_Rate': '5241',\n",
    "             'CB_Interest_Rate': '5398'\n",
    "            }\n",
    "\n",
    "#initiate a defaultdict to store the dataframes in a dictionary to be accessible by the key(series_id)\n",
    "data_brazil = defaultdict()\n",
    "\n",
    "#create a dictionary with the series name and the respective data\n",
    "for  key, value in df_brazil.items():\n",
    "    data_brazil[key] = get_econ_data('2000-01-01', '2020-04-29', value)\n",
    "    print(data_brazil[key].shape)"
   ]
  },
  {
   "cell_type": "code",
   "execution_count": 56,
   "metadata": {},
   "outputs": [
    {
     "data": {
      "text/html": [
       "<div>\n",
       "<style scoped>\n",
       "    .dataframe tbody tr th:only-of-type {\n",
       "        vertical-align: middle;\n",
       "    }\n",
       "\n",
       "    .dataframe tbody tr th {\n",
       "        vertical-align: top;\n",
       "    }\n",
       "\n",
       "    .dataframe thead th {\n",
       "        text-align: right;\n",
       "    }\n",
       "</style>\n",
       "<table border=\"1\" class=\"dataframe\">\n",
       "  <thead>\n",
       "    <tr style=\"text-align: right;\">\n",
       "      <th></th>\n",
       "      <th>country_code</th>\n",
       "      <th>indicator_code</th>\n",
       "      <th>value</th>\n",
       "    </tr>\n",
       "    <tr>\n",
       "      <th>date</th>\n",
       "      <th></th>\n",
       "      <th></th>\n",
       "      <th></th>\n",
       "    </tr>\n",
       "  </thead>\n",
       "  <tbody>\n",
       "    <tr>\n",
       "      <td>2020-03-01</td>\n",
       "      <td>BR</td>\n",
       "      <td>124</td>\n",
       "      <td>3.75</td>\n",
       "    </tr>\n",
       "    <tr>\n",
       "      <td>2020-02-01</td>\n",
       "      <td>BR</td>\n",
       "      <td>124</td>\n",
       "      <td>4.25</td>\n",
       "    </tr>\n",
       "    <tr>\n",
       "      <td>2020-01-01</td>\n",
       "      <td>BR</td>\n",
       "      <td>124</td>\n",
       "      <td>4.50</td>\n",
       "    </tr>\n",
       "    <tr>\n",
       "      <td>2019-12-01</td>\n",
       "      <td>BR</td>\n",
       "      <td>124</td>\n",
       "      <td>4.50</td>\n",
       "    </tr>\n",
       "    <tr>\n",
       "      <td>2019-11-01</td>\n",
       "      <td>BR</td>\n",
       "      <td>124</td>\n",
       "      <td>5.00</td>\n",
       "    </tr>\n",
       "  </tbody>\n",
       "</table>\n",
       "</div>"
      ],
      "text/plain": [
       "           country_code indicator_code  value\n",
       "date                                         \n",
       "2020-03-01           BR            124   3.75\n",
       "2020-02-01           BR            124   4.25\n",
       "2020-01-01           BR            124   4.50\n",
       "2019-12-01           BR            124   4.50\n",
       "2019-11-01           BR            124   5.00"
      ]
     },
     "execution_count": 56,
     "metadata": {},
     "output_type": "execute_result"
    }
   ],
   "source": [
    "data_brazil['CB_Interest_Rate'].head()"
   ]
  },
  {
   "cell_type": "code",
   "execution_count": 63,
   "metadata": {},
   "outputs": [
    {
     "data": {
      "image/png": "[encoded data removed]",
      "text/plain": [
       "<Figure size 432x288 with 1 Axes>"
      ]
     },
     "metadata": {
      "needs_background": "light"
     },
     "output_type": "display_data"
    }
   ],
   "source": [
    "plt.plot(data_brazil['Trade_Balance']['value'], label = 'Trade_Balance')\n",
    "plt.show()"
   ]
  },
  {
   "cell_type": "code",
   "execution_count": 80,
   "metadata": {},
   "outputs": [
    {
     "data": {
      "image/png": "[encoded data removed]",
      "text/plain": [
       "<Figure size 432x288 with 1 Axes>"
      ]
     },
     "metadata": {
      "needs_background": "light"
     },
     "output_type": "display_data"
    }
   ],
   "source": [
    "#plt.plot(normalize(data_brazil['Money_Supply_M1']['value']), label = 'Money Supply M1')\n",
    "#plt.plot(normalize(data_brazil['CPI']['value']), label = 'Consumer Price Index')\n",
    "plt.plot(normalize(data_brazil['CB_Interest_Rate']['value']), label = 'CB Interest Rate')\n",
    "#plt.plot(normalize(data_brazil['Trade_Balance']['value']), label = 'Trade_Balance')\n",
    "plt.title('CPI vs Money Supply M1 in Brazil')\n",
    "plt.legend(loc = 'lower right')\n",
    "plt.show()"
   ]
  },
  {
   "cell_type": "markdown",
   "metadata": {},
   "source": [
    "#### Import Data for United States"
   ]
  },
  {
   "cell_type": "code",
   "execution_count": 181,
   "metadata": {},
   "outputs": [],
   "source": [
    "from functools import reduce\n",
    "\n",
    "#merge the timeseries of a country into one dataframe\n",
    "dfs = [frames['6500'], frames['6550'], frames['6600']]\n",
    "cambodia  = reduce(lambda left,right: pd.merge(left, right, on='date'), dfs)"
   ]
  },
  {
   "cell_type": "markdown",
   "metadata": {},
   "source": [
    "### Import USD/BRL Exchange Rate"
   ]
  },
  {
   "cell_type": "code",
   "execution_count": 76,
   "metadata": {},
   "outputs": [],
   "source": [
    "#source of the USD/BRL Exchange Rate is Yahoo Finance\n",
    "BRL_USD = pd.read_csv('Data/Currencies/USDBRL.csv', parse_dates = ['Date'], index_col = ['Date'])"
   ]
  },
  {
   "cell_type": "code",
   "execution_count": 77,
   "metadata": {},
   "outputs": [
    {
     "data": {
      "text/html": [
       "<div>\n",
       "<style scoped>\n",
       "    .dataframe tbody tr th:only-of-type {\n",
       "        vertical-align: middle;\n",
       "    }\n",
       "\n",
       "    .dataframe tbody tr th {\n",
       "        vertical-align: top;\n",
       "    }\n",
       "\n",
       "    .dataframe thead th {\n",
       "        text-align: right;\n",
       "    }\n",
       "</style>\n",
       "<table border=\"1\" class=\"dataframe\">\n",
       "  <thead>\n",
       "    <tr style=\"text-align: right;\">\n",
       "      <th></th>\n",
       "      <th>Open</th>\n",
       "      <th>High</th>\n",
       "      <th>Low</th>\n",
       "      <th>Close</th>\n",
       "      <th>Adj Close</th>\n",
       "      <th>Volume</th>\n",
       "    </tr>\n",
       "    <tr>\n",
       "      <th>Date</th>\n",
       "      <th></th>\n",
       "      <th></th>\n",
       "      <th></th>\n",
       "      <th></th>\n",
       "      <th></th>\n",
       "      <th></th>\n",
       "    </tr>\n",
       "  </thead>\n",
       "  <tbody>\n",
       "    <tr>\n",
       "      <td>2003-12-01</td>\n",
       "      <td>2.946</td>\n",
       "      <td>2.948</td>\n",
       "      <td>2.923</td>\n",
       "      <td>2.934</td>\n",
       "      <td>2.934</td>\n",
       "      <td>0.0</td>\n",
       "    </tr>\n",
       "    <tr>\n",
       "      <td>2003-12-08</td>\n",
       "      <td>2.934</td>\n",
       "      <td>2.945</td>\n",
       "      <td>2.931</td>\n",
       "      <td>2.935</td>\n",
       "      <td>2.935</td>\n",
       "      <td>0.0</td>\n",
       "    </tr>\n",
       "    <tr>\n",
       "      <td>2003-12-15</td>\n",
       "      <td>2.935</td>\n",
       "      <td>2.943</td>\n",
       "      <td>2.918</td>\n",
       "      <td>2.923</td>\n",
       "      <td>2.923</td>\n",
       "      <td>0.0</td>\n",
       "    </tr>\n",
       "    <tr>\n",
       "      <td>2003-12-22</td>\n",
       "      <td>2.923</td>\n",
       "      <td>2.928</td>\n",
       "      <td>2.805</td>\n",
       "      <td>2.901</td>\n",
       "      <td>2.901</td>\n",
       "      <td>0.0</td>\n",
       "    </tr>\n",
       "    <tr>\n",
       "      <td>2003-12-29</td>\n",
       "      <td>2.901</td>\n",
       "      <td>2.908</td>\n",
       "      <td>2.860</td>\n",
       "      <td>2.876</td>\n",
       "      <td>2.876</td>\n",
       "      <td>0.0</td>\n",
       "    </tr>\n",
       "  </tbody>\n",
       "</table>\n",
       "</div>"
      ],
      "text/plain": [
       "             Open   High    Low  Close  Adj Close  Volume\n",
       "Date                                                     \n",
       "2003-12-01  2.946  2.948  2.923  2.934      2.934     0.0\n",
       "2003-12-08  2.934  2.945  2.931  2.935      2.935     0.0\n",
       "2003-12-15  2.935  2.943  2.918  2.923      2.923     0.0\n",
       "2003-12-22  2.923  2.928  2.805  2.901      2.901     0.0\n",
       "2003-12-29  2.901  2.908  2.860  2.876      2.876     0.0"
      ]
     },
     "execution_count": 77,
     "metadata": {},
     "output_type": "execute_result"
    }
   ],
   "source": [
    "BRL_USD.head()"
   ]
  },
  {
   "cell_type": "code",
   "execution_count": 67,
   "metadata": {},
   "outputs": [],
   "source": [
    "big_mac_price_BRA = quandl.get('ECONOMIST/BIGMAC_BRA')"
   ]
  },
  {
   "cell_type": "code",
   "execution_count": 78,
   "metadata": {},
   "outputs": [
    {
     "data": {
      "text/html": [
       "<div>\n",
       "<style scoped>\n",
       "    .dataframe tbody tr th:only-of-type {\n",
       "        vertical-align: middle;\n",
       "    }\n",
       "\n",
       "    .dataframe tbody tr th {\n",
       "        vertical-align: top;\n",
       "    }\n",
       "\n",
       "    .dataframe thead th {\n",
       "        text-align: right;\n",
       "    }\n",
       "</style>\n",
       "<table border=\"1\" class=\"dataframe\">\n",
       "  <thead>\n",
       "    <tr style=\"text-align: right;\">\n",
       "      <th></th>\n",
       "      <th>local_price</th>\n",
       "      <th>dollar_ex</th>\n",
       "      <th>dollar_price</th>\n",
       "      <th>dollar_ppp</th>\n",
       "      <th>dollar_valuation</th>\n",
       "      <th>dollar_adj_valuation</th>\n",
       "      <th>euro_adj_valuation</th>\n",
       "      <th>sterling_adj_valuation</th>\n",
       "      <th>yen_adj_valuation</th>\n",
       "      <th>yuan_adj_valuation</th>\n",
       "    </tr>\n",
       "    <tr>\n",
       "      <th>Date</th>\n",
       "      <th></th>\n",
       "      <th></th>\n",
       "      <th></th>\n",
       "      <th></th>\n",
       "      <th></th>\n",
       "      <th></th>\n",
       "      <th></th>\n",
       "      <th></th>\n",
       "      <th></th>\n",
       "      <th></th>\n",
       "    </tr>\n",
       "  </thead>\n",
       "  <tbody>\n",
       "    <tr>\n",
       "      <td>2000-04-30</td>\n",
       "      <td>2.95</td>\n",
       "      <td>1.79</td>\n",
       "      <td>1.65</td>\n",
       "      <td>1.175299</td>\n",
       "      <td>-34.340849</td>\n",
       "      <td>NaN</td>\n",
       "      <td>NaN</td>\n",
       "      <td>NaN</td>\n",
       "      <td>NaN</td>\n",
       "      <td>NaN</td>\n",
       "    </tr>\n",
       "    <tr>\n",
       "      <td>2001-04-30</td>\n",
       "      <td>3.60</td>\n",
       "      <td>2.19</td>\n",
       "      <td>1.64</td>\n",
       "      <td>1.417323</td>\n",
       "      <td>-35.282062</td>\n",
       "      <td>NaN</td>\n",
       "      <td>NaN</td>\n",
       "      <td>NaN</td>\n",
       "      <td>NaN</td>\n",
       "      <td>NaN</td>\n",
       "    </tr>\n",
       "    <tr>\n",
       "      <td>2002-04-30</td>\n",
       "      <td>3.60</td>\n",
       "      <td>2.34</td>\n",
       "      <td>1.55</td>\n",
       "      <td>1.445783</td>\n",
       "      <td>-38.214396</td>\n",
       "      <td>NaN</td>\n",
       "      <td>NaN</td>\n",
       "      <td>NaN</td>\n",
       "      <td>NaN</td>\n",
       "      <td>NaN</td>\n",
       "    </tr>\n",
       "    <tr>\n",
       "      <td>2003-04-30</td>\n",
       "      <td>4.55</td>\n",
       "      <td>3.07</td>\n",
       "      <td>1.44</td>\n",
       "      <td>1.678967</td>\n",
       "      <td>-45.310528</td>\n",
       "      <td>NaN</td>\n",
       "      <td>NaN</td>\n",
       "      <td>NaN</td>\n",
       "      <td>NaN</td>\n",
       "      <td>NaN</td>\n",
       "    </tr>\n",
       "    <tr>\n",
       "      <td>2004-05-31</td>\n",
       "      <td>5.40</td>\n",
       "      <td>3.18</td>\n",
       "      <td>1.70</td>\n",
       "      <td>1.862069</td>\n",
       "      <td>-41.444372</td>\n",
       "      <td>NaN</td>\n",
       "      <td>NaN</td>\n",
       "      <td>NaN</td>\n",
       "      <td>NaN</td>\n",
       "      <td>NaN</td>\n",
       "    </tr>\n",
       "  </tbody>\n",
       "</table>\n",
       "</div>"
      ],
      "text/plain": [
       "            local_price  dollar_ex  dollar_price  dollar_ppp  \\\n",
       "Date                                                           \n",
       "2000-04-30         2.95       1.79          1.65    1.175299   \n",
       "2001-04-30         3.60       2.19          1.64    1.417323   \n",
       "2002-04-30         3.60       2.34          1.55    1.445783   \n",
       "2003-04-30         4.55       3.07          1.44    1.678967   \n",
       "2004-05-31         5.40       3.18          1.70    1.862069   \n",
       "\n",
       "            dollar_valuation  dollar_adj_valuation  euro_adj_valuation  \\\n",
       "Date                                                                     \n",
       "2000-04-30        -34.340849                   NaN                 NaN   \n",
       "2001-04-30        -35.282062                   NaN                 NaN   \n",
       "2002-04-30        -38.214396                   NaN                 NaN   \n",
       "2003-04-30        -45.310528                   NaN                 NaN   \n",
       "2004-05-31        -41.444372                   NaN                 NaN   \n",
       "\n",
       "            sterling_adj_valuation  yen_adj_valuation  yuan_adj_valuation  \n",
       "Date                                                                       \n",
       "2000-04-30                     NaN                NaN                 NaN  \n",
       "2001-04-30                     NaN                NaN                 NaN  \n",
       "2002-04-30                     NaN                NaN                 NaN  \n",
       "2003-04-30                     NaN                NaN                 NaN  \n",
       "2004-05-31                     NaN                NaN                 NaN  "
      ]
     },
     "execution_count": 78,
     "metadata": {},
     "output_type": "execute_result"
    }
   ],
   "source": [
    "big_mac_price_BRA.head()"
   ]
  },
  {
   "cell_type": "code",
   "execution_count": 105,
   "metadata": {},
   "outputs": [
    {
     "data": {
      "image/png": "[encoded data removed]",
      "text/plain": [
       "<Figure size 432x288 with 1 Axes>"
      ]
     },
     "metadata": {
      "needs_background": "light"
     },
     "output_type": "display_data"
    }
   ],
   "source": [
    "plt.plot(big_mac_price_BRA['dollar_ppp'])\n",
    "plt.plot(BRL_USD['Close'])\n",
    "plt.show()"
   ]
  },
  {
   "cell_type": "markdown",
   "metadata": {},
   "source": [
    "### Exploratory Analysis"
   ]
  },
  {
   "cell_type": "code",
   "execution_count": 208,
   "metadata": {},
   "outputs": [
    {
     "data": {
      "text/html": [
       "<div>\n",
       "<style scoped>\n",
       "    .dataframe tbody tr th:only-of-type {\n",
       "        vertical-align: middle;\n",
       "    }\n",
       "\n",
       "    .dataframe tbody tr th {\n",
       "        vertical-align: top;\n",
       "    }\n",
       "\n",
       "    .dataframe thead th {\n",
       "        text-align: right;\n",
       "    }\n",
       "</style>\n",
       "<table border=\"1\" class=\"dataframe\">\n",
       "  <thead>\n",
       "    <tr style=\"text-align: right;\">\n",
       "      <th>description</th>\n",
       "      <th>Cambodia: Fiscal Expenditure [KH: Government Expenditure]</th>\n",
       "      <th>Cambodia: Government Budget [Cambodia: Government finance: Deficit &amp; financing: Net lending (+) / net borrowing (-)]</th>\n",
       "      <th>Cambodia: Money Supply M1 [Cambodia: Money (Natl Definitions): M1]</th>\n",
       "    </tr>\n",
       "  </thead>\n",
       "  <tbody>\n",
       "    <tr>\n",
       "      <td>count</td>\n",
       "      <td>10.000000</td>\n",
       "      <td>1.000000e+01</td>\n",
       "      <td>1.000000e+01</td>\n",
       "    </tr>\n",
       "    <tr>\n",
       "      <td>mean</td>\n",
       "      <td>461.278000</td>\n",
       "      <td>-1.095195e+06</td>\n",
       "      <td>4.400790e+06</td>\n",
       "    </tr>\n",
       "    <tr>\n",
       "      <td>std</td>\n",
       "      <td>166.363264</td>\n",
       "      <td>7.703464e+05</td>\n",
       "      <td>1.840569e+06</td>\n",
       "    </tr>\n",
       "    <tr>\n",
       "      <td>min</td>\n",
       "      <td>190.500000</td>\n",
       "      <td>-2.376416e+06</td>\n",
       "      <td>2.133838e+06</td>\n",
       "    </tr>\n",
       "    <tr>\n",
       "      <td>25%</td>\n",
       "      <td>339.315000</td>\n",
       "      <td>-1.672170e+06</td>\n",
       "      <td>3.107627e+06</td>\n",
       "    </tr>\n",
       "    <tr>\n",
       "      <td>50%</td>\n",
       "      <td>467.810000</td>\n",
       "      <td>-9.006265e+05</td>\n",
       "      <td>4.042001e+06</td>\n",
       "    </tr>\n",
       "    <tr>\n",
       "      <td>75%</td>\n",
       "      <td>609.327500</td>\n",
       "      <td>-4.622352e+05</td>\n",
       "      <td>5.983358e+06</td>\n",
       "    </tr>\n",
       "    <tr>\n",
       "      <td>max</td>\n",
       "      <td>673.520000</td>\n",
       "      <td>-1.292850e+05</td>\n",
       "      <td>7.336712e+06</td>\n",
       "    </tr>\n",
       "  </tbody>\n",
       "</table>\n",
       "</div>"
      ],
      "text/plain": [
       "description  Cambodia: Fiscal Expenditure [KH: Government Expenditure]  \\\n",
       "count                                                10.000000           \n",
       "mean                                                461.278000           \n",
       "std                                                 166.363264           \n",
       "min                                                 190.500000           \n",
       "25%                                                 339.315000           \n",
       "50%                                                 467.810000           \n",
       "75%                                                 609.327500           \n",
       "max                                                 673.520000           \n",
       "\n",
       "description  Cambodia: Government Budget [Cambodia: Government finance: Deficit & financing: Net lending (+) / net borrowing (-)]  \\\n",
       "count                                             1.000000e+01                                                                      \n",
       "mean                                             -1.095195e+06                                                                      \n",
       "std                                               7.703464e+05                                                                      \n",
       "min                                              -2.376416e+06                                                                      \n",
       "25%                                              -1.672170e+06                                                                      \n",
       "50%                                              -9.006265e+05                                                                      \n",
       "75%                                              -4.622352e+05                                                                      \n",
       "max                                              -1.292850e+05                                                                      \n",
       "\n",
       "description  Cambodia: Money Supply M1 [Cambodia: Money (Natl Definitions): M1]  \n",
       "count                                             1.000000e+01                   \n",
       "mean                                              4.400790e+06                   \n",
       "std                                               1.840569e+06                   \n",
       "min                                               2.133838e+06                   \n",
       "25%                                               3.107627e+06                   \n",
       "50%                                               4.042001e+06                   \n",
       "75%                                               5.983358e+06                   \n",
       "max                                               7.336712e+06                   "
      ]
     },
     "execution_count": 208,
     "metadata": {},
     "output_type": "execute_result"
    }
   ],
   "source": [
    "cambodia.describe()"
   ]
  },
  {
   "cell_type": "code",
   "execution_count": 188,
   "metadata": {},
   "outputs": [
    {
     "data": {
      "text/plain": [
       "DatetimeIndex(['2008-01-01', '2009-01-01', '2010-01-01', '2011-01-01',\n",
       "               '2012-01-01', '2013-01-01', '2014-01-01', '2015-01-01',\n",
       "               '2016-01-01', '2017-01-01'],\n",
       "              dtype='datetime64[ns]', name='date', freq=None)"
      ]
     },
     "execution_count": 188,
     "metadata": {},
     "output_type": "execute_result"
    }
   ],
   "source": [
    "cambodia.index"
   ]
  },
  {
   "cell_type": "code",
   "execution_count": 207,
   "metadata": {},
   "outputs": [
    {
     "data": {
      "application/vnd.plotly.v1+json": {
       "config": {
        "plotlyServerURL": "https://plot.ly"
       },
       "data": [
        {
         "line": {
          "color": "orange"
         },
         "mode": "lines+markers",
         "name": "Cambodia: Fiscal Expenditure [KH: Government Expenditure]",
         "type": "scatter",
         "x": [
          "2008-01-01T00:00:00",
          "2009-01-01T00:00:00",
          "2010-01-01T00:00:00",
          "2011-01-01T00:00:00",
          "2012-01-01T00:00:00",
          "2013-01-01T00:00:00",
          "2014-01-01T00:00:00",
          "2015-01-01T00:00:00",
          "2016-01-01T00:00:00",
          "2017-01-01T00:00:00"
         ],
         "y": [
          -129285,
          -1953779,
          -1659529,
          -2376416,
          -404157,
          -1676383,
          -893645,
          -636470,
          -314682,
          -907608
         ]
        },
        {
         "line": {
          "color": "white"
         },
         "mode": "lines+markers",
         "name": "Cambodia: Government Budget [Cambodia: Government finance: Deficit & financing: Net lending (+) / net borrowing (-)]",
         "type": "scatter",
         "x": [
          "2008-01-01T00:00:00",
          "2009-01-01T00:00:00",
          "2010-01-01T00:00:00",
          "2011-01-01T00:00:00",
          "2012-01-01T00:00:00",
          "2013-01-01T00:00:00",
          "2014-01-01T00:00:00",
          "2015-01-01T00:00:00",
          "2016-01-01T00:00:00",
          "2017-01-01T00:00:00"
         ],
         "y": [
          2133838,
          2422733,
          3084948,
          3175663,
          3826490,
          4257512,
          4698616,
          6411605,
          6659779,
          7336712
         ]
        }
       ],
       "layout": {
        "font": {
         "color": "#7f7f7f",
         "family": "Helvetica Neue, Bold",
         "size": 18
        },
        "height": 600,
        "plot_bgcolor": "rgb(10,10,10)",
        "template": {
         "data": {
          "bar": [
           {
            "error_x": {
             "color": "#2a3f5f"
            },
            "error_y": {
             "color": "#2a3f5f"
            },
            "marker": {
             "line": {
              "color": "#E5ECF6",
              "width": 0.5
             }
            },
            "type": "bar"
           }
          ],
          "barpolar": [
           {
            "marker": {
             "line": {
              "color": "#E5ECF6",
              "width": 0.5
             }
            },
            "type": "barpolar"
           }
          ],
          "carpet": [
           {
            "aaxis": {
             "endlinecolor": "#2a3f5f",
             "gridcolor": "white",
             "linecolor": "white",
             "minorgridcolor": "white",
             "startlinecolor": "#2a3f5f"
            },
            "baxis": {
             "endlinecolor": "#2a3f5f",
             "gridcolor": "white",
             "linecolor": "white",
             "minorgridcolor": "white",
             "startlinecolor": "#2a3f5f"
            },
            "type": "carpet"
           }
          ],
          "choropleth": [
           {
            "colorbar": {
             "outlinewidth": 0,
             "ticks": ""
            },
            "type": "choropleth"
           }
          ],
          "contour": [
           {
            "colorbar": {
             "outlinewidth": 0,
             "ticks": ""
            },
            "colorscale": [
             [
              0,
              "#0d0887"
             ],
             [
              0.1111111111111111,
              "#46039f"
             ],
             [
              0.2222222222222222,
              "#7201a8"
             ],
             [
              0.3333333333333333,
              "#9c179e"
             ],
             [
              0.4444444444444444,
              "#bd3786"
             ],
             [
              0.5555555555555556,
              "#d8576b"
             ],
             [
              0.6666666666666666,
              "#ed7953"
             ],
             [
              0.7777777777777778,
              "#fb9f3a"
             ],
             [
              0.8888888888888888,
              "#fdca26"
             ],
             [
              1,
              "#f0f921"
             ]
            ],
            "type": "contour"
           }
          ],
          "contourcarpet": [
           {
            "colorbar": {
             "outlinewidth": 0,
             "ticks": ""
            },
            "type": "contourcarpet"
           }
          ],
          "heatmap": [
           {
            "colorbar": {
             "outlinewidth": 0,
             "ticks": ""
            },
            "colorscale": [
             [
              0,
              "#0d0887"
             ],
             [
              0.1111111111111111,
              "#46039f"
             ],
             [
              0.2222222222222222,
              "#7201a8"
             ],
             [
              0.3333333333333333,
              "#9c179e"
             ],
             [
              0.4444444444444444,
              "#bd3786"
             ],
             [
              0.5555555555555556,
              "#d8576b"
             ],
             [
              0.6666666666666666,
              "#ed7953"
             ],
             [
              0.7777777777777778,
              "#fb9f3a"
             ],
             [
              0.8888888888888888,
              "#fdca26"
             ],
             [
              1,
              "#f0f921"
             ]
            ],
            "type": "heatmap"
           }
          ],
          "heatmapgl": [
           {
            "colorbar": {
             "outlinewidth": 0,
             "ticks": ""
            },
            "colorscale": [
             [
              0,
              "#0d0887"
             ],
             [
              0.1111111111111111,
              "#46039f"
             ],
             [
              0.2222222222222222,
              "#7201a8"
             ],
             [
              0.3333333333333333,
              "#9c179e"
             ],
             [
              0.4444444444444444,
              "#bd3786"
             ],
             [
              0.5555555555555556,
              "#d8576b"
             ],
             [
              0.6666666666666666,
              "#ed7953"
             ],
             [
              0.7777777777777778,
              "#fb9f3a"
             ],
             [
              0.8888888888888888,
              "#fdca26"
             ],
             [
              1,
              "#f0f921"
             ]
            ],
            "type": "heatmapgl"
           }
          ],
          "histogram": [
           {
            "marker": {
             "colorbar": {
              "outlinewidth": 0,
              "ticks": ""
             }
            },
            "type": "histogram"
           }
          ],
          "histogram2d": [
           {
            "colorbar": {
             "outlinewidth": 0,
             "ticks": ""
            },
            "colorscale": [
             [
              0,
              "#0d0887"
             ],
             [
              0.1111111111111111,
              "#46039f"
             ],
             [
              0.2222222222222222,
              "#7201a8"
             ],
             [
              0.3333333333333333,
              "#9c179e"
             ],
             [
              0.4444444444444444,
              "#bd3786"
             ],
             [
              0.5555555555555556,
              "#d8576b"
             ],
             [
              0.6666666666666666,
              "#ed7953"
             ],
             [
              0.7777777777777778,
              "#fb9f3a"
             ],
             [
              0.8888888888888888,
              "#fdca26"
             ],
             [
              1,
              "#f0f921"
             ]
            ],
            "type": "histogram2d"
           }
          ],
          "histogram2dcontour": [
           {
            "colorbar": {
             "outlinewidth": 0,
             "ticks": ""
            },
            "colorscale": [
             [
              0,
              "#0d0887"
             ],
             [
              0.1111111111111111,
              "#46039f"
             ],
             [
              0.2222222222222222,
              "#7201a8"
             ],
             [
              0.3333333333333333,
              "#9c179e"
             ],
             [
              0.4444444444444444,
              "#bd3786"
             ],
             [
              0.5555555555555556,
              "#d8576b"
             ],
             [
              0.6666666666666666,
              "#ed7953"
             ],
             [
              0.7777777777777778,
              "#fb9f3a"
             ],
             [
              0.8888888888888888,
              "#fdca26"
             ],
             [
              1,
              "#f0f921"
             ]
            ],
            "type": "histogram2dcontour"
           }
          ],
          "mesh3d": [
           {
            "colorbar": {
             "outlinewidth": 0,
             "ticks": ""
            },
            "type": "mesh3d"
           }
          ],
          "parcoords": [
           {
            "line": {
             "colorbar": {
              "outlinewidth": 0,
              "ticks": ""
             }
            },
            "type": "parcoords"
           }
          ],
          "pie": [
           {
            "automargin": true,
            "type": "pie"
           }
          ],
          "scatter": [
           {
            "marker": {
             "colorbar": {
              "outlinewidth": 0,
              "ticks": ""
             }
            },
            "type": "scatter"
           }
          ],
          "scatter3d": [
           {
            "line": {
             "colorbar": {
              "outlinewidth": 0,
              "ticks": ""
             }
            },
            "marker": {
             "colorbar": {
              "outlinewidth": 0,
              "ticks": ""
             }
            },
            "type": "scatter3d"
           }
          ],
          "scattercarpet": [
           {
            "marker": {
             "colorbar": {
              "outlinewidth": 0,
              "ticks": ""
             }
            },
            "type": "scattercarpet"
           }
          ],
          "scattergeo": [
           {
            "marker": {
             "colorbar": {
              "outlinewidth": 0,
              "ticks": ""
             }
            },
            "type": "scattergeo"
           }
          ],
          "scattergl": [
           {
            "marker": {
             "colorbar": {
              "outlinewidth": 0,
              "ticks": ""
             }
            },
            "type": "scattergl"
           }
          ],
          "scattermapbox": [
           {
            "marker": {
             "colorbar": {
              "outlinewidth": 0,
              "ticks": ""
             }
            },
            "type": "scattermapbox"
           }
          ],
          "scatterpolar": [
           {
            "marker": {
             "colorbar": {
              "outlinewidth": 0,
              "ticks": ""
             }
            },
            "type": "scatterpolar"
           }
          ],
          "scatterpolargl": [
           {
            "marker": {
             "colorbar": {
              "outlinewidth": 0,
              "ticks": ""
             }
            },
            "type": "scatterpolargl"
           }
          ],
          "scatterternary": [
           {
            "marker": {
             "colorbar": {
              "outlinewidth": 0,
              "ticks": ""
             }
            },
            "type": "scatterternary"
           }
          ],
          "surface": [
           {
            "colorbar": {
             "outlinewidth": 0,
             "ticks": ""
            },
            "colorscale": [
             [
              0,
              "#0d0887"
             ],
             [
              0.1111111111111111,
              "#46039f"
             ],
             [
              0.2222222222222222,
              "#7201a8"
             ],
             [
              0.3333333333333333,
              "#9c179e"
             ],
             [
              0.4444444444444444,
              "#bd3786"
             ],
             [
              0.5555555555555556,
              "#d8576b"
             ],
             [
              0.6666666666666666,
              "#ed7953"
             ],
             [
              0.7777777777777778,
              "#fb9f3a"
             ],
             [
              0.8888888888888888,
              "#fdca26"
             ],
             [
              1,
              "#f0f921"
             ]
            ],
            "type": "surface"
           }
          ],
          "table": [
           {
            "cells": {
             "fill": {
              "color": "#EBF0F8"
             },
             "line": {
              "color": "white"
             }
            },
            "header": {
             "fill": {
              "color": "#C8D4E3"
             },
             "line": {
              "color": "white"
             }
            },
            "type": "table"
           }
          ]
         },
         "layout": {
          "annotationdefaults": {
           "arrowcolor": "#2a3f5f",
           "arrowhead": 0,
           "arrowwidth": 1
          },
          "coloraxis": {
           "colorbar": {
            "outlinewidth": 0,
            "ticks": ""
           }
          },
          "colorscale": {
           "diverging": [
            [
             0,
             "#8e0152"
            ],
            [
             0.1,
             "#c51b7d"
            ],
            [
             0.2,
             "#de77ae"
            ],
            [
             0.3,
             "#f1b6da"
            ],
            [
             0.4,
             "#fde0ef"
            ],
            [
             0.5,
             "#f7f7f7"
            ],
            [
             0.6,
             "#e6f5d0"
            ],
            [
             0.7,
             "#b8e186"
            ],
            [
             0.8,
             "#7fbc41"
            ],
            [
             0.9,
             "#4d9221"
            ],
            [
             1,
             "#276419"
            ]
           ],
           "sequential": [
            [
             0,
             "#0d0887"
            ],
            [
             0.1111111111111111,
             "#46039f"
            ],
            [
             0.2222222222222222,
             "#7201a8"
            ],
            [
             0.3333333333333333,
             "#9c179e"
            ],
            [
             0.4444444444444444,
             "#bd3786"
            ],
            [
             0.5555555555555556,
             "#d8576b"
            ],
            [
             0.6666666666666666,
             "#ed7953"
            ],
            [
             0.7777777777777778,
             "#fb9f3a"
            ],
            [
             0.8888888888888888,
             "#fdca26"
            ],
            [
             1,
             "#f0f921"
            ]
           ],
           "sequentialminus": [
            [
             0,
             "#0d0887"
            ],
            [
             0.1111111111111111,
             "#46039f"
            ],
            [
             0.2222222222222222,
             "#7201a8"
            ],
            [
             0.3333333333333333,
             "#9c179e"
            ],
            [
             0.4444444444444444,
             "#bd3786"
            ],
            [
             0.5555555555555556,
             "#d8576b"
            ],
            [
             0.6666666666666666,
             "#ed7953"
            ],
            [
             0.7777777777777778,
             "#fb9f3a"
            ],
            [
             0.8888888888888888,
             "#fdca26"
            ],
            [
             1,
             "#f0f921"
            ]
           ]
          },
          "colorway": [
           "#636efa",
           "#EF553B",
           "#00cc96",
           "#ab63fa",
           "#FFA15A",
           "#19d3f3",
           "#FF6692",
           "#B6E880",
           "#FF97FF",
           "#FECB52"
          ],
          "font": {
           "color": "#2a3f5f"
          },
          "geo": {
           "bgcolor": "white",
           "lakecolor": "white",
           "landcolor": "#E5ECF6",
           "showlakes": true,
           "showland": true,
           "subunitcolor": "white"
          },
          "hoverlabel": {
           "align": "left"
          },
          "hovermode": "closest",
          "mapbox": {
           "style": "light"
          },
          "paper_bgcolor": "white",
          "plot_bgcolor": "#E5ECF6",
          "polar": {
           "angularaxis": {
            "gridcolor": "white",
            "linecolor": "white",
            "ticks": ""
           },
           "bgcolor": "#E5ECF6",
           "radialaxis": {
            "gridcolor": "white",
            "linecolor": "white",
            "ticks": ""
           }
          },
          "scene": {
           "xaxis": {
            "backgroundcolor": "#E5ECF6",
            "gridcolor": "white",
            "gridwidth": 2,
            "linecolor": "white",
            "showbackground": true,
            "ticks": "",
            "zerolinecolor": "white"
           },
           "yaxis": {
            "backgroundcolor": "#E5ECF6",
            "gridcolor": "white",
            "gridwidth": 2,
            "linecolor": "white",
            "showbackground": true,
            "ticks": "",
            "zerolinecolor": "white"
           },
           "zaxis": {
            "backgroundcolor": "#E5ECF6",
            "gridcolor": "white",
            "gridwidth": 2,
            "linecolor": "white",
            "showbackground": true,
            "ticks": "",
            "zerolinecolor": "white"
           }
          },
          "shapedefaults": {
           "line": {
            "color": "#2a3f5f"
           }
          },
          "ternary": {
           "aaxis": {
            "gridcolor": "white",
            "linecolor": "white",
            "ticks": ""
           },
           "baxis": {
            "gridcolor": "white",
            "linecolor": "white",
            "ticks": ""
           },
           "bgcolor": "#E5ECF6",
           "caxis": {
            "gridcolor": "white",
            "linecolor": "white",
            "ticks": ""
           }
          },
          "title": {
           "x": 0.05
          },
          "xaxis": {
           "automargin": true,
           "gridcolor": "white",
           "linecolor": "white",
           "ticks": "",
           "title": {
            "standoff": 15
           },
           "zerolinecolor": "white",
           "zerolinewidth": 2
          },
          "yaxis": {
           "automargin": true,
           "gridcolor": "white",
           "linecolor": "white",
           "ticks": "",
           "title": {
            "standoff": 15
           },
           "zerolinecolor": "white",
           "zerolinewidth": 2
          }
         }
        },
        "title": {
         "text": "Plot Title",
         "x": 0.5,
         "xanchor": "center",
         "y": 0.9,
         "yanchor": "top"
        },
        "width": 1000,
        "xaxis": {
         "title": {
          "text": "Date"
         }
        },
        "yaxis": {
         "title": {
          "text": "Value"
         }
        }
       }
      },
      "text/html": [
       "<div>\n",
       "        \n",
       "        \n",
       "            <div id=\"24f80d3e-40c0-452a-821f-c7c364806e60\" class=\"plotly-graph-div\" style=\"height:600px; width:1000px;\"></div>\n",
       "            <script type=\"text/javascript\">\n",
       "                require([\"plotly\"], function(Plotly) {\n",
       "                    window.PLOTLYENV=window.PLOTLYENV || {};\n",
       "                    \n",
       "                if (document.getElementById(\"24f80d3e-40c0-452a-821f-c7c364806e60\")) {\n",
       "                    Plotly.newPlot(\n",
       "                        '24f80d3e-40c0-452a-821f-c7c364806e60',\n",
       "                        [{\"line\": {\"color\": \"orange\"}, \"mode\": \"lines+markers\", \"name\": \"Cambodia: Fiscal Expenditure [KH: Government Expenditure]\", \"type\": \"scatter\", \"x\": [\"2008-01-01T00:00:00\", \"2009-01-01T00:00:00\", \"2010-01-01T00:00:00\", \"2011-01-01T00:00:00\", \"2012-01-01T00:00:00\", \"2013-01-01T00:00:00\", \"2014-01-01T00:00:00\", \"2015-01-01T00:00:00\", \"2016-01-01T00:00:00\", \"2017-01-01T00:00:00\"], \"y\": [-129285.0, -1953779.0, -1659529.0, -2376416.0, -404157.0, -1676383.0, -893645.0, -636470.0, -314682.0, -907608.0]}, {\"line\": {\"color\": \"white\"}, \"mode\": \"lines+markers\", \"name\": \"Cambodia: Government Budget [Cambodia: Government finance: Deficit & financing: Net lending (+) / net borrowing (-)]\", \"type\": \"scatter\", \"x\": [\"2008-01-01T00:00:00\", \"2009-01-01T00:00:00\", \"2010-01-01T00:00:00\", \"2011-01-01T00:00:00\", \"2012-01-01T00:00:00\", \"2013-01-01T00:00:00\", \"2014-01-01T00:00:00\", \"2015-01-01T00:00:00\", \"2016-01-01T00:00:00\", \"2017-01-01T00:00:00\"], \"y\": [2133838.0, 2422733.0, 3084948.0, 3175663.0, 3826490.0, 4257512.0, 4698616.0, 6411605.0, 6659779.0, 7336712.0]}],\n",
       "                        {\"font\": {\"color\": \"#7f7f7f\", \"family\": \"Helvetica Neue, Bold\", \"size\": 18}, \"height\": 600, \"plot_bgcolor\": \"rgb(10,10,10)\", \"template\": {\"data\": {\"bar\": [{\"error_x\": {\"color\": \"#2a3f5f\"}, \"error_y\": {\"color\": \"#2a3f5f\"}, \"marker\": {\"line\": {\"color\": \"#E5ECF6\", \"width\": 0.5}}, \"type\": \"bar\"}], \"barpolar\": [{\"marker\": {\"line\": {\"color\": \"#E5ECF6\", \"width\": 0.5}}, \"type\": \"barpolar\"}], \"carpet\": [{\"aaxis\": {\"endlinecolor\": \"#2a3f5f\", \"gridcolor\": \"white\", \"linecolor\": \"white\", \"minorgridcolor\": \"white\", \"startlinecolor\": \"#2a3f5f\"}, \"baxis\": {\"endlinecolor\": \"#2a3f5f\", \"gridcolor\": \"white\", \"linecolor\": \"white\", \"minorgridcolor\": \"white\", \"startlinecolor\": \"#2a3f5f\"}, \"type\": \"carpet\"}], \"choropleth\": [{\"colorbar\": {\"outlinewidth\": 0, \"ticks\": \"\"}, \"type\": \"choropleth\"}], \"contour\": [{\"colorbar\": {\"outlinewidth\": 0, \"ticks\": \"\"}, \"colorscale\": [[0.0, \"#0d0887\"], [0.1111111111111111, \"#46039f\"], [0.2222222222222222, \"#7201a8\"], [0.3333333333333333, \"#9c179e\"], [0.4444444444444444, \"#bd3786\"], [0.5555555555555556, \"#d8576b\"], [0.6666666666666666, \"#ed7953\"], [0.7777777777777778, \"#fb9f3a\"], [0.8888888888888888, \"#fdca26\"], [1.0, \"#f0f921\"]], \"type\": \"contour\"}], \"contourcarpet\": [{\"colorbar\": {\"outlinewidth\": 0, \"ticks\": \"\"}, \"type\": \"contourcarpet\"}], \"heatmap\": [{\"colorbar\": {\"outlinewidth\": 0, \"ticks\": \"\"}, \"colorscale\": [[0.0, \"#0d0887\"], [0.1111111111111111, \"#46039f\"], [0.2222222222222222, \"#7201a8\"], [0.3333333333333333, \"#9c179e\"], [0.4444444444444444, \"#bd3786\"], [0.5555555555555556, \"#d8576b\"], [0.6666666666666666, \"#ed7953\"], [0.7777777777777778, \"#fb9f3a\"], [0.8888888888888888, \"#fdca26\"], [1.0, \"#f0f921\"]], \"type\": \"heatmap\"}], \"heatmapgl\": [{\"colorbar\": {\"outlinewidth\": 0, \"ticks\": \"\"}, \"colorscale\": [[0.0, \"#0d0887\"], [0.1111111111111111, \"#46039f\"], [0.2222222222222222, \"#7201a8\"], [0.3333333333333333, \"#9c179e\"], [0.4444444444444444, \"#bd3786\"], [0.5555555555555556, \"#d8576b\"], [0.6666666666666666, \"#ed7953\"], [0.7777777777777778, \"#fb9f3a\"], [0.8888888888888888, \"#fdca26\"], [1.0, \"#f0f921\"]], \"type\": \"heatmapgl\"}], \"histogram\": [{\"marker\": {\"colorbar\": {\"outlinewidth\": 0, \"ticks\": \"\"}}, \"type\": \"histogram\"}], \"histogram2d\": [{\"colorbar\": {\"outlinewidth\": 0, \"ticks\": \"\"}, \"colorscale\": [[0.0, \"#0d0887\"], [0.1111111111111111, \"#46039f\"], [0.2222222222222222, \"#7201a8\"], [0.3333333333333333, \"#9c179e\"], [0.4444444444444444, \"#bd3786\"], [0.5555555555555556, \"#d8576b\"], [0.6666666666666666, \"#ed7953\"], [0.7777777777777778, \"#fb9f3a\"], [0.8888888888888888, \"#fdca26\"], [1.0, \"#f0f921\"]], \"type\": \"histogram2d\"}], \"histogram2dcontour\": [{\"colorbar\": {\"outlinewidth\": 0, \"ticks\": \"\"}, \"colorscale\": [[0.0, \"#0d0887\"], [0.1111111111111111, \"#46039f\"], [0.2222222222222222, \"#7201a8\"], [0.3333333333333333, \"#9c179e\"], [0.4444444444444444, \"#bd3786\"], [0.5555555555555556, \"#d8576b\"], [0.6666666666666666, \"#ed7953\"], [0.7777777777777778, \"#fb9f3a\"], [0.8888888888888888, \"#fdca26\"], [1.0, \"#f0f921\"]], \"type\": \"histogram2dcontour\"}], \"mesh3d\": [{\"colorbar\": {\"outlinewidth\": 0, \"ticks\": \"\"}, \"type\": \"mesh3d\"}], \"parcoords\": [{\"line\": {\"colorbar\": {\"outlinewidth\": 0, \"ticks\": \"\"}}, \"type\": \"parcoords\"}], \"pie\": [{\"automargin\": true, \"type\": \"pie\"}], \"scatter\": [{\"marker\": {\"colorbar\": {\"outlinewidth\": 0, \"ticks\": \"\"}}, \"type\": \"scatter\"}], \"scatter3d\": [{\"line\": {\"colorbar\": {\"outlinewidth\": 0, \"ticks\": \"\"}}, \"marker\": {\"colorbar\": {\"outlinewidth\": 0, \"ticks\": \"\"}}, \"type\": \"scatter3d\"}], \"scattercarpet\": [{\"marker\": {\"colorbar\": {\"outlinewidth\": 0, \"ticks\": \"\"}}, \"type\": \"scattercarpet\"}], \"scattergeo\": [{\"marker\": {\"colorbar\": {\"outlinewidth\": 0, \"ticks\": \"\"}}, \"type\": \"scattergeo\"}], \"scattergl\": [{\"marker\": {\"colorbar\": {\"outlinewidth\": 0, \"ticks\": \"\"}}, \"type\": \"scattergl\"}], \"scattermapbox\": [{\"marker\": {\"colorbar\": {\"outlinewidth\": 0, \"ticks\": \"\"}}, \"type\": \"scattermapbox\"}], \"scatterpolar\": [{\"marker\": {\"colorbar\": {\"outlinewidth\": 0, \"ticks\": \"\"}}, \"type\": \"scatterpolar\"}], \"scatterpolargl\": [{\"marker\": {\"colorbar\": {\"outlinewidth\": 0, \"ticks\": \"\"}}, \"type\": \"scatterpolargl\"}], \"scatterternary\": [{\"marker\": {\"colorbar\": {\"outlinewidth\": 0, \"ticks\": \"\"}}, \"type\": \"scatterternary\"}], \"surface\": [{\"colorbar\": {\"outlinewidth\": 0, \"ticks\": \"\"}, \"colorscale\": [[0.0, \"#0d0887\"], [0.1111111111111111, \"#46039f\"], [0.2222222222222222, \"#7201a8\"], [0.3333333333333333, \"#9c179e\"], [0.4444444444444444, \"#bd3786\"], [0.5555555555555556, \"#d8576b\"], [0.6666666666666666, \"#ed7953\"], [0.7777777777777778, \"#fb9f3a\"], [0.8888888888888888, \"#fdca26\"], [1.0, \"#f0f921\"]], \"type\": \"surface\"}], \"table\": [{\"cells\": {\"fill\": {\"color\": \"#EBF0F8\"}, \"line\": {\"color\": \"white\"}}, \"header\": {\"fill\": {\"color\": \"#C8D4E3\"}, \"line\": {\"color\": \"white\"}}, \"type\": \"table\"}]}, \"layout\": {\"annotationdefaults\": {\"arrowcolor\": \"#2a3f5f\", \"arrowhead\": 0, \"arrowwidth\": 1}, \"coloraxis\": {\"colorbar\": {\"outlinewidth\": 0, \"ticks\": \"\"}}, \"colorscale\": {\"diverging\": [[0, \"#8e0152\"], [0.1, \"#c51b7d\"], [0.2, \"#de77ae\"], [0.3, \"#f1b6da\"], [0.4, \"#fde0ef\"], [0.5, \"#f7f7f7\"], [0.6, \"#e6f5d0\"], [0.7, \"#b8e186\"], [0.8, \"#7fbc41\"], [0.9, \"#4d9221\"], [1, \"#276419\"]], \"sequential\": [[0.0, \"#0d0887\"], [0.1111111111111111, \"#46039f\"], [0.2222222222222222, \"#7201a8\"], [0.3333333333333333, \"#9c179e\"], [0.4444444444444444, \"#bd3786\"], [0.5555555555555556, \"#d8576b\"], [0.6666666666666666, \"#ed7953\"], [0.7777777777777778, \"#fb9f3a\"], [0.8888888888888888, \"#fdca26\"], [1.0, \"#f0f921\"]], \"sequentialminus\": [[0.0, \"#0d0887\"], [0.1111111111111111, \"#46039f\"], [0.2222222222222222, \"#7201a8\"], [0.3333333333333333, \"#9c179e\"], [0.4444444444444444, \"#bd3786\"], [0.5555555555555556, \"#d8576b\"], [0.6666666666666666, \"#ed7953\"], [0.7777777777777778, \"#fb9f3a\"], [0.8888888888888888, \"#fdca26\"], [1.0, \"#f0f921\"]]}, \"colorway\": [\"#636efa\", \"#EF553B\", \"#00cc96\", \"#ab63fa\", \"#FFA15A\", \"#19d3f3\", \"#FF6692\", \"#B6E880\", \"#FF97FF\", \"#FECB52\"], \"font\": {\"color\": \"#2a3f5f\"}, \"geo\": {\"bgcolor\": \"white\", \"lakecolor\": \"white\", \"landcolor\": \"#E5ECF6\", \"showlakes\": true, \"showland\": true, \"subunitcolor\": \"white\"}, \"hoverlabel\": {\"align\": \"left\"}, \"hovermode\": \"closest\", \"mapbox\": {\"style\": \"light\"}, \"paper_bgcolor\": \"white\", \"plot_bgcolor\": \"#E5ECF6\", \"polar\": {\"angularaxis\": {\"gridcolor\": \"white\", \"linecolor\": \"white\", \"ticks\": \"\"}, \"bgcolor\": \"#E5ECF6\", \"radialaxis\": {\"gridcolor\": \"white\", \"linecolor\": \"white\", \"ticks\": \"\"}}, \"scene\": {\"xaxis\": {\"backgroundcolor\": \"#E5ECF6\", \"gridcolor\": \"white\", \"gridwidth\": 2, \"linecolor\": \"white\", \"showbackground\": true, \"ticks\": \"\", \"zerolinecolor\": \"white\"}, \"yaxis\": {\"backgroundcolor\": \"#E5ECF6\", \"gridcolor\": \"white\", \"gridwidth\": 2, \"linecolor\": \"white\", \"showbackground\": true, \"ticks\": \"\", \"zerolinecolor\": \"white\"}, \"zaxis\": {\"backgroundcolor\": \"#E5ECF6\", \"gridcolor\": \"white\", \"gridwidth\": 2, \"linecolor\": \"white\", \"showbackground\": true, \"ticks\": \"\", \"zerolinecolor\": \"white\"}}, \"shapedefaults\": {\"line\": {\"color\": \"#2a3f5f\"}}, \"ternary\": {\"aaxis\": {\"gridcolor\": \"white\", \"linecolor\": \"white\", \"ticks\": \"\"}, \"baxis\": {\"gridcolor\": \"white\", \"linecolor\": \"white\", \"ticks\": \"\"}, \"bgcolor\": \"#E5ECF6\", \"caxis\": {\"gridcolor\": \"white\", \"linecolor\": \"white\", \"ticks\": \"\"}}, \"title\": {\"x\": 0.05}, \"xaxis\": {\"automargin\": true, \"gridcolor\": \"white\", \"linecolor\": \"white\", \"ticks\": \"\", \"title\": {\"standoff\": 15}, \"zerolinecolor\": \"white\", \"zerolinewidth\": 2}, \"yaxis\": {\"automargin\": true, \"gridcolor\": \"white\", \"linecolor\": \"white\", \"ticks\": \"\", \"title\": {\"standoff\": 15}, \"zerolinecolor\": \"white\", \"zerolinewidth\": 2}}}, \"title\": {\"text\": \"Plot Title\", \"x\": 0.5, \"xanchor\": \"center\", \"y\": 0.9, \"yanchor\": \"top\"}, \"width\": 1000, \"xaxis\": {\"title\": {\"text\": \"Date\"}}, \"yaxis\": {\"title\": {\"text\": \"Value\"}}},\n",
       "                        {\"responsive\": true}\n",
       "                    ).then(function(){\n",
       "                            \n",
       "var gd = document.getElementById('24f80d3e-40c0-452a-821f-c7c364806e60');\n",
       "var x = new MutationObserver(function (mutations, observer) {{\n",
       "        var display = window.getComputedStyle(gd).display;\n",
       "        if (!display || display === 'none') {{\n",
       "            console.log([gd, 'removed!']);\n",
       "            Plotly.purge(gd);\n",
       "            observer.disconnect();\n",
       "        }}\n",
       "}});\n",
       "\n",
       "// Listen for the removal of the full notebook cells\n",
       "var notebookContainer = gd.closest('#notebook-container');\n",
       "if (notebookContainer) {{\n",
       "    x.observe(notebookContainer, {childList: true});\n",
       "}}\n",
       "\n",
       "// Listen for the clearing of the current output cell\n",
       "var outputEl = gd.closest('.output');\n",
       "if (outputEl) {{\n",
       "    x.observe(outputEl, {childList: true});\n",
       "}}\n",
       "\n",
       "                        })\n",
       "                };\n",
       "                });\n",
       "            </script>\n",
       "        </div>"
      ]
     },
     "metadata": {},
     "output_type": "display_data"
    }
   ],
   "source": [
    "x = cambodia.index\n",
    "fig = go.Figure()\n",
    "fig.add_scatter(x=x, y=cambodia.iloc[:,1], mode = 'lines+markers', line_color = 'orange', name = cambodia.columns[0])\n",
    "fig.add_scatter(x=x, y=cambodia.iloc[:,2], mode = 'lines+markers', line_color = 'white', name = cambodia.columns[1])\n",
    "\n",
    "#define the chart look\n",
    "fig.update_layout(width = 1000,\n",
    "                  height = 600,\n",
    "                  plot_bgcolor = 'rgb(10,10,10)',\n",
    "                  title = {\n",
    "                      'text': \"Plot Title\",\n",
    "                      'y':0.9,\n",
    "                      'x':0.5,\n",
    "                      'xanchor': 'center',\n",
    "                      'yanchor': 'top'},\n",
    "                  xaxis_title = \"Date\",\n",
    "                  yaxis_title = \"Value\",\n",
    "                  font = dict(\n",
    "                      family = \"Helvetica Neue, Bold\",\n",
    "                      size = 18,\n",
    "                      color = \"#7f7f7f\")\n",
    "                  )\n",
    "fig.show()"
   ]
  },
  {
   "cell_type": "code",
   "execution_count": 171,
   "metadata": {},
   "outputs": [
    {
     "data": {
      "text/plain": [
       "Text(0, 0.5, 'Dollar Amount')"
      ]
     },
     "execution_count": 171,
     "metadata": {},
     "output_type": "execute_result"
    },
    {
     "data": {
      "image/png": "[encoded data removed]",
      "text/plain": [
       "<Figure size 432x288 with 1 Axes>"
      ]
     },
     "metadata": {
      "needs_background": "light"
     },
     "output_type": "display_data"
    }
   ],
   "source": [
    "plt.plot(frames['6500'])\n",
    "plt.title(frames['6500'].columns[0])\n",
    "plt.xlabel('Date')\n",
    "plt.ylabel('Dollar Amount')"
   ]
  },
  {
   "cell_type": "code",
   "execution_count": 83,
   "metadata": {},
   "outputs": [
    {
     "data": {
      "application/vnd.plotly.v1+json": {
       "config": {
        "displaylogo": false,
        "plotlyServerURL": "https://plot.ly"
       },
       "data": [
        {
         "line": {
          "color": "orange"
         },
         "mode": "lines+markers",
         "type": "scatter",
         "x": [
          "2019-10-01T00:00:00",
          "2019-07-01T00:00:00",
          "2019-04-01T00:00:00",
          "2019-01-01T00:00:00",
          "2018-10-01T00:00:00",
          "2018-07-01T00:00:00",
          "2018-04-01T00:00:00",
          "2018-01-01T00:00:00",
          "2017-10-01T00:00:00",
          "2017-07-01T00:00:00",
          "2017-04-01T00:00:00",
          "2017-01-01T00:00:00",
          "2016-10-01T00:00:00",
          "2016-07-01T00:00:00",
          "2016-04-01T00:00:00",
          "2016-01-01T00:00:00",
          "2015-10-01T00:00:00",
          "2015-07-01T00:00:00",
          "2015-04-01T00:00:00",
          "2015-01-01T00:00:00",
          "2014-10-01T00:00:00",
          "2014-07-01T00:00:00",
          "2014-04-01T00:00:00",
          "2014-01-01T00:00:00",
          "2013-10-01T00:00:00",
          "2013-07-01T00:00:00",
          "2013-04-01T00:00:00",
          "2013-01-01T00:00:00",
          "2012-10-01T00:00:00",
          "2012-07-01T00:00:00",
          "2012-04-01T00:00:00",
          "2012-01-01T00:00:00",
          "2011-10-01T00:00:00",
          "2011-07-01T00:00:00",
          "2011-04-01T00:00:00",
          "2011-01-01T00:00:00",
          "2010-10-01T00:00:00",
          "2010-07-01T00:00:00",
          "2010-04-01T00:00:00",
          "2010-01-01T00:00:00",
          "2009-10-01T00:00:00",
          "2009-07-01T00:00:00",
          "2009-04-01T00:00:00",
          "2009-01-01T00:00:00",
          "2008-10-01T00:00:00",
          "2008-07-01T00:00:00",
          "2008-04-01T00:00:00",
          "2008-01-01T00:00:00",
          "2007-10-01T00:00:00",
          "2007-07-01T00:00:00",
          "2007-04-01T00:00:00",
          "2007-01-01T00:00:00",
          "2006-10-01T00:00:00",
          "2006-07-01T00:00:00",
          "2006-04-01T00:00:00",
          "2006-01-01T00:00:00",
          "2005-10-01T00:00:00",
          "2005-07-01T00:00:00",
          "2005-04-01T00:00:00",
          "2005-01-01T00:00:00",
          "2004-10-01T00:00:00",
          "2004-07-01T00:00:00",
          "2004-04-01T00:00:00",
          "2004-01-01T00:00:00",
          "2003-10-01T00:00:00",
          "2003-07-01T00:00:00",
          "2003-04-01T00:00:00",
          "2003-01-01T00:00:00",
          "2002-10-01T00:00:00",
          "2002-07-01T00:00:00",
          "2002-04-01T00:00:00",
          "2002-01-01T00:00:00"
         ],
         "y": [
          50,
          52.9,
          53.9,
          54.7,
          57.8,
          63.3,
          58.3,
          52.1,
          46.6,
          53.1,
          50,
          45.3,
          44.5,
          53.8,
          50.5,
          49.2,
          50.6,
          60,
          63,
          63.7,
          61.2,
          67.4,
          63.9,
          60.5,
          56.5,
          61.9,
          52.1,
          51.1,
          43.9,
          56.4,
          47.3,
          46.8,
          51.7,
          54,
          55.9,
          49.3,
          44.1,
          50.2,
          45.1,
          37.3,
          35.8,
          36.9,
          26.1,
          22.9,
          27.4,
          40.4,
          42.3,
          40.9,
          40.8,
          38.8,
          39.2,
          35.7,
          33.3,
          32.2,
          33,
          26.1,
          19.8,
          20.1,
          19.2,
          17.5,
          16.2,
          18.9,
          15.4,
          15.4,
          13.1,
          13.1,
          12,
          12.1,
          12.9,
          17.2,
          16.1,
          13.9
         ]
        }
       ],
       "layout": {
        "font": {
         "color": "#7f7f7f",
         "family": "Helvetica Neue, Bold",
         "size": 18
        },
        "height": 600,
        "plot_bgcolor": "rgb(10,10,10)",
        "template": {
         "data": {
          "bar": [
           {
            "error_x": {
             "color": "#2a3f5f"
            },
            "error_y": {
             "color": "#2a3f5f"
            },
            "marker": {
             "line": {
              "color": "#E5ECF6",
              "width": 0.5
             }
            },
            "type": "bar"
           }
          ],
          "barpolar": [
           {
            "marker": {
             "line": {
              "color": "#E5ECF6",
              "width": 0.5
             }
            },
            "type": "barpolar"
           }
          ],
          "carpet": [
           {
            "aaxis": {
             "endlinecolor": "#2a3f5f",
             "gridcolor": "white",
             "linecolor": "white",
             "minorgridcolor": "white",
             "startlinecolor": "#2a3f5f"
            },
            "baxis": {
             "endlinecolor": "#2a3f5f",
             "gridcolor": "white",
             "linecolor": "white",
             "minorgridcolor": "white",
             "startlinecolor": "#2a3f5f"
            },
            "type": "carpet"
           }
          ],
          "choropleth": [
           {
            "colorbar": {
             "outlinewidth": 0,
             "ticks": ""
            },
            "type": "choropleth"
           }
          ],
          "contour": [
           {
            "colorbar": {
             "outlinewidth": 0,
             "ticks": ""
            },
            "colorscale": [
             [
              0,
              "#0d0887"
             ],
             [
              0.1111111111111111,
              "#46039f"
             ],
             [
              0.2222222222222222,
              "#7201a8"
             ],
             [
              0.3333333333333333,
              "#9c179e"
             ],
             [
              0.4444444444444444,
              "#bd3786"
             ],
             [
              0.5555555555555556,
              "#d8576b"
             ],
             [
              0.6666666666666666,
              "#ed7953"
             ],
             [
              0.7777777777777778,
              "#fb9f3a"
             ],
             [
              0.8888888888888888,
              "#fdca26"
             ],
             [
              1,
              "#f0f921"
             ]
            ],
            "type": "contour"
           }
          ],
          "contourcarpet": [
           {
            "colorbar": {
             "outlinewidth": 0,
             "ticks": ""
            },
            "type": "contourcarpet"
           }
          ],
          "heatmap": [
           {
            "colorbar": {
             "outlinewidth": 0,
             "ticks": ""
            },
            "colorscale": [
             [
              0,
              "#0d0887"
             ],
             [
              0.1111111111111111,
              "#46039f"
             ],
             [
              0.2222222222222222,
              "#7201a8"
             ],
             [
              0.3333333333333333,
              "#9c179e"
             ],
             [
              0.4444444444444444,
              "#bd3786"
             ],
             [
              0.5555555555555556,
              "#d8576b"
             ],
             [
              0.6666666666666666,
              "#ed7953"
             ],
             [
              0.7777777777777778,
              "#fb9f3a"
             ],
             [
              0.8888888888888888,
              "#fdca26"
             ],
             [
              1,
              "#f0f921"
             ]
            ],
            "type": "heatmap"
           }
          ],
          "heatmapgl": [
           {
            "colorbar": {
             "outlinewidth": 0,
             "ticks": ""
            },
            "colorscale": [
             [
              0,
              "#0d0887"
             ],
             [
              0.1111111111111111,
              "#46039f"
             ],
             [
              0.2222222222222222,
              "#7201a8"
             ],
             [
              0.3333333333333333,
              "#9c179e"
             ],
             [
              0.4444444444444444,
              "#bd3786"
             ],
             [
              0.5555555555555556,
              "#d8576b"
             ],
             [
              0.6666666666666666,
              "#ed7953"
             ],
             [
              0.7777777777777778,
              "#fb9f3a"
             ],
             [
              0.8888888888888888,
              "#fdca26"
             ],
             [
              1,
              "#f0f921"
             ]
            ],
            "type": "heatmapgl"
           }
          ],
          "histogram": [
           {
            "marker": {
             "colorbar": {
              "outlinewidth": 0,
              "ticks": ""
             }
            },
            "type": "histogram"
           }
          ],
          "histogram2d": [
           {
            "colorbar": {
             "outlinewidth": 0,
             "ticks": ""
            },
            "colorscale": [
             [
              0,
              "#0d0887"
             ],
             [
              0.1111111111111111,
              "#46039f"
             ],
             [
              0.2222222222222222,
              "#7201a8"
             ],
             [
              0.3333333333333333,
              "#9c179e"
             ],
             [
              0.4444444444444444,
              "#bd3786"
             ],
             [
              0.5555555555555556,
              "#d8576b"
             ],
             [
              0.6666666666666666,
              "#ed7953"
             ],
             [
              0.7777777777777778,
              "#fb9f3a"
             ],
             [
              0.8888888888888888,
              "#fdca26"
             ],
             [
              1,
              "#f0f921"
             ]
            ],
            "type": "histogram2d"
           }
          ],
          "histogram2dcontour": [
           {
            "colorbar": {
             "outlinewidth": 0,
             "ticks": ""
            },
            "colorscale": [
             [
              0,
              "#0d0887"
             ],
             [
              0.1111111111111111,
              "#46039f"
             ],
             [
              0.2222222222222222,
              "#7201a8"
             ],
             [
              0.3333333333333333,
              "#9c179e"
             ],
             [
              0.4444444444444444,
              "#bd3786"
             ],
             [
              0.5555555555555556,
              "#d8576b"
             ],
             [
              0.6666666666666666,
              "#ed7953"
             ],
             [
              0.7777777777777778,
              "#fb9f3a"
             ],
             [
              0.8888888888888888,
              "#fdca26"
             ],
             [
              1,
              "#f0f921"
             ]
            ],
            "type": "histogram2dcontour"
           }
          ],
          "mesh3d": [
           {
            "colorbar": {
             "outlinewidth": 0,
             "ticks": ""
            },
            "type": "mesh3d"
           }
          ],
          "parcoords": [
           {
            "line": {
             "colorbar": {
              "outlinewidth": 0,
              "ticks": ""
             }
            },
            "type": "parcoords"
           }
          ],
          "pie": [
           {
            "automargin": true,
            "type": "pie"
           }
          ],
          "scatter": [
           {
            "marker": {
             "colorbar": {
              "outlinewidth": 0,
              "ticks": ""
             }
            },
            "type": "scatter"
           }
          ],
          "scatter3d": [
           {
            "line": {
             "colorbar": {
              "outlinewidth": 0,
              "ticks": ""
             }
            },
            "marker": {
             "colorbar": {
              "outlinewidth": 0,
              "ticks": ""
             }
            },
            "type": "scatter3d"
           }
          ],
          "scattercarpet": [
           {
            "marker": {
             "colorbar": {
              "outlinewidth": 0,
              "ticks": ""
             }
            },
            "type": "scattercarpet"
           }
          ],
          "scattergeo": [
           {
            "marker": {
             "colorbar": {
              "outlinewidth": 0,
              "ticks": ""
             }
            },
            "type": "scattergeo"
           }
          ],
          "scattergl": [
           {
            "marker": {
             "colorbar": {
              "outlinewidth": 0,
              "ticks": ""
             }
            },
            "type": "scattergl"
           }
          ],
          "scattermapbox": [
           {
            "marker": {
             "colorbar": {
              "outlinewidth": 0,
              "ticks": ""
             }
            },
            "type": "scattermapbox"
           }
          ],
          "scatterpolar": [
           {
            "marker": {
             "colorbar": {
              "outlinewidth": 0,
              "ticks": ""
             }
            },
            "type": "scatterpolar"
           }
          ],
          "scatterpolargl": [
           {
            "marker": {
             "colorbar": {
              "outlinewidth": 0,
              "ticks": ""
             }
            },
            "type": "scatterpolargl"
           }
          ],
          "scatterternary": [
           {
            "marker": {
             "colorbar": {
              "outlinewidth": 0,
              "ticks": ""
             }
            },
            "type": "scatterternary"
           }
          ],
          "surface": [
           {
            "colorbar": {
             "outlinewidth": 0,
             "ticks": ""
            },
            "colorscale": [
             [
              0,
              "#0d0887"
             ],
             [
              0.1111111111111111,
              "#46039f"
             ],
             [
              0.2222222222222222,
              "#7201a8"
             ],
             [
              0.3333333333333333,
              "#9c179e"
             ],
             [
              0.4444444444444444,
              "#bd3786"
             ],
             [
              0.5555555555555556,
              "#d8576b"
             ],
             [
              0.6666666666666666,
              "#ed7953"
             ],
             [
              0.7777777777777778,
              "#fb9f3a"
             ],
             [
              0.8888888888888888,
              "#fdca26"
             ],
             [
              1,
              "#f0f921"
             ]
            ],
            "type": "surface"
           }
          ],
          "table": [
           {
            "cells": {
             "fill": {
              "color": "#EBF0F8"
             },
             "line": {
              "color": "white"
             }
            },
            "header": {
             "fill": {
              "color": "#C8D4E3"
             },
             "line": {
              "color": "white"
             }
            },
            "type": "table"
           }
          ]
         },
         "layout": {
          "annotationdefaults": {
           "arrowcolor": "#2a3f5f",
           "arrowhead": 0,
           "arrowwidth": 1
          },
          "coloraxis": {
           "colorbar": {
            "outlinewidth": 0,
            "ticks": ""
           }
          },
          "colorscale": {
           "diverging": [
            [
             0,
             "#8e0152"
            ],
            [
             0.1,
             "#c51b7d"
            ],
            [
             0.2,
             "#de77ae"
            ],
            [
             0.3,
             "#f1b6da"
            ],
            [
             0.4,
             "#fde0ef"
            ],
            [
             0.5,
             "#f7f7f7"
            ],
            [
             0.6,
             "#e6f5d0"
            ],
            [
             0.7,
             "#b8e186"
            ],
            [
             0.8,
             "#7fbc41"
            ],
            [
             0.9,
             "#4d9221"
            ],
            [
             1,
             "#276419"
            ]
           ],
           "sequential": [
            [
             0,
             "#0d0887"
            ],
            [
             0.1111111111111111,
             "#46039f"
            ],
            [
             0.2222222222222222,
             "#7201a8"
            ],
            [
             0.3333333333333333,
             "#9c179e"
            ],
            [
             0.4444444444444444,
             "#bd3786"
            ],
            [
             0.5555555555555556,
             "#d8576b"
            ],
            [
             0.6666666666666666,
             "#ed7953"
            ],
            [
             0.7777777777777778,
             "#fb9f3a"
            ],
            [
             0.8888888888888888,
             "#fdca26"
            ],
            [
             1,
             "#f0f921"
            ]
           ],
           "sequentialminus": [
            [
             0,
             "#0d0887"
            ],
            [
             0.1111111111111111,
             "#46039f"
            ],
            [
             0.2222222222222222,
             "#7201a8"
            ],
            [
             0.3333333333333333,
             "#9c179e"
            ],
            [
             0.4444444444444444,
             "#bd3786"
            ],
            [
             0.5555555555555556,
             "#d8576b"
            ],
            [
             0.6666666666666666,
             "#ed7953"
            ],
            [
             0.7777777777777778,
             "#fb9f3a"
            ],
            [
             0.8888888888888888,
             "#fdca26"
            ],
            [
             1,
             "#f0f921"
            ]
           ]
          },
          "colorway": [
           "#636efa",
           "#EF553B",
           "#00cc96",
           "#ab63fa",
           "#FFA15A",
           "#19d3f3",
           "#FF6692",
           "#B6E880",
           "#FF97FF",
           "#FECB52"
          ],
          "font": {
           "color": "#2a3f5f"
          },
          "geo": {
           "bgcolor": "white",
           "lakecolor": "white",
           "landcolor": "#E5ECF6",
           "showlakes": true,
           "showland": true,
           "subunitcolor": "white"
          },
          "hoverlabel": {
           "align": "left"
          },
          "hovermode": "closest",
          "mapbox": {
           "style": "light"
          },
          "paper_bgcolor": "white",
          "plot_bgcolor": "#E5ECF6",
          "polar": {
           "angularaxis": {
            "gridcolor": "white",
            "linecolor": "white",
            "ticks": ""
           },
           "bgcolor": "#E5ECF6",
           "radialaxis": {
            "gridcolor": "white",
            "linecolor": "white",
            "ticks": ""
           }
          },
          "scene": {
           "xaxis": {
            "backgroundcolor": "#E5ECF6",
            "gridcolor": "white",
            "gridwidth": 2,
            "linecolor": "white",
            "showbackground": true,
            "ticks": "",
            "zerolinecolor": "white"
           },
           "yaxis": {
            "backgroundcolor": "#E5ECF6",
            "gridcolor": "white",
            "gridwidth": 2,
            "linecolor": "white",
            "showbackground": true,
            "ticks": "",
            "zerolinecolor": "white"
           },
           "zaxis": {
            "backgroundcolor": "#E5ECF6",
            "gridcolor": "white",
            "gridwidth": 2,
            "linecolor": "white",
            "showbackground": true,
            "ticks": "",
            "zerolinecolor": "white"
           }
          },
          "shapedefaults": {
           "line": {
            "color": "#2a3f5f"
           }
          },
          "ternary": {
           "aaxis": {
            "gridcolor": "white",
            "linecolor": "white",
            "ticks": ""
           },
           "baxis": {
            "gridcolor": "white",
            "linecolor": "white",
            "ticks": ""
           },
           "bgcolor": "#E5ECF6",
           "caxis": {
            "gridcolor": "white",
            "linecolor": "white",
            "ticks": ""
           }
          },
          "title": {
           "x": 0.05
          },
          "xaxis": {
           "automargin": true,
           "gridcolor": "white",
           "linecolor": "white",
           "ticks": "",
           "title": {
            "standoff": 15
           },
           "zerolinecolor": "white",
           "zerolinewidth": 2
          },
          "yaxis": {
           "automargin": true,
           "gridcolor": "white",
           "linecolor": "white",
           "ticks": "",
           "title": {
            "standoff": 15
           },
           "zerolinecolor": "white",
           "zerolinewidth": 2
          }
         }
        },
        "title": {
         "text": "Plot Title",
         "x": 0.5,
         "xanchor": "center",
         "y": 0.9,
         "yanchor": "top"
        },
        "width": 1000,
        "xaxis": {
         "title": {
          "text": "Date"
         }
        },
        "yaxis": {
         "title": {
          "text": "Value"
         }
        }
       }
      },
      "text/html": [
       "<div>\n",
       "        \n",
       "        \n",
       "            <div id=\"037bfe26-0289-40b1-8421-af06ae35098e\" class=\"plotly-graph-div\" style=\"height:600px; width:1000px;\"></div>\n",
       "            <script type=\"text/javascript\">\n",
       "                require([\"plotly\"], function(Plotly) {\n",
       "                    window.PLOTLYENV=window.PLOTLYENV || {};\n",
       "                    \n",
       "                if (document.getElementById(\"037bfe26-0289-40b1-8421-af06ae35098e\")) {\n",
       "                    Plotly.newPlot(\n",
       "                        '037bfe26-0289-40b1-8421-af06ae35098e',\n",
       "                        [{\"line\": {\"color\": \"orange\"}, \"mode\": \"lines+markers\", \"type\": \"scatter\", \"x\": [\"2019-10-01T00:00:00\", \"2019-07-01T00:00:00\", \"2019-04-01T00:00:00\", \"2019-01-01T00:00:00\", \"2018-10-01T00:00:00\", \"2018-07-01T00:00:00\", \"2018-04-01T00:00:00\", \"2018-01-01T00:00:00\", \"2017-10-01T00:00:00\", \"2017-07-01T00:00:00\", \"2017-04-01T00:00:00\", \"2017-01-01T00:00:00\", \"2016-10-01T00:00:00\", \"2016-07-01T00:00:00\", \"2016-04-01T00:00:00\", \"2016-01-01T00:00:00\", \"2015-10-01T00:00:00\", \"2015-07-01T00:00:00\", \"2015-04-01T00:00:00\", \"2015-01-01T00:00:00\", \"2014-10-01T00:00:00\", \"2014-07-01T00:00:00\", \"2014-04-01T00:00:00\", \"2014-01-01T00:00:00\", \"2013-10-01T00:00:00\", \"2013-07-01T00:00:00\", \"2013-04-01T00:00:00\", \"2013-01-01T00:00:00\", \"2012-10-01T00:00:00\", \"2012-07-01T00:00:00\", \"2012-04-01T00:00:00\", \"2012-01-01T00:00:00\", \"2011-10-01T00:00:00\", \"2011-07-01T00:00:00\", \"2011-04-01T00:00:00\", \"2011-01-01T00:00:00\", \"2010-10-01T00:00:00\", \"2010-07-01T00:00:00\", \"2010-04-01T00:00:00\", \"2010-01-01T00:00:00\", \"2009-10-01T00:00:00\", \"2009-07-01T00:00:00\", \"2009-04-01T00:00:00\", \"2009-01-01T00:00:00\", \"2008-10-01T00:00:00\", \"2008-07-01T00:00:00\", \"2008-04-01T00:00:00\", \"2008-01-01T00:00:00\", \"2007-10-01T00:00:00\", \"2007-07-01T00:00:00\", \"2007-04-01T00:00:00\", \"2007-01-01T00:00:00\", \"2006-10-01T00:00:00\", \"2006-07-01T00:00:00\", \"2006-04-01T00:00:00\", \"2006-01-01T00:00:00\", \"2005-10-01T00:00:00\", \"2005-07-01T00:00:00\", \"2005-04-01T00:00:00\", \"2005-01-01T00:00:00\", \"2004-10-01T00:00:00\", \"2004-07-01T00:00:00\", \"2004-04-01T00:00:00\", \"2004-01-01T00:00:00\", \"2003-10-01T00:00:00\", \"2003-07-01T00:00:00\", \"2003-04-01T00:00:00\", \"2003-01-01T00:00:00\", \"2002-10-01T00:00:00\", \"2002-07-01T00:00:00\", \"2002-04-01T00:00:00\", \"2002-01-01T00:00:00\"], \"y\": [50.0, 52.9, 53.9, 54.7, 57.8, 63.3, 58.3, 52.1, 46.6, 53.1, 50.0, 45.3, 44.5, 53.8, 50.5, 49.2, 50.6, 60.0, 63.0, 63.7, 61.2, 67.4, 63.9, 60.5, 56.5, 61.9, 52.1, 51.1, 43.9, 56.4, 47.3, 46.8, 51.7, 54.0, 55.9, 49.3, 44.1, 50.2, 45.1, 37.3, 35.8, 36.9, 26.1, 22.9, 27.4, 40.4, 42.3, 40.9, 40.8, 38.8, 39.2, 35.7, 33.3, 32.2, 33.0, 26.1, 19.8, 20.1, 19.2, 17.5, 16.2, 18.9, 15.4, 15.4, 13.1, 13.1, 12.0, 12.1, 12.9, 17.2, 16.1, 13.9]}],\n",
       "                        {\"font\": {\"color\": \"#7f7f7f\", \"family\": \"Helvetica Neue, Bold\", \"size\": 18}, \"height\": 600, \"plot_bgcolor\": \"rgb(10,10,10)\", \"template\": {\"data\": {\"bar\": [{\"error_x\": {\"color\": \"#2a3f5f\"}, \"error_y\": {\"color\": \"#2a3f5f\"}, \"marker\": {\"line\": {\"color\": \"#E5ECF6\", \"width\": 0.5}}, \"type\": \"bar\"}], \"barpolar\": [{\"marker\": {\"line\": {\"color\": \"#E5ECF6\", \"width\": 0.5}}, \"type\": \"barpolar\"}], \"carpet\": [{\"aaxis\": {\"endlinecolor\": \"#2a3f5f\", \"gridcolor\": \"white\", \"linecolor\": \"white\", \"minorgridcolor\": \"white\", \"startlinecolor\": \"#2a3f5f\"}, \"baxis\": {\"endlinecolor\": \"#2a3f5f\", \"gridcolor\": \"white\", \"linecolor\": \"white\", \"minorgridcolor\": \"white\", \"startlinecolor\": \"#2a3f5f\"}, \"type\": \"carpet\"}], \"choropleth\": [{\"colorbar\": {\"outlinewidth\": 0, \"ticks\": \"\"}, \"type\": \"choropleth\"}], \"contour\": [{\"colorbar\": {\"outlinewidth\": 0, \"ticks\": \"\"}, \"colorscale\": [[0.0, \"#0d0887\"], [0.1111111111111111, \"#46039f\"], [0.2222222222222222, \"#7201a8\"], [0.3333333333333333, \"#9c179e\"], [0.4444444444444444, \"#bd3786\"], [0.5555555555555556, \"#d8576b\"], [0.6666666666666666, \"#ed7953\"], [0.7777777777777778, \"#fb9f3a\"], [0.8888888888888888, \"#fdca26\"], [1.0, \"#f0f921\"]], \"type\": \"contour\"}], \"contourcarpet\": [{\"colorbar\": {\"outlinewidth\": 0, \"ticks\": \"\"}, \"type\": \"contourcarpet\"}], \"heatmap\": [{\"colorbar\": {\"outlinewidth\": 0, \"ticks\": \"\"}, \"colorscale\": [[0.0, \"#0d0887\"], [0.1111111111111111, \"#46039f\"], [0.2222222222222222, \"#7201a8\"], [0.3333333333333333, \"#9c179e\"], [0.4444444444444444, \"#bd3786\"], [0.5555555555555556, \"#d8576b\"], [0.6666666666666666, \"#ed7953\"], [0.7777777777777778, \"#fb9f3a\"], [0.8888888888888888, \"#fdca26\"], [1.0, \"#f0f921\"]], \"type\": \"heatmap\"}], \"heatmapgl\": [{\"colorbar\": {\"outlinewidth\": 0, \"ticks\": \"\"}, \"colorscale\": [[0.0, \"#0d0887\"], [0.1111111111111111, \"#46039f\"], [0.2222222222222222, \"#7201a8\"], [0.3333333333333333, \"#9c179e\"], [0.4444444444444444, \"#bd3786\"], [0.5555555555555556, \"#d8576b\"], [0.6666666666666666, \"#ed7953\"], [0.7777777777777778, \"#fb9f3a\"], [0.8888888888888888, \"#fdca26\"], [1.0, \"#f0f921\"]], \"type\": \"heatmapgl\"}], \"histogram\": [{\"marker\": {\"colorbar\": {\"outlinewidth\": 0, \"ticks\": \"\"}}, \"type\": \"histogram\"}], \"histogram2d\": [{\"colorbar\": {\"outlinewidth\": 0, \"ticks\": \"\"}, \"colorscale\": [[0.0, \"#0d0887\"], [0.1111111111111111, \"#46039f\"], [0.2222222222222222, \"#7201a8\"], [0.3333333333333333, \"#9c179e\"], [0.4444444444444444, \"#bd3786\"], [0.5555555555555556, \"#d8576b\"], [0.6666666666666666, \"#ed7953\"], [0.7777777777777778, \"#fb9f3a\"], [0.8888888888888888, \"#fdca26\"], [1.0, \"#f0f921\"]], \"type\": \"histogram2d\"}], \"histogram2dcontour\": [{\"colorbar\": {\"outlinewidth\": 0, \"ticks\": \"\"}, \"colorscale\": [[0.0, \"#0d0887\"], [0.1111111111111111, \"#46039f\"], [0.2222222222222222, \"#7201a8\"], [0.3333333333333333, \"#9c179e\"], [0.4444444444444444, \"#bd3786\"], [0.5555555555555556, \"#d8576b\"], [0.6666666666666666, \"#ed7953\"], [0.7777777777777778, \"#fb9f3a\"], [0.8888888888888888, \"#fdca26\"], [1.0, \"#f0f921\"]], \"type\": \"histogram2dcontour\"}], \"mesh3d\": [{\"colorbar\": {\"outlinewidth\": 0, \"ticks\": \"\"}, \"type\": \"mesh3d\"}], \"parcoords\": [{\"line\": {\"colorbar\": {\"outlinewidth\": 0, \"ticks\": \"\"}}, \"type\": \"parcoords\"}], \"pie\": [{\"automargin\": true, \"type\": \"pie\"}], \"scatter\": [{\"marker\": {\"colorbar\": {\"outlinewidth\": 0, \"ticks\": \"\"}}, \"type\": \"scatter\"}], \"scatter3d\": [{\"line\": {\"colorbar\": {\"outlinewidth\": 0, \"ticks\": \"\"}}, \"marker\": {\"colorbar\": {\"outlinewidth\": 0, \"ticks\": \"\"}}, \"type\": \"scatter3d\"}], \"scattercarpet\": [{\"marker\": {\"colorbar\": {\"outlinewidth\": 0, \"ticks\": \"\"}}, \"type\": \"scattercarpet\"}], \"scattergeo\": [{\"marker\": {\"colorbar\": {\"outlinewidth\": 0, \"ticks\": \"\"}}, \"type\": \"scattergeo\"}], \"scattergl\": [{\"marker\": {\"colorbar\": {\"outlinewidth\": 0, \"ticks\": \"\"}}, \"type\": \"scattergl\"}], \"scattermapbox\": [{\"marker\": {\"colorbar\": {\"outlinewidth\": 0, \"ticks\": \"\"}}, \"type\": \"scattermapbox\"}], \"scatterpolar\": [{\"marker\": {\"colorbar\": {\"outlinewidth\": 0, \"ticks\": \"\"}}, \"type\": \"scatterpolar\"}], \"scatterpolargl\": [{\"marker\": {\"colorbar\": {\"outlinewidth\": 0, \"ticks\": \"\"}}, \"type\": \"scatterpolargl\"}], \"scatterternary\": [{\"marker\": {\"colorbar\": {\"outlinewidth\": 0, \"ticks\": \"\"}}, \"type\": \"scatterternary\"}], \"surface\": [{\"colorbar\": {\"outlinewidth\": 0, \"ticks\": \"\"}, \"colorscale\": [[0.0, \"#0d0887\"], [0.1111111111111111, \"#46039f\"], [0.2222222222222222, \"#7201a8\"], [0.3333333333333333, \"#9c179e\"], [0.4444444444444444, \"#bd3786\"], [0.5555555555555556, \"#d8576b\"], [0.6666666666666666, \"#ed7953\"], [0.7777777777777778, \"#fb9f3a\"], [0.8888888888888888, \"#fdca26\"], [1.0, \"#f0f921\"]], \"type\": \"surface\"}], \"table\": [{\"cells\": {\"fill\": {\"color\": \"#EBF0F8\"}, \"line\": {\"color\": \"white\"}}, \"header\": {\"fill\": {\"color\": \"#C8D4E3\"}, \"line\": {\"color\": \"white\"}}, \"type\": \"table\"}]}, \"layout\": {\"annotationdefaults\": {\"arrowcolor\": \"#2a3f5f\", \"arrowhead\": 0, \"arrowwidth\": 1}, \"coloraxis\": {\"colorbar\": {\"outlinewidth\": 0, \"ticks\": \"\"}}, \"colorscale\": {\"diverging\": [[0, \"#8e0152\"], [0.1, \"#c51b7d\"], [0.2, \"#de77ae\"], [0.3, \"#f1b6da\"], [0.4, \"#fde0ef\"], [0.5, \"#f7f7f7\"], [0.6, \"#e6f5d0\"], [0.7, \"#b8e186\"], [0.8, \"#7fbc41\"], [0.9, \"#4d9221\"], [1, \"#276419\"]], \"sequential\": [[0.0, \"#0d0887\"], [0.1111111111111111, \"#46039f\"], [0.2222222222222222, \"#7201a8\"], [0.3333333333333333, \"#9c179e\"], [0.4444444444444444, \"#bd3786\"], [0.5555555555555556, \"#d8576b\"], [0.6666666666666666, \"#ed7953\"], [0.7777777777777778, \"#fb9f3a\"], [0.8888888888888888, \"#fdca26\"], [1.0, \"#f0f921\"]], \"sequentialminus\": [[0.0, \"#0d0887\"], [0.1111111111111111, \"#46039f\"], [0.2222222222222222, \"#7201a8\"], [0.3333333333333333, \"#9c179e\"], [0.4444444444444444, \"#bd3786\"], [0.5555555555555556, \"#d8576b\"], [0.6666666666666666, \"#ed7953\"], [0.7777777777777778, \"#fb9f3a\"], [0.8888888888888888, \"#fdca26\"], [1.0, \"#f0f921\"]]}, \"colorway\": [\"#636efa\", \"#EF553B\", \"#00cc96\", \"#ab63fa\", \"#FFA15A\", \"#19d3f3\", \"#FF6692\", \"#B6E880\", \"#FF97FF\", \"#FECB52\"], \"font\": {\"color\": \"#2a3f5f\"}, \"geo\": {\"bgcolor\": \"white\", \"lakecolor\": \"white\", \"landcolor\": \"#E5ECF6\", \"showlakes\": true, \"showland\": true, \"subunitcolor\": \"white\"}, \"hoverlabel\": {\"align\": \"left\"}, \"hovermode\": \"closest\", \"mapbox\": {\"style\": \"light\"}, \"paper_bgcolor\": \"white\", \"plot_bgcolor\": \"#E5ECF6\", \"polar\": {\"angularaxis\": {\"gridcolor\": \"white\", \"linecolor\": \"white\", \"ticks\": \"\"}, \"bgcolor\": \"#E5ECF6\", \"radialaxis\": {\"gridcolor\": \"white\", \"linecolor\": \"white\", \"ticks\": \"\"}}, \"scene\": {\"xaxis\": {\"backgroundcolor\": \"#E5ECF6\", \"gridcolor\": \"white\", \"gridwidth\": 2, \"linecolor\": \"white\", \"showbackground\": true, \"ticks\": \"\", \"zerolinecolor\": \"white\"}, \"yaxis\": {\"backgroundcolor\": \"#E5ECF6\", \"gridcolor\": \"white\", \"gridwidth\": 2, \"linecolor\": \"white\", \"showbackground\": true, \"ticks\": \"\", \"zerolinecolor\": \"white\"}, \"zaxis\": {\"backgroundcolor\": \"#E5ECF6\", \"gridcolor\": \"white\", \"gridwidth\": 2, \"linecolor\": \"white\", \"showbackground\": true, \"ticks\": \"\", \"zerolinecolor\": \"white\"}}, \"shapedefaults\": {\"line\": {\"color\": \"#2a3f5f\"}}, \"ternary\": {\"aaxis\": {\"gridcolor\": \"white\", \"linecolor\": \"white\", \"ticks\": \"\"}, \"baxis\": {\"gridcolor\": \"white\", \"linecolor\": \"white\", \"ticks\": \"\"}, \"bgcolor\": \"#E5ECF6\", \"caxis\": {\"gridcolor\": \"white\", \"linecolor\": \"white\", \"ticks\": \"\"}}, \"title\": {\"x\": 0.05}, \"xaxis\": {\"automargin\": true, \"gridcolor\": \"white\", \"linecolor\": \"white\", \"ticks\": \"\", \"title\": {\"standoff\": 15}, \"zerolinecolor\": \"white\", \"zerolinewidth\": 2}, \"yaxis\": {\"automargin\": true, \"gridcolor\": \"white\", \"linecolor\": \"white\", \"ticks\": \"\", \"title\": {\"standoff\": 15}, \"zerolinecolor\": \"white\", \"zerolinewidth\": 2}}}, \"title\": {\"text\": \"Plot Title\", \"x\": 0.5, \"xanchor\": \"center\", \"y\": 0.9, \"yanchor\": \"top\"}, \"width\": 1000, \"xaxis\": {\"title\": {\"text\": \"Date\"}}, \"yaxis\": {\"title\": {\"text\": \"Value\"}}},\n",
       "                        {\"displaylogo\": false, \"responsive\": true}\n",
       "                    ).then(function(){\n",
       "                            \n",
       "var gd = document.getElementById('037bfe26-0289-40b1-8421-af06ae35098e');\n",
       "var x = new MutationObserver(function (mutations, observer) {{\n",
       "        var display = window.getComputedStyle(gd).display;\n",
       "        if (!display || display === 'none') {{\n",
       "            console.log([gd, 'removed!']);\n",
       "            Plotly.purge(gd);\n",
       "            observer.disconnect();\n",
       "        }}\n",
       "}});\n",
       "\n",
       "// Listen for the removal of the full notebook cells\n",
       "var notebookContainer = gd.closest('#notebook-container');\n",
       "if (notebookContainer) {{\n",
       "    x.observe(notebookContainer, {childList: true});\n",
       "}}\n",
       "\n",
       "// Listen for the clearing of the current output cell\n",
       "var outputEl = gd.closest('.output');\n",
       "if (outputEl) {{\n",
       "    x.observe(outputEl, {childList: true});\n",
       "}}\n",
       "\n",
       "                        })\n",
       "                };\n",
       "                });\n",
       "            </script>\n",
       "        </div>"
      ]
     },
     "metadata": {},
     "output_type": "display_data"
    }
   ],
   "source": [
    "#df = px.data.gapminder().query(\"continent=='Oceania'\")\n",
    "x = SG['date']\n",
    "y = SG['value']\n",
    "fig = go.Figure(go.Scatter(x = x, y = y, mode = 'lines+markers', line_color = 'orange'))\n",
    "\n",
    "#define the chart look\n",
    "fig.update_layout(width = 1000,\n",
    "                  height = 600,\n",
    "                  plot_bgcolor = 'rgb(10,10,10)',\n",
    "                  title = {\n",
    "                      'text': \"Plot Title\",\n",
    "                      'y':0.9,\n",
    "                      'x':0.5,\n",
    "                      'xanchor': 'center',\n",
    "                      'yanchor': 'top'},\n",
    "                  xaxis_title = \"Date\",\n",
    "                  yaxis_title = \"Value\",\n",
    "                  font = dict(\n",
    "                      family = \"Helvetica Neue, Bold\",\n",
    "                      size = 18,\n",
    "                      color = \"#7f7f7f\")\n",
    "                  )\n",
    "#configure the appearance of the bar\n",
    "config = {'displaylogo': False}\n",
    "fig.show(config=config)"
   ]
  },
  {
   "cell_type": "code",
   "execution_count": 4,
   "metadata": {},
   "outputs": [],
   "source": [
    "#import stock market data\n",
    "ibovespa = pd.read_csv('Data/BVSP.csv', parse_dates = ['Date'])"
   ]
  },
  {
   "cell_type": "code",
   "execution_count": 5,
   "metadata": {},
   "outputs": [
    {
     "name": "stdout",
     "output_type": "stream",
     "text": [
      "<class 'pandas.core.frame.DataFrame'>\n",
      "RangeIndex: 6852 entries, 0 to 6851\n",
      "Data columns (total 7 columns):\n",
      "Date         6852 non-null datetime64[ns]\n",
      "Open         6674 non-null float64\n",
      "High         6674 non-null float64\n",
      "Low          6674 non-null float64\n",
      "Close        6674 non-null float64\n",
      "Adj Close    6674 non-null float64\n",
      "Volume       6674 non-null float64\n",
      "dtypes: datetime64[ns](1), float64(6)\n",
      "memory usage: 374.8 KB\n"
     ]
    }
   ],
   "source": [
    "ibovespa.info()"
   ]
  },
  {
   "cell_type": "markdown",
   "metadata": {},
   "source": [
    "### Import Economic Values"
   ]
  },
  {
   "cell_type": "code",
   "execution_count": 83,
   "metadata": {},
   "outputs": [],
   "source": [
    "#import the data using the quandl package, \n",
    "# Each dataset in this database has a Quandl code of the following formats: WWDI/{COUNTRY}_{INDICATOR}\n",
    "economic_data_brasil = quandl.get('BCB/188', start_date='2000-01-01', end_date='2020-04-18')\n",
    "economic_data_switzerland = quandl.get('SNB/CAPCHSTOCKI', start_date='2000-01-01', end_date='2020-04-18')\n",
    "economic_data_US = quandl.get('FED/FA364122005_Q', start_date='2000-01-01', end_date='2020-04-18')\n",
    "\n",
    "snb_balance_sheet = quandl.get('SNB/snbbipo', start_date='2000-01-01', end_date='2020-04-18')\n",
    "swiss_stock_market = quandl.get('SNB/capchstocki', start_date='2000-01-01', end_date='2020-04-18')\n",
    "swiss_monetary_supply = quandl.get('SNB/SNBMONAGG', start_date='2000-01-01', end_date='2020-04-18')\n",
    "US_money_supply = quandl.get('FED/M1_N_M', start_date='1970-01-01', end_date='2020-04-18')\n",
    "US_GDP = quandl.get('FED/FA086902001_Q', start_date='1970-01-01', end_date='2020-04-18')\n"
   ]
  },
  {
   "cell_type": "code",
   "execution_count": 73,
   "metadata": {},
   "outputs": [],
   "source": [
    "gold_price = pd.read_csv('Data/Gold_daily.csv', parse_dates = ['Date'], index_col = ['Date'])"
   ]
  },
  {
   "cell_type": "code",
   "execution_count": 98,
   "metadata": {},
   "outputs": [
    {
     "ename": "NotFoundError",
     "evalue": "(Status 404) (Quandl Error QECx02) You have submitted an incorrect Quandl code. Please check your Quandl codes and try again.",
     "output_type": "error",
     "traceback": [
      "\u001b[0;31m---------------------------------------------------------------------------\u001b[0m",
      "\u001b[0;31mNotFoundError\u001b[0m                             Traceback (most recent call last)",
      "\u001b[0;32m<ipython-input-98-99efac40efab>\u001b[0m in \u001b[0;36m<module>\u001b[0;34m\u001b[0m\n\u001b[1;32m      1\u001b[0m \u001b[0mquandl\u001b[0m\u001b[0;34m.\u001b[0m\u001b[0mApiConfig\u001b[0m\u001b[0;34m.\u001b[0m\u001b[0mapi_key\u001b[0m \u001b[0;34m=\u001b[0m \u001b[0;34m'tCBP9Fynn_czk4wgKip9'\u001b[0m\u001b[0;34m\u001b[0m\u001b[0;34m\u001b[0m\u001b[0m\n\u001b[0;32m----> 2\u001b[0;31m \u001b[0mtest\u001b[0m \u001b[0;34m=\u001b[0m \u001b[0mquandl\u001b[0m\u001b[0;34m.\u001b[0m\u001b[0mget\u001b[0m\u001b[0;34m(\u001b[0m\u001b[0;34m'EDIA/ECD'\u001b[0m\u001b[0;34m,\u001b[0m \u001b[0mstart_date\u001b[0m\u001b[0;34m=\u001b[0m\u001b[0;34m'2019-09-01'\u001b[0m\u001b[0;34m,\u001b[0m \u001b[0mend_date\u001b[0m \u001b[0;34m=\u001b[0m\u001b[0;34m'2019-07-01'\u001b[0m\u001b[0;34m,\u001b[0m \u001b[0mseries_id\u001b[0m\u001b[0;34m=\u001b[0m\u001b[0;34m'43961,43960'\u001b[0m\u001b[0;34m)\u001b[0m\u001b[0;34m\u001b[0m\u001b[0;34m\u001b[0m\u001b[0m\n\u001b[0m",
      "\u001b[0;32m/opt/anaconda3/lib/python3.7/site-packages/quandl/get.py\u001b[0m in \u001b[0;36mget\u001b[0;34m(dataset, **kwargs)\u001b[0m\n\u001b[1;32m     46\u001b[0m         \u001b[0;32mif\u001b[0m \u001b[0mdataset_args\u001b[0m\u001b[0;34m[\u001b[0m\u001b[0;34m'column_index'\u001b[0m\u001b[0;34m]\u001b[0m \u001b[0;32mis\u001b[0m \u001b[0;32mnot\u001b[0m \u001b[0;32mNone\u001b[0m\u001b[0;34m:\u001b[0m\u001b[0;34m\u001b[0m\u001b[0;34m\u001b[0m\u001b[0m\n\u001b[1;32m     47\u001b[0m             \u001b[0mkwargs\u001b[0m\u001b[0;34m.\u001b[0m\u001b[0mupdate\u001b[0m\u001b[0;34m(\u001b[0m\u001b[0;34m{\u001b[0m\u001b[0;34m'column_index'\u001b[0m\u001b[0;34m:\u001b[0m \u001b[0mdataset_args\u001b[0m\u001b[0;34m[\u001b[0m\u001b[0;34m'column_index'\u001b[0m\u001b[0;34m]\u001b[0m\u001b[0;34m}\u001b[0m\u001b[0;34m)\u001b[0m\u001b[0;34m\u001b[0m\u001b[0;34m\u001b[0m\u001b[0m\n\u001b[0;32m---> 48\u001b[0;31m         \u001b[0mdata\u001b[0m \u001b[0;34m=\u001b[0m \u001b[0mDataset\u001b[0m\u001b[0;34m(\u001b[0m\u001b[0mdataset_args\u001b[0m\u001b[0;34m[\u001b[0m\u001b[0;34m'code'\u001b[0m\u001b[0;34m]\u001b[0m\u001b[0;34m)\u001b[0m\u001b[0;34m.\u001b[0m\u001b[0mdata\u001b[0m\u001b[0;34m(\u001b[0m\u001b[0mparams\u001b[0m\u001b[0;34m=\u001b[0m\u001b[0mkwargs\u001b[0m\u001b[0;34m,\u001b[0m \u001b[0mhandle_column_not_found\u001b[0m\u001b[0;34m=\u001b[0m\u001b[0;32mTrue\u001b[0m\u001b[0;34m)\u001b[0m\u001b[0;34m\u001b[0m\u001b[0;34m\u001b[0m\u001b[0m\n\u001b[0m\u001b[1;32m     49\u001b[0m     \u001b[0;31m# Array\u001b[0m\u001b[0;34m\u001b[0m\u001b[0;34m\u001b[0m\u001b[0;34m\u001b[0m\u001b[0m\n\u001b[1;32m     50\u001b[0m     \u001b[0;32melif\u001b[0m \u001b[0misinstance\u001b[0m\u001b[0;34m(\u001b[0m\u001b[0mdataset\u001b[0m\u001b[0;34m,\u001b[0m \u001b[0mlist\u001b[0m\u001b[0;34m)\u001b[0m\u001b[0;34m:\u001b[0m\u001b[0;34m\u001b[0m\u001b[0;34m\u001b[0m\u001b[0m\n",
      "\u001b[0;32m/opt/anaconda3/lib/python3.7/site-packages/quandl/model/dataset.py\u001b[0m in \u001b[0;36mdata\u001b[0;34m(self, **options)\u001b[0m\n\u001b[1;32m     45\u001b[0m         \u001b[0mupdated_options\u001b[0m \u001b[0;34m=\u001b[0m \u001b[0mUtil\u001b[0m\u001b[0;34m.\u001b[0m\u001b[0mmerge_options\u001b[0m\u001b[0;34m(\u001b[0m\u001b[0;34m'params'\u001b[0m\u001b[0;34m,\u001b[0m \u001b[0mparams\u001b[0m\u001b[0;34m,\u001b[0m \u001b[0;34m**\u001b[0m\u001b[0moptions\u001b[0m\u001b[0;34m)\u001b[0m\u001b[0;34m\u001b[0m\u001b[0;34m\u001b[0m\u001b[0m\n\u001b[1;32m     46\u001b[0m         \u001b[0;32mtry\u001b[0m\u001b[0;34m:\u001b[0m\u001b[0;34m\u001b[0m\u001b[0;34m\u001b[0m\u001b[0m\n\u001b[0;32m---> 47\u001b[0;31m             \u001b[0;32mreturn\u001b[0m \u001b[0mData\u001b[0m\u001b[0;34m.\u001b[0m\u001b[0mall\u001b[0m\u001b[0;34m(\u001b[0m\u001b[0;34m**\u001b[0m\u001b[0mupdated_options\u001b[0m\u001b[0;34m)\u001b[0m\u001b[0;34m\u001b[0m\u001b[0;34m\u001b[0m\u001b[0m\n\u001b[0m\u001b[1;32m     48\u001b[0m         \u001b[0;32mexcept\u001b[0m \u001b[0mNotFoundError\u001b[0m\u001b[0;34m:\u001b[0m\u001b[0;34m\u001b[0m\u001b[0;34m\u001b[0m\u001b[0m\n\u001b[1;32m     49\u001b[0m             \u001b[0;32mif\u001b[0m \u001b[0mhandle_not_found_error\u001b[0m\u001b[0;34m:\u001b[0m\u001b[0;34m\u001b[0m\u001b[0;34m\u001b[0m\u001b[0m\n",
      "\u001b[0;32m/opt/anaconda3/lib/python3.7/site-packages/quandl/operations/list.py\u001b[0m in \u001b[0;36mall\u001b[0;34m(cls, **options)\u001b[0m\n\u001b[1;32m     13\u001b[0m             \u001b[0moptions\u001b[0m\u001b[0;34m[\u001b[0m\u001b[0;34m'params'\u001b[0m\u001b[0;34m]\u001b[0m \u001b[0;34m=\u001b[0m \u001b[0;34m{\u001b[0m\u001b[0;34m}\u001b[0m\u001b[0;34m\u001b[0m\u001b[0;34m\u001b[0m\u001b[0m\n\u001b[1;32m     14\u001b[0m         \u001b[0mpath\u001b[0m \u001b[0;34m=\u001b[0m \u001b[0mUtil\u001b[0m\u001b[0;34m.\u001b[0m\u001b[0mconstructed_path\u001b[0m\u001b[0;34m(\u001b[0m\u001b[0mcls\u001b[0m\u001b[0;34m.\u001b[0m\u001b[0mlist_path\u001b[0m\u001b[0;34m(\u001b[0m\u001b[0;34m)\u001b[0m\u001b[0;34m,\u001b[0m \u001b[0moptions\u001b[0m\u001b[0;34m[\u001b[0m\u001b[0;34m'params'\u001b[0m\u001b[0;34m]\u001b[0m\u001b[0;34m)\u001b[0m\u001b[0;34m\u001b[0m\u001b[0;34m\u001b[0m\u001b[0m\n\u001b[0;32m---> 15\u001b[0;31m         \u001b[0mr\u001b[0m \u001b[0;34m=\u001b[0m \u001b[0mConnection\u001b[0m\u001b[0;34m.\u001b[0m\u001b[0mrequest\u001b[0m\u001b[0;34m(\u001b[0m\u001b[0;34m'get'\u001b[0m\u001b[0;34m,\u001b[0m \u001b[0mpath\u001b[0m\u001b[0;34m,\u001b[0m \u001b[0;34m**\u001b[0m\u001b[0moptions\u001b[0m\u001b[0;34m)\u001b[0m\u001b[0;34m\u001b[0m\u001b[0;34m\u001b[0m\u001b[0m\n\u001b[0m\u001b[1;32m     16\u001b[0m         \u001b[0mresponse_data\u001b[0m \u001b[0;34m=\u001b[0m \u001b[0mr\u001b[0m\u001b[0;34m.\u001b[0m\u001b[0mjson\u001b[0m\u001b[0;34m(\u001b[0m\u001b[0;34m)\u001b[0m\u001b[0;34m\u001b[0m\u001b[0;34m\u001b[0m\u001b[0m\n\u001b[1;32m     17\u001b[0m         \u001b[0mUtil\u001b[0m\u001b[0;34m.\u001b[0m\u001b[0mconvert_to_dates\u001b[0m\u001b[0;34m(\u001b[0m\u001b[0mresponse_data\u001b[0m\u001b[0;34m)\u001b[0m\u001b[0;34m\u001b[0m\u001b[0;34m\u001b[0m\u001b[0m\n",
      "\u001b[0;32m/opt/anaconda3/lib/python3.7/site-packages/quandl/connection.py\u001b[0m in \u001b[0;36mrequest\u001b[0;34m(cls, http_verb, url, **options)\u001b[0m\n\u001b[1;32m     36\u001b[0m         \u001b[0mabs_url\u001b[0m \u001b[0;34m=\u001b[0m \u001b[0;34m'%s/%s'\u001b[0m \u001b[0;34m%\u001b[0m \u001b[0;34m(\u001b[0m\u001b[0mApiConfig\u001b[0m\u001b[0;34m.\u001b[0m\u001b[0mapi_base\u001b[0m\u001b[0;34m,\u001b[0m \u001b[0murl\u001b[0m\u001b[0;34m)\u001b[0m\u001b[0;34m\u001b[0m\u001b[0;34m\u001b[0m\u001b[0m\n\u001b[1;32m     37\u001b[0m \u001b[0;34m\u001b[0m\u001b[0m\n\u001b[0;32m---> 38\u001b[0;31m         \u001b[0;32mreturn\u001b[0m \u001b[0mcls\u001b[0m\u001b[0;34m.\u001b[0m\u001b[0mexecute_request\u001b[0m\u001b[0;34m(\u001b[0m\u001b[0mhttp_verb\u001b[0m\u001b[0;34m,\u001b[0m \u001b[0mabs_url\u001b[0m\u001b[0;34m,\u001b[0m \u001b[0;34m**\u001b[0m\u001b[0moptions\u001b[0m\u001b[0;34m)\u001b[0m\u001b[0;34m\u001b[0m\u001b[0;34m\u001b[0m\u001b[0m\n\u001b[0m\u001b[1;32m     39\u001b[0m \u001b[0;34m\u001b[0m\u001b[0m\n\u001b[1;32m     40\u001b[0m     \u001b[0;34m@\u001b[0m\u001b[0mclassmethod\u001b[0m\u001b[0;34m\u001b[0m\u001b[0;34m\u001b[0m\u001b[0m\n",
      "\u001b[0;32m/opt/anaconda3/lib/python3.7/site-packages/quandl/connection.py\u001b[0m in \u001b[0;36mexecute_request\u001b[0;34m(cls, http_verb, url, **options)\u001b[0m\n\u001b[1;32m     48\u001b[0m                                        **options)\n\u001b[1;32m     49\u001b[0m             \u001b[0;32mif\u001b[0m \u001b[0mresponse\u001b[0m\u001b[0;34m.\u001b[0m\u001b[0mstatus_code\u001b[0m \u001b[0;34m<\u001b[0m \u001b[0;36m200\u001b[0m \u001b[0;32mor\u001b[0m \u001b[0mresponse\u001b[0m\u001b[0;34m.\u001b[0m\u001b[0mstatus_code\u001b[0m \u001b[0;34m>=\u001b[0m \u001b[0;36m300\u001b[0m\u001b[0;34m:\u001b[0m\u001b[0;34m\u001b[0m\u001b[0;34m\u001b[0m\u001b[0m\n\u001b[0;32m---> 50\u001b[0;31m                 \u001b[0mcls\u001b[0m\u001b[0;34m.\u001b[0m\u001b[0mhandle_api_error\u001b[0m\u001b[0;34m(\u001b[0m\u001b[0mresponse\u001b[0m\u001b[0;34m)\u001b[0m\u001b[0;34m\u001b[0m\u001b[0;34m\u001b[0m\u001b[0m\n\u001b[0m\u001b[1;32m     51\u001b[0m             \u001b[0;32melse\u001b[0m\u001b[0;34m:\u001b[0m\u001b[0;34m\u001b[0m\u001b[0;34m\u001b[0m\u001b[0m\n\u001b[1;32m     52\u001b[0m                 \u001b[0;32mreturn\u001b[0m \u001b[0mresponse\u001b[0m\u001b[0;34m\u001b[0m\u001b[0;34m\u001b[0m\u001b[0m\n",
      "\u001b[0;32m/opt/anaconda3/lib/python3.7/site-packages/quandl/connection.py\u001b[0m in \u001b[0;36mhandle_api_error\u001b[0;34m(cls, resp)\u001b[0m\n\u001b[1;32m    112\u001b[0m         \u001b[0mklass\u001b[0m \u001b[0;34m=\u001b[0m \u001b[0md_klass\u001b[0m\u001b[0;34m.\u001b[0m\u001b[0mget\u001b[0m\u001b[0;34m(\u001b[0m\u001b[0mcode_letter\u001b[0m\u001b[0;34m,\u001b[0m \u001b[0mQuandlError\u001b[0m\u001b[0;34m)\u001b[0m\u001b[0;34m\u001b[0m\u001b[0;34m\u001b[0m\u001b[0m\n\u001b[1;32m    113\u001b[0m \u001b[0;34m\u001b[0m\u001b[0m\n\u001b[0;32m--> 114\u001b[0;31m         \u001b[0;32mraise\u001b[0m \u001b[0mklass\u001b[0m\u001b[0;34m(\u001b[0m\u001b[0mmessage\u001b[0m\u001b[0;34m,\u001b[0m \u001b[0mresp\u001b[0m\u001b[0;34m.\u001b[0m\u001b[0mstatus_code\u001b[0m\u001b[0;34m,\u001b[0m \u001b[0mresp\u001b[0m\u001b[0;34m.\u001b[0m\u001b[0mtext\u001b[0m\u001b[0;34m,\u001b[0m \u001b[0mresp\u001b[0m\u001b[0;34m.\u001b[0m\u001b[0mheaders\u001b[0m\u001b[0;34m,\u001b[0m \u001b[0mcode\u001b[0m\u001b[0;34m)\u001b[0m\u001b[0;34m\u001b[0m\u001b[0;34m\u001b[0m\u001b[0m\n\u001b[0m",
      "\u001b[0;31mNotFoundError\u001b[0m: (Status 404) (Quandl Error QECx02) You have submitted an incorrect Quandl code. Please check your Quandl codes and try again."
     ]
    }
   ],
   "source": [
    "quandl.ApiConfig.api_key = 'tCBP9Fynn_czk4wgKip9'\n",
    "test = quandl.get('EDIA/ECD', start_date='2019-09-01', end_date ='2019-07-01', series_id='43961,43960')"
   ]
  },
  {
   "cell_type": "code",
   "execution_count": 95,
   "metadata": {},
   "outputs": [
    {
     "data": {
      "text/html": [
       "<div>\n",
       "<style scoped>\n",
       "    .dataframe tbody tr th:only-of-type {\n",
       "        vertical-align: middle;\n",
       "    }\n",
       "\n",
       "    .dataframe tbody tr th {\n",
       "        vertical-align: top;\n",
       "    }\n",
       "\n",
       "    .dataframe thead th {\n",
       "        text-align: right;\n",
       "    }\n",
       "</style>\n",
       "<table border=\"1\" class=\"dataframe\">\n",
       "  <thead>\n",
       "    <tr style=\"text-align: right;\">\n",
       "      <th></th>\n",
       "      <th>series_id</th>\n",
       "      <th>country_code</th>\n",
       "      <th>indicator_code</th>\n",
       "      <th>identifier</th>\n",
       "      <th>description</th>\n",
       "      <th>units</th>\n",
       "      <th>frequency</th>\n",
       "      <th>date</th>\n",
       "      <th>value</th>\n",
       "    </tr>\n",
       "    <tr>\n",
       "      <th>None</th>\n",
       "      <th></th>\n",
       "      <th></th>\n",
       "      <th></th>\n",
       "      <th></th>\n",
       "      <th></th>\n",
       "      <th></th>\n",
       "      <th></th>\n",
       "      <th></th>\n",
       "      <th></th>\n",
       "    </tr>\n",
       "  </thead>\n",
       "  <tbody>\n",
       "    <tr>\n",
       "      <td>0</td>\n",
       "      <td>43961</td>\n",
       "      <td>US</td>\n",
       "      <td>200</td>\n",
       "      <td>US.200.M.03</td>\n",
       "      <td>United States: Unemployment Rate [United State...</td>\n",
       "      <td>%</td>\n",
       "      <td>M</td>\n",
       "      <td>2019-09-01</td>\n",
       "      <td>3.5</td>\n",
       "    </tr>\n",
       "    <tr>\n",
       "      <td>1</td>\n",
       "      <td>43961</td>\n",
       "      <td>US</td>\n",
       "      <td>200</td>\n",
       "      <td>US.200.M.03</td>\n",
       "      <td>United States: Unemployment Rate [United State...</td>\n",
       "      <td>%</td>\n",
       "      <td>M</td>\n",
       "      <td>2019-07-01</td>\n",
       "      <td>3.7</td>\n",
       "    </tr>\n",
       "    <tr>\n",
       "      <td>2</td>\n",
       "      <td>43960</td>\n",
       "      <td>US</td>\n",
       "      <td>200</td>\n",
       "      <td>US.200.M.02</td>\n",
       "      <td>United States: Unemployment Rate [Unemployment...</td>\n",
       "      <td>%</td>\n",
       "      <td>M</td>\n",
       "      <td>2019-09-01</td>\n",
       "      <td>3.5</td>\n",
       "    </tr>\n",
       "    <tr>\n",
       "      <td>3</td>\n",
       "      <td>43960</td>\n",
       "      <td>US</td>\n",
       "      <td>200</td>\n",
       "      <td>US.200.M.02</td>\n",
       "      <td>United States: Unemployment Rate [Unemployment...</td>\n",
       "      <td>%</td>\n",
       "      <td>M</td>\n",
       "      <td>2019-07-01</td>\n",
       "      <td>3.7</td>\n",
       "    </tr>\n",
       "  </tbody>\n",
       "</table>\n",
       "</div>"
      ],
      "text/plain": [
       "      series_id country_code indicator_code   identifier  \\\n",
       "None                                                       \n",
       "0         43961           US            200  US.200.M.03   \n",
       "1         43961           US            200  US.200.M.03   \n",
       "2         43960           US            200  US.200.M.02   \n",
       "3         43960           US            200  US.200.M.02   \n",
       "\n",
       "                                            description units frequency  \\\n",
       "None                                                                      \n",
       "0     United States: Unemployment Rate [United State...     %         M   \n",
       "1     United States: Unemployment Rate [United State...     %         M   \n",
       "2     United States: Unemployment Rate [Unemployment...     %         M   \n",
       "3     United States: Unemployment Rate [Unemployment...     %         M   \n",
       "\n",
       "           date  value  \n",
       "None                    \n",
       "0    2019-09-01    3.5  \n",
       "1    2019-07-01    3.7  \n",
       "2    2019-09-01    3.5  \n",
       "3    2019-07-01    3.7  "
      ]
     },
     "execution_count": 95,
     "metadata": {},
     "output_type": "execute_result"
    }
   ],
   "source": [
    "test"
   ]
  },
  {
   "cell_type": "code",
   "execution_count": 75,
   "metadata": {},
   "outputs": [],
   "source": [
    "gold_vs_money = gold_price.merge(US_money_supply, on = 'Date', suffixes=('_gold', '_money_supply'))\n",
    "gold_vs_money = gold_vs_money.sort_index()"
   ]
  },
  {
   "cell_type": "code",
   "execution_count": 81,
   "metadata": {},
   "outputs": [
    {
     "data": {
      "text/html": [
       "<div>\n",
       "<style scoped>\n",
       "    .dataframe tbody tr th:only-of-type {\n",
       "        vertical-align: middle;\n",
       "    }\n",
       "\n",
       "    .dataframe tbody tr th {\n",
       "        vertical-align: top;\n",
       "    }\n",
       "\n",
       "    .dataframe thead th {\n",
       "        text-align: right;\n",
       "    }\n",
       "</style>\n",
       "<table border=\"1\" class=\"dataframe\">\n",
       "  <thead>\n",
       "    <tr style=\"text-align: right;\">\n",
       "      <th></th>\n",
       "      <th>Value_gold</th>\n",
       "      <th>Value_money_supply</th>\n",
       "    </tr>\n",
       "    <tr>\n",
       "      <th>Date</th>\n",
       "      <th></th>\n",
       "      <th></th>\n",
       "    </tr>\n",
       "  </thead>\n",
       "  <tbody>\n",
       "    <tr>\n",
       "      <td>1979-01-31</td>\n",
       "      <td>233.70</td>\n",
       "      <td>363.3</td>\n",
       "    </tr>\n",
       "    <tr>\n",
       "      <td>1979-02-28</td>\n",
       "      <td>251.30</td>\n",
       "      <td>351.7</td>\n",
       "    </tr>\n",
       "    <tr>\n",
       "      <td>1979-04-30</td>\n",
       "      <td>245.30</td>\n",
       "      <td>371.3</td>\n",
       "    </tr>\n",
       "    <tr>\n",
       "      <td>1979-05-31</td>\n",
       "      <td>274.60</td>\n",
       "      <td>362.2</td>\n",
       "    </tr>\n",
       "    <tr>\n",
       "      <td>1979-07-31</td>\n",
       "      <td>296.45</td>\n",
       "      <td>378.4</td>\n",
       "    </tr>\n",
       "    <tr>\n",
       "      <td>...</td>\n",
       "      <td>...</td>\n",
       "      <td>...</td>\n",
       "    </tr>\n",
       "    <tr>\n",
       "      <td>2019-07-31</td>\n",
       "      <td>1427.55</td>\n",
       "      <td>3860.8</td>\n",
       "    </tr>\n",
       "    <tr>\n",
       "      <td>2019-09-30</td>\n",
       "      <td>1485.30</td>\n",
       "      <td>3874.6</td>\n",
       "    </tr>\n",
       "    <tr>\n",
       "      <td>2019-10-31</td>\n",
       "      <td>1510.95</td>\n",
       "      <td>3921.9</td>\n",
       "    </tr>\n",
       "    <tr>\n",
       "      <td>2019-12-31</td>\n",
       "      <td>1514.75</td>\n",
       "      <td>4041.3</td>\n",
       "    </tr>\n",
       "    <tr>\n",
       "      <td>2020-01-31</td>\n",
       "      <td>1584.20</td>\n",
       "      <td>3982.0</td>\n",
       "    </tr>\n",
       "  </tbody>\n",
       "</table>\n",
       "<p>352 rows × 2 columns</p>\n",
       "</div>"
      ],
      "text/plain": [
       "            Value_gold  Value_money_supply\n",
       "Date                                      \n",
       "1979-01-31      233.70               363.3\n",
       "1979-02-28      251.30               351.7\n",
       "1979-04-30      245.30               371.3\n",
       "1979-05-31      274.60               362.2\n",
       "1979-07-31      296.45               378.4\n",
       "...                ...                 ...\n",
       "2019-07-31     1427.55              3860.8\n",
       "2019-09-30     1485.30              3874.6\n",
       "2019-10-31     1510.95              3921.9\n",
       "2019-12-31     1514.75              4041.3\n",
       "2020-01-31     1584.20              3982.0\n",
       "\n",
       "[352 rows x 2 columns]"
      ]
     },
     "execution_count": 81,
     "metadata": {},
     "output_type": "execute_result"
    }
   ],
   "source": [
    "gold_vs_money"
   ]
  },
  {
   "cell_type": "code",
   "execution_count": 82,
   "metadata": {},
   "outputs": [
    {
     "data": {
      "text/plain": [
       "<matplotlib.legend.Legend at 0x123ade650>"
      ]
     },
     "execution_count": 82,
     "metadata": {},
     "output_type": "execute_result"
    },
    {
     "data": {
      "image/png": "[encoded data removed]",
      "text/plain": [
       "<Figure size 432x288 with 1 Axes>"
      ]
     },
     "metadata": {
      "needs_background": "light"
     },
     "output_type": "display_data"
    }
   ],
   "source": [
    "plt.plot(normalize(gold_vs_money['Value_gold']), label = 'Gold Price Normalized', color = '#8B0000')\n",
    "plt.plot(normalize(gold_vs_money['Value_money_supply']), label = \"US Money Supply M1\")\n",
    "plt.title('Normalized Gold Price in US vs. US Money Supply M1')\n",
    "plt.legend()"
   ]
  },
  {
   "cell_type": "code",
   "execution_count": 37,
   "metadata": {},
   "outputs": [
    {
     "data": {
      "text/html": [
       "<div>\n",
       "<style scoped>\n",
       "    .dataframe tbody tr th:only-of-type {\n",
       "        vertical-align: middle;\n",
       "    }\n",
       "\n",
       "    .dataframe tbody tr th {\n",
       "        vertical-align: top;\n",
       "    }\n",
       "\n",
       "    .dataframe thead th {\n",
       "        text-align: right;\n",
       "    }\n",
       "</style>\n",
       "<table border=\"1\" class=\"dataframe\">\n",
       "  <thead>\n",
       "    <tr style=\"text-align: right;\">\n",
       "      <th></th>\n",
       "      <th>Date</th>\n",
       "      <th>Value</th>\n",
       "    </tr>\n",
       "  </thead>\n",
       "  <tbody>\n",
       "    <tr>\n",
       "      <td>10782</td>\n",
       "      <td>1971-01-01</td>\n",
       "      <td>37.4</td>\n",
       "    </tr>\n",
       "    <tr>\n",
       "      <td>10783</td>\n",
       "      <td>1970-10-01</td>\n",
       "      <td>36.2</td>\n",
       "    </tr>\n",
       "    <tr>\n",
       "      <td>10784</td>\n",
       "      <td>1970-07-01</td>\n",
       "      <td>35.4</td>\n",
       "    </tr>\n",
       "    <tr>\n",
       "      <td>10785</td>\n",
       "      <td>1970-04-01</td>\n",
       "      <td>35.1</td>\n",
       "    </tr>\n",
       "    <tr>\n",
       "      <td>10786</td>\n",
       "      <td>1970-01-01</td>\n",
       "      <td>35.2</td>\n",
       "    </tr>\n",
       "  </tbody>\n",
       "</table>\n",
       "</div>"
      ],
      "text/plain": [
       "            Date  Value\n",
       "10782 1971-01-01   37.4\n",
       "10783 1970-10-01   36.2\n",
       "10784 1970-07-01   35.4\n",
       "10785 1970-04-01   35.1\n",
       "10786 1970-01-01   35.2"
      ]
     },
     "execution_count": 37,
     "metadata": {},
     "output_type": "execute_result"
    }
   ],
   "source": [
    "gold_price.tail()"
   ]
  },
  {
   "cell_type": "code",
   "execution_count": 10,
   "metadata": {},
   "outputs": [
    {
     "name": "stdout",
     "output_type": "stream",
     "text": [
      "<class 'pandas.core.frame.DataFrame'>\n",
      "DatetimeIndex: 5096 entries, 2000-01-04 to 2020-03-13\n",
      "Data columns (total 9 columns):\n",
      "SPI Swiss Performance Index - Index total (including dividend reinvestment)    5087 non-null float64\n",
      "SPI Swiss Performance Index - Banks                                            4949 non-null float64\n",
      "SPI Swiss Performance Index - Financial services                               4949 non-null float64\n",
      "SPI Swiss Performance Index - Insurance                                        4949 non-null float64\n",
      "SPI Swiss Performance Index - Food and beverages                               4949 non-null float64\n",
      "SPI Swiss Performance Index - Health care                                      4949 non-null float64\n",
      "SPI Swiss Performance Index - Registered shares                                5086 non-null float64\n",
      "SPI Swiss Performance Index - Bearer shares and participation certificates     5086 non-null float64\n",
      "SMI Swiss Market Index (excluding dividend reinvestment)                       5085 non-null float64\n",
      "dtypes: float64(9)\n",
      "memory usage: 398.1 KB\n"
     ]
    }
   ],
   "source": [
    "economic_data_switzerland.info()"
   ]
  },
  {
   "cell_type": "code",
   "execution_count": 30,
   "metadata": {},
   "outputs": [
    {
     "data": {
      "text/html": [
       "<div>\n",
       "<style scoped>\n",
       "    .dataframe tbody tr th:only-of-type {\n",
       "        vertical-align: middle;\n",
       "    }\n",
       "\n",
       "    .dataframe tbody tr th {\n",
       "        vertical-align: top;\n",
       "    }\n",
       "\n",
       "    .dataframe thead th {\n",
       "        text-align: right;\n",
       "    }\n",
       "</style>\n",
       "<table border=\"1\" class=\"dataframe\">\n",
       "  <thead>\n",
       "    <tr style=\"text-align: right;\">\n",
       "      <th></th>\n",
       "      <th>Level - Currency in circulation</th>\n",
       "      <th>Level - Sight deposits</th>\n",
       "      <th>Level - Deposits in transaction accounts</th>\n",
       "      <th>Level - Monetary aggregate M1</th>\n",
       "      <th>Level - Savings deposits</th>\n",
       "      <th>Level - Monetary aggregate M2</th>\n",
       "      <th>Level - Time deposits</th>\n",
       "      <th>Level - Monetary aggregate M3</th>\n",
       "      <th>Change from the corresponding month of the previous year - Currency in circulation</th>\n",
       "      <th>Change from the corresponding month of the previous year - Sight deposits</th>\n",
       "      <th>Change from the corresponding month of the previous year - Deposits in transaction accounts</th>\n",
       "      <th>Change from the corresponding month of the previous year - Monetary aggregate M1</th>\n",
       "      <th>Change from the corresponding month of the previous year - Savings deposits</th>\n",
       "      <th>Change from the corresponding month of the previous year - Monetary aggregate M2</th>\n",
       "      <th>Change from the corresponding month of the previous year - Time deposits</th>\n",
       "      <th>Change from the corresponding month of the previous year - Monetary aggregate M3</th>\n",
       "    </tr>\n",
       "    <tr>\n",
       "      <th>Date</th>\n",
       "      <th></th>\n",
       "      <th></th>\n",
       "      <th></th>\n",
       "      <th></th>\n",
       "      <th></th>\n",
       "      <th></th>\n",
       "      <th></th>\n",
       "      <th></th>\n",
       "      <th></th>\n",
       "      <th></th>\n",
       "      <th></th>\n",
       "      <th></th>\n",
       "      <th></th>\n",
       "      <th></th>\n",
       "      <th></th>\n",
       "      <th></th>\n",
       "    </tr>\n",
       "  </thead>\n",
       "  <tbody>\n",
       "    <tr>\n",
       "      <td>2019-11-30</td>\n",
       "      <td>81011.0</td>\n",
       "      <td>470004.0</td>\n",
       "      <td>126762.0</td>\n",
       "      <td>677777.0</td>\n",
       "      <td>342503.0</td>\n",
       "      <td>1020280.0</td>\n",
       "      <td>56971.0</td>\n",
       "      <td>1077251.0</td>\n",
       "      <td>-8.903732</td>\n",
       "      <td>8.256192</td>\n",
       "      <td>-12.458996</td>\n",
       "      <td>1.480182</td>\n",
       "      <td>-0.545904</td>\n",
       "      <td>0.790893</td>\n",
       "      <td>14.939676</td>\n",
       "      <td>1.451349</td>\n",
       "    </tr>\n",
       "    <tr>\n",
       "      <td>2019-12-31</td>\n",
       "      <td>84420.0</td>\n",
       "      <td>467537.0</td>\n",
       "      <td>123488.0</td>\n",
       "      <td>675445.0</td>\n",
       "      <td>340676.0</td>\n",
       "      <td>1016121.0</td>\n",
       "      <td>55805.0</td>\n",
       "      <td>1071926.0</td>\n",
       "      <td>-11.960705</td>\n",
       "      <td>6.670789</td>\n",
       "      <td>-10.227760</td>\n",
       "      <td>0.550804</td>\n",
       "      <td>-0.797000</td>\n",
       "      <td>0.094862</td>\n",
       "      <td>13.934259</td>\n",
       "      <td>0.731860</td>\n",
       "    </tr>\n",
       "    <tr>\n",
       "      <td>2020-01-31</td>\n",
       "      <td>83269.0</td>\n",
       "      <td>472685.0</td>\n",
       "      <td>115091.0</td>\n",
       "      <td>671045.0</td>\n",
       "      <td>339564.0</td>\n",
       "      <td>1010609.0</td>\n",
       "      <td>60404.0</td>\n",
       "      <td>1071013.0</td>\n",
       "      <td>-6.524399</td>\n",
       "      <td>6.362368</td>\n",
       "      <td>-16.975538</td>\n",
       "      <td>-0.159050</td>\n",
       "      <td>-1.331698</td>\n",
       "      <td>-0.556156</td>\n",
       "      <td>10.855402</td>\n",
       "      <td>0.024562</td>\n",
       "    </tr>\n",
       "    <tr>\n",
       "      <td>2020-02-29</td>\n",
       "      <td>82981.0</td>\n",
       "      <td>474383.0</td>\n",
       "      <td>117622.0</td>\n",
       "      <td>674986.0</td>\n",
       "      <td>337942.0</td>\n",
       "      <td>1012928.0</td>\n",
       "      <td>62323.0</td>\n",
       "      <td>1075251.0</td>\n",
       "      <td>-6.828874</td>\n",
       "      <td>6.445287</td>\n",
       "      <td>-16.722481</td>\n",
       "      <td>-0.144535</td>\n",
       "      <td>-1.948314</td>\n",
       "      <td>-0.753660</td>\n",
       "      <td>14.642312</td>\n",
       "      <td>0.024931</td>\n",
       "    </tr>\n",
       "    <tr>\n",
       "      <td>2020-03-31</td>\n",
       "      <td>86782.0</td>\n",
       "      <td>493227.0</td>\n",
       "      <td>111006.0</td>\n",
       "      <td>691015.0</td>\n",
       "      <td>334321.0</td>\n",
       "      <td>1025336.0</td>\n",
       "      <td>64435.0</td>\n",
       "      <td>1089771.0</td>\n",
       "      <td>-2.053024</td>\n",
       "      <td>9.996610</td>\n",
       "      <td>-22.033208</td>\n",
       "      <td>1.712741</td>\n",
       "      <td>-3.079068</td>\n",
       "      <td>0.099090</td>\n",
       "      <td>24.490427</td>\n",
       "      <td>1.272303</td>\n",
       "    </tr>\n",
       "  </tbody>\n",
       "</table>\n",
       "</div>"
      ],
      "text/plain": [
       "            Level - Currency in circulation  Level - Sight deposits  \\\n",
       "Date                                                                  \n",
       "2019-11-30                          81011.0                470004.0   \n",
       "2019-12-31                          84420.0                467537.0   \n",
       "2020-01-31                          83269.0                472685.0   \n",
       "2020-02-29                          82981.0                474383.0   \n",
       "2020-03-31                          86782.0                493227.0   \n",
       "\n",
       "            Level - Deposits in transaction accounts  \\\n",
       "Date                                                   \n",
       "2019-11-30                                  126762.0   \n",
       "2019-12-31                                  123488.0   \n",
       "2020-01-31                                  115091.0   \n",
       "2020-02-29                                  117622.0   \n",
       "2020-03-31                                  111006.0   \n",
       "\n",
       "            Level - Monetary aggregate M1  Level - Savings deposits  \\\n",
       "Date                                                                  \n",
       "2019-11-30                       677777.0                  342503.0   \n",
       "2019-12-31                       675445.0                  340676.0   \n",
       "2020-01-31                       671045.0                  339564.0   \n",
       "2020-02-29                       674986.0                  337942.0   \n",
       "2020-03-31                       691015.0                  334321.0   \n",
       "\n",
       "            Level - Monetary aggregate M2  Level - Time deposits  \\\n",
       "Date                                                               \n",
       "2019-11-30                      1020280.0                56971.0   \n",
       "2019-12-31                      1016121.0                55805.0   \n",
       "2020-01-31                      1010609.0                60404.0   \n",
       "2020-02-29                      1012928.0                62323.0   \n",
       "2020-03-31                      1025336.0                64435.0   \n",
       "\n",
       "            Level - Monetary aggregate M3  \\\n",
       "Date                                        \n",
       "2019-11-30                      1077251.0   \n",
       "2019-12-31                      1071926.0   \n",
       "2020-01-31                      1071013.0   \n",
       "2020-02-29                      1075251.0   \n",
       "2020-03-31                      1089771.0   \n",
       "\n",
       "            Change from the corresponding month of the previous year - Currency in circulation  \\\n",
       "Date                                                                                             \n",
       "2019-11-30                                          -8.903732                                    \n",
       "2019-12-31                                         -11.960705                                    \n",
       "2020-01-31                                          -6.524399                                    \n",
       "2020-02-29                                          -6.828874                                    \n",
       "2020-03-31                                          -2.053024                                    \n",
       "\n",
       "            Change from the corresponding month of the previous year - Sight deposits  \\\n",
       "Date                                                                                    \n",
       "2019-11-30                                           8.256192                           \n",
       "2019-12-31                                           6.670789                           \n",
       "2020-01-31                                           6.362368                           \n",
       "2020-02-29                                           6.445287                           \n",
       "2020-03-31                                           9.996610                           \n",
       "\n",
       "            Change from the corresponding month of the previous year - Deposits in transaction accounts  \\\n",
       "Date                                                                                                      \n",
       "2019-11-30                                         -12.458996                                             \n",
       "2019-12-31                                         -10.227760                                             \n",
       "2020-01-31                                         -16.975538                                             \n",
       "2020-02-29                                         -16.722481                                             \n",
       "2020-03-31                                         -22.033208                                             \n",
       "\n",
       "            Change from the corresponding month of the previous year - Monetary aggregate M1  \\\n",
       "Date                                                                                           \n",
       "2019-11-30                                           1.480182                                  \n",
       "2019-12-31                                           0.550804                                  \n",
       "2020-01-31                                          -0.159050                                  \n",
       "2020-02-29                                          -0.144535                                  \n",
       "2020-03-31                                           1.712741                                  \n",
       "\n",
       "            Change from the corresponding month of the previous year - Savings deposits  \\\n",
       "Date                                                                                      \n",
       "2019-11-30                                          -0.545904                             \n",
       "2019-12-31                                          -0.797000                             \n",
       "2020-01-31                                          -1.331698                             \n",
       "2020-02-29                                          -1.948314                             \n",
       "2020-03-31                                          -3.079068                             \n",
       "\n",
       "            Change from the corresponding month of the previous year - Monetary aggregate M2  \\\n",
       "Date                                                                                           \n",
       "2019-11-30                                           0.790893                                  \n",
       "2019-12-31                                           0.094862                                  \n",
       "2020-01-31                                          -0.556156                                  \n",
       "2020-02-29                                          -0.753660                                  \n",
       "2020-03-31                                           0.099090                                  \n",
       "\n",
       "            Change from the corresponding month of the previous year - Time deposits  \\\n",
       "Date                                                                                   \n",
       "2019-11-30                                          14.939676                          \n",
       "2019-12-31                                          13.934259                          \n",
       "2020-01-31                                          10.855402                          \n",
       "2020-02-29                                          14.642312                          \n",
       "2020-03-31                                          24.490427                          \n",
       "\n",
       "            Change from the corresponding month of the previous year - Monetary aggregate M3  \n",
       "Date                                                                                          \n",
       "2019-11-30                                           1.451349                                 \n",
       "2019-12-31                                           0.731860                                 \n",
       "2020-01-31                                           0.024562                                 \n",
       "2020-02-29                                           0.024931                                 \n",
       "2020-03-31                                           1.272303                                 "
      ]
     },
     "execution_count": 30,
     "metadata": {},
     "output_type": "execute_result"
    }
   ],
   "source": [
    "swiss_monetary_supply.tail()"
   ]
  },
  {
   "cell_type": "markdown",
   "metadata": {},
   "source": [
    "## Swiss Stock Market"
   ]
  },
  {
   "cell_type": "code",
   "execution_count": 14,
   "metadata": {},
   "outputs": [
    {
     "data": {
      "text/plain": [
       "Index(['Assets - Gold holdings and claims from gold transactions',\n",
       "       'Assets - Foreign currency investments',\n",
       "       'Assets - Reserve position in the IMF',\n",
       "       'Assets - International payment instruments',\n",
       "       'Assets - Monetary assistance loans',\n",
       "       'Assets - Claims from CHF repo transactions',\n",
       "       'Assets - Claims from USD repo transactions',\n",
       "       'Assets - Balances from swap transactions against CHF',\n",
       "       'Assets - Domestic money market claims', 'Assets - Secured loans',\n",
       "       'Assets - Amounts due from domestic correspondents',\n",
       "       'Assets - CHF securities', 'Assets - Loan to stabilisation fund',\n",
       "       'Assets - Other assets', 'Assets - Total',\n",
       "       'Liabilities - Banknotes in circulation',\n",
       "       'Liabilities - Sight deposits of domestic banks',\n",
       "       'Liabilities - Amounts due to the Confederation',\n",
       "       'Liabilities - Sight deposits of foreign banks and institutions',\n",
       "       'Liabilities - Other sight liabilities',\n",
       "       'Liabilities - Liabilities from CHF repo transactions',\n",
       "       'Liabilities - SNB debt certificates',\n",
       "       'Liabilities - Other time liabilities',\n",
       "       'Liabilities - Foreign currency liabilities',\n",
       "       'Liabilities - Counterpart of special drawing rights allocated by the IMF',\n",
       "       'Liabilities - Other liabilities',\n",
       "       'Liabilities - Provisions and equity capital', 'Liabilities - Total'],\n",
       "      dtype='object')"
      ]
     },
     "execution_count": 14,
     "metadata": {},
     "output_type": "execute_result"
    }
   ],
   "source": [
    "snb_balance_sheet.columns"
   ]
  },
  {
   "cell_type": "code",
   "execution_count": 21,
   "metadata": {},
   "outputs": [
    {
     "data": {
      "text/html": [
       "<div>\n",
       "<style scoped>\n",
       "    .dataframe tbody tr th:only-of-type {\n",
       "        vertical-align: middle;\n",
       "    }\n",
       "\n",
       "    .dataframe tbody tr th {\n",
       "        vertical-align: top;\n",
       "    }\n",
       "\n",
       "    .dataframe thead th {\n",
       "        text-align: right;\n",
       "    }\n",
       "</style>\n",
       "<table border=\"1\" class=\"dataframe\">\n",
       "  <thead>\n",
       "    <tr style=\"text-align: right;\">\n",
       "      <th></th>\n",
       "      <th>Assets - Gold holdings and claims from gold transactions</th>\n",
       "      <th>Assets - Foreign currency investments</th>\n",
       "      <th>Assets - Reserve position in the IMF</th>\n",
       "      <th>Assets - International payment instruments</th>\n",
       "      <th>Assets - Monetary assistance loans</th>\n",
       "      <th>Assets - Claims from CHF repo transactions</th>\n",
       "      <th>Assets - Claims from USD repo transactions</th>\n",
       "      <th>Assets - Balances from swap transactions against CHF</th>\n",
       "      <th>Assets - Domestic money market claims</th>\n",
       "      <th>Assets - Secured loans</th>\n",
       "      <th>...</th>\n",
       "      <th>Liabilities - Sight deposits of foreign banks and institutions</th>\n",
       "      <th>Liabilities - Other sight liabilities</th>\n",
       "      <th>Liabilities - Liabilities from CHF repo transactions</th>\n",
       "      <th>Liabilities - SNB debt certificates</th>\n",
       "      <th>Liabilities - Other time liabilities</th>\n",
       "      <th>Liabilities - Foreign currency liabilities</th>\n",
       "      <th>Liabilities - Counterpart of special drawing rights allocated by the IMF</th>\n",
       "      <th>Liabilities - Other liabilities</th>\n",
       "      <th>Liabilities - Provisions and equity capital</th>\n",
       "      <th>Liabilities - Total</th>\n",
       "    </tr>\n",
       "    <tr>\n",
       "      <th>Date</th>\n",
       "      <th></th>\n",
       "      <th></th>\n",
       "      <th></th>\n",
       "      <th></th>\n",
       "      <th></th>\n",
       "      <th></th>\n",
       "      <th></th>\n",
       "      <th></th>\n",
       "      <th></th>\n",
       "      <th></th>\n",
       "      <th></th>\n",
       "      <th></th>\n",
       "      <th></th>\n",
       "      <th></th>\n",
       "      <th></th>\n",
       "      <th></th>\n",
       "      <th></th>\n",
       "      <th></th>\n",
       "      <th></th>\n",
       "      <th></th>\n",
       "      <th></th>\n",
       "    </tr>\n",
       "  </thead>\n",
       "  <tbody>\n",
       "    <tr>\n",
       "      <td>2019-10-31</td>\n",
       "      <td>49923.705955</td>\n",
       "      <td>800486.218536</td>\n",
       "      <td>1311.744989</td>\n",
       "      <td>4438.335660</td>\n",
       "      <td>243.827772</td>\n",
       "      <td>0.0</td>\n",
       "      <td>0.0</td>\n",
       "      <td>0.0</td>\n",
       "      <td>None</td>\n",
       "      <td>0.0</td>\n",
       "      <td>...</td>\n",
       "      <td>40095.152283</td>\n",
       "      <td>34129.373592</td>\n",
       "      <td>0.0</td>\n",
       "      <td>0.0</td>\n",
       "      <td>0.0</td>\n",
       "      <td>10698.657946</td>\n",
       "      <td>4478.569696</td>\n",
       "      <td>83.780021</td>\n",
       "      <td>174134.237048</td>\n",
       "      <td>861532.904057</td>\n",
       "    </tr>\n",
       "    <tr>\n",
       "      <td>2019-11-30</td>\n",
       "      <td>48788.151926</td>\n",
       "      <td>804698.394259</td>\n",
       "      <td>1250.013926</td>\n",
       "      <td>4466.019138</td>\n",
       "      <td>246.031222</td>\n",
       "      <td>0.0</td>\n",
       "      <td>0.0</td>\n",
       "      <td>0.0</td>\n",
       "      <td>None</td>\n",
       "      <td>0.0</td>\n",
       "      <td>...</td>\n",
       "      <td>33468.810149</td>\n",
       "      <td>30206.516510</td>\n",
       "      <td>0.0</td>\n",
       "      <td>0.0</td>\n",
       "      <td>0.0</td>\n",
       "      <td>10840.769903</td>\n",
       "      <td>4503.986223</td>\n",
       "      <td>72.723388</td>\n",
       "      <td>178900.513583</td>\n",
       "      <td>864601.020027</td>\n",
       "    </tr>\n",
       "    <tr>\n",
       "      <td>2019-12-31</td>\n",
       "      <td>49110.853937</td>\n",
       "      <td>794015.281435</td>\n",
       "      <td>1368.654354</td>\n",
       "      <td>4380.615540</td>\n",
       "      <td>276.231327</td>\n",
       "      <td>6529.0</td>\n",
       "      <td>0.0</td>\n",
       "      <td>0.0</td>\n",
       "      <td>None</td>\n",
       "      <td>0.0</td>\n",
       "      <td>...</td>\n",
       "      <td>30164.090684</td>\n",
       "      <td>31997.375353</td>\n",
       "      <td>0.0</td>\n",
       "      <td>0.0</td>\n",
       "      <td>0.0</td>\n",
       "      <td>13314.657953</td>\n",
       "      <td>4417.905410</td>\n",
       "      <td>237.537726</td>\n",
       "      <td>167082.519061</td>\n",
       "      <td>860956.261928</td>\n",
       "    </tr>\n",
       "    <tr>\n",
       "      <td>2020-01-31</td>\n",
       "      <td>51119.631901</td>\n",
       "      <td>783042.639181</td>\n",
       "      <td>1357.281079</td>\n",
       "      <td>4348.529430</td>\n",
       "      <td>347.619243</td>\n",
       "      <td>0.0</td>\n",
       "      <td>0.0</td>\n",
       "      <td>0.0</td>\n",
       "      <td>None</td>\n",
       "      <td>0.0</td>\n",
       "      <td>...</td>\n",
       "      <td>37653.624026</td>\n",
       "      <td>29832.586566</td>\n",
       "      <td>0.0</td>\n",
       "      <td>0.0</td>\n",
       "      <td>0.0</td>\n",
       "      <td>4647.940103</td>\n",
       "      <td>4385.518243</td>\n",
       "      <td>126.572922</td>\n",
       "      <td>162744.785988</td>\n",
       "      <td>845174.133145</td>\n",
       "    </tr>\n",
       "    <tr>\n",
       "      <td>2020-02-29</td>\n",
       "      <td>52291.986412</td>\n",
       "      <td>788307.458784</td>\n",
       "      <td>1314.623212</td>\n",
       "      <td>4327.827212</td>\n",
       "      <td>345.116258</td>\n",
       "      <td>0.0</td>\n",
       "      <td>0.0</td>\n",
       "      <td>0.0</td>\n",
       "      <td>None</td>\n",
       "      <td>0.0</td>\n",
       "      <td>...</td>\n",
       "      <td>48266.393386</td>\n",
       "      <td>29280.840841</td>\n",
       "      <td>0.0</td>\n",
       "      <td>0.0</td>\n",
       "      <td>0.0</td>\n",
       "      <td>4849.955508</td>\n",
       "      <td>4362.534863</td>\n",
       "      <td>231.502504</td>\n",
       "      <td>160757.246665</td>\n",
       "      <td>851572.587999</td>\n",
       "    </tr>\n",
       "  </tbody>\n",
       "</table>\n",
       "<p>5 rows × 28 columns</p>\n",
       "</div>"
      ],
      "text/plain": [
       "            Assets - Gold holdings and claims from gold transactions  \\\n",
       "Date                                                                   \n",
       "2019-10-31                                       49923.705955          \n",
       "2019-11-30                                       48788.151926          \n",
       "2019-12-31                                       49110.853937          \n",
       "2020-01-31                                       51119.631901          \n",
       "2020-02-29                                       52291.986412          \n",
       "\n",
       "            Assets - Foreign currency investments  \\\n",
       "Date                                                \n",
       "2019-10-31                          800486.218536   \n",
       "2019-11-30                          804698.394259   \n",
       "2019-12-31                          794015.281435   \n",
       "2020-01-31                          783042.639181   \n",
       "2020-02-29                          788307.458784   \n",
       "\n",
       "            Assets - Reserve position in the IMF  \\\n",
       "Date                                               \n",
       "2019-10-31                           1311.744989   \n",
       "2019-11-30                           1250.013926   \n",
       "2019-12-31                           1368.654354   \n",
       "2020-01-31                           1357.281079   \n",
       "2020-02-29                           1314.623212   \n",
       "\n",
       "            Assets - International payment instruments  \\\n",
       "Date                                                     \n",
       "2019-10-31                                 4438.335660   \n",
       "2019-11-30                                 4466.019138   \n",
       "2019-12-31                                 4380.615540   \n",
       "2020-01-31                                 4348.529430   \n",
       "2020-02-29                                 4327.827212   \n",
       "\n",
       "            Assets - Monetary assistance loans  \\\n",
       "Date                                             \n",
       "2019-10-31                          243.827772   \n",
       "2019-11-30                          246.031222   \n",
       "2019-12-31                          276.231327   \n",
       "2020-01-31                          347.619243   \n",
       "2020-02-29                          345.116258   \n",
       "\n",
       "            Assets - Claims from CHF repo transactions  \\\n",
       "Date                                                     \n",
       "2019-10-31                                         0.0   \n",
       "2019-11-30                                         0.0   \n",
       "2019-12-31                                      6529.0   \n",
       "2020-01-31                                         0.0   \n",
       "2020-02-29                                         0.0   \n",
       "\n",
       "            Assets - Claims from USD repo transactions  \\\n",
       "Date                                                     \n",
       "2019-10-31                                         0.0   \n",
       "2019-11-30                                         0.0   \n",
       "2019-12-31                                         0.0   \n",
       "2020-01-31                                         0.0   \n",
       "2020-02-29                                         0.0   \n",
       "\n",
       "            Assets - Balances from swap transactions against CHF  \\\n",
       "Date                                                               \n",
       "2019-10-31                                                0.0      \n",
       "2019-11-30                                                0.0      \n",
       "2019-12-31                                                0.0      \n",
       "2020-01-31                                                0.0      \n",
       "2020-02-29                                                0.0      \n",
       "\n",
       "           Assets - Domestic money market claims  Assets - Secured loans  ...  \\\n",
       "Date                                                                      ...   \n",
       "2019-10-31                                  None                     0.0  ...   \n",
       "2019-11-30                                  None                     0.0  ...   \n",
       "2019-12-31                                  None                     0.0  ...   \n",
       "2020-01-31                                  None                     0.0  ...   \n",
       "2020-02-29                                  None                     0.0  ...   \n",
       "\n",
       "            Liabilities - Sight deposits of foreign banks and institutions  \\\n",
       "Date                                                                         \n",
       "2019-10-31                                       40095.152283                \n",
       "2019-11-30                                       33468.810149                \n",
       "2019-12-31                                       30164.090684                \n",
       "2020-01-31                                       37653.624026                \n",
       "2020-02-29                                       48266.393386                \n",
       "\n",
       "            Liabilities - Other sight liabilities  \\\n",
       "Date                                                \n",
       "2019-10-31                           34129.373592   \n",
       "2019-11-30                           30206.516510   \n",
       "2019-12-31                           31997.375353   \n",
       "2020-01-31                           29832.586566   \n",
       "2020-02-29                           29280.840841   \n",
       "\n",
       "            Liabilities - Liabilities from CHF repo transactions  \\\n",
       "Date                                                               \n",
       "2019-10-31                                                0.0      \n",
       "2019-11-30                                                0.0      \n",
       "2019-12-31                                                0.0      \n",
       "2020-01-31                                                0.0      \n",
       "2020-02-29                                                0.0      \n",
       "\n",
       "            Liabilities - SNB debt certificates  \\\n",
       "Date                                              \n",
       "2019-10-31                                  0.0   \n",
       "2019-11-30                                  0.0   \n",
       "2019-12-31                                  0.0   \n",
       "2020-01-31                                  0.0   \n",
       "2020-02-29                                  0.0   \n",
       "\n",
       "            Liabilities - Other time liabilities  \\\n",
       "Date                                               \n",
       "2019-10-31                                   0.0   \n",
       "2019-11-30                                   0.0   \n",
       "2019-12-31                                   0.0   \n",
       "2020-01-31                                   0.0   \n",
       "2020-02-29                                   0.0   \n",
       "\n",
       "            Liabilities - Foreign currency liabilities  \\\n",
       "Date                                                     \n",
       "2019-10-31                                10698.657946   \n",
       "2019-11-30                                10840.769903   \n",
       "2019-12-31                                13314.657953   \n",
       "2020-01-31                                 4647.940103   \n",
       "2020-02-29                                 4849.955508   \n",
       "\n",
       "            Liabilities - Counterpart of special drawing rights allocated by the IMF  \\\n",
       "Date                                                                                   \n",
       "2019-10-31                                        4478.569696                          \n",
       "2019-11-30                                        4503.986223                          \n",
       "2019-12-31                                        4417.905410                          \n",
       "2020-01-31                                        4385.518243                          \n",
       "2020-02-29                                        4362.534863                          \n",
       "\n",
       "            Liabilities - Other liabilities  \\\n",
       "Date                                          \n",
       "2019-10-31                        83.780021   \n",
       "2019-11-30                        72.723388   \n",
       "2019-12-31                       237.537726   \n",
       "2020-01-31                       126.572922   \n",
       "2020-02-29                       231.502504   \n",
       "\n",
       "            Liabilities - Provisions and equity capital  Liabilities - Total  \n",
       "Date                                                                          \n",
       "2019-10-31                                174134.237048        861532.904057  \n",
       "2019-11-30                                178900.513583        864601.020027  \n",
       "2019-12-31                                167082.519061        860956.261928  \n",
       "2020-01-31                                162744.785988        845174.133145  \n",
       "2020-02-29                                160757.246665        851572.587999  \n",
       "\n",
       "[5 rows x 28 columns]"
      ]
     },
     "execution_count": 21,
     "metadata": {},
     "output_type": "execute_result"
    }
   ],
   "source": [
    "snb_balance_sheet.tail()"
   ]
  },
  {
   "cell_type": "code",
   "execution_count": 24,
   "metadata": {},
   "outputs": [
    {
     "data": {
      "image/png": "[encoded data removed]",
      "text/plain": [
       "<Figure size 432x288 with 1 Axes>"
      ]
     },
     "metadata": {
      "needs_background": "light"
     },
     "output_type": "display_data"
    }
   ],
   "source": [
    "plt.plot(snb_balance_sheet['Assets - Gold holdings and claims from gold transactions'], label = 'Assets in CHF')\n",
    "plt.legend(loc=\"lower right\")\n",
    "plt.show()"
   ]
  },
  {
   "cell_type": "code",
   "execution_count": null,
   "metadata": {},
   "outputs": [],
   "source": []
  },
  {
   "cell_type": "code",
   "execution_count": 8,
   "metadata": {},
   "outputs": [
    {
     "data": {
      "text/html": [
       "<div>\n",
       "<style scoped>\n",
       "    .dataframe tbody tr th:only-of-type {\n",
       "        vertical-align: middle;\n",
       "    }\n",
       "\n",
       "    .dataframe tbody tr th {\n",
       "        vertical-align: top;\n",
       "    }\n",
       "\n",
       "    .dataframe thead th {\n",
       "        text-align: right;\n",
       "    }\n",
       "</style>\n",
       "<table border=\"1\" class=\"dataframe\">\n",
       "  <thead>\n",
       "    <tr style=\"text-align: right;\">\n",
       "      <th></th>\n",
       "      <th>SPI Swiss Performance Index - Index total (including dividend reinvestment)</th>\n",
       "      <th>SPI Swiss Performance Index - Banks</th>\n",
       "      <th>SPI Swiss Performance Index - Financial services</th>\n",
       "      <th>SPI Swiss Performance Index - Insurance</th>\n",
       "      <th>SPI Swiss Performance Index - Food and beverages</th>\n",
       "      <th>SPI Swiss Performance Index - Health care</th>\n",
       "      <th>SPI Swiss Performance Index - Registered shares</th>\n",
       "      <th>SPI Swiss Performance Index - Bearer shares and participation certificates</th>\n",
       "      <th>SMI Swiss Market Index (excluding dividend reinvestment)</th>\n",
       "    </tr>\n",
       "    <tr>\n",
       "      <th>Date</th>\n",
       "      <th></th>\n",
       "      <th></th>\n",
       "      <th></th>\n",
       "      <th></th>\n",
       "      <th></th>\n",
       "      <th></th>\n",
       "      <th></th>\n",
       "      <th></th>\n",
       "      <th></th>\n",
       "    </tr>\n",
       "  </thead>\n",
       "  <tbody>\n",
       "    <tr>\n",
       "      <td>2000-01-04</td>\n",
       "      <td>4853.06</td>\n",
       "      <td>NaN</td>\n",
       "      <td>NaN</td>\n",
       "      <td>NaN</td>\n",
       "      <td>NaN</td>\n",
       "      <td>NaN</td>\n",
       "      <td>6284.99</td>\n",
       "      <td>4293.59</td>\n",
       "      <td>7268.1</td>\n",
       "    </tr>\n",
       "    <tr>\n",
       "      <td>2000-01-05</td>\n",
       "      <td>4802.81</td>\n",
       "      <td>NaN</td>\n",
       "      <td>NaN</td>\n",
       "      <td>NaN</td>\n",
       "      <td>NaN</td>\n",
       "      <td>NaN</td>\n",
       "      <td>6226.44</td>\n",
       "      <td>4237.01</td>\n",
       "      <td>7181.3</td>\n",
       "    </tr>\n",
       "    <tr>\n",
       "      <td>2000-01-06</td>\n",
       "      <td>4861.37</td>\n",
       "      <td>NaN</td>\n",
       "      <td>NaN</td>\n",
       "      <td>NaN</td>\n",
       "      <td>NaN</td>\n",
       "      <td>NaN</td>\n",
       "      <td>6316.39</td>\n",
       "      <td>4262.64</td>\n",
       "      <td>7280.6</td>\n",
       "    </tr>\n",
       "    <tr>\n",
       "      <td>2000-01-07</td>\n",
       "      <td>4971.80</td>\n",
       "      <td>NaN</td>\n",
       "      <td>NaN</td>\n",
       "      <td>NaN</td>\n",
       "      <td>NaN</td>\n",
       "      <td>NaN</td>\n",
       "      <td>6431.65</td>\n",
       "      <td>4411.83</td>\n",
       "      <td>7448.0</td>\n",
       "    </tr>\n",
       "    <tr>\n",
       "      <td>2000-01-10</td>\n",
       "      <td>4982.29</td>\n",
       "      <td>NaN</td>\n",
       "      <td>NaN</td>\n",
       "      <td>NaN</td>\n",
       "      <td>NaN</td>\n",
       "      <td>NaN</td>\n",
       "      <td>6431.31</td>\n",
       "      <td>4446.93</td>\n",
       "      <td>7452.8</td>\n",
       "    </tr>\n",
       "  </tbody>\n",
       "</table>\n",
       "</div>"
      ],
      "text/plain": [
       "            SPI Swiss Performance Index - Index total (including dividend reinvestment)  \\\n",
       "Date                                                                                      \n",
       "2000-01-04                                            4853.06                             \n",
       "2000-01-05                                            4802.81                             \n",
       "2000-01-06                                            4861.37                             \n",
       "2000-01-07                                            4971.80                             \n",
       "2000-01-10                                            4982.29                             \n",
       "\n",
       "            SPI Swiss Performance Index - Banks  \\\n",
       "Date                                              \n",
       "2000-01-04                                  NaN   \n",
       "2000-01-05                                  NaN   \n",
       "2000-01-06                                  NaN   \n",
       "2000-01-07                                  NaN   \n",
       "2000-01-10                                  NaN   \n",
       "\n",
       "            SPI Swiss Performance Index - Financial services  \\\n",
       "Date                                                           \n",
       "2000-01-04                                               NaN   \n",
       "2000-01-05                                               NaN   \n",
       "2000-01-06                                               NaN   \n",
       "2000-01-07                                               NaN   \n",
       "2000-01-10                                               NaN   \n",
       "\n",
       "            SPI Swiss Performance Index - Insurance  \\\n",
       "Date                                                  \n",
       "2000-01-04                                      NaN   \n",
       "2000-01-05                                      NaN   \n",
       "2000-01-06                                      NaN   \n",
       "2000-01-07                                      NaN   \n",
       "2000-01-10                                      NaN   \n",
       "\n",
       "            SPI Swiss Performance Index - Food and beverages  \\\n",
       "Date                                                           \n",
       "2000-01-04                                               NaN   \n",
       "2000-01-05                                               NaN   \n",
       "2000-01-06                                               NaN   \n",
       "2000-01-07                                               NaN   \n",
       "2000-01-10                                               NaN   \n",
       "\n",
       "            SPI Swiss Performance Index - Health care  \\\n",
       "Date                                                    \n",
       "2000-01-04                                        NaN   \n",
       "2000-01-05                                        NaN   \n",
       "2000-01-06                                        NaN   \n",
       "2000-01-07                                        NaN   \n",
       "2000-01-10                                        NaN   \n",
       "\n",
       "            SPI Swiss Performance Index - Registered shares  \\\n",
       "Date                                                          \n",
       "2000-01-04                                          6284.99   \n",
       "2000-01-05                                          6226.44   \n",
       "2000-01-06                                          6316.39   \n",
       "2000-01-07                                          6431.65   \n",
       "2000-01-10                                          6431.31   \n",
       "\n",
       "            SPI Swiss Performance Index - Bearer shares and participation certificates  \\\n",
       "Date                                                                                     \n",
       "2000-01-04                                            4293.59                            \n",
       "2000-01-05                                            4237.01                            \n",
       "2000-01-06                                            4262.64                            \n",
       "2000-01-07                                            4411.83                            \n",
       "2000-01-10                                            4446.93                            \n",
       "\n",
       "            SMI Swiss Market Index (excluding dividend reinvestment)  \n",
       "Date                                                                  \n",
       "2000-01-04                                             7268.1         \n",
       "2000-01-05                                             7181.3         \n",
       "2000-01-06                                             7280.6         \n",
       "2000-01-07                                             7448.0         \n",
       "2000-01-10                                             7452.8         "
      ]
     },
     "execution_count": 8,
     "metadata": {},
     "output_type": "execute_result"
    }
   ],
   "source": [
    "swiss_stock_market.head()"
   ]
  },
  {
   "cell_type": "code",
   "execution_count": 32,
   "metadata": {},
   "outputs": [],
   "source": [
    "date = '2020-01-01'\n",
    "ytd = economic_data_switzerland.loc['2020-01-01':]"
   ]
  },
  {
   "cell_type": "code",
   "execution_count": 22,
   "metadata": {},
   "outputs": [
    {
     "data": {
      "text/plain": [
       "SPI Swiss Performance Index - Index total (including dividend reinvestment)    12938.67\n",
       "SPI Swiss Performance Index - Banks                                              822.55\n",
       "SPI Swiss Performance Index - Financial services                                2338.58\n",
       "SPI Swiss Performance Index - Insurance                                         2014.09\n",
       "SPI Swiss Performance Index - Food and beverages                                6117.46\n",
       "Name: 2020-01-03 00:00:00, dtype: float64"
      ]
     },
     "execution_count": 22,
     "metadata": {},
     "output_type": "execute_result"
    }
   ],
   "source": [
    "ytd.iloc[0].head()"
   ]
  },
  {
   "cell_type": "markdown",
   "metadata": {},
   "source": [
    "### Normalize Data"
   ]
  },
  {
   "cell_type": "code",
   "execution_count": 45,
   "metadata": {},
   "outputs": [],
   "source": [
    "#normalize the data in order to compare the different indices\n",
    "def indexize(data_series):\n",
    "    index = (data_series/data_series.iloc[0])*100\n",
    "    return index"
   ]
  },
  {
   "cell_type": "code",
   "execution_count": 42,
   "metadata": {},
   "outputs": [
    {
     "data": {
      "image/png": "[encoded data removed]",
      "text/plain": [
       "<Figure size 864x576 with 1 Axes>"
      ]
     },
     "metadata": {
      "needs_background": "light"
     },
     "output_type": "display_data"
    }
   ],
   "source": [
    "plt.figure(figsize = [12, 8])\n",
    "#for key, val in financial_crisis.items():\n",
    "#    DD = draw_down(market, val[0])\n",
    "plt.plot(indexize(ytd.iloc[:,0]), label = 'SPI', color = '#8B0000')\n",
    "plt.plot(indexize(ytd.iloc[:,1]), label = 'SPI - Banks', color = '#a9d4cd')\n",
    "plt.plot(indexize(ytd.iloc[:,2]), label = 'SPI - Financial Services', color = '#5ea6c7')\n",
    "plt.plot(indexize(ytd.iloc[:,3]), label = 'SPI - Insurance', color = '#3a629d')\n",
    "plt.plot(indexize(ytd.iloc[:,4]), label = 'SPI - Food and beverages', color = '#1b2770')\n",
    "plt.plot(indexize(ytd.iloc[:,5]), label = 'SPI - Health care', color = 'blue')\n",
    "plt.title('YTD Development SPI including Subindices', fontweight = 'medium')\n",
    "plt.xlabel('Days since Start')\n",
    "plt.ylabel('Index')\n",
    "plt.legend(loc=\"lower left\")\n",
    "plt.savefig('SPI.jpg', quality = 300)\n",
    "plt.show()"
   ]
  },
  {
   "cell_type": "code",
   "execution_count": 102,
   "metadata": {},
   "outputs": [],
   "source": [
    "data = pd.merge(economic_data, ibovespa, on = 'Date')"
   ]
  },
  {
   "cell_type": "code",
   "execution_count": 103,
   "metadata": {},
   "outputs": [
    {
     "data": {
      "text/html": [
       "<div>\n",
       "<style scoped>\n",
       "    .dataframe tbody tr th:only-of-type {\n",
       "        vertical-align: middle;\n",
       "    }\n",
       "\n",
       "    .dataframe tbody tr th {\n",
       "        vertical-align: top;\n",
       "    }\n",
       "\n",
       "    .dataframe thead th {\n",
       "        text-align: right;\n",
       "    }\n",
       "</style>\n",
       "<table border=\"1\" class=\"dataframe\">\n",
       "  <thead>\n",
       "    <tr style=\"text-align: right;\">\n",
       "      <th></th>\n",
       "      <th>Value</th>\n",
       "    </tr>\n",
       "    <tr>\n",
       "      <th>Date</th>\n",
       "      <th></th>\n",
       "    </tr>\n",
       "  </thead>\n",
       "  <tbody>\n",
       "    <tr>\n",
       "      <td>2019-06-30</td>\n",
       "      <td>0.01</td>\n",
       "    </tr>\n",
       "    <tr>\n",
       "      <td>2019-07-31</td>\n",
       "      <td>0.10</td>\n",
       "    </tr>\n",
       "    <tr>\n",
       "      <td>2019-08-31</td>\n",
       "      <td>0.12</td>\n",
       "    </tr>\n",
       "    <tr>\n",
       "      <td>2019-09-30</td>\n",
       "      <td>-0.05</td>\n",
       "    </tr>\n",
       "    <tr>\n",
       "      <td>2019-10-31</td>\n",
       "      <td>0.04</td>\n",
       "    </tr>\n",
       "    <tr>\n",
       "      <td>2019-11-30</td>\n",
       "      <td>0.54</td>\n",
       "    </tr>\n",
       "    <tr>\n",
       "      <td>2019-12-31</td>\n",
       "      <td>1.22</td>\n",
       "    </tr>\n",
       "    <tr>\n",
       "      <td>2020-01-31</td>\n",
       "      <td>0.19</td>\n",
       "    </tr>\n",
       "    <tr>\n",
       "      <td>2020-02-29</td>\n",
       "      <td>0.17</td>\n",
       "    </tr>\n",
       "    <tr>\n",
       "      <td>2020-03-31</td>\n",
       "      <td>0.18</td>\n",
       "    </tr>\n",
       "  </tbody>\n",
       "</table>\n",
       "</div>"
      ],
      "text/plain": [
       "            Value\n",
       "Date             \n",
       "2019-06-30   0.01\n",
       "2019-07-31   0.10\n",
       "2019-08-31   0.12\n",
       "2019-09-30  -0.05\n",
       "2019-10-31   0.04\n",
       "2019-11-30   0.54\n",
       "2019-12-31   1.22\n",
       "2020-01-31   0.19\n",
       "2020-02-29   0.17\n",
       "2020-03-31   0.18"
      ]
     },
     "execution_count": 103,
     "metadata": {},
     "output_type": "execute_result"
    }
   ],
   "source": [
    "economic_data_brasil.tail(10)"
   ]
  },
  {
   "cell_type": "code",
   "execution_count": 47,
   "metadata": {},
   "outputs": [
    {
     "ename": "NameError",
     "evalue": "name 'data' is not defined",
     "output_type": "error",
     "traceback": [
      "\u001b[0;31m---------------------------------------------------------------------------\u001b[0m",
      "\u001b[0;31mNameError\u001b[0m                                 Traceback (most recent call last)",
      "\u001b[0;32m<ipython-input-47-332e8afb1f67>\u001b[0m in \u001b[0;36m<module>\u001b[0;34m\u001b[0m\n\u001b[1;32m      1\u001b[0m \u001b[0;31m#plt.plot(economic_data['Value'], label = \"Brazil CDI\")\u001b[0m\u001b[0;34m\u001b[0m\u001b[0;34m\u001b[0m\u001b[0;34m\u001b[0m\u001b[0m\n\u001b[0;32m----> 2\u001b[0;31m \u001b[0mplt\u001b[0m\u001b[0;34m.\u001b[0m\u001b[0mplot\u001b[0m\u001b[0;34m(\u001b[0m\u001b[0mnormalize\u001b[0m\u001b[0;34m(\u001b[0m\u001b[0mdata\u001b[0m\u001b[0;34m[\u001b[0m\u001b[0;34m'Value'\u001b[0m\u001b[0;34m]\u001b[0m\u001b[0;34m)\u001b[0m\u001b[0;34m,\u001b[0m \u001b[0mlabel\u001b[0m \u001b[0;34m=\u001b[0m \u001b[0;34m'Ibovespa'\u001b[0m\u001b[0;34m)\u001b[0m\u001b[0;34m\u001b[0m\u001b[0;34m\u001b[0m\u001b[0m\n\u001b[0m\u001b[1;32m      3\u001b[0m \u001b[0mplt\u001b[0m\u001b[0;34m.\u001b[0m\u001b[0mplot\u001b[0m\u001b[0;34m(\u001b[0m\u001b[0mnormalize\u001b[0m\u001b[0;34m(\u001b[0m\u001b[0mdata\u001b[0m\u001b[0;34m[\u001b[0m\u001b[0;34m'Close'\u001b[0m\u001b[0;34m]\u001b[0m\u001b[0;34m)\u001b[0m\u001b[0;34m,\u001b[0m \u001b[0mlabel\u001b[0m \u001b[0;34m=\u001b[0m \u001b[0;34m'CDI'\u001b[0m\u001b[0;34m)\u001b[0m\u001b[0;34m\u001b[0m\u001b[0;34m\u001b[0m\u001b[0m\n\u001b[1;32m      4\u001b[0m \u001b[0mplt\u001b[0m\u001b[0;34m.\u001b[0m\u001b[0mlegend\u001b[0m\u001b[0;34m(\u001b[0m\u001b[0;34m)\u001b[0m\u001b[0;34m\u001b[0m\u001b[0;34m\u001b[0m\u001b[0m\n\u001b[1;32m      5\u001b[0m \u001b[0mplt\u001b[0m\u001b[0;34m.\u001b[0m\u001b[0mshow\u001b[0m\u001b[0;34m(\u001b[0m\u001b[0;34m)\u001b[0m\u001b[0;34m\u001b[0m\u001b[0;34m\u001b[0m\u001b[0m\n",
      "\u001b[0;31mNameError\u001b[0m: name 'data' is not defined"
     ]
    }
   ],
   "source": [
    "#plt.plot(economic_data['Value'], label = \"Brazil CDI\")\n",
    "plt.plot(data['Value'], label = 'Ibovespa')\n",
    "plt.plot(data['Close'], label = 'CDI')\n",
    "plt.legend()\n",
    "plt.show()"
   ]
  },
  {
   "cell_type": "code",
   "execution_count": 46,
   "metadata": {},
   "outputs": [],
   "source": [
    "#normalize the data series\n",
    "def normalize(data_series):\n",
    "    norm_series = (data_series - min(data_series))/(max(data_series)-min(data_series))\n",
    "    return norm_series"
   ]
  },
  {
   "cell_type": "code",
   "execution_count": 105,
   "metadata": {},
   "outputs": [],
   "source": [
    "close = normalize(data['Close'])\n",
    "CDI = normalize(data['Value'])"
   ]
  },
  {
   "cell_type": "code",
   "execution_count": 106,
   "metadata": {},
   "outputs": [
    {
     "data": {
      "image/png": "[encoded data removed]",
      "text/plain": [
       "<Figure size 432x288 with 1 Axes>"
      ]
     },
     "metadata": {
      "needs_background": "light"
     },
     "output_type": "display_data"
    }
   ],
   "source": [
    "#plt.plot(economic_data['Value'], label = \"Brazil CDI\")\n",
    "plt.plot(close, label = 'Ibovespa')\n",
    "plt.plot(CDI, label = 'CDI')\n",
    "plt.legend()\n",
    "plt.show()"
   ]
  },
  {
   "cell_type": "code",
   "execution_count": null,
   "metadata": {},
   "outputs": [],
   "source": [
    "# Call the Quandl API and pull out a small sample of the data (only one day) to get a glimpse\n",
    "# into the JSON structure that will be returned\n",
    "url = 'https://www.quandl.com/api/v3/datasets/FSE/AFX_X.json?'\n",
    "\n",
    "#define the parameters for the API call in order to gather the daily data for 2017\n",
    "params = dict(api_key=API_KEY, start_date='2017-01-01', end_date = '2017-12-31', frequency = 'daily')\n",
    "\n",
    "#call the API\n",
    "res = requests.get(url, params = params)\n",
    "\n",
    "#transform the data into JSON\n",
    "json = res.json()"
   ]
  }
 ],
 "metadata": {
  "kernelspec": {
   "display_name": "Python 3",
   "language": "python",
   "name": "python3"
  },
  "language_info": {
   "codemirror_mode": {
    "name": "ipython",
    "version": 3
   },
   "file_extension": ".py",
   "mimetype": "text/x-python",
   "name": "python",
   "nbconvert_exporter": "python",
   "pygments_lexer": "ipython3",
   "version": "3.7.4"
  }
 },
 "nbformat": 4,
 "nbformat_minor": 2
}
