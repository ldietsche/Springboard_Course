{
 "cells": [
  {
   "cell_type": "markdown",
   "metadata": {},
   "source": [
    "# API Miniproject"
   ]
  },
  {
   "cell_type": "code",
   "execution_count": 1,
   "metadata": {},
   "outputs": [],
   "source": [
    "# First, import the relevant modules\n",
    "import requests"
   ]
  },
  {
   "cell_type": "code",
   "execution_count": 12,
   "metadata": {},
   "outputs": [],
   "source": [
    "#store the API_KEY\n",
    "API_KEY = '*'"
   ]
  },
  {
   "cell_type": "code",
   "execution_count": 3,
   "metadata": {},
   "outputs": [],
   "source": [
    "# Now, call the Quandl API and pull out a small sample of the data (only one day) to get a glimpse\n",
    "# into the JSON structure that will be returned\n",
    "url = 'https://www.quandl.com/api/v3/datasets/FSE/AFX_X.json?'\n",
    "#define the parameters for the API call in order to gather the daily data for 2017\n",
    "params = dict(api_key=API_KEY, start_date='2017-01-01', end_date = '2017-12-31', frequency = 'daily')\n",
    "\n",
    "#call the API\n",
    "res = requests.get(url, params = params)\n",
    "\n",
    "#transform the data into JSON\n",
    "json = res.json()"
   ]
  },
  {
   "cell_type": "markdown",
   "metadata": {},
   "source": [
    "### Create a dictionary from the JSON"
   ]
  },
  {
   "cell_type": "code",
   "execution_count": 4,
   "metadata": {},
   "outputs": [],
   "source": [
    "#separate the col_names and the data to build a dictionary\n",
    "col_names = json['dataset']['column_names']\n",
    "daily_data = json['dataset']['data']"
   ]
  },
  {
   "cell_type": "code",
   "execution_count": 5,
   "metadata": {},
   "outputs": [],
   "source": [
    "from collections import defaultdict\n",
    "data = defaultdict(list)\n",
    "\n",
    "for name in col_names:\n",
    "    data[name] = []\n",
    "\n",
    "#create a for loop to append the numbers into the list of the dictionary\n",
    "#range(255) because there are 255 trading days\n",
    "for n in range(255):\n",
    "    #append the daily values in the list of the dictionary - range(11) because there are 11 distinct values per day\n",
    "    for i, name in zip(range(11), col_names):\n",
    "        data[name].append(daily_data[n][i])"
   ]
  },
  {
   "cell_type": "markdown",
   "metadata": {},
   "source": [
    "### Calculate what the highest and lowest opening prices were for the stock in this period."
   ]
  },
  {
   "cell_type": "code",
   "execution_count": 6,
   "metadata": {},
   "outputs": [
    {
     "name": "stdout",
     "output_type": "stream",
     "text": [
      "The lowest opening price is: 34.0 the highest opening price is: 53.11\n"
     ]
    }
   ],
   "source": [
    "# using filter() to remove None values in list, before running the calculations\n",
    "opening_prices = list(filter(None, data['Open'])) \n",
    "min_open = min(opening_prices)\n",
    "max_open = max(opening_prices)\n",
    "print('The lowest opening price is: ' + str(min_open) + ' the highest opening price is: ' + str(max_open))"
   ]
  },
  {
   "cell_type": "markdown",
   "metadata": {},
   "source": [
    "### What was the largest change in any one day (based on High and Low price)?"
   ]
  },
  {
   "cell_type": "code",
   "execution_count": 7,
   "metadata": {},
   "outputs": [
    {
     "name": "stdout",
     "output_type": "stream",
     "text": [
      "The biggest daily change in price was: 2.81\n"
     ]
    }
   ],
   "source": [
    "\n",
    "daily_high = list(filter(None, data['High'])) \n",
    "daily_low = list(filter(None, data['Low'])) \n",
    "\n",
    "daily_change = []\n",
    "for i in range(255):\n",
    "    daily_change.append(daily_high[i] - daily_low[i])\n",
    "\n",
    "print('The biggest daily change in price was: ' + str(round(max(daily_change), 2)))"
   ]
  },
  {
   "cell_type": "markdown",
   "metadata": {},
   "source": [
    "### What was the largest change between any two days (based on Closing Price)?"
   ]
  },
  {
   "cell_type": "code",
   "execution_count": 8,
   "metadata": {},
   "outputs": [
    {
     "name": "stdout",
     "output_type": "stream",
     "text": [
      "The biggest change between two closing prices is: 2.56\n"
     ]
    }
   ],
   "source": [
    "closing_price = list(filter(None, data['Close']))\n",
    "\n",
    "change_closing = []\n",
    "for i in range(254):\n",
    "    change_closing.append(closing_price[i+1] - closing_price[i])\n",
    "\n",
    "print('The biggest change between two closing prices is: ' + str(round(max(change_closing),2)))"
   ]
  },
  {
   "cell_type": "markdown",
   "metadata": {},
   "source": [
    "### What was the average daily trading volume during this year?"
   ]
  },
  {
   "cell_type": "code",
   "execution_count": 9,
   "metadata": {},
   "outputs": [
    {
     "name": "stdout",
     "output_type": "stream",
     "text": [
      "The average trading volume is: 89124.34\n"
     ]
    }
   ],
   "source": [
    "average_trading_volume = list(filter(None, data['Traded Volume'])) \n",
    "average_trading_volume = round(sum(data['Traded Volume'])/len(data['Traded Volume']), 2)\n",
    "print('The average trading volume is: ' + str(average_trading_volume))"
   ]
  },
  {
   "cell_type": "markdown",
   "metadata": {},
   "source": [
    "### What was the median trading volume during this year"
   ]
  },
  {
   "cell_type": "markdown",
   "metadata": {},
   "source": [
    "Define the function to calculate the median"
   ]
  },
  {
   "cell_type": "code",
   "execution_count": 10,
   "metadata": {},
   "outputs": [],
   "source": [
    "#create the formula for the median\n",
    "def median(list_of_numbers):\n",
    "    #calculate the position of the median, -1 in the end, because Python lists are 0-index\n",
    "    index = (len(list_of_numbers) - 1)//2\n",
    "    #sort the list in ascending order\n",
    "    sorted_list = sorted(list_of_numbers)\n",
    "    \n",
    "    if (len(list_of_numbers)%2):\n",
    "        median = sorted_list[index]\n",
    "    else: \n",
    "        median = (sorted_list[index + 1] + sorted_list[index]) / 2\n",
    "    return median"
   ]
  },
  {
   "cell_type": "markdown",
   "metadata": {},
   "source": [
    "calculate the median of the trading volume"
   ]
  },
  {
   "cell_type": "code",
   "execution_count": 11,
   "metadata": {},
   "outputs": [
    {
     "name": "stdout",
     "output_type": "stream",
     "text": [
      "The median trading volume is: 76286.0\n"
     ]
    }
   ],
   "source": [
    "#calculate the median of the trading volume\n",
    "print('The median trading volume is: ' + str(median(data['Traded Volume'])))"
   ]
  },
  {
   "cell_type": "code",
   "execution_count": null,
   "metadata": {},
   "outputs": [],
   "source": []
  }
 ],
 "metadata": {
  "kernelspec": {
   "display_name": "Python 3",
   "language": "python",
   "name": "python3"
  },
  "language_info": {
   "codemirror_mode": {
    "name": "ipython",
    "version": 3
   },
   "file_extension": ".py",
   "mimetype": "text/x-python",
   "name": "python",
   "nbconvert_exporter": "python",
   "pygments_lexer": "ipython3",
   "version": "3.7.4"
  }
 },
 "nbformat": 4,
 "nbformat_minor": 2
}
